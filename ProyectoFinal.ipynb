{
 "cells": [
  {
   "cell_type": "markdown",
   "id": "e5b4ad22",
   "metadata": {},
   "source": [
    "# **Proyecto Final - \"Identificación de operadores ineficientes en CallMeMaybe mediante análisis de datos y modelado predictivo\"**"
   ]
  },
  {
   "cell_type": "markdown",
   "id": "cd9f798b",
   "metadata": {},
   "source": [
    "**Link a la presentación y Dashboard:**\n",
    "\n",
    "https://www.canva.com/design/DAGmH-fsZI4/l3tU6SCd-NcX6s35cnfdFg/edit?utm_content=DAGmH-fsZI4&utm_campaign=designshare&utm_medium=link2&utm_source=sharebutton "
   ]
  },
  {
   "cell_type": "markdown",
   "id": "25f8d004",
   "metadata": {},
   "source": [
    "                                                    Propuesta de Plan de Trabajo                                                           "
   ]
  },
  {
   "cell_type": "markdown",
   "id": "37d10f6d",
   "metadata": {},
   "source": [
    "## **Descomposición**"
   ]
  },
  {
   "cell_type": "markdown",
   "id": "e416ba49",
   "metadata": {},
   "source": [
    "### **Objetivo**"
   ]
  },
  {
   "cell_type": "markdown",
   "id": "19df1290",
   "metadata": {},
   "source": [
    "El objetivo principal de este proyecto es definir, identificar y predecir la ineficiencia operativa en el desempeño de operadores telefónicos de la empresa CallMeMaybe, a través del análisis del comportamiento en llamadas y la construcción de un modelo de clasificación binaria, entendiendo la ineficiencia como un patrón de comportamiento basado en tres factores clave: alta proporción de llamadas entrantes perdidas, tiempos de espera prolongados para clientes, y un bajo número de llamadas salientes cuando se espera actividad proactiva.\n",
    "\n",
    "Esto se realiza con el propóstio de optimizar la calidad del servicio al cliente, mejorar la asignación de recursos humanos y apoyar decisiones estratégicas sobre capacitación, incentivos o redistribución de personal. "
   ]
  },
  {
   "cell_type": "markdown",
   "id": "bc55abab",
   "metadata": {},
   "source": [
    "**¿A quién va dirigido?**\n",
    "\n",
    "Este análisis está dirigido los supervisores, que buscan identificar oportunidades de mejora dentro de sus equipos y así ofrecer un mejor servicio a sus clientes finales mediante una atención más eficaz. "
   ]
  },
  {
   "cell_type": "markdown",
   "id": "849029e5",
   "metadata": {},
   "source": [
    "**Posibles decisiones que se pueden tomar de acuerdo al análisis**\n",
    "* Asignación de entrenamiento adicional a operadores ineficientes.\n",
    "* Ajuste en la programación de turnos para evitar cuellos de botella. \n",
    "* Posible rediseño de roles o uso de IA para apoyar en tareas de bajo desempeño.\n",
    "* Implementación de sistemas de alerta o monitoreo en tiempo real basado en el modelo predictivo."
   ]
  },
  {
   "cell_type": "markdown",
   "id": "b5cf624e",
   "metadata": {},
   "source": [
    "### **Definición de ineficiencia operativa**"
   ]
  },
  {
   "cell_type": "markdown",
   "id": "195ceada",
   "metadata": {},
   "source": [
    "Un operador será considerado ineficiente si cumple uno de los siguientes tres criterios: \n",
    "* Proporción alta de llamadas entrantes perdidas (internas y externas) mayor a la media\n",
    "* Tiempo de espera prolongado para las llamadas entrantes mayor a la media \n",
    "* Bajo volumen de llamadas salientes menor a la media"
   ]
  },
  {
   "cell_type": "markdown",
   "id": "9516f361",
   "metadata": {},
   "source": [
    "### **Posibles Hipótesis**"
   ]
  },
  {
   "cell_type": "markdown",
   "id": "3c5eeb47",
   "metadata": {},
   "source": [
    "* Hipótesis: ¿Hay relación entre llamadas perdidas y la ineficiencia?\n",
    "* Hipótesis: ¿Hay relación entre el tiempo de espera promedio y la ineficiencia\n",
    "* Hipótesis: ¿La hora o el día influye en la ineficiencia?\n",
    "* Hipótesis: ¿El tipo de llamada (interna o externa) se asocia a la duración?\n",
    "* Hipótesis: ¿La tarifa del cliente influye en el comportamiento de los operadores?\n",
    "* Hipótesis: ¿Los operadores asignados a ciertos clientes son más propensos a ser ineficientes?\n",
    "* Hipótesis: ¿Los operadores que manejan más llamadas internas tienen menor carga operativa real?"
   ]
  },
  {
   "cell_type": "markdown",
   "id": "2ca53ec9",
   "metadata": {},
   "source": [
    "### **Etapas generales del proyecto**"
   ]
  },
  {
   "cell_type": "markdown",
   "id": "387178be",
   "metadata": {},
   "source": [
    "1. **Preprocesamiento de datos:**\n",
    "    * Preparar los datos para su análisis.\n",
    "    * Limpieza de datos: manejo de valores ausentes y duplicados .\n",
    "    * Conversión y transformación de tipos de datos (fechas, booleanos, categóricos).\n",
    "    * Generación de nuevas variables o columnas\n",
    "2. **Análisis Exploratorio de Datos:**\n",
    "    * Comprender el comportamiento general y detectar patrones.\n",
    "    * Análisis de la distribución general de llamadas.\n",
    "    * Visualizaciones (gráficos de barras, histogramas, heatmaps, boxplots).\n",
    "    * Análisis comparativo entre operadores.\n",
    "    * Estadísticas descriptivas por operador, cliente y tipo de llamada.\n",
    "3. **Análisis de hipótesis:**\n",
    "    * Validar hipótesis clave sobre posibles factores que afectan la eficiencia.\n",
    "    * Ejecución de pruebas estadísticas (T-test, Mann-Whitney, chi-cuadrado o el indicado según su tipo de variable)\n",
    "    * Visualizaciones\n",
    "4. **Definición y clasificación de ineficiencia:**\n",
    "    * Formalizar los criterios de ineficiencia a partir de los datos y resultados previos\n",
    "    * Generación de columnas adicionales en caso de ser necesario\n",
    "5. **Construcción de modelo predictivo:** \n",
    "    * Predecir la probabilidad de ineficiencia en base al comportamiento del operador.\n",
    "        * Selección de variables\n",
    "        * División en conjunto de entrenamiento/prueba\n",
    "        * Aplicación de modelos (Regresión logística / Random Forest)\n",
    "        * Evaluación de métricas\n",
    "6. **Visualización de Resultados y Conclusiones:**\n",
    "    * Comunicar los hallazgos de forma visual para la toma de decisiones\n",
    "    * Mediante la creación de un dashboard en Tableau o Power Bi\n",
    "    * Conclusiones específicas como:\n",
    "        * ¿Qué factores son clave en la ineficiencia?\n",
    "        * ¿Qué perfiles de operadores requieren capacitación?\n",
    "        * En caso de influir el plan del cliente ¿Cómo afecta en la ineficiencia?"
   ]
  },
  {
   "cell_type": "markdown",
   "id": "d8d9a253",
   "metadata": {},
   "source": [
    "## **Introducción**"
   ]
  },
  {
   "cell_type": "markdown",
   "id": "6fb65b20",
   "metadata": {},
   "source": [
    "El servicio de telefonía virtual CallMeMaybe está desarrollando una nueva función que brindará a los supervisores y las supervisores información sobre los operadores menos eficaces. Se considera que un operador es ineficaz si tiene una gran cantidad de llamadas entrantes perdidas (internas y externas) y un tiempo de espera prolongado para las llamadas entrantes. Además, si se supone que un operador debe realizar llamadas salientes, un número reducido de ellas también será un signo de ineficacia.\n",
    "\n",
    "- Lleva a cabo el análisis exploratorio de datos\n",
    "- Identificar operadores ineficaces\n",
    "- Prueba las hipótesis estadísticas"
   ]
  },
  {
   "cell_type": "markdown",
   "id": "fb10ee97",
   "metadata": {},
   "source": [
    "## **Descripción de los datos**"
   ]
  },
  {
   "cell_type": "markdown",
   "id": "79bdd0d5",
   "metadata": {},
   "source": [
    "Los datasets contienen información sobre el uso del servicio de telefonía virtual CallMeMaybe. Sus clientes son organizaciones que necesitan distribuir gran cantidad de llamadas entrantes entre varios operadores, o realizar llamadas salientes a través de sus operadores. Los operadores también pueden realizar llamadas internas para comunicarse entre ellos. Estas llamadas se realizan a través de la red de CallMeMaybe."
   ]
  },
  {
   "cell_type": "markdown",
   "id": "53e1f205",
   "metadata": {},
   "source": [
    "El dataset comprimido `telecom_dataset_us.csv` contiene las siguientes columnas:\n",
    "\n",
    "- `user_id`: ID de la cuenta de cliente\n",
    "- `date`: fecha en la que se recuperaron las estadísticas\n",
    "- `direction`: \"dirección\" de llamada (`out` para saliente, `in` para entrante)\n",
    "- `internal`: si la llamada fue interna (entre los operadores de un cliente o clienta)\n",
    "- `operator_id`: identificador del operador\n",
    "- `is_missed_call`: si fue una llamada perdida\n",
    "- `calls_count`: número de llamadas\n",
    "- `call_duration`: duración de la llamada (sin incluir el tiempo de espera)\n",
    "- `total_call_duration`: duración de la llamada (incluido el tiempo de espera)\n",
    "\n",
    " \n",
    "\n",
    "El conjunto de datos `telecom_clients_us.csv` tiene las siguientes columnas:\n",
    "\n",
    "- `user_id`: ID de usuario/a\n",
    "- `tariff_plan`: tarifa actual de la clientela\n",
    "- `date_start`: fecha de registro de la clientela"
   ]
  },
  {
   "cell_type": "markdown",
   "id": "f691861c",
   "metadata": {},
   "source": [
    "## **Procesamiento de datos**"
   ]
  },
  {
   "cell_type": "markdown",
   "id": "8475e8b1",
   "metadata": {},
   "source": [
    "### Importamos librerías"
   ]
  },
  {
   "cell_type": "code",
   "execution_count": 117,
   "id": "c3e2cc26",
   "metadata": {},
   "outputs": [
    {
     "data": {
      "text/html": [
       "        <script type=\"text/javascript\">\n",
       "        window.PlotlyConfig = {MathJaxConfig: 'local'};\n",
       "        if (window.MathJax && window.MathJax.Hub && window.MathJax.Hub.Config) {window.MathJax.Hub.Config({SVG: {font: \"STIX-Web\"}});}\n",
       "        if (typeof require !== 'undefined') {\n",
       "        require.undef(\"plotly\");\n",
       "        requirejs.config({\n",
       "            paths: {\n",
       "                'plotly': ['https://cdn.plot.ly/plotly-2.35.2.min']\n",
       "            }\n",
       "        });\n",
       "        require(['plotly'], function(Plotly) {\n",
       "            window._Plotly = Plotly;\n",
       "        });\n",
       "        }\n",
       "        </script>\n",
       "        "
      ]
     },
     "metadata": {},
     "output_type": "display_data"
    },
    {
     "data": {
      "text/html": [
       "        <script type=\"text/javascript\">\n",
       "        window.PlotlyConfig = {MathJaxConfig: 'local'};\n",
       "        if (window.MathJax && window.MathJax.Hub && window.MathJax.Hub.Config) {window.MathJax.Hub.Config({SVG: {font: \"STIX-Web\"}});}\n",
       "        if (typeof require !== 'undefined') {\n",
       "        require.undef(\"plotly\");\n",
       "        requirejs.config({\n",
       "            paths: {\n",
       "                'plotly': ['https://cdn.plot.ly/plotly-2.35.2.min']\n",
       "            }\n",
       "        });\n",
       "        require(['plotly'], function(Plotly) {\n",
       "            window._Plotly = Plotly;\n",
       "        });\n",
       "        }\n",
       "        </script>\n",
       "        "
      ]
     },
     "metadata": {},
     "output_type": "display_data"
    }
   ],
   "source": [
    "# Importamos librerías\n",
    "import pandas as pd # Para manipulación de datos\n",
    "import numpy as np # Para manipulación de datos\n",
    "import datetime # Para manipulación de fechas\n",
    "import math as mth # Para funciones matemáticas\n",
    "\n",
    "# Para pruebas estadísticas\n",
    "import scipy.stats as stats # Para pruebas estadísticas\n",
    "from scipy.stats import norm # Para distribuciones estadísticas\n",
    "from scipy.stats import t # Para distribuciones t de Student\n",
    "from scipy.stats import chi2 # Para distribuciones chi-cuadrado\n",
    "from scipy.stats import chisquare # Para pruebas chi-cuadrado\n",
    "from scipy.stats import chi2_contingency # Para pruebas chi-cuadrado de independencia\n",
    "from scipy.stats import mannwhitneyu\n",
    "from scipy.stats import kruskal\n",
    "\n",
    "# Para visualización de datos\n",
    "import seaborn as sns # Para visualización de datos\n",
    "import matplotlib.pyplot as plt # Para visualización de datos\n",
    "import matplotlib.cm as cm # Para mapas de colores\n",
    "from matplotlib.colors import Normalize # Para normalización de colores\n",
    "\n",
    "import plotly.express as px # Para visualización de datos\n",
    "import plotly.graph_objects as go # Para visualización de datos\n",
    "import plotly_express as px # Para gráficos interactivos\n",
    "import plotly.graph_objects as go # Para gráficos interactivos\n",
    "import chart_studio.plotly as py # Para gráficos interactivos\n",
    "\n",
    "import cufflinks as cf # Para gráficos interactivos\n",
    "\n",
    "# Make plotly work in your jupyter notebook\n",
    "from plotly.offline import download_plotlyjs, init_notebook_mode, plot, iplot\n",
    "init_notebook_mode(connected=True) # Para gráficos interactivos\n",
    "# use plotly locally\n",
    "cf.go_offline() # Para gráficos interactivos\n",
    "\n",
    "# Para pronósticos \n",
    "from sklearn.preprocessing import StandardScaler\n",
    "from sklearn.model_selection import train_test_split\n",
    "from sklearn.model_selection import GridSearchCV\n",
    "from sklearn.linear_model import LogisticRegression\n",
    "from sklearn.ensemble import RandomForestClassifier\n",
    "from sklearn.cluster import KMeans\n",
    "\n",
    "from sklearn.metrics import accuracy_score, precision_score, recall_score, f1_score, classification_report, confusion_matrix\n",
    "from sklearn.metrics import roc_auc_score\n",
    "\n",
    "from scipy.spatial.distance import pdist\n",
    "from scipy.cluster.hierarchy import linkage\n",
    "from scipy.cluster.hierarchy import dendrogram\n",
    "from scipy.spatial.distance import cdist # Para calcular distancias"
   ]
  },
  {
   "cell_type": "markdown",
   "id": "cf3fc3d2",
   "metadata": {},
   "source": [
    "### Importamos los datasets"
   ]
  },
  {
   "cell_type": "code",
   "execution_count": 118,
   "id": "9378075d",
   "metadata": {},
   "outputs": [],
   "source": [
    "# Importamos los datos\n",
    "telecom_df = pd.read_csv('telecom_dataset_us.csv')\n",
    "telecom_clients = pd.read_csv('telecom_clients_us.csv')"
   ]
  },
  {
   "cell_type": "markdown",
   "id": "5bf48499",
   "metadata": {},
   "source": [
    "### Información de telecom dataset"
   ]
  },
  {
   "cell_type": "code",
   "execution_count": 119,
   "id": "a3fe536b",
   "metadata": {},
   "outputs": [
    {
     "name": "stdout",
     "output_type": "stream",
     "text": [
      "   user_id                       date direction internal  operator_id  \\\n",
      "0   166377  2019-08-04 00:00:00+03:00        in    False          NaN   \n",
      "1   166377  2019-08-05 00:00:00+03:00       out     True     880022.0   \n",
      "2   166377  2019-08-05 00:00:00+03:00       out     True     880020.0   \n",
      "3   166377  2019-08-05 00:00:00+03:00       out     True     880020.0   \n",
      "4   166377  2019-08-05 00:00:00+03:00       out    False     880022.0   \n",
      "\n",
      "   is_missed_call  calls_count  call_duration  total_call_duration  \n",
      "0            True            2              0                    4  \n",
      "1            True            3              0                    5  \n",
      "2            True            1              0                    1  \n",
      "3           False            1             10                   18  \n",
      "4            True            3              0                   25  \n",
      "<class 'pandas.core.frame.DataFrame'>\n",
      "RangeIndex: 53902 entries, 0 to 53901\n",
      "Data columns (total 9 columns):\n",
      " #   Column               Non-Null Count  Dtype  \n",
      "---  ------               --------------  -----  \n",
      " 0   user_id              53902 non-null  int64  \n",
      " 1   date                 53902 non-null  object \n",
      " 2   direction            53902 non-null  object \n",
      " 3   internal             53785 non-null  object \n",
      " 4   operator_id          45730 non-null  float64\n",
      " 5   is_missed_call       53902 non-null  bool   \n",
      " 6   calls_count          53902 non-null  int64  \n",
      " 7   call_duration        53902 non-null  int64  \n",
      " 8   total_call_duration  53902 non-null  int64  \n",
      "dtypes: bool(1), float64(1), int64(4), object(3)\n",
      "memory usage: 3.3+ MB\n",
      "None\n"
     ]
    }
   ],
   "source": [
    "# Telecom dataset\n",
    "print(telecom_df.head())\n",
    "print(telecom_df.info())"
   ]
  },
  {
   "cell_type": "code",
   "execution_count": 120,
   "id": "48177c3b",
   "metadata": {},
   "outputs": [
    {
     "name": "stdout",
     "output_type": "stream",
     "text": [
      "4900\n"
     ]
    }
   ],
   "source": [
    "print(telecom_df.duplicated().sum()) # Verificamos si hay duplicados"
   ]
  },
  {
   "cell_type": "markdown",
   "id": "474e23da",
   "metadata": {},
   "source": [
    "Observaciones:"
   ]
  },
  {
   "cell_type": "markdown",
   "id": "f826f958",
   "metadata": {},
   "source": [
    "1. La columna user_id, no tiene valores nulos y tiene el tipo de dato correcto.\n",
    "2. La columna 'date', no tiene valores nulos pero el tipo de dato hay que cambiarlo a datetime y lo mejor sería agregar columnas de día, mes y año. Por otro lado, los valores están manejando zona horaria y además no se registró la hora ni minutos, por lo que solo podremos trabajar con fechas.\n",
    "3. La columna 'direction', no tiene valores nulos y tiene el tipo de dato correcto, alomejor podríamos cambiarlo a tipo category ya que se trata solo de dos opciones (internal y out)\n",
    "4. La columna 'internal', tiene pocos valores ausentes y el tipo de dato hay que cambiarlo a bool. ¿Qué haremos con los ausentes? Realmente son pocos en comparación a la cantidad de valores que tenemos, así que podríamos eliminarlos para que no nos hagan ruido o dejarlos como ausentes y no tomarlos en cuenta en nuestros cálculos. Realmente como no me gusta elimianr filas a menos que sea muy necesario, así que la decisión será sustituir los ausentes por un \"espacio en blanco\" o alguna nota como \"no defined\"...\n",
    "5. La columna 'operator_id' tiene valores ausentes sin embargo, no  nos afecta realmente porque no es una columna numérica como tal, no se harán cálculos con ella, por lo que podemos manejar los valores ausentes reemplazandolo por un cero.\n",
    "6. La columna is_missed_call no tiene valores ausentes y el tipo de dato es correcto\n",
    "7. Las columnas calls_count, call_duration y total_call_duration no tienen valores ausentes y tienen el tipo de dato correcto.\n",
    "\n",
    "Por último, tenemos 4900 filas duplicadas, vamos a eliminarlas y proceder con los cambios propuestos."
   ]
  },
  {
   "cell_type": "markdown",
   "id": "8ab6e081",
   "metadata": {},
   "source": [
    "#### **Preparación de los datos**"
   ]
  },
  {
   "cell_type": "code",
   "execution_count": 121,
   "id": "59337bd0",
   "metadata": {},
   "outputs": [],
   "source": [
    "# Eliminamos duplicados\n",
    "telecom_df = telecom_df.drop_duplicates()"
   ]
  },
  {
   "cell_type": "code",
   "execution_count": 122,
   "id": "26b426d7",
   "metadata": {},
   "outputs": [],
   "source": [
    "# Manejamos los valores ausentes\n",
    "telecom_df = telecom_df.dropna(subset=['internal']) # Eliminamos los ausentes porque son pocos y no afectan el análisis\n",
    "telecom_df['operator_id'] = telecom_df['operator_id'].fillna(0) # Reemplazamos los ausentes por 0 (de esta forma no afecta el análisis) por ser un valor categórico"
   ]
  },
  {
   "cell_type": "code",
   "execution_count": 123,
   "id": "f2fc9eb0",
   "metadata": {},
   "outputs": [],
   "source": [
    "# Cambiaremos las columnas booleanas a binarias, es decir, 0 = False y 1 = True\n",
    "telecom_df['internal'] = telecom_df['internal'].map({True: 1, False: 0})\n",
    "telecom_df['is_missed_call'] = telecom_df['is_missed_call'].map({True: 1, False: 0})"
   ]
  },
  {
   "cell_type": "code",
   "execution_count": 124,
   "id": "a1918693",
   "metadata": {},
   "outputs": [],
   "source": [
    "# Cambiamos los tipos de dato al correcto\n",
    "telecom_df['date'] = pd.to_datetime(telecom_df['date'])\n",
    "telecom_df['direction'] = telecom_df['direction'].astype('category')\n",
    "#telecom_df['internal'] = telecom_df['internal'].astype('int64')\n",
    "telecom_df['operator_id'] = telecom_df['operator_id'].astype('int64')\n",
    "\n",
    "# Agregamos columnas adicionales \n",
    "telecom_df['wait_time'] = telecom_df['total_call_duration'] - telecom_df['call_duration']\n",
    "telecom_df['avg_call_duration_per_call'] = telecom_df['call_duration'] / telecom_df['calls_count']\n",
    "telecom_df['avg_total_call_duration_per_call'] = telecom_df['total_call_duration'] / telecom_df['calls_count']\n",
    "telecom_df['avg_wait_time_per_call'] = telecom_df['wait_time'] / telecom_df['calls_count']\n",
    "\n",
    "# Agregamos columnas adicionales de date\n",
    "telecom_df['year'] = telecom_df['date'].dt.year\n",
    "telecom_df['month'] = telecom_df['date'].dt.month\n",
    "telecom_df['day'] = telecom_df['date'].dt.day\n",
    "telecom_df['day_of_week'] = telecom_df['date'].dt.dayofweek"
   ]
  },
  {
   "cell_type": "code",
   "execution_count": 125,
   "id": "a66670b2",
   "metadata": {},
   "outputs": [
    {
     "name": "stdout",
     "output_type": "stream",
     "text": [
      "<class 'pandas.core.frame.DataFrame'>\n",
      "Index: 48892 entries, 0 to 53901\n",
      "Data columns (total 17 columns):\n",
      " #   Column                            Non-Null Count  Dtype                    \n",
      "---  ------                            --------------  -----                    \n",
      " 0   user_id                           48892 non-null  int64                    \n",
      " 1   date                              48892 non-null  datetime64[ns, UTC+03:00]\n",
      " 2   direction                         48892 non-null  category                 \n",
      " 3   internal                          48892 non-null  int64                    \n",
      " 4   operator_id                       48892 non-null  int64                    \n",
      " 5   is_missed_call                    48892 non-null  int64                    \n",
      " 6   calls_count                       48892 non-null  int64                    \n",
      " 7   call_duration                     48892 non-null  int64                    \n",
      " 8   total_call_duration               48892 non-null  int64                    \n",
      " 9   wait_time                         48892 non-null  int64                    \n",
      " 10  avg_call_duration_per_call        48892 non-null  float64                  \n",
      " 11  avg_total_call_duration_per_call  48892 non-null  float64                  \n",
      " 12  avg_wait_time_per_call            48892 non-null  float64                  \n",
      " 13  year                              48892 non-null  int32                    \n",
      " 14  month                             48892 non-null  int32                    \n",
      " 15  day                               48892 non-null  int32                    \n",
      " 16  day_of_week                       48892 non-null  int32                    \n",
      "dtypes: category(1), datetime64[ns, UTC+03:00](1), float64(3), int32(4), int64(8)\n",
      "memory usage: 5.6 MB\n"
     ]
    }
   ],
   "source": [
    "telecom_df.info()"
   ]
  },
  {
   "cell_type": "code",
   "execution_count": 126,
   "id": "a8629cc5",
   "metadata": {},
   "outputs": [
    {
     "data": {
      "application/vnd.microsoft.datawrangler.viewer.v0+json": {
       "columns": [
        {
         "name": "index",
         "rawType": "int64",
         "type": "integer"
        },
        {
         "name": "user_id",
         "rawType": "int64",
         "type": "integer"
        },
        {
         "name": "date",
         "rawType": "datetime64[ns, UTC+03:00]",
         "type": "unknown"
        },
        {
         "name": "direction",
         "rawType": "category",
         "type": "unknown"
        },
        {
         "name": "internal",
         "rawType": "int64",
         "type": "integer"
        },
        {
         "name": "operator_id",
         "rawType": "int64",
         "type": "integer"
        },
        {
         "name": "is_missed_call",
         "rawType": "int64",
         "type": "integer"
        },
        {
         "name": "calls_count",
         "rawType": "int64",
         "type": "integer"
        },
        {
         "name": "call_duration",
         "rawType": "int64",
         "type": "integer"
        },
        {
         "name": "total_call_duration",
         "rawType": "int64",
         "type": "integer"
        },
        {
         "name": "wait_time",
         "rawType": "int64",
         "type": "integer"
        },
        {
         "name": "avg_call_duration_per_call",
         "rawType": "float64",
         "type": "float"
        },
        {
         "name": "avg_total_call_duration_per_call",
         "rawType": "float64",
         "type": "float"
        },
        {
         "name": "avg_wait_time_per_call",
         "rawType": "float64",
         "type": "float"
        },
        {
         "name": "year",
         "rawType": "int32",
         "type": "integer"
        },
        {
         "name": "month",
         "rawType": "int32",
         "type": "integer"
        },
        {
         "name": "day",
         "rawType": "int32",
         "type": "integer"
        },
        {
         "name": "day_of_week",
         "rawType": "int32",
         "type": "integer"
        }
       ],
       "conversionMethod": "pd.DataFrame",
       "ref": "25c9937e-26d2-4763-91e1-5fb185a9b4f2",
       "rows": [
        [
         "0",
         "166377",
         "2019-08-04 00:00:00+03:00",
         "in",
         "0",
         "0",
         "1",
         "2",
         "0",
         "4",
         "4",
         "0.0",
         "2.0",
         "2.0",
         "2019",
         "8",
         "4",
         "6"
        ],
        [
         "1",
         "166377",
         "2019-08-05 00:00:00+03:00",
         "out",
         "1",
         "880022",
         "1",
         "3",
         "0",
         "5",
         "5",
         "0.0",
         "1.6666666666666667",
         "1.6666666666666667",
         "2019",
         "8",
         "5",
         "0"
        ],
        [
         "2",
         "166377",
         "2019-08-05 00:00:00+03:00",
         "out",
         "1",
         "880020",
         "1",
         "1",
         "0",
         "1",
         "1",
         "0.0",
         "1.0",
         "1.0",
         "2019",
         "8",
         "5",
         "0"
        ],
        [
         "3",
         "166377",
         "2019-08-05 00:00:00+03:00",
         "out",
         "1",
         "880020",
         "0",
         "1",
         "10",
         "18",
         "8",
         "10.0",
         "18.0",
         "8.0",
         "2019",
         "8",
         "5",
         "0"
        ],
        [
         "4",
         "166377",
         "2019-08-05 00:00:00+03:00",
         "out",
         "0",
         "880022",
         "1",
         "3",
         "0",
         "25",
         "25",
         "0.0",
         "8.333333333333334",
         "8.333333333333334",
         "2019",
         "8",
         "5",
         "0"
        ]
       ],
       "shape": {
        "columns": 17,
        "rows": 5
       }
      },
      "text/html": [
       "<div>\n",
       "<style scoped>\n",
       "    .dataframe tbody tr th:only-of-type {\n",
       "        vertical-align: middle;\n",
       "    }\n",
       "\n",
       "    .dataframe tbody tr th {\n",
       "        vertical-align: top;\n",
       "    }\n",
       "\n",
       "    .dataframe thead th {\n",
       "        text-align: right;\n",
       "    }\n",
       "</style>\n",
       "<table border=\"1\" class=\"dataframe\">\n",
       "  <thead>\n",
       "    <tr style=\"text-align: right;\">\n",
       "      <th></th>\n",
       "      <th>user_id</th>\n",
       "      <th>date</th>\n",
       "      <th>direction</th>\n",
       "      <th>internal</th>\n",
       "      <th>operator_id</th>\n",
       "      <th>is_missed_call</th>\n",
       "      <th>calls_count</th>\n",
       "      <th>call_duration</th>\n",
       "      <th>total_call_duration</th>\n",
       "      <th>wait_time</th>\n",
       "      <th>avg_call_duration_per_call</th>\n",
       "      <th>avg_total_call_duration_per_call</th>\n",
       "      <th>avg_wait_time_per_call</th>\n",
       "      <th>year</th>\n",
       "      <th>month</th>\n",
       "      <th>day</th>\n",
       "      <th>day_of_week</th>\n",
       "    </tr>\n",
       "  </thead>\n",
       "  <tbody>\n",
       "    <tr>\n",
       "      <th>0</th>\n",
       "      <td>166377</td>\n",
       "      <td>2019-08-04 00:00:00+03:00</td>\n",
       "      <td>in</td>\n",
       "      <td>0</td>\n",
       "      <td>0</td>\n",
       "      <td>1</td>\n",
       "      <td>2</td>\n",
       "      <td>0</td>\n",
       "      <td>4</td>\n",
       "      <td>4</td>\n",
       "      <td>0.0</td>\n",
       "      <td>2.000000</td>\n",
       "      <td>2.000000</td>\n",
       "      <td>2019</td>\n",
       "      <td>8</td>\n",
       "      <td>4</td>\n",
       "      <td>6</td>\n",
       "    </tr>\n",
       "    <tr>\n",
       "      <th>1</th>\n",
       "      <td>166377</td>\n",
       "      <td>2019-08-05 00:00:00+03:00</td>\n",
       "      <td>out</td>\n",
       "      <td>1</td>\n",
       "      <td>880022</td>\n",
       "      <td>1</td>\n",
       "      <td>3</td>\n",
       "      <td>0</td>\n",
       "      <td>5</td>\n",
       "      <td>5</td>\n",
       "      <td>0.0</td>\n",
       "      <td>1.666667</td>\n",
       "      <td>1.666667</td>\n",
       "      <td>2019</td>\n",
       "      <td>8</td>\n",
       "      <td>5</td>\n",
       "      <td>0</td>\n",
       "    </tr>\n",
       "    <tr>\n",
       "      <th>2</th>\n",
       "      <td>166377</td>\n",
       "      <td>2019-08-05 00:00:00+03:00</td>\n",
       "      <td>out</td>\n",
       "      <td>1</td>\n",
       "      <td>880020</td>\n",
       "      <td>1</td>\n",
       "      <td>1</td>\n",
       "      <td>0</td>\n",
       "      <td>1</td>\n",
       "      <td>1</td>\n",
       "      <td>0.0</td>\n",
       "      <td>1.000000</td>\n",
       "      <td>1.000000</td>\n",
       "      <td>2019</td>\n",
       "      <td>8</td>\n",
       "      <td>5</td>\n",
       "      <td>0</td>\n",
       "    </tr>\n",
       "    <tr>\n",
       "      <th>3</th>\n",
       "      <td>166377</td>\n",
       "      <td>2019-08-05 00:00:00+03:00</td>\n",
       "      <td>out</td>\n",
       "      <td>1</td>\n",
       "      <td>880020</td>\n",
       "      <td>0</td>\n",
       "      <td>1</td>\n",
       "      <td>10</td>\n",
       "      <td>18</td>\n",
       "      <td>8</td>\n",
       "      <td>10.0</td>\n",
       "      <td>18.000000</td>\n",
       "      <td>8.000000</td>\n",
       "      <td>2019</td>\n",
       "      <td>8</td>\n",
       "      <td>5</td>\n",
       "      <td>0</td>\n",
       "    </tr>\n",
       "    <tr>\n",
       "      <th>4</th>\n",
       "      <td>166377</td>\n",
       "      <td>2019-08-05 00:00:00+03:00</td>\n",
       "      <td>out</td>\n",
       "      <td>0</td>\n",
       "      <td>880022</td>\n",
       "      <td>1</td>\n",
       "      <td>3</td>\n",
       "      <td>0</td>\n",
       "      <td>25</td>\n",
       "      <td>25</td>\n",
       "      <td>0.0</td>\n",
       "      <td>8.333333</td>\n",
       "      <td>8.333333</td>\n",
       "      <td>2019</td>\n",
       "      <td>8</td>\n",
       "      <td>5</td>\n",
       "      <td>0</td>\n",
       "    </tr>\n",
       "  </tbody>\n",
       "</table>\n",
       "</div>"
      ],
      "text/plain": [
       "   user_id                      date direction  internal  operator_id  \\\n",
       "0   166377 2019-08-04 00:00:00+03:00        in         0            0   \n",
       "1   166377 2019-08-05 00:00:00+03:00       out         1       880022   \n",
       "2   166377 2019-08-05 00:00:00+03:00       out         1       880020   \n",
       "3   166377 2019-08-05 00:00:00+03:00       out         1       880020   \n",
       "4   166377 2019-08-05 00:00:00+03:00       out         0       880022   \n",
       "\n",
       "   is_missed_call  calls_count  call_duration  total_call_duration  wait_time  \\\n",
       "0               1            2              0                    4          4   \n",
       "1               1            3              0                    5          5   \n",
       "2               1            1              0                    1          1   \n",
       "3               0            1             10                   18          8   \n",
       "4               1            3              0                   25         25   \n",
       "\n",
       "   avg_call_duration_per_call  avg_total_call_duration_per_call  \\\n",
       "0                         0.0                          2.000000   \n",
       "1                         0.0                          1.666667   \n",
       "2                         0.0                          1.000000   \n",
       "3                        10.0                         18.000000   \n",
       "4                         0.0                          8.333333   \n",
       "\n",
       "   avg_wait_time_per_call  year  month  day  day_of_week  \n",
       "0                2.000000  2019      8    4            6  \n",
       "1                1.666667  2019      8    5            0  \n",
       "2                1.000000  2019      8    5            0  \n",
       "3                8.000000  2019      8    5            0  \n",
       "4                8.333333  2019      8    5            0  "
      ]
     },
     "execution_count": 126,
     "metadata": {},
     "output_type": "execute_result"
    }
   ],
   "source": [
    "telecom_df.head()"
   ]
  },
  {
   "cell_type": "markdown",
   "id": "d092b7ae",
   "metadata": {},
   "source": [
    "### **Informacion de telecom clients dataset**"
   ]
  },
  {
   "cell_type": "code",
   "execution_count": 127,
   "id": "f0f133b1",
   "metadata": {},
   "outputs": [
    {
     "name": "stdout",
     "output_type": "stream",
     "text": [
      "   user_id tariff_plan  date_start\n",
      "0   166713           A  2019-08-15\n",
      "1   166901           A  2019-08-23\n",
      "2   168527           A  2019-10-29\n",
      "3   167097           A  2019-09-01\n",
      "4   168193           A  2019-10-16\n",
      "<class 'pandas.core.frame.DataFrame'>\n",
      "RangeIndex: 732 entries, 0 to 731\n",
      "Data columns (total 3 columns):\n",
      " #   Column       Non-Null Count  Dtype \n",
      "---  ------       --------------  ----- \n",
      " 0   user_id      732 non-null    int64 \n",
      " 1   tariff_plan  732 non-null    object\n",
      " 2   date_start   732 non-null    object\n",
      "dtypes: int64(1), object(2)\n",
      "memory usage: 17.3+ KB\n",
      "None\n",
      "0\n"
     ]
    }
   ],
   "source": [
    "# Telecom dataset\n",
    "print(telecom_clients.head())\n",
    "print(telecom_clients.info())\n",
    "print(telecom_clients.duplicated().sum())"
   ]
  },
  {
   "cell_type": "markdown",
   "id": "aa03cef9",
   "metadata": {},
   "source": [
    "Observación:\n",
    "\n",
    "Primeramente, no tenemos valores ausentes. Segundo la columna tariff_plan la podemos cambiar a categórica y la de date_start, definitivamente cambiaremos el tipo de dato a datetime, y agregaremos columnas extras para year, month, date y week."
   ]
  },
  {
   "cell_type": "markdown",
   "id": "2f39ce89",
   "metadata": {},
   "source": [
    "#### **Preparación de los datos**"
   ]
  },
  {
   "cell_type": "code",
   "execution_count": 128,
   "id": "f12f47db",
   "metadata": {},
   "outputs": [],
   "source": [
    "# Cambiamos el tipo de dato\n",
    "telecom_clients['tariff_plan'] = telecom_clients['tariff_plan'].astype('category')\n",
    "telecom_clients['date_start'] = pd.to_datetime(telecom_clients['date_start'])\n",
    "\n",
    "# Agregacomos columnas adicionales de date\n",
    "telecom_clients['year_start'] = telecom_clients['date_start'].dt.year\n",
    "telecom_clients['month_start'] = telecom_clients['date_start'].dt.month\n",
    "telecom_clients['day_start'] = telecom_clients['date_start'].dt.day\n",
    "telecom_clients['day_of_week_start'] = telecom_clients['date_start'].dt.dayofweek"
   ]
  },
  {
   "cell_type": "code",
   "execution_count": 129,
   "id": "5fd929fd",
   "metadata": {},
   "outputs": [
    {
     "name": "stdout",
     "output_type": "stream",
     "text": [
      "<class 'pandas.core.frame.DataFrame'>\n",
      "RangeIndex: 732 entries, 0 to 731\n",
      "Data columns (total 7 columns):\n",
      " #   Column             Non-Null Count  Dtype         \n",
      "---  ------             --------------  -----         \n",
      " 0   user_id            732 non-null    int64         \n",
      " 1   tariff_plan        732 non-null    category      \n",
      " 2   date_start         732 non-null    datetime64[ns]\n",
      " 3   year_start         732 non-null    int32         \n",
      " 4   month_start        732 non-null    int32         \n",
      " 5   day_start          732 non-null    int32         \n",
      " 6   day_of_week_start  732 non-null    int32         \n",
      "dtypes: category(1), datetime64[ns](1), int32(4), int64(1)\n",
      "memory usage: 23.8 KB\n"
     ]
    }
   ],
   "source": [
    "telecom_clients.info()"
   ]
  },
  {
   "cell_type": "code",
   "execution_count": 130,
   "id": "ece3791b",
   "metadata": {},
   "outputs": [
    {
     "data": {
      "application/vnd.microsoft.datawrangler.viewer.v0+json": {
       "columns": [
        {
         "name": "index",
         "rawType": "int64",
         "type": "integer"
        },
        {
         "name": "user_id",
         "rawType": "int64",
         "type": "integer"
        },
        {
         "name": "tariff_plan",
         "rawType": "category",
         "type": "unknown"
        },
        {
         "name": "date_start",
         "rawType": "datetime64[ns]",
         "type": "datetime"
        },
        {
         "name": "year_start",
         "rawType": "int32",
         "type": "integer"
        },
        {
         "name": "month_start",
         "rawType": "int32",
         "type": "integer"
        },
        {
         "name": "day_start",
         "rawType": "int32",
         "type": "integer"
        },
        {
         "name": "day_of_week_start",
         "rawType": "int32",
         "type": "integer"
        }
       ],
       "conversionMethod": "pd.DataFrame",
       "ref": "46cd02e0-526e-4fee-ba5e-7a9acb1ca10e",
       "rows": [
        [
         "0",
         "166713",
         "A",
         "2019-08-15 00:00:00",
         "2019",
         "8",
         "15",
         "3"
        ],
        [
         "1",
         "166901",
         "A",
         "2019-08-23 00:00:00",
         "2019",
         "8",
         "23",
         "4"
        ],
        [
         "2",
         "168527",
         "A",
         "2019-10-29 00:00:00",
         "2019",
         "10",
         "29",
         "1"
        ],
        [
         "3",
         "167097",
         "A",
         "2019-09-01 00:00:00",
         "2019",
         "9",
         "1",
         "6"
        ],
        [
         "4",
         "168193",
         "A",
         "2019-10-16 00:00:00",
         "2019",
         "10",
         "16",
         "2"
        ]
       ],
       "shape": {
        "columns": 7,
        "rows": 5
       }
      },
      "text/html": [
       "<div>\n",
       "<style scoped>\n",
       "    .dataframe tbody tr th:only-of-type {\n",
       "        vertical-align: middle;\n",
       "    }\n",
       "\n",
       "    .dataframe tbody tr th {\n",
       "        vertical-align: top;\n",
       "    }\n",
       "\n",
       "    .dataframe thead th {\n",
       "        text-align: right;\n",
       "    }\n",
       "</style>\n",
       "<table border=\"1\" class=\"dataframe\">\n",
       "  <thead>\n",
       "    <tr style=\"text-align: right;\">\n",
       "      <th></th>\n",
       "      <th>user_id</th>\n",
       "      <th>tariff_plan</th>\n",
       "      <th>date_start</th>\n",
       "      <th>year_start</th>\n",
       "      <th>month_start</th>\n",
       "      <th>day_start</th>\n",
       "      <th>day_of_week_start</th>\n",
       "    </tr>\n",
       "  </thead>\n",
       "  <tbody>\n",
       "    <tr>\n",
       "      <th>0</th>\n",
       "      <td>166713</td>\n",
       "      <td>A</td>\n",
       "      <td>2019-08-15</td>\n",
       "      <td>2019</td>\n",
       "      <td>8</td>\n",
       "      <td>15</td>\n",
       "      <td>3</td>\n",
       "    </tr>\n",
       "    <tr>\n",
       "      <th>1</th>\n",
       "      <td>166901</td>\n",
       "      <td>A</td>\n",
       "      <td>2019-08-23</td>\n",
       "      <td>2019</td>\n",
       "      <td>8</td>\n",
       "      <td>23</td>\n",
       "      <td>4</td>\n",
       "    </tr>\n",
       "    <tr>\n",
       "      <th>2</th>\n",
       "      <td>168527</td>\n",
       "      <td>A</td>\n",
       "      <td>2019-10-29</td>\n",
       "      <td>2019</td>\n",
       "      <td>10</td>\n",
       "      <td>29</td>\n",
       "      <td>1</td>\n",
       "    </tr>\n",
       "    <tr>\n",
       "      <th>3</th>\n",
       "      <td>167097</td>\n",
       "      <td>A</td>\n",
       "      <td>2019-09-01</td>\n",
       "      <td>2019</td>\n",
       "      <td>9</td>\n",
       "      <td>1</td>\n",
       "      <td>6</td>\n",
       "    </tr>\n",
       "    <tr>\n",
       "      <th>4</th>\n",
       "      <td>168193</td>\n",
       "      <td>A</td>\n",
       "      <td>2019-10-16</td>\n",
       "      <td>2019</td>\n",
       "      <td>10</td>\n",
       "      <td>16</td>\n",
       "      <td>2</td>\n",
       "    </tr>\n",
       "  </tbody>\n",
       "</table>\n",
       "</div>"
      ],
      "text/plain": [
       "   user_id tariff_plan date_start  year_start  month_start  day_start  \\\n",
       "0   166713           A 2019-08-15        2019            8         15   \n",
       "1   166901           A 2019-08-23        2019            8         23   \n",
       "2   168527           A 2019-10-29        2019           10         29   \n",
       "3   167097           A 2019-09-01        2019            9          1   \n",
       "4   168193           A 2019-10-16        2019           10         16   \n",
       "\n",
       "   day_of_week_start  \n",
       "0                  3  \n",
       "1                  4  \n",
       "2                  1  \n",
       "3                  6  \n",
       "4                  2  "
      ]
     },
     "execution_count": 130,
     "metadata": {},
     "output_type": "execute_result"
    }
   ],
   "source": [
    "telecom_clients.head()"
   ]
  },
  {
   "cell_type": "markdown",
   "id": "5187161f",
   "metadata": {},
   "source": [
    "## **Análisis Exploratorio de Datos**"
   ]
  },
  {
   "cell_type": "markdown",
   "id": "16752ba0",
   "metadata": {},
   "source": [
    "Considerando estas 3 métricas por las que se considera a un operador ineficiente:\n",
    "* Proporción alta de llamadas entrantes perdidas (internas y externas)\n",
    "* Tiempo de espera prolongado para las llamadas entrantes\n",
    "* Bajo volumen de llamadas salientes\n",
    "\n",
    "Enfocaremos nuestros análisis tomando en cuenta el objeto de estudio."
   ]
  },
  {
   "cell_type": "markdown",
   "id": "edff20d7",
   "metadata": {},
   "source": [
    "#### **Análisis General**"
   ]
  },
  {
   "cell_type": "code",
   "execution_count": 131,
   "id": "1c0ed759",
   "metadata": {},
   "outputs": [
    {
     "name": "stdout",
     "output_type": "stream",
     "text": [
      "Tenemos 1093 operadores únicos\n"
     ]
    }
   ],
   "source": [
    "# ¿Cuántos operadores tenemos?\n",
    "print('Tenemos',telecom_df['operator_id'].nunique(),'operadores únicos')"
   ]
  },
  {
   "cell_type": "code",
   "execution_count": 132,
   "id": "fb5c4aad",
   "metadata": {},
   "outputs": [
    {
     "name": "stdout",
     "output_type": "stream",
     "text": [
      "Tenemos 307 clientes únicos\n"
     ]
    }
   ],
   "source": [
    "# ¿Cuántos clientes tenemos?\n",
    "print('Tenemos',telecom_df['user_id'].nunique(),'clientes únicos')"
   ]
  },
  {
   "cell_type": "code",
   "execution_count": 133,
   "id": "dfbfe78f",
   "metadata": {},
   "outputs": [
    {
     "name": "stdout",
     "output_type": "stream",
     "text": [
      "2019-08-02 00:00:00+03:00 2019-11-28 00:00:00+03:00\n"
     ]
    }
   ],
   "source": [
    "# ¿En qué rango de fechas abarcan nuestros datos?\n",
    "print(telecom_df['date'].min(), telecom_df['date'].max())"
   ]
  },
  {
   "cell_type": "code",
   "execution_count": 134,
   "id": "2cff0aed",
   "metadata": {},
   "outputs": [
    {
     "name": "stdout",
     "output_type": "stream",
     "text": [
      "             user_id      internal    operator_id  is_missed_call  \\\n",
      "count   48892.000000  48892.000000   48892.000000    48892.000000   \n",
      "mean   167294.492841      0.115622  777779.541684        0.437638   \n",
      "std       598.675508      0.319775  329077.221961        0.496101   \n",
      "min    166377.000000      0.000000       0.000000        0.000000   \n",
      "25%    166782.000000      0.000000  890416.000000        0.000000   \n",
      "50%    167158.000000      0.000000  906406.000000        0.000000   \n",
      "75%    167819.000000      0.000000  930020.000000        1.000000   \n",
      "max    168606.000000      1.000000  973286.000000        1.000000   \n",
      "\n",
      "        calls_count  call_duration  total_call_duration     wait_time  \\\n",
      "count  48892.000000   48892.000000         48892.000000  48892.000000   \n",
      "mean      16.495214     868.088788          1158.976458    290.887671   \n",
      "std       63.671633    3779.549967          4456.180933   1133.354018   \n",
      "min        1.000000       0.000000             0.000000      0.000000   \n",
      "25%        1.000000       0.000000            46.000000     17.000000   \n",
      "50%        4.000000      37.000000           210.000000     55.000000   \n",
      "75%       12.000000     573.000000           902.000000    200.000000   \n",
      "max     4817.000000  144395.000000        166155.000000  46474.000000   \n",
      "\n",
      "       avg_call_duration_per_call  avg_total_call_duration_per_call  \\\n",
      "count                48892.000000                      48892.000000   \n",
      "mean                    66.562106                         83.396309   \n",
      "std                    125.214395                        124.775783   \n",
      "min                      0.000000                          0.000000   \n",
      "25%                      0.000000                         19.796429   \n",
      "50%                     23.775000                         44.833333   \n",
      "75%                     90.000000                        105.250000   \n",
      "max                   3550.000000                       3609.000000   \n",
      "\n",
      "       avg_wait_time_per_call     year         month           day  \\\n",
      "count            48892.000000  48892.0  48892.000000  48892.000000   \n",
      "mean                16.834203   2019.0     10.192465     16.871595   \n",
      "std                 13.873694      0.0      0.852225      8.480686   \n",
      "min                  0.000000   2019.0      8.000000      1.000000   \n",
      "25%                  8.000000   2019.0     10.000000     10.000000   \n",
      "50%                 14.520000   2019.0     10.000000     18.000000   \n",
      "75%                 22.250000   2019.0     11.000000     24.000000   \n",
      "max                465.000000   2019.0     11.000000     31.000000   \n",
      "\n",
      "        day_of_week  \n",
      "count  48892.000000  \n",
      "mean       2.376156  \n",
      "std        1.689077  \n",
      "min        0.000000  \n",
      "25%        1.000000  \n",
      "50%        2.000000  \n",
      "75%        4.000000  \n",
      "max        6.000000  \n"
     ]
    }
   ],
   "source": [
    "# Descripción de variables numéricas\n",
    "print(telecom_df.describe())"
   ]
  },
  {
   "cell_type": "markdown",
   "id": "fa534c25",
   "metadata": {},
   "source": [
    "En la columna calls_count tenemos el 75% de los datos en 12 llamadas y un máximo de 4817, definitivamente esto es un valor muy atípico ¿Que habrá pasado aqui? ¿Será conveniente eliminarlo o dejarlo ahí? Puede que sean muchas llamadas perdidas y como son parte de la métrica, lo mejor sería dejarlo.\n",
    "\n",
    "Por otro lado, en las duraciones de llamadas y tiempo de espera, el 75% de los datos no se compara en absoluto con los máximos, tenemos muchísimos valores atípicos, lo que puede estar relacionado con operadores ineficientes (pocos pero con comportamientos fuera de lo normal)."
   ]
  },
  {
   "cell_type": "markdown",
   "id": "44b104de",
   "metadata": {},
   "source": [
    "**Distribución de cantidad de llamadas y tiempo en cada una**"
   ]
  },
  {
   "cell_type": "code",
   "execution_count": 135,
   "id": "c6ef1826",
   "metadata": {},
   "outputs": [
    {
     "data": {
      "image/png": "[encoded data removed]",
      "text/plain": [
       "<Figure size 1000x600 with 1 Axes>"
      ]
     },
     "metadata": {},
     "output_type": "display_data"
    }
   ],
   "source": [
    "# Seleccionamos las columnas que nos interesan\n",
    "cols = ['calls_count', 'avg_total_call_duration_per_call', 'avg_wait_time_per_call']\n",
    "\n",
    "# Creamos el boxplot\n",
    "plt.figure(figsize=(10, 6))\n",
    "sns.boxplot(data=telecom_df[cols], palette=\"Set3\")\n",
    "\n",
    "# Personalizamos\n",
    "plt.title(\"Distribución de cantidad de llamadas y tiempo en cada una\")\n",
    "plt.xlabel('Métricas')\n",
    "plt.ylabel('Valores')\n",
    "plt.ylim(0, telecom_df[cols].quantile(.95).max())\n",
    "\n",
    "plt.show()"
   ]
  },
  {
   "cell_type": "markdown",
   "id": "6d984458",
   "metadata": {},
   "source": [
    "Observación\n",
    "\n",
    "Efectivamente tenemos varios valores atípicos, sin embargo, dada la cantidad, podría pensarse que no fueron por errores de captura. En cantidad de llamadas totales por operador y por día, tenemos 4 puntos 'relevantes' dada su extremidad. El punto que más llama la atención es el que está por llegar a 5000 llamadas, ¿realmente esto es posible? Probablemente hayan sido llamadas perdidas y por eso se elevó el número.\n",
    "\n",
    "Por otro lado, el tiempo promedio de duración por llamada el valor máximo se acerca a 4000 segundos, es decir, al rededor de 60 minutos. Sin embargo, si nos fijamos en el tiempo de espera, no parece haber demasiados datos atípicos en comparación con los otros, lo que podría indicar que son pocos operadores los que dejan mucho tiempo de espera en las llamadas, así como los que duran más en las llamadas con los clientes."
   ]
  },
  {
   "cell_type": "markdown",
   "id": "3a502c02",
   "metadata": {},
   "source": [
    "**Distribución de llamadas entrantes y salientes por día de la semana**"
   ]
  },
  {
   "cell_type": "code",
   "execution_count": 136,
   "id": "e590bd3f",
   "metadata": {},
   "outputs": [
    {
     "name": "stdout",
     "output_type": "stream",
     "text": [
      "    day_of_week direction  calls_count\n",
      "0             0        in        34613\n",
      "1             0       out       105276\n",
      "2             1        in        37851\n",
      "3             1       out       113779\n",
      "4             2        in        33571\n",
      "5             2       out       109605\n",
      "6             3        in        35253\n",
      "7             3       out       113479\n",
      "8             4        in        30683\n",
      "9             4       out       101796\n",
      "10            5        in        15784\n",
      "11            5       out        37546\n",
      "12            6        in         9871\n",
      "13            6       out        27377\n"
     ]
    }
   ],
   "source": [
    "# LLamadas entrantes y salientes por día de la semana\n",
    "day_of_week_in_out_calls = telecom_df.groupby(['day_of_week','direction'], observed=False)['calls_count'].sum().reset_index()\n",
    "print(day_of_week_in_out_calls)"
   ]
  },
  {
   "cell_type": "code",
   "execution_count": 137,
   "id": "f14965b8",
   "metadata": {},
   "outputs": [
    {
     "data": {
      "application/vnd.plotly.v1+json": {
       "config": {
        "plotlyServerURL": "https://plot.ly"
       },
       "data": [
        {
         "alignmentgroup": "True",
         "hovertemplate": "direction=in<br>Día de la semana=%{x}<br>Cantidad de llamadas=%{text}<extra></extra>",
         "legendgroup": "in",
         "marker": {
          "color": "#636efa",
          "pattern": {
           "shape": ""
          }
         },
         "name": "in",
         "offsetgroup": "in",
         "orientation": "v",
         "showlegend": true,
         "text": [
          34613,
          37851,
          33571,
          35253,
          30683,
          15784,
          9871
         ],
         "textposition": "auto",
         "type": "bar",
         "x": [
          "Monday",
          "Tuesday",
          "Wednesday",
          "Thursday",
          "Friday",
          "Saturday",
          "Sunday"
         ],
         "xaxis": "x",
         "y": [
          34613,
          37851,
          33571,
          35253,
          30683,
          15784,
          9871
         ],
         "yaxis": "y"
        },
        {
         "alignmentgroup": "True",
         "hovertemplate": "direction=out<br>Día de la semana=%{x}<br>Cantidad de llamadas=%{text}<extra></extra>",
         "legendgroup": "out",
         "marker": {
          "color": "#EF553B",
          "pattern": {
           "shape": ""
          }
         },
         "name": "out",
         "offsetgroup": "out",
         "orientation": "v",
         "showlegend": true,
         "text": [
          105276,
          113779,
          109605,
          113479,
          101796,
          37546,
          27377
         ],
         "textposition": "auto",
         "type": "bar",
         "x": [
          "Monday",
          "Tuesday",
          "Wednesday",
          "Thursday",
          "Friday",
          "Saturday",
          "Sunday"
         ],
         "xaxis": "x",
         "y": [
          105276,
          113779,
          109605,
          113479,
          101796,
          37546,
          27377
         ],
         "yaxis": "y"
        }
       ],
       "layout": {
        "barmode": "group",
        "legend": {
         "title": {
          "text": "direction"
         },
         "tracegroupgap": 0
        },
        "template": {
         "data": {
          "bar": [
           {
            "error_x": {
             "color": "#2a3f5f"
            },
            "error_y": {
             "color": "#2a3f5f"
            },
            "marker": {
             "line": {
              "color": "#E5ECF6",
              "width": 0.5
             },
             "pattern": {
              "fillmode": "overlay",
              "size": 10,
              "solidity": 0.2
             }
            },
            "type": "bar"
           }
          ],
          "barpolar": [
           {
            "marker": {
             "line": {
              "color": "#E5ECF6",
              "width": 0.5
             },
             "pattern": {
              "fillmode": "overlay",
              "size": 10,
              "solidity": 0.2
             }
            },
            "type": "barpolar"
           }
          ],
          "carpet": [
           {
            "aaxis": {
             "endlinecolor": "#2a3f5f",
             "gridcolor": "white",
             "linecolor": "white",
             "minorgridcolor": "white",
             "startlinecolor": "#2a3f5f"
            },
            "baxis": {
             "endlinecolor": "#2a3f5f",
             "gridcolor": "white",
             "linecolor": "white",
             "minorgridcolor": "white",
             "startlinecolor": "#2a3f5f"
            },
            "type": "carpet"
           }
          ],
          "choropleth": [
           {
            "colorbar": {
             "outlinewidth": 0,
             "ticks": ""
            },
            "type": "choropleth"
           }
          ],
          "contour": [
           {
            "colorbar": {
             "outlinewidth": 0,
             "ticks": ""
            },
            "colorscale": [
             [
              0,
              "#0d0887"
             ],
             [
              0.1111111111111111,
              "#46039f"
             ],
             [
              0.2222222222222222,
              "#7201a8"
             ],
             [
              0.3333333333333333,
              "#9c179e"
             ],
             [
              0.4444444444444444,
              "#bd3786"
             ],
             [
              0.5555555555555556,
              "#d8576b"
             ],
             [
              0.6666666666666666,
              "#ed7953"
             ],
             [
              0.7777777777777778,
              "#fb9f3a"
             ],
             [
              0.8888888888888888,
              "#fdca26"
             ],
             [
              1,
              "#f0f921"
             ]
            ],
            "type": "contour"
           }
          ],
          "contourcarpet": [
           {
            "colorbar": {
             "outlinewidth": 0,
             "ticks": ""
            },
            "type": "contourcarpet"
           }
          ],
          "heatmap": [
           {
            "colorbar": {
             "outlinewidth": 0,
             "ticks": ""
            },
            "colorscale": [
             [
              0,
              "#0d0887"
             ],
             [
              0.1111111111111111,
              "#46039f"
             ],
             [
              0.2222222222222222,
              "#7201a8"
             ],
             [
              0.3333333333333333,
              "#9c179e"
             ],
             [
              0.4444444444444444,
              "#bd3786"
             ],
             [
              0.5555555555555556,
              "#d8576b"
             ],
             [
              0.6666666666666666,
              "#ed7953"
             ],
             [
              0.7777777777777778,
              "#fb9f3a"
             ],
             [
              0.8888888888888888,
              "#fdca26"
             ],
             [
              1,
              "#f0f921"
             ]
            ],
            "type": "heatmap"
           }
          ],
          "heatmapgl": [
           {
            "colorbar": {
             "outlinewidth": 0,
             "ticks": ""
            },
            "colorscale": [
             [
              0,
              "#0d0887"
             ],
             [
              0.1111111111111111,
              "#46039f"
             ],
             [
              0.2222222222222222,
              "#7201a8"
             ],
             [
              0.3333333333333333,
              "#9c179e"
             ],
             [
              0.4444444444444444,
              "#bd3786"
             ],
             [
              0.5555555555555556,
              "#d8576b"
             ],
             [
              0.6666666666666666,
              "#ed7953"
             ],
             [
              0.7777777777777778,
              "#fb9f3a"
             ],
             [
              0.8888888888888888,
              "#fdca26"
             ],
             [
              1,
              "#f0f921"
             ]
            ],
            "type": "heatmapgl"
           }
          ],
          "histogram": [
           {
            "marker": {
             "pattern": {
              "fillmode": "overlay",
              "size": 10,
              "solidity": 0.2
             }
            },
            "type": "histogram"
           }
          ],
          "histogram2d": [
           {
            "colorbar": {
             "outlinewidth": 0,
             "ticks": ""
            },
            "colorscale": [
             [
              0,
              "#0d0887"
             ],
             [
              0.1111111111111111,
              "#46039f"
             ],
             [
              0.2222222222222222,
              "#7201a8"
             ],
             [
              0.3333333333333333,
              "#9c179e"
             ],
             [
              0.4444444444444444,
              "#bd3786"
             ],
             [
              0.5555555555555556,
              "#d8576b"
             ],
             [
              0.6666666666666666,
              "#ed7953"
             ],
             [
              0.7777777777777778,
              "#fb9f3a"
             ],
             [
              0.8888888888888888,
              "#fdca26"
             ],
             [
              1,
              "#f0f921"
             ]
            ],
            "type": "histogram2d"
           }
          ],
          "histogram2dcontour": [
           {
            "colorbar": {
             "outlinewidth": 0,
             "ticks": ""
            },
            "colorscale": [
             [
              0,
              "#0d0887"
             ],
             [
              0.1111111111111111,
              "#46039f"
             ],
             [
              0.2222222222222222,
              "#7201a8"
             ],
             [
              0.3333333333333333,
              "#9c179e"
             ],
             [
              0.4444444444444444,
              "#bd3786"
             ],
             [
              0.5555555555555556,
              "#d8576b"
             ],
             [
              0.6666666666666666,
              "#ed7953"
             ],
             [
              0.7777777777777778,
              "#fb9f3a"
             ],
             [
              0.8888888888888888,
              "#fdca26"
             ],
             [
              1,
              "#f0f921"
             ]
            ],
            "type": "histogram2dcontour"
           }
          ],
          "mesh3d": [
           {
            "colorbar": {
             "outlinewidth": 0,
             "ticks": ""
            },
            "type": "mesh3d"
           }
          ],
          "parcoords": [
           {
            "line": {
             "colorbar": {
              "outlinewidth": 0,
              "ticks": ""
             }
            },
            "type": "parcoords"
           }
          ],
          "pie": [
           {
            "automargin": true,
            "type": "pie"
           }
          ],
          "scatter": [
           {
            "fillpattern": {
             "fillmode": "overlay",
             "size": 10,
             "solidity": 0.2
            },
            "type": "scatter"
           }
          ],
          "scatter3d": [
           {
            "line": {
             "colorbar": {
              "outlinewidth": 0,
              "ticks": ""
             }
            },
            "marker": {
             "colorbar": {
              "outlinewidth": 0,
              "ticks": ""
             }
            },
            "type": "scatter3d"
           }
          ],
          "scattercarpet": [
           {
            "marker": {
             "colorbar": {
              "outlinewidth": 0,
              "ticks": ""
             }
            },
            "type": "scattercarpet"
           }
          ],
          "scattergeo": [
           {
            "marker": {
             "colorbar": {
              "outlinewidth": 0,
              "ticks": ""
             }
            },
            "type": "scattergeo"
           }
          ],
          "scattergl": [
           {
            "marker": {
             "colorbar": {
              "outlinewidth": 0,
              "ticks": ""
             }
            },
            "type": "scattergl"
           }
          ],
          "scattermapbox": [
           {
            "marker": {
             "colorbar": {
              "outlinewidth": 0,
              "ticks": ""
             }
            },
            "type": "scattermapbox"
           }
          ],
          "scatterpolar": [
           {
            "marker": {
             "colorbar": {
              "outlinewidth": 0,
              "ticks": ""
             }
            },
            "type": "scatterpolar"
           }
          ],
          "scatterpolargl": [
           {
            "marker": {
             "colorbar": {
              "outlinewidth": 0,
              "ticks": ""
             }
            },
            "type": "scatterpolargl"
           }
          ],
          "scatterternary": [
           {
            "marker": {
             "colorbar": {
              "outlinewidth": 0,
              "ticks": ""
             }
            },
            "type": "scatterternary"
           }
          ],
          "surface": [
           {
            "colorbar": {
             "outlinewidth": 0,
             "ticks": ""
            },
            "colorscale": [
             [
              0,
              "#0d0887"
             ],
             [
              0.1111111111111111,
              "#46039f"
             ],
             [
              0.2222222222222222,
              "#7201a8"
             ],
             [
              0.3333333333333333,
              "#9c179e"
             ],
             [
              0.4444444444444444,
              "#bd3786"
             ],
             [
              0.5555555555555556,
              "#d8576b"
             ],
             [
              0.6666666666666666,
              "#ed7953"
             ],
             [
              0.7777777777777778,
              "#fb9f3a"
             ],
             [
              0.8888888888888888,
              "#fdca26"
             ],
             [
              1,
              "#f0f921"
             ]
            ],
            "type": "surface"
           }
          ],
          "table": [
           {
            "cells": {
             "fill": {
              "color": "#EBF0F8"
             },
             "line": {
              "color": "white"
             }
            },
            "header": {
             "fill": {
              "color": "#C8D4E3"
             },
             "line": {
              "color": "white"
             }
            },
            "type": "table"
           }
          ]
         },
         "layout": {
          "annotationdefaults": {
           "arrowcolor": "#2a3f5f",
           "arrowhead": 0,
           "arrowwidth": 1
          },
          "autotypenumbers": "strict",
          "coloraxis": {
           "colorbar": {
            "outlinewidth": 0,
            "ticks": ""
           }
          },
          "colorscale": {
           "diverging": [
            [
             0,
             "#8e0152"
            ],
            [
             0.1,
             "#c51b7d"
            ],
            [
             0.2,
             "#de77ae"
            ],
            [
             0.3,
             "#f1b6da"
            ],
            [
             0.4,
             "#fde0ef"
            ],
            [
             0.5,
             "#f7f7f7"
            ],
            [
             0.6,
             "#e6f5d0"
            ],
            [
             0.7,
             "#b8e186"
            ],
            [
             0.8,
             "#7fbc41"
            ],
            [
             0.9,
             "#4d9221"
            ],
            [
             1,
             "#276419"
            ]
           ],
           "sequential": [
            [
             0,
             "#0d0887"
            ],
            [
             0.1111111111111111,
             "#46039f"
            ],
            [
             0.2222222222222222,
             "#7201a8"
            ],
            [
             0.3333333333333333,
             "#9c179e"
            ],
            [
             0.4444444444444444,
             "#bd3786"
            ],
            [
             0.5555555555555556,
             "#d8576b"
            ],
            [
             0.6666666666666666,
             "#ed7953"
            ],
            [
             0.7777777777777778,
             "#fb9f3a"
            ],
            [
             0.8888888888888888,
             "#fdca26"
            ],
            [
             1,
             "#f0f921"
            ]
           ],
           "sequentialminus": [
            [
             0,
             "#0d0887"
            ],
            [
             0.1111111111111111,
             "#46039f"
            ],
            [
             0.2222222222222222,
             "#7201a8"
            ],
            [
             0.3333333333333333,
             "#9c179e"
            ],
            [
             0.4444444444444444,
             "#bd3786"
            ],
            [
             0.5555555555555556,
             "#d8576b"
            ],
            [
             0.6666666666666666,
             "#ed7953"
            ],
            [
             0.7777777777777778,
             "#fb9f3a"
            ],
            [
             0.8888888888888888,
             "#fdca26"
            ],
            [
             1,
             "#f0f921"
            ]
           ]
          },
          "colorway": [
           "#636efa",
           "#EF553B",
           "#00cc96",
           "#ab63fa",
           "#FFA15A",
           "#19d3f3",
           "#FF6692",
           "#B6E880",
           "#FF97FF",
           "#FECB52"
          ],
          "font": {
           "color": "#2a3f5f"
          },
          "geo": {
           "bgcolor": "white",
           "lakecolor": "white",
           "landcolor": "#E5ECF6",
           "showlakes": true,
           "showland": true,
           "subunitcolor": "white"
          },
          "hoverlabel": {
           "align": "left"
          },
          "hovermode": "closest",
          "mapbox": {
           "style": "light"
          },
          "paper_bgcolor": "white",
          "plot_bgcolor": "#E5ECF6",
          "polar": {
           "angularaxis": {
            "gridcolor": "white",
            "linecolor": "white",
            "ticks": ""
           },
           "bgcolor": "#E5ECF6",
           "radialaxis": {
            "gridcolor": "white",
            "linecolor": "white",
            "ticks": ""
           }
          },
          "scene": {
           "xaxis": {
            "backgroundcolor": "#E5ECF6",
            "gridcolor": "white",
            "gridwidth": 2,
            "linecolor": "white",
            "showbackground": true,
            "ticks": "",
            "zerolinecolor": "white"
           },
           "yaxis": {
            "backgroundcolor": "#E5ECF6",
            "gridcolor": "white",
            "gridwidth": 2,
            "linecolor": "white",
            "showbackground": true,
            "ticks": "",
            "zerolinecolor": "white"
           },
           "zaxis": {
            "backgroundcolor": "#E5ECF6",
            "gridcolor": "white",
            "gridwidth": 2,
            "linecolor": "white",
            "showbackground": true,
            "ticks": "",
            "zerolinecolor": "white"
           }
          },
          "shapedefaults": {
           "line": {
            "color": "#2a3f5f"
           }
          },
          "ternary": {
           "aaxis": {
            "gridcolor": "white",
            "linecolor": "white",
            "ticks": ""
           },
           "baxis": {
            "gridcolor": "white",
            "linecolor": "white",
            "ticks": ""
           },
           "bgcolor": "#E5ECF6",
           "caxis": {
            "gridcolor": "white",
            "linecolor": "white",
            "ticks": ""
           }
          },
          "title": {
           "x": 0.05
          },
          "xaxis": {
           "automargin": true,
           "gridcolor": "white",
           "linecolor": "white",
           "ticks": "",
           "title": {
            "standoff": 15
           },
           "zerolinecolor": "white",
           "zerolinewidth": 2
          },
          "yaxis": {
           "automargin": true,
           "gridcolor": "white",
           "linecolor": "white",
           "ticks": "",
           "title": {
            "standoff": 15
           },
           "zerolinecolor": "white",
           "zerolinewidth": 2
          }
         }
        },
        "title": {
         "text": "Cantidad de llamadas por día de la semana"
        },
        "xaxis": {
         "anchor": "y",
         "domain": [
          0,
          1
         ],
         "title": {
          "text": "Día de la semana"
         }
        },
        "yaxis": {
         "anchor": "x",
         "domain": [
          0,
          1
         ],
         "title": {
          "text": "Cantidad de llamadas"
         }
        }
       }
      },
      "text/html": [
       "<div>                            <div id=\"54d1613b-b31a-4435-a952-ac5d8154972c\" class=\"plotly-graph-div\" style=\"height:525px; width:100%;\"></div>            <script type=\"text/javascript\">                require([\"plotly\"], function(Plotly) {                    window.PLOTLYENV=window.PLOTLYENV || {};                                    if (document.getElementById(\"54d1613b-b31a-4435-a952-ac5d8154972c\")) {                    Plotly.newPlot(                        \"54d1613b-b31a-4435-a952-ac5d8154972c\",                        [{\"alignmentgroup\":\"True\",\"hovertemplate\":\"direction=in\\u003cbr\\u003eD\\u00eda de la semana=%{x}\\u003cbr\\u003eCantidad de llamadas=%{text}\\u003cextra\\u003e\\u003c\\u002fextra\\u003e\",\"legendgroup\":\"in\",\"marker\":{\"color\":\"#636efa\",\"pattern\":{\"shape\":\"\"}},\"name\":\"in\",\"offsetgroup\":\"in\",\"orientation\":\"v\",\"showlegend\":true,\"text\":[34613.0,37851.0,33571.0,35253.0,30683.0,15784.0,9871.0],\"textposition\":\"auto\",\"x\":[\"Monday\",\"Tuesday\",\"Wednesday\",\"Thursday\",\"Friday\",\"Saturday\",\"Sunday\"],\"xaxis\":\"x\",\"y\":[34613,37851,33571,35253,30683,15784,9871],\"yaxis\":\"y\",\"type\":\"bar\"},{\"alignmentgroup\":\"True\",\"hovertemplate\":\"direction=out\\u003cbr\\u003eD\\u00eda de la semana=%{x}\\u003cbr\\u003eCantidad de llamadas=%{text}\\u003cextra\\u003e\\u003c\\u002fextra\\u003e\",\"legendgroup\":\"out\",\"marker\":{\"color\":\"#EF553B\",\"pattern\":{\"shape\":\"\"}},\"name\":\"out\",\"offsetgroup\":\"out\",\"orientation\":\"v\",\"showlegend\":true,\"text\":[105276.0,113779.0,109605.0,113479.0,101796.0,37546.0,27377.0],\"textposition\":\"auto\",\"x\":[\"Monday\",\"Tuesday\",\"Wednesday\",\"Thursday\",\"Friday\",\"Saturday\",\"Sunday\"],\"xaxis\":\"x\",\"y\":[105276,113779,109605,113479,101796,37546,27377],\"yaxis\":\"y\",\"type\":\"bar\"}],                        {\"template\":{\"data\":{\"histogram2dcontour\":[{\"type\":\"histogram2dcontour\",\"colorbar\":{\"outlinewidth\":0,\"ticks\":\"\"},\"colorscale\":[[0.0,\"#0d0887\"],[0.1111111111111111,\"#46039f\"],[0.2222222222222222,\"#7201a8\"],[0.3333333333333333,\"#9c179e\"],[0.4444444444444444,\"#bd3786\"],[0.5555555555555556,\"#d8576b\"],[0.6666666666666666,\"#ed7953\"],[0.7777777777777778,\"#fb9f3a\"],[0.8888888888888888,\"#fdca26\"],[1.0,\"#f0f921\"]]}],\"choropleth\":[{\"type\":\"choropleth\",\"colorbar\":{\"outlinewidth\":0,\"ticks\":\"\"}}],\"histogram2d\":[{\"type\":\"histogram2d\",\"colorbar\":{\"outlinewidth\":0,\"ticks\":\"\"},\"colorscale\":[[0.0,\"#0d0887\"],[0.1111111111111111,\"#46039f\"],[0.2222222222222222,\"#7201a8\"],[0.3333333333333333,\"#9c179e\"],[0.4444444444444444,\"#bd3786\"],[0.5555555555555556,\"#d8576b\"],[0.6666666666666666,\"#ed7953\"],[0.7777777777777778,\"#fb9f3a\"],[0.8888888888888888,\"#fdca26\"],[1.0,\"#f0f921\"]]}],\"heatmap\":[{\"type\":\"heatmap\",\"colorbar\":{\"outlinewidth\":0,\"ticks\":\"\"},\"colorscale\":[[0.0,\"#0d0887\"],[0.1111111111111111,\"#46039f\"],[0.2222222222222222,\"#7201a8\"],[0.3333333333333333,\"#9c179e\"],[0.4444444444444444,\"#bd3786\"],[0.5555555555555556,\"#d8576b\"],[0.6666666666666666,\"#ed7953\"],[0.7777777777777778,\"#fb9f3a\"],[0.8888888888888888,\"#fdca26\"],[1.0,\"#f0f921\"]]}],\"heatmapgl\":[{\"type\":\"heatmapgl\",\"colorbar\":{\"outlinewidth\":0,\"ticks\":\"\"},\"colorscale\":[[0.0,\"#0d0887\"],[0.1111111111111111,\"#46039f\"],[0.2222222222222222,\"#7201a8\"],[0.3333333333333333,\"#9c179e\"],[0.4444444444444444,\"#bd3786\"],[0.5555555555555556,\"#d8576b\"],[0.6666666666666666,\"#ed7953\"],[0.7777777777777778,\"#fb9f3a\"],[0.8888888888888888,\"#fdca26\"],[1.0,\"#f0f921\"]]}],\"contourcarpet\":[{\"type\":\"contourcarpet\",\"colorbar\":{\"outlinewidth\":0,\"ticks\":\"\"}}],\"contour\":[{\"type\":\"contour\",\"colorbar\":{\"outlinewidth\":0,\"ticks\":\"\"},\"colorscale\":[[0.0,\"#0d0887\"],[0.1111111111111111,\"#46039f\"],[0.2222222222222222,\"#7201a8\"],[0.3333333333333333,\"#9c179e\"],[0.4444444444444444,\"#bd3786\"],[0.5555555555555556,\"#d8576b\"],[0.6666666666666666,\"#ed7953\"],[0.7777777777777778,\"#fb9f3a\"],[0.8888888888888888,\"#fdca26\"],[1.0,\"#f0f921\"]]}],\"surface\":[{\"type\":\"surface\",\"colorbar\":{\"outlinewidth\":0,\"ticks\":\"\"},\"colorscale\":[[0.0,\"#0d0887\"],[0.1111111111111111,\"#46039f\"],[0.2222222222222222,\"#7201a8\"],[0.3333333333333333,\"#9c179e\"],[0.4444444444444444,\"#bd3786\"],[0.5555555555555556,\"#d8576b\"],[0.6666666666666666,\"#ed7953\"],[0.7777777777777778,\"#fb9f3a\"],[0.8888888888888888,\"#fdca26\"],[1.0,\"#f0f921\"]]}],\"mesh3d\":[{\"type\":\"mesh3d\",\"colorbar\":{\"outlinewidth\":0,\"ticks\":\"\"}}],\"scatter\":[{\"fillpattern\":{\"fillmode\":\"overlay\",\"size\":10,\"solidity\":0.2},\"type\":\"scatter\"}],\"parcoords\":[{\"type\":\"parcoords\",\"line\":{\"colorbar\":{\"outlinewidth\":0,\"ticks\":\"\"}}}],\"scatterpolargl\":[{\"type\":\"scatterpolargl\",\"marker\":{\"colorbar\":{\"outlinewidth\":0,\"ticks\":\"\"}}}],\"bar\":[{\"error_x\":{\"color\":\"#2a3f5f\"},\"error_y\":{\"color\":\"#2a3f5f\"},\"marker\":{\"line\":{\"color\":\"#E5ECF6\",\"width\":0.5},\"pattern\":{\"fillmode\":\"overlay\",\"size\":10,\"solidity\":0.2}},\"type\":\"bar\"}],\"scattergeo\":[{\"type\":\"scattergeo\",\"marker\":{\"colorbar\":{\"outlinewidth\":0,\"ticks\":\"\"}}}],\"scatterpolar\":[{\"type\":\"scatterpolar\",\"marker\":{\"colorbar\":{\"outlinewidth\":0,\"ticks\":\"\"}}}],\"histogram\":[{\"marker\":{\"pattern\":{\"fillmode\":\"overlay\",\"size\":10,\"solidity\":0.2}},\"type\":\"histogram\"}],\"scattergl\":[{\"type\":\"scattergl\",\"marker\":{\"colorbar\":{\"outlinewidth\":0,\"ticks\":\"\"}}}],\"scatter3d\":[{\"type\":\"scatter3d\",\"line\":{\"colorbar\":{\"outlinewidth\":0,\"ticks\":\"\"}},\"marker\":{\"colorbar\":{\"outlinewidth\":0,\"ticks\":\"\"}}}],\"scattermapbox\":[{\"type\":\"scattermapbox\",\"marker\":{\"colorbar\":{\"outlinewidth\":0,\"ticks\":\"\"}}}],\"scatterternary\":[{\"type\":\"scatterternary\",\"marker\":{\"colorbar\":{\"outlinewidth\":0,\"ticks\":\"\"}}}],\"scattercarpet\":[{\"type\":\"scattercarpet\",\"marker\":{\"colorbar\":{\"outlinewidth\":0,\"ticks\":\"\"}}}],\"carpet\":[{\"aaxis\":{\"endlinecolor\":\"#2a3f5f\",\"gridcolor\":\"white\",\"linecolor\":\"white\",\"minorgridcolor\":\"white\",\"startlinecolor\":\"#2a3f5f\"},\"baxis\":{\"endlinecolor\":\"#2a3f5f\",\"gridcolor\":\"white\",\"linecolor\":\"white\",\"minorgridcolor\":\"white\",\"startlinecolor\":\"#2a3f5f\"},\"type\":\"carpet\"}],\"table\":[{\"cells\":{\"fill\":{\"color\":\"#EBF0F8\"},\"line\":{\"color\":\"white\"}},\"header\":{\"fill\":{\"color\":\"#C8D4E3\"},\"line\":{\"color\":\"white\"}},\"type\":\"table\"}],\"barpolar\":[{\"marker\":{\"line\":{\"color\":\"#E5ECF6\",\"width\":0.5},\"pattern\":{\"fillmode\":\"overlay\",\"size\":10,\"solidity\":0.2}},\"type\":\"barpolar\"}],\"pie\":[{\"automargin\":true,\"type\":\"pie\"}]},\"layout\":{\"autotypenumbers\":\"strict\",\"colorway\":[\"#636efa\",\"#EF553B\",\"#00cc96\",\"#ab63fa\",\"#FFA15A\",\"#19d3f3\",\"#FF6692\",\"#B6E880\",\"#FF97FF\",\"#FECB52\"],\"font\":{\"color\":\"#2a3f5f\"},\"hovermode\":\"closest\",\"hoverlabel\":{\"align\":\"left\"},\"paper_bgcolor\":\"white\",\"plot_bgcolor\":\"#E5ECF6\",\"polar\":{\"bgcolor\":\"#E5ECF6\",\"angularaxis\":{\"gridcolor\":\"white\",\"linecolor\":\"white\",\"ticks\":\"\"},\"radialaxis\":{\"gridcolor\":\"white\",\"linecolor\":\"white\",\"ticks\":\"\"}},\"ternary\":{\"bgcolor\":\"#E5ECF6\",\"aaxis\":{\"gridcolor\":\"white\",\"linecolor\":\"white\",\"ticks\":\"\"},\"baxis\":{\"gridcolor\":\"white\",\"linecolor\":\"white\",\"ticks\":\"\"},\"caxis\":{\"gridcolor\":\"white\",\"linecolor\":\"white\",\"ticks\":\"\"}},\"coloraxis\":{\"colorbar\":{\"outlinewidth\":0,\"ticks\":\"\"}},\"colorscale\":{\"sequential\":[[0.0,\"#0d0887\"],[0.1111111111111111,\"#46039f\"],[0.2222222222222222,\"#7201a8\"],[0.3333333333333333,\"#9c179e\"],[0.4444444444444444,\"#bd3786\"],[0.5555555555555556,\"#d8576b\"],[0.6666666666666666,\"#ed7953\"],[0.7777777777777778,\"#fb9f3a\"],[0.8888888888888888,\"#fdca26\"],[1.0,\"#f0f921\"]],\"sequentialminus\":[[0.0,\"#0d0887\"],[0.1111111111111111,\"#46039f\"],[0.2222222222222222,\"#7201a8\"],[0.3333333333333333,\"#9c179e\"],[0.4444444444444444,\"#bd3786\"],[0.5555555555555556,\"#d8576b\"],[0.6666666666666666,\"#ed7953\"],[0.7777777777777778,\"#fb9f3a\"],[0.8888888888888888,\"#fdca26\"],[1.0,\"#f0f921\"]],\"diverging\":[[0,\"#8e0152\"],[0.1,\"#c51b7d\"],[0.2,\"#de77ae\"],[0.3,\"#f1b6da\"],[0.4,\"#fde0ef\"],[0.5,\"#f7f7f7\"],[0.6,\"#e6f5d0\"],[0.7,\"#b8e186\"],[0.8,\"#7fbc41\"],[0.9,\"#4d9221\"],[1,\"#276419\"]]},\"xaxis\":{\"gridcolor\":\"white\",\"linecolor\":\"white\",\"ticks\":\"\",\"title\":{\"standoff\":15},\"zerolinecolor\":\"white\",\"automargin\":true,\"zerolinewidth\":2},\"yaxis\":{\"gridcolor\":\"white\",\"linecolor\":\"white\",\"ticks\":\"\",\"title\":{\"standoff\":15},\"zerolinecolor\":\"white\",\"automargin\":true,\"zerolinewidth\":2},\"scene\":{\"xaxis\":{\"backgroundcolor\":\"#E5ECF6\",\"gridcolor\":\"white\",\"linecolor\":\"white\",\"showbackground\":true,\"ticks\":\"\",\"zerolinecolor\":\"white\",\"gridwidth\":2},\"yaxis\":{\"backgroundcolor\":\"#E5ECF6\",\"gridcolor\":\"white\",\"linecolor\":\"white\",\"showbackground\":true,\"ticks\":\"\",\"zerolinecolor\":\"white\",\"gridwidth\":2},\"zaxis\":{\"backgroundcolor\":\"#E5ECF6\",\"gridcolor\":\"white\",\"linecolor\":\"white\",\"showbackground\":true,\"ticks\":\"\",\"zerolinecolor\":\"white\",\"gridwidth\":2}},\"shapedefaults\":{\"line\":{\"color\":\"#2a3f5f\"}},\"annotationdefaults\":{\"arrowcolor\":\"#2a3f5f\",\"arrowhead\":0,\"arrowwidth\":1},\"geo\":{\"bgcolor\":\"white\",\"landcolor\":\"#E5ECF6\",\"subunitcolor\":\"white\",\"showland\":true,\"showlakes\":true,\"lakecolor\":\"white\"},\"title\":{\"x\":0.05},\"mapbox\":{\"style\":\"light\"}}},\"xaxis\":{\"anchor\":\"y\",\"domain\":[0.0,1.0],\"title\":{\"text\":\"D\\u00eda de la semana\"}},\"yaxis\":{\"anchor\":\"x\",\"domain\":[0.0,1.0],\"title\":{\"text\":\"Cantidad de llamadas\"}},\"legend\":{\"title\":{\"text\":\"direction\"},\"tracegroupgap\":0},\"title\":{\"text\":\"Cantidad de llamadas por d\\u00eda de la semana\"},\"barmode\":\"group\"},                        {\"responsive\": true}                    ).then(function(){\n",
       "                            \n",
       "var gd = document.getElementById('54d1613b-b31a-4435-a952-ac5d8154972c');\n",
       "var x = new MutationObserver(function (mutations, observer) {{\n",
       "        var display = window.getComputedStyle(gd).display;\n",
       "        if (!display || display === 'none') {{\n",
       "            console.log([gd, 'removed!']);\n",
       "            Plotly.purge(gd);\n",
       "            observer.disconnect();\n",
       "        }}\n",
       "}});\n",
       "\n",
       "// Listen for the removal of the full notebook cells\n",
       "var notebookContainer = gd.closest('#notebook-container');\n",
       "if (notebookContainer) {{\n",
       "    x.observe(notebookContainer, {childList: true});\n",
       "}}\n",
       "\n",
       "// Listen for the clearing of the current output cell\n",
       "var outputEl = gd.closest('.output');\n",
       "if (outputEl) {{\n",
       "    x.observe(outputEl, {childList: true});\n",
       "}}\n",
       "\n",
       "                        })                };                });            </script>        </div>"
      ]
     },
     "metadata": {},
     "output_type": "display_data"
    }
   ],
   "source": [
    "# Como vamos a visualizar datos respecto al día de la semana, para que sea más explícito y entendible, cambiaremos los números de la semana con su respectivo nombre\n",
    "day_order = ['Monday', 'Tuesday', 'Wednesday', 'Thursday', 'Friday', 'Saturday', 'Sunday']\n",
    "\n",
    "day_of_week_in_out_calls['day_of_week'] = day_of_week_in_out_calls['day_of_week'].map({\n",
    "    0: 'Monday', 1: 'Tuesday', 2: 'Wednesday', 3: 'Thursday',\n",
    "    4: 'Friday', 5: 'Saturday', 6: 'Sunday'\n",
    "})\n",
    "\n",
    "# Convertimos a categórico y orenamos\n",
    "day_of_week_in_out_calls['day_of_week'] = pd.Categorical(day_of_week_in_out_calls['day_of_week'], categories=day_order, ordered=True)\n",
    "\n",
    "# Graficamos\n",
    "fig = px.bar(day_of_week_in_out_calls, \n",
    "             x='day_of_week', \n",
    "             y='calls_count', \n",
    "             color='direction', \n",
    "             barmode='group',\n",
    "             text='calls_count',\n",
    "             title='Cantidad de llamadas por día de la semana',\n",
    "             labels={'day_of_week': 'Día de la semana', 'calls_count': 'Cantidad de llamadas'},)\n",
    "\n",
    "fig.show()"
   ]
  },
  {
   "cell_type": "markdown",
   "id": "72545ffa",
   "metadata": {},
   "source": [
    "El comportamiento es muy constante tanto para las llamadas entrantes como las salientes. No parece haber diferencia significativa en los días, por lo que indica que la carga laboral está bien distribuida durante la semana."
   ]
  },
  {
   "cell_type": "markdown",
   "id": "9891e828",
   "metadata": {},
   "source": [
    "#### **Regla de Clasificación por Ineficiencia**\n",
    "\n",
    "Para clasificar a los operadores por ineficiente o eficiente, aplicaremos la siguiente regla:\n",
    "\n",
    "    Si el resultado de la métrica por operador, rebasa el límite máximo del diagrama de bigotes, es decir, cuando pasa a ser outlier, se considerará como ineficiente. De igual forma, para caso contrario."
   ]
  },
  {
   "cell_type": "markdown",
   "id": "1a218b14",
   "metadata": {},
   "source": [
    "#### **Llamadas entrantes**"
   ]
  },
  {
   "cell_type": "code",
   "execution_count": 138,
   "id": "7145fec3",
   "metadata": {},
   "outputs": [
    {
     "data": {
      "application/vnd.microsoft.datawrangler.viewer.v0+json": {
       "columns": [
        {
         "name": "index",
         "rawType": "int64",
         "type": "integer"
        },
        {
         "name": "user_id",
         "rawType": "int64",
         "type": "integer"
        },
        {
         "name": "date",
         "rawType": "datetime64[ns, UTC+03:00]",
         "type": "unknown"
        },
        {
         "name": "direction",
         "rawType": "category",
         "type": "unknown"
        },
        {
         "name": "internal",
         "rawType": "int64",
         "type": "integer"
        },
        {
         "name": "operator_id",
         "rawType": "int64",
         "type": "integer"
        },
        {
         "name": "is_missed_call",
         "rawType": "int64",
         "type": "integer"
        },
        {
         "name": "calls_count",
         "rawType": "int64",
         "type": "integer"
        },
        {
         "name": "call_duration",
         "rawType": "int64",
         "type": "integer"
        },
        {
         "name": "total_call_duration",
         "rawType": "int64",
         "type": "integer"
        },
        {
         "name": "wait_time",
         "rawType": "int64",
         "type": "integer"
        },
        {
         "name": "avg_call_duration_per_call",
         "rawType": "float64",
         "type": "float"
        },
        {
         "name": "avg_total_call_duration_per_call",
         "rawType": "float64",
         "type": "float"
        },
        {
         "name": "avg_wait_time_per_call",
         "rawType": "float64",
         "type": "float"
        },
        {
         "name": "year",
         "rawType": "int32",
         "type": "integer"
        },
        {
         "name": "month",
         "rawType": "int32",
         "type": "integer"
        },
        {
         "name": "day",
         "rawType": "int32",
         "type": "integer"
        },
        {
         "name": "day_of_week",
         "rawType": "int32",
         "type": "integer"
        }
       ],
       "conversionMethod": "pd.DataFrame",
       "ref": "da41360a-5926-4ba0-8d6f-8fd582c83098",
       "rows": [
        [
         "0",
         "166377",
         "2019-08-04 00:00:00+03:00",
         "in",
         "0",
         "0",
         "1",
         "2",
         "0",
         "4",
         "4",
         "0.0",
         "2.0",
         "2.0",
         "2019",
         "8",
         "4",
         "6"
        ],
        [
         "7",
         "166377",
         "2019-08-05 00:00:00+03:00",
         "in",
         "0",
         "0",
         "1",
         "6",
         "0",
         "35",
         "35",
         "0.0",
         "5.833333333333333",
         "5.833333333333333",
         "2019",
         "8",
         "5",
         "0"
        ],
        [
         "9",
         "166377",
         "2019-08-06 00:00:00+03:00",
         "in",
         "0",
         "0",
         "1",
         "4",
         "0",
         "62",
         "62",
         "0.0",
         "15.5",
         "15.5",
         "2019",
         "8",
         "6",
         "1"
        ],
        [
         "17",
         "166377",
         "2019-08-07 00:00:00+03:00",
         "in",
         "0",
         "0",
         "1",
         "2",
         "0",
         "24",
         "24",
         "0.0",
         "12.0",
         "12.0",
         "2019",
         "8",
         "7",
         "2"
        ],
        [
         "26",
         "166377",
         "2019-08-12 00:00:00+03:00",
         "in",
         "0",
         "880028",
         "0",
         "1",
         "407",
         "411",
         "4",
         "407.0",
         "411.0",
         "4.0",
         "2019",
         "8",
         "12",
         "0"
        ],
        [
         "27",
         "166377",
         "2019-08-12 00:00:00+03:00",
         "in",
         "0",
         "0",
         "1",
         "2",
         "0",
         "34",
         "34",
         "0.0",
         "17.0",
         "17.0",
         "2019",
         "8",
         "12",
         "0"
        ],
        [
         "30",
         "166377",
         "2019-08-13 00:00:00+03:00",
         "in",
         "0",
         "0",
         "1",
         "7",
         "0",
         "128",
         "128",
         "0.0",
         "18.285714285714285",
         "18.285714285714285",
         "2019",
         "8",
         "13",
         "1"
        ],
        [
         "34",
         "166377",
         "2019-08-13 00:00:00+03:00",
         "in",
         "0",
         "880028",
         "0",
         "1",
         "88",
         "102",
         "14",
         "88.0",
         "102.0",
         "14.0",
         "2019",
         "8",
         "13",
         "1"
        ],
        [
         "37",
         "166377",
         "2019-08-14 00:00:00+03:00",
         "in",
         "0",
         "880026",
         "0",
         "2",
         "197",
         "218",
         "21",
         "98.5",
         "109.0",
         "10.5",
         "2019",
         "8",
         "14",
         "2"
        ],
        [
         "38",
         "166377",
         "2019-08-14 00:00:00+03:00",
         "in",
         "0",
         "0",
         "1",
         "1",
         "0",
         "3",
         "3",
         "0.0",
         "3.0",
         "3.0",
         "2019",
         "8",
         "14",
         "2"
        ],
        [
         "39",
         "166377",
         "2019-08-14 00:00:00+03:00",
         "in",
         "0",
         "880028",
         "0",
         "1",
         "33",
         "37",
         "4",
         "33.0",
         "37.0",
         "4.0",
         "2019",
         "8",
         "14",
         "2"
        ],
        [
         "49",
         "166377",
         "2019-08-15 00:00:00+03:00",
         "in",
         "0",
         "880028",
         "0",
         "1",
         "23",
         "27",
         "4",
         "23.0",
         "27.0",
         "4.0",
         "2019",
         "8",
         "15",
         "3"
        ],
        [
         "60",
         "166377",
         "2019-08-19 00:00:00+03:00",
         "in",
         "0",
         "880028",
         "0",
         "1",
         "21",
         "39",
         "18",
         "21.0",
         "39.0",
         "18.0",
         "2019",
         "8",
         "19",
         "0"
        ],
        [
         "66",
         "166377",
         "2019-08-20 00:00:00+03:00",
         "in",
         "0",
         "880028",
         "0",
         "1",
         "30",
         "33",
         "3",
         "30.0",
         "33.0",
         "3.0",
         "2019",
         "8",
         "20",
         "1"
        ],
        [
         "76",
         "166377",
         "2019-08-22 00:00:00+03:00",
         "in",
         "0",
         "880020",
         "0",
         "1",
         "33",
         "49",
         "16",
         "33.0",
         "49.0",
         "16.0",
         "2019",
         "8",
         "22",
         "3"
        ],
        [
         "77",
         "166377",
         "2019-08-22 00:00:00+03:00",
         "in",
         "0",
         "0",
         "1",
         "1",
         "0",
         "1",
         "1",
         "0.0",
         "1.0",
         "1.0",
         "2019",
         "8",
         "22",
         "3"
        ],
        [
         "79",
         "166377",
         "2019-08-23 00:00:00+03:00",
         "in",
         "0",
         "880026",
         "0",
         "1",
         "45",
         "52",
         "7",
         "45.0",
         "52.0",
         "7.0",
         "2019",
         "8",
         "23",
         "4"
        ],
        [
         "81",
         "166377",
         "2019-08-23 00:00:00+03:00",
         "in",
         "0",
         "0",
         "1",
         "2",
         "0",
         "47",
         "47",
         "0.0",
         "23.5",
         "23.5",
         "2019",
         "8",
         "23",
         "4"
        ],
        [
         "82",
         "166377",
         "2019-08-23 00:00:00+03:00",
         "in",
         "0",
         "880028",
         "0",
         "1",
         "41",
         "54",
         "13",
         "41.0",
         "54.0",
         "13.0",
         "2019",
         "8",
         "23",
         "4"
        ],
        [
         "88",
         "166377",
         "2019-08-24 00:00:00+03:00",
         "in",
         "0",
         "0",
         "1",
         "2",
         "0",
         "35",
         "35",
         "0.0",
         "17.5",
         "17.5",
         "2019",
         "8",
         "24",
         "5"
        ],
        [
         "90",
         "166377",
         "2019-08-26 00:00:00+03:00",
         "in",
         "0",
         "880028",
         "0",
         "2",
         "285",
         "302",
         "17",
         "142.5",
         "151.0",
         "8.5",
         "2019",
         "8",
         "26",
         "0"
        ],
        [
         "106",
         "166377",
         "2019-08-29 00:00:00+03:00",
         "in",
         "0",
         "880026",
         "0",
         "1",
         "48",
         "52",
         "4",
         "48.0",
         "52.0",
         "4.0",
         "2019",
         "8",
         "29",
         "3"
        ],
        [
         "109",
         "166377",
         "2019-08-29 00:00:00+03:00",
         "in",
         "0",
         "0",
         "1",
         "2",
         "0",
         "60",
         "60",
         "0.0",
         "30.0",
         "30.0",
         "2019",
         "8",
         "29",
         "3"
        ],
        [
         "114",
         "166377",
         "2019-08-30 00:00:00+03:00",
         "in",
         "0",
         "880028",
         "0",
         "1",
         "45",
         "65",
         "20",
         "45.0",
         "65.0",
         "20.0",
         "2019",
         "8",
         "30",
         "4"
        ],
        [
         "118",
         "166377",
         "2019-09-02 00:00:00+03:00",
         "in",
         "0",
         "880028",
         "0",
         "2",
         "66",
         "75",
         "9",
         "33.0",
         "37.5",
         "4.5",
         "2019",
         "9",
         "2",
         "0"
        ],
        [
         "119",
         "166377",
         "2019-09-02 00:00:00+03:00",
         "in",
         "0",
         "880026",
         "0",
         "1",
         "31",
         "34",
         "3",
         "31.0",
         "34.0",
         "3.0",
         "2019",
         "9",
         "2",
         "0"
        ],
        [
         "127",
         "166377",
         "2019-09-03 00:00:00+03:00",
         "in",
         "0",
         "0",
         "1",
         "1",
         "0",
         "20",
         "20",
         "0.0",
         "20.0",
         "20.0",
         "2019",
         "9",
         "3",
         "1"
        ],
        [
         "134",
         "166377",
         "2019-09-04 00:00:00+03:00",
         "in",
         "0",
         "0",
         "1",
         "1",
         "0",
         "19",
         "19",
         "0.0",
         "19.0",
         "19.0",
         "2019",
         "9",
         "4",
         "2"
        ],
        [
         "139",
         "166377",
         "2019-09-04 00:00:00+03:00",
         "in",
         "0",
         "880028",
         "0",
         "1",
         "195",
         "208",
         "13",
         "195.0",
         "208.0",
         "13.0",
         "2019",
         "9",
         "4",
         "2"
        ],
        [
         "144",
         "166377",
         "2019-09-05 00:00:00+03:00",
         "in",
         "0",
         "880020",
         "0",
         "1",
         "63",
         "70",
         "7",
         "63.0",
         "70.0",
         "7.0",
         "2019",
         "9",
         "5",
         "3"
        ],
        [
         "146",
         "166377",
         "2019-09-05 00:00:00+03:00",
         "in",
         "0",
         "0",
         "1",
         "2",
         "0",
         "23",
         "23",
         "0.0",
         "11.5",
         "11.5",
         "2019",
         "9",
         "5",
         "3"
        ],
        [
         "148",
         "166377",
         "2019-09-05 00:00:00+03:00",
         "in",
         "0",
         "880026",
         "0",
         "1",
         "63",
         "65",
         "2",
         "63.0",
         "65.0",
         "2.0",
         "2019",
         "9",
         "5",
         "3"
        ],
        [
         "157",
         "166377",
         "2019-09-06 00:00:00+03:00",
         "in",
         "0",
         "880020",
         "0",
         "1",
         "48",
         "56",
         "8",
         "48.0",
         "56.0",
         "8.0",
         "2019",
         "9",
         "6",
         "4"
        ],
        [
         "165",
         "166377",
         "2019-09-09 00:00:00+03:00",
         "in",
         "0",
         "880020",
         "0",
         "1",
         "54",
         "58",
         "4",
         "54.0",
         "58.0",
         "4.0",
         "2019",
         "9",
         "9",
         "0"
        ],
        [
         "166",
         "166377",
         "2019-09-09 00:00:00+03:00",
         "in",
         "0",
         "0",
         "1",
         "1",
         "0",
         "29",
         "29",
         "0.0",
         "29.0",
         "29.0",
         "2019",
         "9",
         "9",
         "0"
        ],
        [
         "167",
         "166377",
         "2019-09-09 00:00:00+03:00",
         "in",
         "0",
         "880026",
         "0",
         "1",
         "32",
         "40",
         "8",
         "32.0",
         "40.0",
         "8.0",
         "2019",
         "9",
         "9",
         "0"
        ],
        [
         "169",
         "166377",
         "2019-09-10 00:00:00+03:00",
         "in",
         "0",
         "0",
         "1",
         "1",
         "0",
         "26",
         "26",
         "0.0",
         "26.0",
         "26.0",
         "2019",
         "9",
         "10",
         "1"
        ],
        [
         "177",
         "166377",
         "2019-09-11 00:00:00+03:00",
         "in",
         "0",
         "0",
         "1",
         "1",
         "0",
         "2",
         "2",
         "0.0",
         "2.0",
         "2.0",
         "2019",
         "9",
         "11",
         "2"
        ],
        [
         "182",
         "166377",
         "2019-09-11 00:00:00+03:00",
         "in",
         "0",
         "880028",
         "0",
         "1",
         "152",
         "158",
         "6",
         "152.0",
         "158.0",
         "6.0",
         "2019",
         "9",
         "11",
         "2"
        ],
        [
         "188",
         "166377",
         "2019-09-12 00:00:00+03:00",
         "in",
         "0",
         "880028",
         "0",
         "1",
         "69",
         "73",
         "4",
         "69.0",
         "73.0",
         "4.0",
         "2019",
         "9",
         "12",
         "3"
        ],
        [
         "191",
         "166377",
         "2019-09-12 00:00:00+03:00",
         "in",
         "0",
         "880020",
         "0",
         "1",
         "45",
         "49",
         "4",
         "45.0",
         "49.0",
         "4.0",
         "2019",
         "9",
         "12",
         "3"
        ],
        [
         "195",
         "166377",
         "2019-09-12 00:00:00+03:00",
         "in",
         "0",
         "0",
         "1",
         "4",
         "0",
         "77",
         "77",
         "0.0",
         "19.25",
         "19.25",
         "2019",
         "9",
         "12",
         "3"
        ],
        [
         "204",
         "166377",
         "2019-09-13 00:00:00+03:00",
         "in",
         "0",
         "880020",
         "0",
         "1",
         "39",
         "43",
         "4",
         "39.0",
         "43.0",
         "4.0",
         "2019",
         "9",
         "13",
         "4"
        ],
        [
         "209",
         "166377",
         "2019-09-16 00:00:00+03:00",
         "in",
         "0",
         "880026",
         "0",
         "1",
         "28",
         "34",
         "6",
         "28.0",
         "34.0",
         "6.0",
         "2019",
         "9",
         "16",
         "0"
        ],
        [
         "211",
         "166377",
         "2019-09-16 00:00:00+03:00",
         "in",
         "0",
         "0",
         "1",
         "8",
         "0",
         "119",
         "119",
         "0.0",
         "14.875",
         "14.875",
         "2019",
         "9",
         "16",
         "0"
        ],
        [
         "214",
         "166377",
         "2019-09-17 00:00:00+03:00",
         "in",
         "0",
         "880028",
         "0",
         "1",
         "247",
         "250",
         "3",
         "247.0",
         "250.0",
         "3.0",
         "2019",
         "9",
         "17",
         "1"
        ],
        [
         "216",
         "166377",
         "2019-09-17 00:00:00+03:00",
         "in",
         "0",
         "0",
         "1",
         "2",
         "0",
         "60",
         "60",
         "0.0",
         "30.0",
         "30.0",
         "2019",
         "9",
         "17",
         "1"
        ],
        [
         "227",
         "166377",
         "2019-09-19 00:00:00+03:00",
         "in",
         "0",
         "880028",
         "0",
         "1",
         "21",
         "23",
         "2",
         "21.0",
         "23.0",
         "2.0",
         "2019",
         "9",
         "19",
         "3"
        ],
        [
         "240",
         "166377",
         "2019-09-20 00:00:00+03:00",
         "in",
         "0",
         "880020",
         "0",
         "1",
         "17",
         "28",
         "11",
         "17.0",
         "28.0",
         "11.0",
         "2019",
         "9",
         "20",
         "4"
        ],
        [
         "248",
         "166377",
         "2019-09-23 00:00:00+03:00",
         "in",
         "0",
         "880026",
         "0",
         "1",
         "43",
         "49",
         "6",
         "43.0",
         "49.0",
         "6.0",
         "2019",
         "9",
         "23",
         "0"
        ]
       ],
       "shape": {
        "columns": 17,
        "rows": 19895
       }
      },
      "text/html": [
       "<div>\n",
       "<style scoped>\n",
       "    .dataframe tbody tr th:only-of-type {\n",
       "        vertical-align: middle;\n",
       "    }\n",
       "\n",
       "    .dataframe tbody tr th {\n",
       "        vertical-align: top;\n",
       "    }\n",
       "\n",
       "    .dataframe thead th {\n",
       "        text-align: right;\n",
       "    }\n",
       "</style>\n",
       "<table border=\"1\" class=\"dataframe\">\n",
       "  <thead>\n",
       "    <tr style=\"text-align: right;\">\n",
       "      <th></th>\n",
       "      <th>user_id</th>\n",
       "      <th>date</th>\n",
       "      <th>direction</th>\n",
       "      <th>internal</th>\n",
       "      <th>operator_id</th>\n",
       "      <th>is_missed_call</th>\n",
       "      <th>calls_count</th>\n",
       "      <th>call_duration</th>\n",
       "      <th>total_call_duration</th>\n",
       "      <th>wait_time</th>\n",
       "      <th>avg_call_duration_per_call</th>\n",
       "      <th>avg_total_call_duration_per_call</th>\n",
       "      <th>avg_wait_time_per_call</th>\n",
       "      <th>year</th>\n",
       "      <th>month</th>\n",
       "      <th>day</th>\n",
       "      <th>day_of_week</th>\n",
       "    </tr>\n",
       "  </thead>\n",
       "  <tbody>\n",
       "    <tr>\n",
       "      <th>0</th>\n",
       "      <td>166377</td>\n",
       "      <td>2019-08-04 00:00:00+03:00</td>\n",
       "      <td>in</td>\n",
       "      <td>0</td>\n",
       "      <td>0</td>\n",
       "      <td>1</td>\n",
       "      <td>2</td>\n",
       "      <td>0</td>\n",
       "      <td>4</td>\n",
       "      <td>4</td>\n",
       "      <td>0.0</td>\n",
       "      <td>2.000000</td>\n",
       "      <td>2.000000</td>\n",
       "      <td>2019</td>\n",
       "      <td>8</td>\n",
       "      <td>4</td>\n",
       "      <td>6</td>\n",
       "    </tr>\n",
       "    <tr>\n",
       "      <th>7</th>\n",
       "      <td>166377</td>\n",
       "      <td>2019-08-05 00:00:00+03:00</td>\n",
       "      <td>in</td>\n",
       "      <td>0</td>\n",
       "      <td>0</td>\n",
       "      <td>1</td>\n",
       "      <td>6</td>\n",
       "      <td>0</td>\n",
       "      <td>35</td>\n",
       "      <td>35</td>\n",
       "      <td>0.0</td>\n",
       "      <td>5.833333</td>\n",
       "      <td>5.833333</td>\n",
       "      <td>2019</td>\n",
       "      <td>8</td>\n",
       "      <td>5</td>\n",
       "      <td>0</td>\n",
       "    </tr>\n",
       "    <tr>\n",
       "      <th>9</th>\n",
       "      <td>166377</td>\n",
       "      <td>2019-08-06 00:00:00+03:00</td>\n",
       "      <td>in</td>\n",
       "      <td>0</td>\n",
       "      <td>0</td>\n",
       "      <td>1</td>\n",
       "      <td>4</td>\n",
       "      <td>0</td>\n",
       "      <td>62</td>\n",
       "      <td>62</td>\n",
       "      <td>0.0</td>\n",
       "      <td>15.500000</td>\n",
       "      <td>15.500000</td>\n",
       "      <td>2019</td>\n",
       "      <td>8</td>\n",
       "      <td>6</td>\n",
       "      <td>1</td>\n",
       "    </tr>\n",
       "    <tr>\n",
       "      <th>17</th>\n",
       "      <td>166377</td>\n",
       "      <td>2019-08-07 00:00:00+03:00</td>\n",
       "      <td>in</td>\n",
       "      <td>0</td>\n",
       "      <td>0</td>\n",
       "      <td>1</td>\n",
       "      <td>2</td>\n",
       "      <td>0</td>\n",
       "      <td>24</td>\n",
       "      <td>24</td>\n",
       "      <td>0.0</td>\n",
       "      <td>12.000000</td>\n",
       "      <td>12.000000</td>\n",
       "      <td>2019</td>\n",
       "      <td>8</td>\n",
       "      <td>7</td>\n",
       "      <td>2</td>\n",
       "    </tr>\n",
       "    <tr>\n",
       "      <th>26</th>\n",
       "      <td>166377</td>\n",
       "      <td>2019-08-12 00:00:00+03:00</td>\n",
       "      <td>in</td>\n",
       "      <td>0</td>\n",
       "      <td>880028</td>\n",
       "      <td>0</td>\n",
       "      <td>1</td>\n",
       "      <td>407</td>\n",
       "      <td>411</td>\n",
       "      <td>4</td>\n",
       "      <td>407.0</td>\n",
       "      <td>411.000000</td>\n",
       "      <td>4.000000</td>\n",
       "      <td>2019</td>\n",
       "      <td>8</td>\n",
       "      <td>12</td>\n",
       "      <td>0</td>\n",
       "    </tr>\n",
       "    <tr>\n",
       "      <th>...</th>\n",
       "      <td>...</td>\n",
       "      <td>...</td>\n",
       "      <td>...</td>\n",
       "      <td>...</td>\n",
       "      <td>...</td>\n",
       "      <td>...</td>\n",
       "      <td>...</td>\n",
       "      <td>...</td>\n",
       "      <td>...</td>\n",
       "      <td>...</td>\n",
       "      <td>...</td>\n",
       "      <td>...</td>\n",
       "      <td>...</td>\n",
       "      <td>...</td>\n",
       "      <td>...</td>\n",
       "      <td>...</td>\n",
       "      <td>...</td>\n",
       "    </tr>\n",
       "    <tr>\n",
       "      <th>53889</th>\n",
       "      <td>168603</td>\n",
       "      <td>2019-11-28 00:00:00+03:00</td>\n",
       "      <td>in</td>\n",
       "      <td>0</td>\n",
       "      <td>0</td>\n",
       "      <td>1</td>\n",
       "      <td>1</td>\n",
       "      <td>0</td>\n",
       "      <td>30</td>\n",
       "      <td>30</td>\n",
       "      <td>0.0</td>\n",
       "      <td>30.000000</td>\n",
       "      <td>30.000000</td>\n",
       "      <td>2019</td>\n",
       "      <td>11</td>\n",
       "      <td>28</td>\n",
       "      <td>3</td>\n",
       "    </tr>\n",
       "    <tr>\n",
       "      <th>53891</th>\n",
       "      <td>168606</td>\n",
       "      <td>2019-11-08 00:00:00+03:00</td>\n",
       "      <td>in</td>\n",
       "      <td>0</td>\n",
       "      <td>957922</td>\n",
       "      <td>1</td>\n",
       "      <td>1</td>\n",
       "      <td>0</td>\n",
       "      <td>7</td>\n",
       "      <td>7</td>\n",
       "      <td>0.0</td>\n",
       "      <td>7.000000</td>\n",
       "      <td>7.000000</td>\n",
       "      <td>2019</td>\n",
       "      <td>11</td>\n",
       "      <td>8</td>\n",
       "      <td>4</td>\n",
       "    </tr>\n",
       "    <tr>\n",
       "      <th>53893</th>\n",
       "      <td>168606</td>\n",
       "      <td>2019-11-08 00:00:00+03:00</td>\n",
       "      <td>in</td>\n",
       "      <td>0</td>\n",
       "      <td>0</td>\n",
       "      <td>1</td>\n",
       "      <td>6</td>\n",
       "      <td>0</td>\n",
       "      <td>121</td>\n",
       "      <td>121</td>\n",
       "      <td>0.0</td>\n",
       "      <td>20.166667</td>\n",
       "      <td>20.166667</td>\n",
       "      <td>2019</td>\n",
       "      <td>11</td>\n",
       "      <td>8</td>\n",
       "      <td>4</td>\n",
       "    </tr>\n",
       "    <tr>\n",
       "      <th>53894</th>\n",
       "      <td>168606</td>\n",
       "      <td>2019-11-08 00:00:00+03:00</td>\n",
       "      <td>in</td>\n",
       "      <td>0</td>\n",
       "      <td>957922</td>\n",
       "      <td>0</td>\n",
       "      <td>2</td>\n",
       "      <td>686</td>\n",
       "      <td>705</td>\n",
       "      <td>19</td>\n",
       "      <td>343.0</td>\n",
       "      <td>352.500000</td>\n",
       "      <td>9.500000</td>\n",
       "      <td>2019</td>\n",
       "      <td>11</td>\n",
       "      <td>8</td>\n",
       "      <td>4</td>\n",
       "    </tr>\n",
       "    <tr>\n",
       "      <th>53901</th>\n",
       "      <td>168606</td>\n",
       "      <td>2019-11-19 00:00:00+03:00</td>\n",
       "      <td>in</td>\n",
       "      <td>0</td>\n",
       "      <td>0</td>\n",
       "      <td>1</td>\n",
       "      <td>2</td>\n",
       "      <td>0</td>\n",
       "      <td>64</td>\n",
       "      <td>64</td>\n",
       "      <td>0.0</td>\n",
       "      <td>32.000000</td>\n",
       "      <td>32.000000</td>\n",
       "      <td>2019</td>\n",
       "      <td>11</td>\n",
       "      <td>19</td>\n",
       "      <td>1</td>\n",
       "    </tr>\n",
       "  </tbody>\n",
       "</table>\n",
       "<p>19895 rows × 17 columns</p>\n",
       "</div>"
      ],
      "text/plain": [
       "       user_id                      date direction  internal  operator_id  \\\n",
       "0       166377 2019-08-04 00:00:00+03:00        in         0            0   \n",
       "7       166377 2019-08-05 00:00:00+03:00        in         0            0   \n",
       "9       166377 2019-08-06 00:00:00+03:00        in         0            0   \n",
       "17      166377 2019-08-07 00:00:00+03:00        in         0            0   \n",
       "26      166377 2019-08-12 00:00:00+03:00        in         0       880028   \n",
       "...        ...                       ...       ...       ...          ...   \n",
       "53889   168603 2019-11-28 00:00:00+03:00        in         0            0   \n",
       "53891   168606 2019-11-08 00:00:00+03:00        in         0       957922   \n",
       "53893   168606 2019-11-08 00:00:00+03:00        in         0            0   \n",
       "53894   168606 2019-11-08 00:00:00+03:00        in         0       957922   \n",
       "53901   168606 2019-11-19 00:00:00+03:00        in         0            0   \n",
       "\n",
       "       is_missed_call  calls_count  call_duration  total_call_duration  \\\n",
       "0                   1            2              0                    4   \n",
       "7                   1            6              0                   35   \n",
       "9                   1            4              0                   62   \n",
       "17                  1            2              0                   24   \n",
       "26                  0            1            407                  411   \n",
       "...               ...          ...            ...                  ...   \n",
       "53889               1            1              0                   30   \n",
       "53891               1            1              0                    7   \n",
       "53893               1            6              0                  121   \n",
       "53894               0            2            686                  705   \n",
       "53901               1            2              0                   64   \n",
       "\n",
       "       wait_time  avg_call_duration_per_call  \\\n",
       "0              4                         0.0   \n",
       "7             35                         0.0   \n",
       "9             62                         0.0   \n",
       "17            24                         0.0   \n",
       "26             4                       407.0   \n",
       "...          ...                         ...   \n",
       "53889         30                         0.0   \n",
       "53891          7                         0.0   \n",
       "53893        121                         0.0   \n",
       "53894         19                       343.0   \n",
       "53901         64                         0.0   \n",
       "\n",
       "       avg_total_call_duration_per_call  avg_wait_time_per_call  year  month  \\\n",
       "0                              2.000000                2.000000  2019      8   \n",
       "7                              5.833333                5.833333  2019      8   \n",
       "9                             15.500000               15.500000  2019      8   \n",
       "17                            12.000000               12.000000  2019      8   \n",
       "26                           411.000000                4.000000  2019      8   \n",
       "...                                 ...                     ...   ...    ...   \n",
       "53889                         30.000000               30.000000  2019     11   \n",
       "53891                          7.000000                7.000000  2019     11   \n",
       "53893                         20.166667               20.166667  2019     11   \n",
       "53894                        352.500000                9.500000  2019     11   \n",
       "53901                         32.000000               32.000000  2019     11   \n",
       "\n",
       "       day  day_of_week  \n",
       "0        4            6  \n",
       "7        5            0  \n",
       "9        6            1  \n",
       "17       7            2  \n",
       "26      12            0  \n",
       "...    ...          ...  \n",
       "53889   28            3  \n",
       "53891    8            4  \n",
       "53893    8            4  \n",
       "53894    8            4  \n",
       "53901   19            1  \n",
       "\n",
       "[19895 rows x 17 columns]"
      ]
     },
     "execution_count": 138,
     "metadata": {},
     "output_type": "execute_result"
    }
   ],
   "source": [
    "# Filtramos por llamadas entrantes\n",
    "incoming_calls = telecom_df[telecom_df['direction']=='in']\n",
    "incoming_calls"
   ]
  },
  {
   "cell_type": "markdown",
   "id": "86218795",
   "metadata": {},
   "source": [
    "**Proporción de llamadas entrantes perdidas**"
   ]
  },
  {
   "cell_type": "code",
   "execution_count": 139,
   "id": "98edf186",
   "metadata": {},
   "outputs": [
    {
     "name": "stdout",
     "output_type": "stream",
     "text": [
      "     operator_id  missed_call_ratio\n",
      "642       948756               1.00\n",
      "288       913886               0.50\n",
      "110       897872               0.33\n",
      "498       937432               0.33\n",
      "468       934098               0.33\n",
      "699       957922               0.33\n",
      "266       910226               0.25\n",
      "432       930242               0.25\n",
      "186       904344               0.25\n",
      "81        894232               0.25\n"
     ]
    },
    {
     "name": "stderr",
     "output_type": "stream",
     "text": [
      "C:\\Users\\Andrea\\AppData\\Local\\Temp\\ipykernel_20936\\904937091.py:2: DeprecationWarning:\n",
      "\n",
      "DataFrameGroupBy.apply operated on the grouping columns. This behavior is deprecated, and in a future version of pandas the grouping columns will be excluded from the operation. Either pass `include_groups=False` to exclude the groupings or explicitly select the grouping columns after groupby to silence this warning.\n",
      "\n"
     ]
    }
   ],
   "source": [
    "# Calcular la proporción de llamadas entrantes perdidas por operador\n",
    "missed_call_ratio_per_operator = incoming_calls.groupby('operator_id').apply(\n",
    "    lambda x: x['is_missed_call'].sum() / x['calls_count'].sum()\n",
    ").reset_index(name='missed_call_ratio')\n",
    "\n",
    "missed_call_ratio_per_operator['missed_call_ratio'] = missed_call_ratio_per_operator['missed_call_ratio'].round(2)\n",
    "\n",
    "# Mostrar el resultado\n",
    "print(missed_call_ratio_per_operator.sort_values(by='missed_call_ratio', ascending=False).head(10))"
   ]
  },
  {
   "cell_type": "markdown",
   "id": "4d3794ad",
   "metadata": {},
   "source": [
    "**Mediana de proporción de llamadas entrantes perdidas**"
   ]
  },
  {
   "cell_type": "code",
   "execution_count": 140,
   "id": "f7e45311",
   "metadata": {},
   "outputs": [
    {
     "name": "stdout",
     "output_type": "stream",
     "text": [
      "0.0\n"
     ]
    }
   ],
   "source": [
    "# Mediana de proporción de llamadas entrantes perdidas\n",
    "print(missed_call_ratio_per_operator['missed_call_ratio'].median())"
   ]
  },
  {
   "cell_type": "markdown",
   "id": "19bd5188",
   "metadata": {},
   "source": [
    "**Cuartiles de proporción de llamadas entrantes perdidas**"
   ]
  },
  {
   "cell_type": "code",
   "execution_count": 141,
   "id": "7a009483",
   "metadata": {},
   "outputs": [
    {
     "name": "stdout",
     "output_type": "stream",
     "text": [
      "0.25    0.00\n",
      "0.50    0.00\n",
      "0.75    0.01\n",
      "Name: missed_call_ratio, dtype: float64\n",
      "\n",
      "Límite superior: 0.025\n"
     ]
    }
   ],
   "source": [
    "# Cálculo de cuartiles\n",
    "missed_call_ratio_quantiles = missed_call_ratio_per_operator['missed_call_ratio'].quantile([0.25, 0.5, 0.75])\n",
    "print(missed_call_ratio_quantiles)\n",
    "# Límite supeior (antes de outliers) -> Q3 + 1.5 * IQR (IQR = Q3 - Q1)\n",
    "missed_call_ratio_limit = missed_call_ratio_per_operator['missed_call_ratio'].quantile(0.75) + 1.5 * (missed_call_ratio_quantiles[0.75] - missed_call_ratio_quantiles[0.25])\n",
    "print('\\nLímite superior:', missed_call_ratio_limit)"
   ]
  },
  {
   "cell_type": "markdown",
   "id": "9db1ffed",
   "metadata": {},
   "source": [
    "**Operadores ineficientes en proporción de llamadas perdidas**"
   ]
  },
  {
   "cell_type": "code",
   "execution_count": 142,
   "id": "cddbdcf6",
   "metadata": {},
   "outputs": [
    {
     "name": "stdout",
     "output_type": "stream",
     "text": [
      "     operator_id  missed_call_ratio\n",
      "642       948756               1.00\n",
      "288       913886               0.50\n",
      "110       897872               0.33\n",
      "498       937432               0.33\n",
      "468       934098               0.33\n",
      "..           ...                ...\n",
      "540       938614               0.03\n",
      "545       939224               0.03\n",
      "487       935958               0.03\n",
      "660       951508               0.03\n",
      "689       955032               0.03\n",
      "\n",
      "[92 rows x 2 columns]\n"
     ]
    }
   ],
   "source": [
    "# Operadores ineficientes en proporción de llamadas perdidas\n",
    "inefficient_operators_by_missed_calls = missed_call_ratio_per_operator[missed_call_ratio_per_operator['missed_call_ratio'] > missed_call_ratio_limit]\n",
    "print(inefficient_operators_by_missed_calls.sort_values(by='missed_call_ratio', ascending=False))"
   ]
  },
  {
   "cell_type": "code",
   "execution_count": 143,
   "id": "151b7a8a",
   "metadata": {},
   "outputs": [
    {
     "data": {
      "application/vnd.plotly.v1+json": {
       "config": {
        "plotlyServerURL": "https://plot.ly"
       },
       "data": [
        {
         "alignmentgroup": "True",
         "hovertemplate": "ID del operador=%{x}<br>Proporción de llamadas perdidas=%{marker.color}<extra></extra>",
         "legendgroup": "",
         "marker": {
          "color": [
           1,
           0.5,
           0.33,
           0.33,
           0.33,
           0.33,
           0.25,
           0.25,
           0.25,
           0.25
          ],
          "coloraxis": "coloraxis",
          "pattern": {
           "shape": ""
          }
         },
         "name": "",
         "offsetgroup": "",
         "orientation": "v",
         "showlegend": false,
         "text": [
          1,
          0.5,
          0.33,
          0.33,
          0.33,
          0.33,
          0.25,
          0.25,
          0.25,
          0.25
         ],
         "textposition": "auto",
         "type": "bar",
         "x": [
          "948756",
          "913886",
          "897872",
          "937432",
          "934098",
          "957922",
          "930242",
          "910226",
          "904344",
          "894232"
         ],
         "xaxis": "x",
         "y": [
          1,
          0.5,
          0.33,
          0.33,
          0.33,
          0.33,
          0.25,
          0.25,
          0.25,
          0.25
         ],
         "yaxis": "y"
        }
       ],
       "layout": {
        "barmode": "relative",
        "coloraxis": {
         "colorbar": {
          "title": {
           "text": "Proporción de llamadas perdidas"
          }
         },
         "colorscale": [
          [
           0,
           "#0d0887"
          ],
          [
           0.1111111111111111,
           "#46039f"
          ],
          [
           0.2222222222222222,
           "#7201a8"
          ],
          [
           0.3333333333333333,
           "#9c179e"
          ],
          [
           0.4444444444444444,
           "#bd3786"
          ],
          [
           0.5555555555555556,
           "#d8576b"
          ],
          [
           0.6666666666666666,
           "#ed7953"
          ],
          [
           0.7777777777777778,
           "#fb9f3a"
          ],
          [
           0.8888888888888888,
           "#fdca26"
          ],
          [
           1,
           "#f0f921"
          ]
         ]
        },
        "legend": {
         "tracegroupgap": 0
        },
        "template": {
         "data": {
          "bar": [
           {
            "error_x": {
             "color": "#2a3f5f"
            },
            "error_y": {
             "color": "#2a3f5f"
            },
            "marker": {
             "line": {
              "color": "#E5ECF6",
              "width": 0.5
             },
             "pattern": {
              "fillmode": "overlay",
              "size": 10,
              "solidity": 0.2
             }
            },
            "type": "bar"
           }
          ],
          "barpolar": [
           {
            "marker": {
             "line": {
              "color": "#E5ECF6",
              "width": 0.5
             },
             "pattern": {
              "fillmode": "overlay",
              "size": 10,
              "solidity": 0.2
             }
            },
            "type": "barpolar"
           }
          ],
          "carpet": [
           {
            "aaxis": {
             "endlinecolor": "#2a3f5f",
             "gridcolor": "white",
             "linecolor": "white",
             "minorgridcolor": "white",
             "startlinecolor": "#2a3f5f"
            },
            "baxis": {
             "endlinecolor": "#2a3f5f",
             "gridcolor": "white",
             "linecolor": "white",
             "minorgridcolor": "white",
             "startlinecolor": "#2a3f5f"
            },
            "type": "carpet"
           }
          ],
          "choropleth": [
           {
            "colorbar": {
             "outlinewidth": 0,
             "ticks": ""
            },
            "type": "choropleth"
           }
          ],
          "contour": [
           {
            "colorbar": {
             "outlinewidth": 0,
             "ticks": ""
            },
            "colorscale": [
             [
              0,
              "#0d0887"
             ],
             [
              0.1111111111111111,
              "#46039f"
             ],
             [
              0.2222222222222222,
              "#7201a8"
             ],
             [
              0.3333333333333333,
              "#9c179e"
             ],
             [
              0.4444444444444444,
              "#bd3786"
             ],
             [
              0.5555555555555556,
              "#d8576b"
             ],
             [
              0.6666666666666666,
              "#ed7953"
             ],
             [
              0.7777777777777778,
              "#fb9f3a"
             ],
             [
              0.8888888888888888,
              "#fdca26"
             ],
             [
              1,
              "#f0f921"
             ]
            ],
            "type": "contour"
           }
          ],
          "contourcarpet": [
           {
            "colorbar": {
             "outlinewidth": 0,
             "ticks": ""
            },
            "type": "contourcarpet"
           }
          ],
          "heatmap": [
           {
            "colorbar": {
             "outlinewidth": 0,
             "ticks": ""
            },
            "colorscale": [
             [
              0,
              "#0d0887"
             ],
             [
              0.1111111111111111,
              "#46039f"
             ],
             [
              0.2222222222222222,
              "#7201a8"
             ],
             [
              0.3333333333333333,
              "#9c179e"
             ],
             [
              0.4444444444444444,
              "#bd3786"
             ],
             [
              0.5555555555555556,
              "#d8576b"
             ],
             [
              0.6666666666666666,
              "#ed7953"
             ],
             [
              0.7777777777777778,
              "#fb9f3a"
             ],
             [
              0.8888888888888888,
              "#fdca26"
             ],
             [
              1,
              "#f0f921"
             ]
            ],
            "type": "heatmap"
           }
          ],
          "heatmapgl": [
           {
            "colorbar": {
             "outlinewidth": 0,
             "ticks": ""
            },
            "colorscale": [
             [
              0,
              "#0d0887"
             ],
             [
              0.1111111111111111,
              "#46039f"
             ],
             [
              0.2222222222222222,
              "#7201a8"
             ],
             [
              0.3333333333333333,
              "#9c179e"
             ],
             [
              0.4444444444444444,
              "#bd3786"
             ],
             [
              0.5555555555555556,
              "#d8576b"
             ],
             [
              0.6666666666666666,
              "#ed7953"
             ],
             [
              0.7777777777777778,
              "#fb9f3a"
             ],
             [
              0.8888888888888888,
              "#fdca26"
             ],
             [
              1,
              "#f0f921"
             ]
            ],
            "type": "heatmapgl"
           }
          ],
          "histogram": [
           {
            "marker": {
             "pattern": {
              "fillmode": "overlay",
              "size": 10,
              "solidity": 0.2
             }
            },
            "type": "histogram"
           }
          ],
          "histogram2d": [
           {
            "colorbar": {
             "outlinewidth": 0,
             "ticks": ""
            },
            "colorscale": [
             [
              0,
              "#0d0887"
             ],
             [
              0.1111111111111111,
              "#46039f"
             ],
             [
              0.2222222222222222,
              "#7201a8"
             ],
             [
              0.3333333333333333,
              "#9c179e"
             ],
             [
              0.4444444444444444,
              "#bd3786"
             ],
             [
              0.5555555555555556,
              "#d8576b"
             ],
             [
              0.6666666666666666,
              "#ed7953"
             ],
             [
              0.7777777777777778,
              "#fb9f3a"
             ],
             [
              0.8888888888888888,
              "#fdca26"
             ],
             [
              1,
              "#f0f921"
             ]
            ],
            "type": "histogram2d"
           }
          ],
          "histogram2dcontour": [
           {
            "colorbar": {
             "outlinewidth": 0,
             "ticks": ""
            },
            "colorscale": [
             [
              0,
              "#0d0887"
             ],
             [
              0.1111111111111111,
              "#46039f"
             ],
             [
              0.2222222222222222,
              "#7201a8"
             ],
             [
              0.3333333333333333,
              "#9c179e"
             ],
             [
              0.4444444444444444,
              "#bd3786"
             ],
             [
              0.5555555555555556,
              "#d8576b"
             ],
             [
              0.6666666666666666,
              "#ed7953"
             ],
             [
              0.7777777777777778,
              "#fb9f3a"
             ],
             [
              0.8888888888888888,
              "#fdca26"
             ],
             [
              1,
              "#f0f921"
             ]
            ],
            "type": "histogram2dcontour"
           }
          ],
          "mesh3d": [
           {
            "colorbar": {
             "outlinewidth": 0,
             "ticks": ""
            },
            "type": "mesh3d"
           }
          ],
          "parcoords": [
           {
            "line": {
             "colorbar": {
              "outlinewidth": 0,
              "ticks": ""
             }
            },
            "type": "parcoords"
           }
          ],
          "pie": [
           {
            "automargin": true,
            "type": "pie"
           }
          ],
          "scatter": [
           {
            "fillpattern": {
             "fillmode": "overlay",
             "size": 10,
             "solidity": 0.2
            },
            "type": "scatter"
           }
          ],
          "scatter3d": [
           {
            "line": {
             "colorbar": {
              "outlinewidth": 0,
              "ticks": ""
             }
            },
            "marker": {
             "colorbar": {
              "outlinewidth": 0,
              "ticks": ""
             }
            },
            "type": "scatter3d"
           }
          ],
          "scattercarpet": [
           {
            "marker": {
             "colorbar": {
              "outlinewidth": 0,
              "ticks": ""
             }
            },
            "type": "scattercarpet"
           }
          ],
          "scattergeo": [
           {
            "marker": {
             "colorbar": {
              "outlinewidth": 0,
              "ticks": ""
             }
            },
            "type": "scattergeo"
           }
          ],
          "scattergl": [
           {
            "marker": {
             "colorbar": {
              "outlinewidth": 0,
              "ticks": ""
             }
            },
            "type": "scattergl"
           }
          ],
          "scattermapbox": [
           {
            "marker": {
             "colorbar": {
              "outlinewidth": 0,
              "ticks": ""
             }
            },
            "type": "scattermapbox"
           }
          ],
          "scatterpolar": [
           {
            "marker": {
             "colorbar": {
              "outlinewidth": 0,
              "ticks": ""
             }
            },
            "type": "scatterpolar"
           }
          ],
          "scatterpolargl": [
           {
            "marker": {
             "colorbar": {
              "outlinewidth": 0,
              "ticks": ""
             }
            },
            "type": "scatterpolargl"
           }
          ],
          "scatterternary": [
           {
            "marker": {
             "colorbar": {
              "outlinewidth": 0,
              "ticks": ""
             }
            },
            "type": "scatterternary"
           }
          ],
          "surface": [
           {
            "colorbar": {
             "outlinewidth": 0,
             "ticks": ""
            },
            "colorscale": [
             [
              0,
              "#0d0887"
             ],
             [
              0.1111111111111111,
              "#46039f"
             ],
             [
              0.2222222222222222,
              "#7201a8"
             ],
             [
              0.3333333333333333,
              "#9c179e"
             ],
             [
              0.4444444444444444,
              "#bd3786"
             ],
             [
              0.5555555555555556,
              "#d8576b"
             ],
             [
              0.6666666666666666,
              "#ed7953"
             ],
             [
              0.7777777777777778,
              "#fb9f3a"
             ],
             [
              0.8888888888888888,
              "#fdca26"
             ],
             [
              1,
              "#f0f921"
             ]
            ],
            "type": "surface"
           }
          ],
          "table": [
           {
            "cells": {
             "fill": {
              "color": "#EBF0F8"
             },
             "line": {
              "color": "white"
             }
            },
            "header": {
             "fill": {
              "color": "#C8D4E3"
             },
             "line": {
              "color": "white"
             }
            },
            "type": "table"
           }
          ]
         },
         "layout": {
          "annotationdefaults": {
           "arrowcolor": "#2a3f5f",
           "arrowhead": 0,
           "arrowwidth": 1
          },
          "autotypenumbers": "strict",
          "coloraxis": {
           "colorbar": {
            "outlinewidth": 0,
            "ticks": ""
           }
          },
          "colorscale": {
           "diverging": [
            [
             0,
             "#8e0152"
            ],
            [
             0.1,
             "#c51b7d"
            ],
            [
             0.2,
             "#de77ae"
            ],
            [
             0.3,
             "#f1b6da"
            ],
            [
             0.4,
             "#fde0ef"
            ],
            [
             0.5,
             "#f7f7f7"
            ],
            [
             0.6,
             "#e6f5d0"
            ],
            [
             0.7,
             "#b8e186"
            ],
            [
             0.8,
             "#7fbc41"
            ],
            [
             0.9,
             "#4d9221"
            ],
            [
             1,
             "#276419"
            ]
           ],
           "sequential": [
            [
             0,
             "#0d0887"
            ],
            [
             0.1111111111111111,
             "#46039f"
            ],
            [
             0.2222222222222222,
             "#7201a8"
            ],
            [
             0.3333333333333333,
             "#9c179e"
            ],
            [
             0.4444444444444444,
             "#bd3786"
            ],
            [
             0.5555555555555556,
             "#d8576b"
            ],
            [
             0.6666666666666666,
             "#ed7953"
            ],
            [
             0.7777777777777778,
             "#fb9f3a"
            ],
            [
             0.8888888888888888,
             "#fdca26"
            ],
            [
             1,
             "#f0f921"
            ]
           ],
           "sequentialminus": [
            [
             0,
             "#0d0887"
            ],
            [
             0.1111111111111111,
             "#46039f"
            ],
            [
             0.2222222222222222,
             "#7201a8"
            ],
            [
             0.3333333333333333,
             "#9c179e"
            ],
            [
             0.4444444444444444,
             "#bd3786"
            ],
            [
             0.5555555555555556,
             "#d8576b"
            ],
            [
             0.6666666666666666,
             "#ed7953"
            ],
            [
             0.7777777777777778,
             "#fb9f3a"
            ],
            [
             0.8888888888888888,
             "#fdca26"
            ],
            [
             1,
             "#f0f921"
            ]
           ]
          },
          "colorway": [
           "#636efa",
           "#EF553B",
           "#00cc96",
           "#ab63fa",
           "#FFA15A",
           "#19d3f3",
           "#FF6692",
           "#B6E880",
           "#FF97FF",
           "#FECB52"
          ],
          "font": {
           "color": "#2a3f5f"
          },
          "geo": {
           "bgcolor": "white",
           "lakecolor": "white",
           "landcolor": "#E5ECF6",
           "showlakes": true,
           "showland": true,
           "subunitcolor": "white"
          },
          "hoverlabel": {
           "align": "left"
          },
          "hovermode": "closest",
          "mapbox": {
           "style": "light"
          },
          "paper_bgcolor": "white",
          "plot_bgcolor": "#E5ECF6",
          "polar": {
           "angularaxis": {
            "gridcolor": "white",
            "linecolor": "white",
            "ticks": ""
           },
           "bgcolor": "#E5ECF6",
           "radialaxis": {
            "gridcolor": "white",
            "linecolor": "white",
            "ticks": ""
           }
          },
          "scene": {
           "xaxis": {
            "backgroundcolor": "#E5ECF6",
            "gridcolor": "white",
            "gridwidth": 2,
            "linecolor": "white",
            "showbackground": true,
            "ticks": "",
            "zerolinecolor": "white"
           },
           "yaxis": {
            "backgroundcolor": "#E5ECF6",
            "gridcolor": "white",
            "gridwidth": 2,
            "linecolor": "white",
            "showbackground": true,
            "ticks": "",
            "zerolinecolor": "white"
           },
           "zaxis": {
            "backgroundcolor": "#E5ECF6",
            "gridcolor": "white",
            "gridwidth": 2,
            "linecolor": "white",
            "showbackground": true,
            "ticks": "",
            "zerolinecolor": "white"
           }
          },
          "shapedefaults": {
           "line": {
            "color": "#2a3f5f"
           }
          },
          "ternary": {
           "aaxis": {
            "gridcolor": "white",
            "linecolor": "white",
            "ticks": ""
           },
           "baxis": {
            "gridcolor": "white",
            "linecolor": "white",
            "ticks": ""
           },
           "bgcolor": "#E5ECF6",
           "caxis": {
            "gridcolor": "white",
            "linecolor": "white",
            "ticks": ""
           }
          },
          "title": {
           "x": 0.05
          },
          "xaxis": {
           "automargin": true,
           "gridcolor": "white",
           "linecolor": "white",
           "ticks": "",
           "title": {
            "standoff": 15
           },
           "zerolinecolor": "white",
           "zerolinewidth": 2
          },
          "yaxis": {
           "automargin": true,
           "gridcolor": "white",
           "linecolor": "white",
           "ticks": "",
           "title": {
            "standoff": 15
           },
           "zerolinecolor": "white",
           "zerolinewidth": 2
          }
         }
        },
        "title": {
         "text": "Top 10 operadores más ineficientes en proporción de llamadas perdidas"
        },
        "xaxis": {
         "anchor": "y",
         "domain": [
          0,
          1
         ],
         "title": {
          "text": "ID del operador"
         }
        },
        "yaxis": {
         "anchor": "x",
         "domain": [
          0,
          1
         ],
         "title": {
          "text": "Proporción de llamadas perdidas"
         }
        }
       }
      },
      "text/html": [
       "<div>                            <div id=\"e391254a-d46d-4641-a8ce-20934b0f1aef\" class=\"plotly-graph-div\" style=\"height:525px; width:100%;\"></div>            <script type=\"text/javascript\">                require([\"plotly\"], function(Plotly) {                    window.PLOTLYENV=window.PLOTLYENV || {};                                    if (document.getElementById(\"e391254a-d46d-4641-a8ce-20934b0f1aef\")) {                    Plotly.newPlot(                        \"e391254a-d46d-4641-a8ce-20934b0f1aef\",                        [{\"alignmentgroup\":\"True\",\"hovertemplate\":\"ID del operador=%{x}\\u003cbr\\u003eProporci\\u00f3n de llamadas perdidas=%{marker.color}\\u003cextra\\u003e\\u003c\\u002fextra\\u003e\",\"legendgroup\":\"\",\"marker\":{\"color\":[1.0,0.5,0.33,0.33,0.33,0.33,0.25,0.25,0.25,0.25],\"coloraxis\":\"coloraxis\",\"pattern\":{\"shape\":\"\"}},\"name\":\"\",\"offsetgroup\":\"\",\"orientation\":\"v\",\"showlegend\":false,\"text\":[1.0,0.5,0.33,0.33,0.33,0.33,0.25,0.25,0.25,0.25],\"textposition\":\"auto\",\"x\":[\"948756\",\"913886\",\"897872\",\"937432\",\"934098\",\"957922\",\"930242\",\"910226\",\"904344\",\"894232\"],\"xaxis\":\"x\",\"y\":[1.0,0.5,0.33,0.33,0.33,0.33,0.25,0.25,0.25,0.25],\"yaxis\":\"y\",\"type\":\"bar\"}],                        {\"template\":{\"data\":{\"histogram2dcontour\":[{\"type\":\"histogram2dcontour\",\"colorbar\":{\"outlinewidth\":0,\"ticks\":\"\"},\"colorscale\":[[0.0,\"#0d0887\"],[0.1111111111111111,\"#46039f\"],[0.2222222222222222,\"#7201a8\"],[0.3333333333333333,\"#9c179e\"],[0.4444444444444444,\"#bd3786\"],[0.5555555555555556,\"#d8576b\"],[0.6666666666666666,\"#ed7953\"],[0.7777777777777778,\"#fb9f3a\"],[0.8888888888888888,\"#fdca26\"],[1.0,\"#f0f921\"]]}],\"choropleth\":[{\"type\":\"choropleth\",\"colorbar\":{\"outlinewidth\":0,\"ticks\":\"\"}}],\"histogram2d\":[{\"type\":\"histogram2d\",\"colorbar\":{\"outlinewidth\":0,\"ticks\":\"\"},\"colorscale\":[[0.0,\"#0d0887\"],[0.1111111111111111,\"#46039f\"],[0.2222222222222222,\"#7201a8\"],[0.3333333333333333,\"#9c179e\"],[0.4444444444444444,\"#bd3786\"],[0.5555555555555556,\"#d8576b\"],[0.6666666666666666,\"#ed7953\"],[0.7777777777777778,\"#fb9f3a\"],[0.8888888888888888,\"#fdca26\"],[1.0,\"#f0f921\"]]}],\"heatmap\":[{\"type\":\"heatmap\",\"colorbar\":{\"outlinewidth\":0,\"ticks\":\"\"},\"colorscale\":[[0.0,\"#0d0887\"],[0.1111111111111111,\"#46039f\"],[0.2222222222222222,\"#7201a8\"],[0.3333333333333333,\"#9c179e\"],[0.4444444444444444,\"#bd3786\"],[0.5555555555555556,\"#d8576b\"],[0.6666666666666666,\"#ed7953\"],[0.7777777777777778,\"#fb9f3a\"],[0.8888888888888888,\"#fdca26\"],[1.0,\"#f0f921\"]]}],\"heatmapgl\":[{\"type\":\"heatmapgl\",\"colorbar\":{\"outlinewidth\":0,\"ticks\":\"\"},\"colorscale\":[[0.0,\"#0d0887\"],[0.1111111111111111,\"#46039f\"],[0.2222222222222222,\"#7201a8\"],[0.3333333333333333,\"#9c179e\"],[0.4444444444444444,\"#bd3786\"],[0.5555555555555556,\"#d8576b\"],[0.6666666666666666,\"#ed7953\"],[0.7777777777777778,\"#fb9f3a\"],[0.8888888888888888,\"#fdca26\"],[1.0,\"#f0f921\"]]}],\"contourcarpet\":[{\"type\":\"contourcarpet\",\"colorbar\":{\"outlinewidth\":0,\"ticks\":\"\"}}],\"contour\":[{\"type\":\"contour\",\"colorbar\":{\"outlinewidth\":0,\"ticks\":\"\"},\"colorscale\":[[0.0,\"#0d0887\"],[0.1111111111111111,\"#46039f\"],[0.2222222222222222,\"#7201a8\"],[0.3333333333333333,\"#9c179e\"],[0.4444444444444444,\"#bd3786\"],[0.5555555555555556,\"#d8576b\"],[0.6666666666666666,\"#ed7953\"],[0.7777777777777778,\"#fb9f3a\"],[0.8888888888888888,\"#fdca26\"],[1.0,\"#f0f921\"]]}],\"surface\":[{\"type\":\"surface\",\"colorbar\":{\"outlinewidth\":0,\"ticks\":\"\"},\"colorscale\":[[0.0,\"#0d0887\"],[0.1111111111111111,\"#46039f\"],[0.2222222222222222,\"#7201a8\"],[0.3333333333333333,\"#9c179e\"],[0.4444444444444444,\"#bd3786\"],[0.5555555555555556,\"#d8576b\"],[0.6666666666666666,\"#ed7953\"],[0.7777777777777778,\"#fb9f3a\"],[0.8888888888888888,\"#fdca26\"],[1.0,\"#f0f921\"]]}],\"mesh3d\":[{\"type\":\"mesh3d\",\"colorbar\":{\"outlinewidth\":0,\"ticks\":\"\"}}],\"scatter\":[{\"fillpattern\":{\"fillmode\":\"overlay\",\"size\":10,\"solidity\":0.2},\"type\":\"scatter\"}],\"parcoords\":[{\"type\":\"parcoords\",\"line\":{\"colorbar\":{\"outlinewidth\":0,\"ticks\":\"\"}}}],\"scatterpolargl\":[{\"type\":\"scatterpolargl\",\"marker\":{\"colorbar\":{\"outlinewidth\":0,\"ticks\":\"\"}}}],\"bar\":[{\"error_x\":{\"color\":\"#2a3f5f\"},\"error_y\":{\"color\":\"#2a3f5f\"},\"marker\":{\"line\":{\"color\":\"#E5ECF6\",\"width\":0.5},\"pattern\":{\"fillmode\":\"overlay\",\"size\":10,\"solidity\":0.2}},\"type\":\"bar\"}],\"scattergeo\":[{\"type\":\"scattergeo\",\"marker\":{\"colorbar\":{\"outlinewidth\":0,\"ticks\":\"\"}}}],\"scatterpolar\":[{\"type\":\"scatterpolar\",\"marker\":{\"colorbar\":{\"outlinewidth\":0,\"ticks\":\"\"}}}],\"histogram\":[{\"marker\":{\"pattern\":{\"fillmode\":\"overlay\",\"size\":10,\"solidity\":0.2}},\"type\":\"histogram\"}],\"scattergl\":[{\"type\":\"scattergl\",\"marker\":{\"colorbar\":{\"outlinewidth\":0,\"ticks\":\"\"}}}],\"scatter3d\":[{\"type\":\"scatter3d\",\"line\":{\"colorbar\":{\"outlinewidth\":0,\"ticks\":\"\"}},\"marker\":{\"colorbar\":{\"outlinewidth\":0,\"ticks\":\"\"}}}],\"scattermapbox\":[{\"type\":\"scattermapbox\",\"marker\":{\"colorbar\":{\"outlinewidth\":0,\"ticks\":\"\"}}}],\"scatterternary\":[{\"type\":\"scatterternary\",\"marker\":{\"colorbar\":{\"outlinewidth\":0,\"ticks\":\"\"}}}],\"scattercarpet\":[{\"type\":\"scattercarpet\",\"marker\":{\"colorbar\":{\"outlinewidth\":0,\"ticks\":\"\"}}}],\"carpet\":[{\"aaxis\":{\"endlinecolor\":\"#2a3f5f\",\"gridcolor\":\"white\",\"linecolor\":\"white\",\"minorgridcolor\":\"white\",\"startlinecolor\":\"#2a3f5f\"},\"baxis\":{\"endlinecolor\":\"#2a3f5f\",\"gridcolor\":\"white\",\"linecolor\":\"white\",\"minorgridcolor\":\"white\",\"startlinecolor\":\"#2a3f5f\"},\"type\":\"carpet\"}],\"table\":[{\"cells\":{\"fill\":{\"color\":\"#EBF0F8\"},\"line\":{\"color\":\"white\"}},\"header\":{\"fill\":{\"color\":\"#C8D4E3\"},\"line\":{\"color\":\"white\"}},\"type\":\"table\"}],\"barpolar\":[{\"marker\":{\"line\":{\"color\":\"#E5ECF6\",\"width\":0.5},\"pattern\":{\"fillmode\":\"overlay\",\"size\":10,\"solidity\":0.2}},\"type\":\"barpolar\"}],\"pie\":[{\"automargin\":true,\"type\":\"pie\"}]},\"layout\":{\"autotypenumbers\":\"strict\",\"colorway\":[\"#636efa\",\"#EF553B\",\"#00cc96\",\"#ab63fa\",\"#FFA15A\",\"#19d3f3\",\"#FF6692\",\"#B6E880\",\"#FF97FF\",\"#FECB52\"],\"font\":{\"color\":\"#2a3f5f\"},\"hovermode\":\"closest\",\"hoverlabel\":{\"align\":\"left\"},\"paper_bgcolor\":\"white\",\"plot_bgcolor\":\"#E5ECF6\",\"polar\":{\"bgcolor\":\"#E5ECF6\",\"angularaxis\":{\"gridcolor\":\"white\",\"linecolor\":\"white\",\"ticks\":\"\"},\"radialaxis\":{\"gridcolor\":\"white\",\"linecolor\":\"white\",\"ticks\":\"\"}},\"ternary\":{\"bgcolor\":\"#E5ECF6\",\"aaxis\":{\"gridcolor\":\"white\",\"linecolor\":\"white\",\"ticks\":\"\"},\"baxis\":{\"gridcolor\":\"white\",\"linecolor\":\"white\",\"ticks\":\"\"},\"caxis\":{\"gridcolor\":\"white\",\"linecolor\":\"white\",\"ticks\":\"\"}},\"coloraxis\":{\"colorbar\":{\"outlinewidth\":0,\"ticks\":\"\"}},\"colorscale\":{\"sequential\":[[0.0,\"#0d0887\"],[0.1111111111111111,\"#46039f\"],[0.2222222222222222,\"#7201a8\"],[0.3333333333333333,\"#9c179e\"],[0.4444444444444444,\"#bd3786\"],[0.5555555555555556,\"#d8576b\"],[0.6666666666666666,\"#ed7953\"],[0.7777777777777778,\"#fb9f3a\"],[0.8888888888888888,\"#fdca26\"],[1.0,\"#f0f921\"]],\"sequentialminus\":[[0.0,\"#0d0887\"],[0.1111111111111111,\"#46039f\"],[0.2222222222222222,\"#7201a8\"],[0.3333333333333333,\"#9c179e\"],[0.4444444444444444,\"#bd3786\"],[0.5555555555555556,\"#d8576b\"],[0.6666666666666666,\"#ed7953\"],[0.7777777777777778,\"#fb9f3a\"],[0.8888888888888888,\"#fdca26\"],[1.0,\"#f0f921\"]],\"diverging\":[[0,\"#8e0152\"],[0.1,\"#c51b7d\"],[0.2,\"#de77ae\"],[0.3,\"#f1b6da\"],[0.4,\"#fde0ef\"],[0.5,\"#f7f7f7\"],[0.6,\"#e6f5d0\"],[0.7,\"#b8e186\"],[0.8,\"#7fbc41\"],[0.9,\"#4d9221\"],[1,\"#276419\"]]},\"xaxis\":{\"gridcolor\":\"white\",\"linecolor\":\"white\",\"ticks\":\"\",\"title\":{\"standoff\":15},\"zerolinecolor\":\"white\",\"automargin\":true,\"zerolinewidth\":2},\"yaxis\":{\"gridcolor\":\"white\",\"linecolor\":\"white\",\"ticks\":\"\",\"title\":{\"standoff\":15},\"zerolinecolor\":\"white\",\"automargin\":true,\"zerolinewidth\":2},\"scene\":{\"xaxis\":{\"backgroundcolor\":\"#E5ECF6\",\"gridcolor\":\"white\",\"linecolor\":\"white\",\"showbackground\":true,\"ticks\":\"\",\"zerolinecolor\":\"white\",\"gridwidth\":2},\"yaxis\":{\"backgroundcolor\":\"#E5ECF6\",\"gridcolor\":\"white\",\"linecolor\":\"white\",\"showbackground\":true,\"ticks\":\"\",\"zerolinecolor\":\"white\",\"gridwidth\":2},\"zaxis\":{\"backgroundcolor\":\"#E5ECF6\",\"gridcolor\":\"white\",\"linecolor\":\"white\",\"showbackground\":true,\"ticks\":\"\",\"zerolinecolor\":\"white\",\"gridwidth\":2}},\"shapedefaults\":{\"line\":{\"color\":\"#2a3f5f\"}},\"annotationdefaults\":{\"arrowcolor\":\"#2a3f5f\",\"arrowhead\":0,\"arrowwidth\":1},\"geo\":{\"bgcolor\":\"white\",\"landcolor\":\"#E5ECF6\",\"subunitcolor\":\"white\",\"showland\":true,\"showlakes\":true,\"lakecolor\":\"white\"},\"title\":{\"x\":0.05},\"mapbox\":{\"style\":\"light\"}}},\"xaxis\":{\"anchor\":\"y\",\"domain\":[0.0,1.0],\"title\":{\"text\":\"ID del operador\"}},\"yaxis\":{\"anchor\":\"x\",\"domain\":[0.0,1.0],\"title\":{\"text\":\"Proporci\\u00f3n de llamadas perdidas\"}},\"coloraxis\":{\"colorbar\":{\"title\":{\"text\":\"Proporci\\u00f3n de llamadas perdidas\"}},\"colorscale\":[[0.0,\"#0d0887\"],[0.1111111111111111,\"#46039f\"],[0.2222222222222222,\"#7201a8\"],[0.3333333333333333,\"#9c179e\"],[0.4444444444444444,\"#bd3786\"],[0.5555555555555556,\"#d8576b\"],[0.6666666666666666,\"#ed7953\"],[0.7777777777777778,\"#fb9f3a\"],[0.8888888888888888,\"#fdca26\"],[1.0,\"#f0f921\"]]},\"legend\":{\"tracegroupgap\":0},\"title\":{\"text\":\"Top 10 operadores m\\u00e1s ineficientes en proporci\\u00f3n de llamadas perdidas\"},\"barmode\":\"relative\"},                        {\"responsive\": true}                    ).then(function(){\n",
       "                            \n",
       "var gd = document.getElementById('e391254a-d46d-4641-a8ce-20934b0f1aef');\n",
       "var x = new MutationObserver(function (mutations, observer) {{\n",
       "        var display = window.getComputedStyle(gd).display;\n",
       "        if (!display || display === 'none') {{\n",
       "            console.log([gd, 'removed!']);\n",
       "            Plotly.purge(gd);\n",
       "            observer.disconnect();\n",
       "        }}\n",
       "}});\n",
       "\n",
       "// Listen for the removal of the full notebook cells\n",
       "var notebookContainer = gd.closest('#notebook-container');\n",
       "if (notebookContainer) {{\n",
       "    x.observe(notebookContainer, {childList: true});\n",
       "}}\n",
       "\n",
       "// Listen for the clearing of the current output cell\n",
       "var outputEl = gd.closest('.output');\n",
       "if (outputEl) {{\n",
       "    x.observe(outputEl, {childList: true});\n",
       "}}\n",
       "\n",
       "                        })                };                });            </script>        </div>"
      ]
     },
     "metadata": {},
     "output_type": "display_data"
    }
   ],
   "source": [
    "# Gráfico de top 10 operadores más ineficientes en proporción de llamadas perdidas\n",
    "inefficient_operators_by_missed_calls['operator_id'] = inefficient_operators_by_missed_calls['operator_id'].astype('str') # Convertimos a categoría para el gráfico\n",
    "\n",
    "fig = px.bar(inefficient_operators_by_missed_calls.sort_values(by='missed_call_ratio', ascending=False).head(10), \n",
    "             x='operator_id', \n",
    "             y='missed_call_ratio', \n",
    "             color='missed_call_ratio',\n",
    "             text='missed_call_ratio',\n",
    "             title='Top 10 operadores más ineficientes en proporción de llamadas perdidas',\n",
    "             labels={'operator_id': 'ID del operador', 'missed_call_ratio': 'Proporción de llamadas perdidas'},)\n",
    "\n",
    "fig.show()"
   ]
  },
  {
   "cell_type": "markdown",
   "id": "6ccae515",
   "metadata": {},
   "source": [
    "**Tiempo de espera para llamadas entrantes**"
   ]
  },
  {
   "cell_type": "code",
   "execution_count": 144,
   "id": "39c3344a",
   "metadata": {},
   "outputs": [
    {
     "name": "stdout",
     "output_type": "stream",
     "text": [
      "     operator_id  avg_wait_time_per_call\n",
      "200       905842                  115.50\n",
      "312       917680                  100.00\n",
      "716       960296                   63.00\n",
      "353       920930                   62.00\n",
      "226       907174                   61.89\n",
      "363       922114                   61.00\n",
      "124       899900                   58.00\n",
      "251       908300                   56.33\n",
      "269       910958                   54.54\n",
      "494       937366                   53.67\n",
      "249       908162                   53.00\n",
      "150       901498                   53.00\n",
      "486       935956                   52.50\n",
      "208       906076                   50.96\n",
      "711       958470                   50.67\n",
      "493       937362                   50.60\n",
      "692       956080                   50.40\n",
      "709       958460                   49.64\n",
      "600       944228                   48.72\n",
      "107       896538                   47.50\n"
     ]
    },
    {
     "name": "stderr",
     "output_type": "stream",
     "text": [
      "C:\\Users\\Andrea\\AppData\\Local\\Temp\\ipykernel_20936\\120709399.py:2: DeprecationWarning:\n",
      "\n",
      "DataFrameGroupBy.apply operated on the grouping columns. This behavior is deprecated, and in a future version of pandas the grouping columns will be excluded from the operation. Either pass `include_groups=False` to exclude the groupings or explicitly select the grouping columns after groupby to silence this warning.\n",
      "\n"
     ]
    }
   ],
   "source": [
    "# Tiempo promedio de espera para llamadas entrantes\n",
    "wating_time_per_operator = incoming_calls.groupby('operator_id').apply(\n",
    "    lambda x: x['wait_time'].sum() / x['calls_count'].sum()\n",
    ").reset_index(name='avg_wait_time_per_call')\n",
    "\n",
    "wating_time_per_operator['avg_wait_time_per_call'] = wating_time_per_operator['avg_wait_time_per_call'].round(2)\n",
    "\n",
    "# Mostrar el resultado\n",
    "print(wating_time_per_operator.sort_values(by='avg_wait_time_per_call', ascending=False).head(20))"
   ]
  },
  {
   "cell_type": "markdown",
   "id": "274694a6",
   "metadata": {},
   "source": [
    "**Mediana de tiempo de espera para llamadas entrantes**"
   ]
  },
  {
   "cell_type": "code",
   "execution_count": 145,
   "id": "70cf1977",
   "metadata": {},
   "outputs": [
    {
     "name": "stdout",
     "output_type": "stream",
     "text": [
      "14.43\n"
     ]
    }
   ],
   "source": [
    "# Mediana de tiempo de espera para las llamadas entrantes\n",
    "print(wating_time_per_operator['avg_wait_time_per_call'].median())"
   ]
  },
  {
   "cell_type": "markdown",
   "id": "2395f46a",
   "metadata": {},
   "source": [
    "**Cuartiles de la distribución de tiempo de espera**"
   ]
  },
  {
   "cell_type": "code",
   "execution_count": 146,
   "id": "52df3138",
   "metadata": {},
   "outputs": [
    {
     "name": "stdout",
     "output_type": "stream",
     "text": [
      "0.25     9.410\n",
      "0.50    14.430\n",
      "0.75    21.825\n",
      "Name: avg_wait_time_per_call, dtype: float64\n",
      "\n",
      "Límite superior: 40.45\n"
     ]
    }
   ],
   "source": [
    "# Cálculo de cuartiles\n",
    "wating_time_per_operator_quantiles = wating_time_per_operator['avg_wait_time_per_call'].quantile([0.25, 0.5, 0.75])\n",
    "print(wating_time_per_operator_quantiles)\n",
    "\n",
    "# Límite supeior (antes de outliers) -> Q3 + 1.5 * IQR (IQR = Q3 - Q1)\n",
    "wating_time_per_operator_limit = wating_time_per_operator['avg_wait_time_per_call'].quantile(0.75) + 1.5 * (wating_time_per_operator_quantiles[0.75] - wating_time_per_operator_quantiles[0.25])\n",
    "print('\\nLímite superior:', wating_time_per_operator_limit.round(2))"
   ]
  },
  {
   "cell_type": "markdown",
   "id": "b1e7d7e7",
   "metadata": {},
   "source": [
    "**Operadores ineficientes por tiempo de espera**"
   ]
  },
  {
   "cell_type": "code",
   "execution_count": 147,
   "id": "6990e2ce",
   "metadata": {},
   "outputs": [
    {
     "name": "stdout",
     "output_type": "stream",
     "text": [
      "     operator_id  avg_wait_time_per_call\n",
      "200       905842                  115.50\n",
      "312       917680                  100.00\n",
      "716       960296                   63.00\n",
      "353       920930                   62.00\n",
      "226       907174                   61.89\n",
      "363       922114                   61.00\n",
      "124       899900                   58.00\n",
      "251       908300                   56.33\n",
      "269       910958                   54.54\n",
      "494       937366                   53.67\n",
      "150       901498                   53.00\n",
      "249       908162                   53.00\n",
      "486       935956                   52.50\n",
      "208       906076                   50.96\n",
      "711       958470                   50.67\n",
      "493       937362                   50.60\n",
      "692       956080                   50.40\n",
      "709       958460                   49.64\n",
      "600       944228                   48.72\n",
      "107       896538                   47.50\n",
      "413       928092                   47.20\n",
      "216       906402                   46.29\n",
      "275       911142                   46.15\n",
      "663       951650                   45.00\n",
      "370       923254                   45.00\n",
      "12        882688                   44.87\n",
      "29        887282                   44.61\n",
      "352       920902                   44.29\n",
      "406       927070                   44.22\n",
      "745       970240                   44.00\n",
      "754       973286                   44.00\n",
      "424       929340                   43.62\n",
      "72        892798                   43.00\n",
      "599       944226                   42.66\n",
      "173       903512                   42.50\n",
      "258       909768                   42.00\n",
      "342       919994                   41.70\n",
      "18        884412                   41.67\n",
      "13        882690                   41.53\n",
      "310       917252                   41.50\n",
      "567       940508                   41.50\n",
      "207       906070                   41.19\n",
      "667       952292                   40.50\n",
      "746       970244                   40.50\n"
     ]
    }
   ],
   "source": [
    "# Operadores ineficientes por tiempo de espera para llamadas entrantes\n",
    "inefficient_operators_by_waiting_time = wating_time_per_operator[wating_time_per_operator['avg_wait_time_per_call'] > wating_time_per_operator_limit]\n",
    "\n",
    "print(inefficient_operators_by_waiting_time.sort_values(by='avg_wait_time_per_call', ascending=False))"
   ]
  },
  {
   "cell_type": "code",
   "execution_count": 148,
   "id": "352e599f",
   "metadata": {},
   "outputs": [
    {
     "data": {
      "application/vnd.plotly.v1+json": {
       "config": {
        "plotlyServerURL": "https://plot.ly"
       },
       "data": [
        {
         "alignmentgroup": "True",
         "hovertemplate": "ID del operador=%{x}<br>Tiempo promedio de espera(seg)=%{marker.color}<extra></extra>",
         "legendgroup": "",
         "marker": {
          "color": [
           115.5,
           100,
           63,
           62,
           61.89,
           61,
           58,
           56.33,
           54.54,
           53.67
          ],
          "coloraxis": "coloraxis",
          "pattern": {
           "shape": ""
          }
         },
         "name": "",
         "offsetgroup": "",
         "orientation": "v",
         "showlegend": false,
         "text": [
          115.5,
          100,
          63,
          62,
          61.89,
          61,
          58,
          56.33,
          54.54,
          53.67
         ],
         "textposition": "auto",
         "type": "bar",
         "x": [
          "905842",
          "917680",
          "960296",
          "920930",
          "907174",
          "922114",
          "899900",
          "908300",
          "910958",
          "937366"
         ],
         "xaxis": "x",
         "y": [
          115.5,
          100,
          63,
          62,
          61.89,
          61,
          58,
          56.33,
          54.54,
          53.67
         ],
         "yaxis": "y"
        }
       ],
       "layout": {
        "barmode": "relative",
        "coloraxis": {
         "colorbar": {
          "title": {
           "text": "Tiempo promedio de espera(seg)"
          }
         },
         "colorscale": [
          [
           0,
           "#0d0887"
          ],
          [
           0.1111111111111111,
           "#46039f"
          ],
          [
           0.2222222222222222,
           "#7201a8"
          ],
          [
           0.3333333333333333,
           "#9c179e"
          ],
          [
           0.4444444444444444,
           "#bd3786"
          ],
          [
           0.5555555555555556,
           "#d8576b"
          ],
          [
           0.6666666666666666,
           "#ed7953"
          ],
          [
           0.7777777777777778,
           "#fb9f3a"
          ],
          [
           0.8888888888888888,
           "#fdca26"
          ],
          [
           1,
           "#f0f921"
          ]
         ]
        },
        "legend": {
         "tracegroupgap": 0
        },
        "template": {
         "data": {
          "bar": [
           {
            "error_x": {
             "color": "#2a3f5f"
            },
            "error_y": {
             "color": "#2a3f5f"
            },
            "marker": {
             "line": {
              "color": "#E5ECF6",
              "width": 0.5
             },
             "pattern": {
              "fillmode": "overlay",
              "size": 10,
              "solidity": 0.2
             }
            },
            "type": "bar"
           }
          ],
          "barpolar": [
           {
            "marker": {
             "line": {
              "color": "#E5ECF6",
              "width": 0.5
             },
             "pattern": {
              "fillmode": "overlay",
              "size": 10,
              "solidity": 0.2
             }
            },
            "type": "barpolar"
           }
          ],
          "carpet": [
           {
            "aaxis": {
             "endlinecolor": "#2a3f5f",
             "gridcolor": "white",
             "linecolor": "white",
             "minorgridcolor": "white",
             "startlinecolor": "#2a3f5f"
            },
            "baxis": {
             "endlinecolor": "#2a3f5f",
             "gridcolor": "white",
             "linecolor": "white",
             "minorgridcolor": "white",
             "startlinecolor": "#2a3f5f"
            },
            "type": "carpet"
           }
          ],
          "choropleth": [
           {
            "colorbar": {
             "outlinewidth": 0,
             "ticks": ""
            },
            "type": "choropleth"
           }
          ],
          "contour": [
           {
            "colorbar": {
             "outlinewidth": 0,
             "ticks": ""
            },
            "colorscale": [
             [
              0,
              "#0d0887"
             ],
             [
              0.1111111111111111,
              "#46039f"
             ],
             [
              0.2222222222222222,
              "#7201a8"
             ],
             [
              0.3333333333333333,
              "#9c179e"
             ],
             [
              0.4444444444444444,
              "#bd3786"
             ],
             [
              0.5555555555555556,
              "#d8576b"
             ],
             [
              0.6666666666666666,
              "#ed7953"
             ],
             [
              0.7777777777777778,
              "#fb9f3a"
             ],
             [
              0.8888888888888888,
              "#fdca26"
             ],
             [
              1,
              "#f0f921"
             ]
            ],
            "type": "contour"
           }
          ],
          "contourcarpet": [
           {
            "colorbar": {
             "outlinewidth": 0,
             "ticks": ""
            },
            "type": "contourcarpet"
           }
          ],
          "heatmap": [
           {
            "colorbar": {
             "outlinewidth": 0,
             "ticks": ""
            },
            "colorscale": [
             [
              0,
              "#0d0887"
             ],
             [
              0.1111111111111111,
              "#46039f"
             ],
             [
              0.2222222222222222,
              "#7201a8"
             ],
             [
              0.3333333333333333,
              "#9c179e"
             ],
             [
              0.4444444444444444,
              "#bd3786"
             ],
             [
              0.5555555555555556,
              "#d8576b"
             ],
             [
              0.6666666666666666,
              "#ed7953"
             ],
             [
              0.7777777777777778,
              "#fb9f3a"
             ],
             [
              0.8888888888888888,
              "#fdca26"
             ],
             [
              1,
              "#f0f921"
             ]
            ],
            "type": "heatmap"
           }
          ],
          "heatmapgl": [
           {
            "colorbar": {
             "outlinewidth": 0,
             "ticks": ""
            },
            "colorscale": [
             [
              0,
              "#0d0887"
             ],
             [
              0.1111111111111111,
              "#46039f"
             ],
             [
              0.2222222222222222,
              "#7201a8"
             ],
             [
              0.3333333333333333,
              "#9c179e"
             ],
             [
              0.4444444444444444,
              "#bd3786"
             ],
             [
              0.5555555555555556,
              "#d8576b"
             ],
             [
              0.6666666666666666,
              "#ed7953"
             ],
             [
              0.7777777777777778,
              "#fb9f3a"
             ],
             [
              0.8888888888888888,
              "#fdca26"
             ],
             [
              1,
              "#f0f921"
             ]
            ],
            "type": "heatmapgl"
           }
          ],
          "histogram": [
           {
            "marker": {
             "pattern": {
              "fillmode": "overlay",
              "size": 10,
              "solidity": 0.2
             }
            },
            "type": "histogram"
           }
          ],
          "histogram2d": [
           {
            "colorbar": {
             "outlinewidth": 0,
             "ticks": ""
            },
            "colorscale": [
             [
              0,
              "#0d0887"
             ],
             [
              0.1111111111111111,
              "#46039f"
             ],
             [
              0.2222222222222222,
              "#7201a8"
             ],
             [
              0.3333333333333333,
              "#9c179e"
             ],
             [
              0.4444444444444444,
              "#bd3786"
             ],
             [
              0.5555555555555556,
              "#d8576b"
             ],
             [
              0.6666666666666666,
              "#ed7953"
             ],
             [
              0.7777777777777778,
              "#fb9f3a"
             ],
             [
              0.8888888888888888,
              "#fdca26"
             ],
             [
              1,
              "#f0f921"
             ]
            ],
            "type": "histogram2d"
           }
          ],
          "histogram2dcontour": [
           {
            "colorbar": {
             "outlinewidth": 0,
             "ticks": ""
            },
            "colorscale": [
             [
              0,
              "#0d0887"
             ],
             [
              0.1111111111111111,
              "#46039f"
             ],
             [
              0.2222222222222222,
              "#7201a8"
             ],
             [
              0.3333333333333333,
              "#9c179e"
             ],
             [
              0.4444444444444444,
              "#bd3786"
             ],
             [
              0.5555555555555556,
              "#d8576b"
             ],
             [
              0.6666666666666666,
              "#ed7953"
             ],
             [
              0.7777777777777778,
              "#fb9f3a"
             ],
             [
              0.8888888888888888,
              "#fdca26"
             ],
             [
              1,
              "#f0f921"
             ]
            ],
            "type": "histogram2dcontour"
           }
          ],
          "mesh3d": [
           {
            "colorbar": {
             "outlinewidth": 0,
             "ticks": ""
            },
            "type": "mesh3d"
           }
          ],
          "parcoords": [
           {
            "line": {
             "colorbar": {
              "outlinewidth": 0,
              "ticks": ""
             }
            },
            "type": "parcoords"
           }
          ],
          "pie": [
           {
            "automargin": true,
            "type": "pie"
           }
          ],
          "scatter": [
           {
            "fillpattern": {
             "fillmode": "overlay",
             "size": 10,
             "solidity": 0.2
            },
            "type": "scatter"
           }
          ],
          "scatter3d": [
           {
            "line": {
             "colorbar": {
              "outlinewidth": 0,
              "ticks": ""
             }
            },
            "marker": {
             "colorbar": {
              "outlinewidth": 0,
              "ticks": ""
             }
            },
            "type": "scatter3d"
           }
          ],
          "scattercarpet": [
           {
            "marker": {
             "colorbar": {
              "outlinewidth": 0,
              "ticks": ""
             }
            },
            "type": "scattercarpet"
           }
          ],
          "scattergeo": [
           {
            "marker": {
             "colorbar": {
              "outlinewidth": 0,
              "ticks": ""
             }
            },
            "type": "scattergeo"
           }
          ],
          "scattergl": [
           {
            "marker": {
             "colorbar": {
              "outlinewidth": 0,
              "ticks": ""
             }
            },
            "type": "scattergl"
           }
          ],
          "scattermapbox": [
           {
            "marker": {
             "colorbar": {
              "outlinewidth": 0,
              "ticks": ""
             }
            },
            "type": "scattermapbox"
           }
          ],
          "scatterpolar": [
           {
            "marker": {
             "colorbar": {
              "outlinewidth": 0,
              "ticks": ""
             }
            },
            "type": "scatterpolar"
           }
          ],
          "scatterpolargl": [
           {
            "marker": {
             "colorbar": {
              "outlinewidth": 0,
              "ticks": ""
             }
            },
            "type": "scatterpolargl"
           }
          ],
          "scatterternary": [
           {
            "marker": {
             "colorbar": {
              "outlinewidth": 0,
              "ticks": ""
             }
            },
            "type": "scatterternary"
           }
          ],
          "surface": [
           {
            "colorbar": {
             "outlinewidth": 0,
             "ticks": ""
            },
            "colorscale": [
             [
              0,
              "#0d0887"
             ],
             [
              0.1111111111111111,
              "#46039f"
             ],
             [
              0.2222222222222222,
              "#7201a8"
             ],
             [
              0.3333333333333333,
              "#9c179e"
             ],
             [
              0.4444444444444444,
              "#bd3786"
             ],
             [
              0.5555555555555556,
              "#d8576b"
             ],
             [
              0.6666666666666666,
              "#ed7953"
             ],
             [
              0.7777777777777778,
              "#fb9f3a"
             ],
             [
              0.8888888888888888,
              "#fdca26"
             ],
             [
              1,
              "#f0f921"
             ]
            ],
            "type": "surface"
           }
          ],
          "table": [
           {
            "cells": {
             "fill": {
              "color": "#EBF0F8"
             },
             "line": {
              "color": "white"
             }
            },
            "header": {
             "fill": {
              "color": "#C8D4E3"
             },
             "line": {
              "color": "white"
             }
            },
            "type": "table"
           }
          ]
         },
         "layout": {
          "annotationdefaults": {
           "arrowcolor": "#2a3f5f",
           "arrowhead": 0,
           "arrowwidth": 1
          },
          "autotypenumbers": "strict",
          "coloraxis": {
           "colorbar": {
            "outlinewidth": 0,
            "ticks": ""
           }
          },
          "colorscale": {
           "diverging": [
            [
             0,
             "#8e0152"
            ],
            [
             0.1,
             "#c51b7d"
            ],
            [
             0.2,
             "#de77ae"
            ],
            [
             0.3,
             "#f1b6da"
            ],
            [
             0.4,
             "#fde0ef"
            ],
            [
             0.5,
             "#f7f7f7"
            ],
            [
             0.6,
             "#e6f5d0"
            ],
            [
             0.7,
             "#b8e186"
            ],
            [
             0.8,
             "#7fbc41"
            ],
            [
             0.9,
             "#4d9221"
            ],
            [
             1,
             "#276419"
            ]
           ],
           "sequential": [
            [
             0,
             "#0d0887"
            ],
            [
             0.1111111111111111,
             "#46039f"
            ],
            [
             0.2222222222222222,
             "#7201a8"
            ],
            [
             0.3333333333333333,
             "#9c179e"
            ],
            [
             0.4444444444444444,
             "#bd3786"
            ],
            [
             0.5555555555555556,
             "#d8576b"
            ],
            [
             0.6666666666666666,
             "#ed7953"
            ],
            [
             0.7777777777777778,
             "#fb9f3a"
            ],
            [
             0.8888888888888888,
             "#fdca26"
            ],
            [
             1,
             "#f0f921"
            ]
           ],
           "sequentialminus": [
            [
             0,
             "#0d0887"
            ],
            [
             0.1111111111111111,
             "#46039f"
            ],
            [
             0.2222222222222222,
             "#7201a8"
            ],
            [
             0.3333333333333333,
             "#9c179e"
            ],
            [
             0.4444444444444444,
             "#bd3786"
            ],
            [
             0.5555555555555556,
             "#d8576b"
            ],
            [
             0.6666666666666666,
             "#ed7953"
            ],
            [
             0.7777777777777778,
             "#fb9f3a"
            ],
            [
             0.8888888888888888,
             "#fdca26"
            ],
            [
             1,
             "#f0f921"
            ]
           ]
          },
          "colorway": [
           "#636efa",
           "#EF553B",
           "#00cc96",
           "#ab63fa",
           "#FFA15A",
           "#19d3f3",
           "#FF6692",
           "#B6E880",
           "#FF97FF",
           "#FECB52"
          ],
          "font": {
           "color": "#2a3f5f"
          },
          "geo": {
           "bgcolor": "white",
           "lakecolor": "white",
           "landcolor": "#E5ECF6",
           "showlakes": true,
           "showland": true,
           "subunitcolor": "white"
          },
          "hoverlabel": {
           "align": "left"
          },
          "hovermode": "closest",
          "mapbox": {
           "style": "light"
          },
          "paper_bgcolor": "white",
          "plot_bgcolor": "#E5ECF6",
          "polar": {
           "angularaxis": {
            "gridcolor": "white",
            "linecolor": "white",
            "ticks": ""
           },
           "bgcolor": "#E5ECF6",
           "radialaxis": {
            "gridcolor": "white",
            "linecolor": "white",
            "ticks": ""
           }
          },
          "scene": {
           "xaxis": {
            "backgroundcolor": "#E5ECF6",
            "gridcolor": "white",
            "gridwidth": 2,
            "linecolor": "white",
            "showbackground": true,
            "ticks": "",
            "zerolinecolor": "white"
           },
           "yaxis": {
            "backgroundcolor": "#E5ECF6",
            "gridcolor": "white",
            "gridwidth": 2,
            "linecolor": "white",
            "showbackground": true,
            "ticks": "",
            "zerolinecolor": "white"
           },
           "zaxis": {
            "backgroundcolor": "#E5ECF6",
            "gridcolor": "white",
            "gridwidth": 2,
            "linecolor": "white",
            "showbackground": true,
            "ticks": "",
            "zerolinecolor": "white"
           }
          },
          "shapedefaults": {
           "line": {
            "color": "#2a3f5f"
           }
          },
          "ternary": {
           "aaxis": {
            "gridcolor": "white",
            "linecolor": "white",
            "ticks": ""
           },
           "baxis": {
            "gridcolor": "white",
            "linecolor": "white",
            "ticks": ""
           },
           "bgcolor": "#E5ECF6",
           "caxis": {
            "gridcolor": "white",
            "linecolor": "white",
            "ticks": ""
           }
          },
          "title": {
           "x": 0.05
          },
          "xaxis": {
           "automargin": true,
           "gridcolor": "white",
           "linecolor": "white",
           "ticks": "",
           "title": {
            "standoff": 15
           },
           "zerolinecolor": "white",
           "zerolinewidth": 2
          },
          "yaxis": {
           "automargin": true,
           "gridcolor": "white",
           "linecolor": "white",
           "ticks": "",
           "title": {
            "standoff": 15
           },
           "zerolinecolor": "white",
           "zerolinewidth": 2
          }
         }
        },
        "title": {
         "text": "Top 10 operadores más ineficientes por tiempo promedio de espera"
        },
        "xaxis": {
         "anchor": "y",
         "domain": [
          0,
          1
         ],
         "title": {
          "text": "ID del operador"
         }
        },
        "yaxis": {
         "anchor": "x",
         "domain": [
          0,
          1
         ],
         "title": {
          "text": "Tiempo promedio de espera(seg)"
         }
        }
       }
      },
      "text/html": [
       "<div>                            <div id=\"6f05095d-d96d-48ce-beae-b40f874785a6\" class=\"plotly-graph-div\" style=\"height:525px; width:100%;\"></div>            <script type=\"text/javascript\">                require([\"plotly\"], function(Plotly) {                    window.PLOTLYENV=window.PLOTLYENV || {};                                    if (document.getElementById(\"6f05095d-d96d-48ce-beae-b40f874785a6\")) {                    Plotly.newPlot(                        \"6f05095d-d96d-48ce-beae-b40f874785a6\",                        [{\"alignmentgroup\":\"True\",\"hovertemplate\":\"ID del operador=%{x}\\u003cbr\\u003eTiempo promedio de espera(seg)=%{marker.color}\\u003cextra\\u003e\\u003c\\u002fextra\\u003e\",\"legendgroup\":\"\",\"marker\":{\"color\":[115.5,100.0,63.0,62.0,61.89,61.0,58.0,56.33,54.54,53.67],\"coloraxis\":\"coloraxis\",\"pattern\":{\"shape\":\"\"}},\"name\":\"\",\"offsetgroup\":\"\",\"orientation\":\"v\",\"showlegend\":false,\"text\":[115.5,100.0,63.0,62.0,61.89,61.0,58.0,56.33,54.54,53.67],\"textposition\":\"auto\",\"x\":[\"905842\",\"917680\",\"960296\",\"920930\",\"907174\",\"922114\",\"899900\",\"908300\",\"910958\",\"937366\"],\"xaxis\":\"x\",\"y\":[115.5,100.0,63.0,62.0,61.89,61.0,58.0,56.33,54.54,53.67],\"yaxis\":\"y\",\"type\":\"bar\"}],                        {\"template\":{\"data\":{\"histogram2dcontour\":[{\"type\":\"histogram2dcontour\",\"colorbar\":{\"outlinewidth\":0,\"ticks\":\"\"},\"colorscale\":[[0.0,\"#0d0887\"],[0.1111111111111111,\"#46039f\"],[0.2222222222222222,\"#7201a8\"],[0.3333333333333333,\"#9c179e\"],[0.4444444444444444,\"#bd3786\"],[0.5555555555555556,\"#d8576b\"],[0.6666666666666666,\"#ed7953\"],[0.7777777777777778,\"#fb9f3a\"],[0.8888888888888888,\"#fdca26\"],[1.0,\"#f0f921\"]]}],\"choropleth\":[{\"type\":\"choropleth\",\"colorbar\":{\"outlinewidth\":0,\"ticks\":\"\"}}],\"histogram2d\":[{\"type\":\"histogram2d\",\"colorbar\":{\"outlinewidth\":0,\"ticks\":\"\"},\"colorscale\":[[0.0,\"#0d0887\"],[0.1111111111111111,\"#46039f\"],[0.2222222222222222,\"#7201a8\"],[0.3333333333333333,\"#9c179e\"],[0.4444444444444444,\"#bd3786\"],[0.5555555555555556,\"#d8576b\"],[0.6666666666666666,\"#ed7953\"],[0.7777777777777778,\"#fb9f3a\"],[0.8888888888888888,\"#fdca26\"],[1.0,\"#f0f921\"]]}],\"heatmap\":[{\"type\":\"heatmap\",\"colorbar\":{\"outlinewidth\":0,\"ticks\":\"\"},\"colorscale\":[[0.0,\"#0d0887\"],[0.1111111111111111,\"#46039f\"],[0.2222222222222222,\"#7201a8\"],[0.3333333333333333,\"#9c179e\"],[0.4444444444444444,\"#bd3786\"],[0.5555555555555556,\"#d8576b\"],[0.6666666666666666,\"#ed7953\"],[0.7777777777777778,\"#fb9f3a\"],[0.8888888888888888,\"#fdca26\"],[1.0,\"#f0f921\"]]}],\"heatmapgl\":[{\"type\":\"heatmapgl\",\"colorbar\":{\"outlinewidth\":0,\"ticks\":\"\"},\"colorscale\":[[0.0,\"#0d0887\"],[0.1111111111111111,\"#46039f\"],[0.2222222222222222,\"#7201a8\"],[0.3333333333333333,\"#9c179e\"],[0.4444444444444444,\"#bd3786\"],[0.5555555555555556,\"#d8576b\"],[0.6666666666666666,\"#ed7953\"],[0.7777777777777778,\"#fb9f3a\"],[0.8888888888888888,\"#fdca26\"],[1.0,\"#f0f921\"]]}],\"contourcarpet\":[{\"type\":\"contourcarpet\",\"colorbar\":{\"outlinewidth\":0,\"ticks\":\"\"}}],\"contour\":[{\"type\":\"contour\",\"colorbar\":{\"outlinewidth\":0,\"ticks\":\"\"},\"colorscale\":[[0.0,\"#0d0887\"],[0.1111111111111111,\"#46039f\"],[0.2222222222222222,\"#7201a8\"],[0.3333333333333333,\"#9c179e\"],[0.4444444444444444,\"#bd3786\"],[0.5555555555555556,\"#d8576b\"],[0.6666666666666666,\"#ed7953\"],[0.7777777777777778,\"#fb9f3a\"],[0.8888888888888888,\"#fdca26\"],[1.0,\"#f0f921\"]]}],\"surface\":[{\"type\":\"surface\",\"colorbar\":{\"outlinewidth\":0,\"ticks\":\"\"},\"colorscale\":[[0.0,\"#0d0887\"],[0.1111111111111111,\"#46039f\"],[0.2222222222222222,\"#7201a8\"],[0.3333333333333333,\"#9c179e\"],[0.4444444444444444,\"#bd3786\"],[0.5555555555555556,\"#d8576b\"],[0.6666666666666666,\"#ed7953\"],[0.7777777777777778,\"#fb9f3a\"],[0.8888888888888888,\"#fdca26\"],[1.0,\"#f0f921\"]]}],\"mesh3d\":[{\"type\":\"mesh3d\",\"colorbar\":{\"outlinewidth\":0,\"ticks\":\"\"}}],\"scatter\":[{\"fillpattern\":{\"fillmode\":\"overlay\",\"size\":10,\"solidity\":0.2},\"type\":\"scatter\"}],\"parcoords\":[{\"type\":\"parcoords\",\"line\":{\"colorbar\":{\"outlinewidth\":0,\"ticks\":\"\"}}}],\"scatterpolargl\":[{\"type\":\"scatterpolargl\",\"marker\":{\"colorbar\":{\"outlinewidth\":0,\"ticks\":\"\"}}}],\"bar\":[{\"error_x\":{\"color\":\"#2a3f5f\"},\"error_y\":{\"color\":\"#2a3f5f\"},\"marker\":{\"line\":{\"color\":\"#E5ECF6\",\"width\":0.5},\"pattern\":{\"fillmode\":\"overlay\",\"size\":10,\"solidity\":0.2}},\"type\":\"bar\"}],\"scattergeo\":[{\"type\":\"scattergeo\",\"marker\":{\"colorbar\":{\"outlinewidth\":0,\"ticks\":\"\"}}}],\"scatterpolar\":[{\"type\":\"scatterpolar\",\"marker\":{\"colorbar\":{\"outlinewidth\":0,\"ticks\":\"\"}}}],\"histogram\":[{\"marker\":{\"pattern\":{\"fillmode\":\"overlay\",\"size\":10,\"solidity\":0.2}},\"type\":\"histogram\"}],\"scattergl\":[{\"type\":\"scattergl\",\"marker\":{\"colorbar\":{\"outlinewidth\":0,\"ticks\":\"\"}}}],\"scatter3d\":[{\"type\":\"scatter3d\",\"line\":{\"colorbar\":{\"outlinewidth\":0,\"ticks\":\"\"}},\"marker\":{\"colorbar\":{\"outlinewidth\":0,\"ticks\":\"\"}}}],\"scattermapbox\":[{\"type\":\"scattermapbox\",\"marker\":{\"colorbar\":{\"outlinewidth\":0,\"ticks\":\"\"}}}],\"scatterternary\":[{\"type\":\"scatterternary\",\"marker\":{\"colorbar\":{\"outlinewidth\":0,\"ticks\":\"\"}}}],\"scattercarpet\":[{\"type\":\"scattercarpet\",\"marker\":{\"colorbar\":{\"outlinewidth\":0,\"ticks\":\"\"}}}],\"carpet\":[{\"aaxis\":{\"endlinecolor\":\"#2a3f5f\",\"gridcolor\":\"white\",\"linecolor\":\"white\",\"minorgridcolor\":\"white\",\"startlinecolor\":\"#2a3f5f\"},\"baxis\":{\"endlinecolor\":\"#2a3f5f\",\"gridcolor\":\"white\",\"linecolor\":\"white\",\"minorgridcolor\":\"white\",\"startlinecolor\":\"#2a3f5f\"},\"type\":\"carpet\"}],\"table\":[{\"cells\":{\"fill\":{\"color\":\"#EBF0F8\"},\"line\":{\"color\":\"white\"}},\"header\":{\"fill\":{\"color\":\"#C8D4E3\"},\"line\":{\"color\":\"white\"}},\"type\":\"table\"}],\"barpolar\":[{\"marker\":{\"line\":{\"color\":\"#E5ECF6\",\"width\":0.5},\"pattern\":{\"fillmode\":\"overlay\",\"size\":10,\"solidity\":0.2}},\"type\":\"barpolar\"}],\"pie\":[{\"automargin\":true,\"type\":\"pie\"}]},\"layout\":{\"autotypenumbers\":\"strict\",\"colorway\":[\"#636efa\",\"#EF553B\",\"#00cc96\",\"#ab63fa\",\"#FFA15A\",\"#19d3f3\",\"#FF6692\",\"#B6E880\",\"#FF97FF\",\"#FECB52\"],\"font\":{\"color\":\"#2a3f5f\"},\"hovermode\":\"closest\",\"hoverlabel\":{\"align\":\"left\"},\"paper_bgcolor\":\"white\",\"plot_bgcolor\":\"#E5ECF6\",\"polar\":{\"bgcolor\":\"#E5ECF6\",\"angularaxis\":{\"gridcolor\":\"white\",\"linecolor\":\"white\",\"ticks\":\"\"},\"radialaxis\":{\"gridcolor\":\"white\",\"linecolor\":\"white\",\"ticks\":\"\"}},\"ternary\":{\"bgcolor\":\"#E5ECF6\",\"aaxis\":{\"gridcolor\":\"white\",\"linecolor\":\"white\",\"ticks\":\"\"},\"baxis\":{\"gridcolor\":\"white\",\"linecolor\":\"white\",\"ticks\":\"\"},\"caxis\":{\"gridcolor\":\"white\",\"linecolor\":\"white\",\"ticks\":\"\"}},\"coloraxis\":{\"colorbar\":{\"outlinewidth\":0,\"ticks\":\"\"}},\"colorscale\":{\"sequential\":[[0.0,\"#0d0887\"],[0.1111111111111111,\"#46039f\"],[0.2222222222222222,\"#7201a8\"],[0.3333333333333333,\"#9c179e\"],[0.4444444444444444,\"#bd3786\"],[0.5555555555555556,\"#d8576b\"],[0.6666666666666666,\"#ed7953\"],[0.7777777777777778,\"#fb9f3a\"],[0.8888888888888888,\"#fdca26\"],[1.0,\"#f0f921\"]],\"sequentialminus\":[[0.0,\"#0d0887\"],[0.1111111111111111,\"#46039f\"],[0.2222222222222222,\"#7201a8\"],[0.3333333333333333,\"#9c179e\"],[0.4444444444444444,\"#bd3786\"],[0.5555555555555556,\"#d8576b\"],[0.6666666666666666,\"#ed7953\"],[0.7777777777777778,\"#fb9f3a\"],[0.8888888888888888,\"#fdca26\"],[1.0,\"#f0f921\"]],\"diverging\":[[0,\"#8e0152\"],[0.1,\"#c51b7d\"],[0.2,\"#de77ae\"],[0.3,\"#f1b6da\"],[0.4,\"#fde0ef\"],[0.5,\"#f7f7f7\"],[0.6,\"#e6f5d0\"],[0.7,\"#b8e186\"],[0.8,\"#7fbc41\"],[0.9,\"#4d9221\"],[1,\"#276419\"]]},\"xaxis\":{\"gridcolor\":\"white\",\"linecolor\":\"white\",\"ticks\":\"\",\"title\":{\"standoff\":15},\"zerolinecolor\":\"white\",\"automargin\":true,\"zerolinewidth\":2},\"yaxis\":{\"gridcolor\":\"white\",\"linecolor\":\"white\",\"ticks\":\"\",\"title\":{\"standoff\":15},\"zerolinecolor\":\"white\",\"automargin\":true,\"zerolinewidth\":2},\"scene\":{\"xaxis\":{\"backgroundcolor\":\"#E5ECF6\",\"gridcolor\":\"white\",\"linecolor\":\"white\",\"showbackground\":true,\"ticks\":\"\",\"zerolinecolor\":\"white\",\"gridwidth\":2},\"yaxis\":{\"backgroundcolor\":\"#E5ECF6\",\"gridcolor\":\"white\",\"linecolor\":\"white\",\"showbackground\":true,\"ticks\":\"\",\"zerolinecolor\":\"white\",\"gridwidth\":2},\"zaxis\":{\"backgroundcolor\":\"#E5ECF6\",\"gridcolor\":\"white\",\"linecolor\":\"white\",\"showbackground\":true,\"ticks\":\"\",\"zerolinecolor\":\"white\",\"gridwidth\":2}},\"shapedefaults\":{\"line\":{\"color\":\"#2a3f5f\"}},\"annotationdefaults\":{\"arrowcolor\":\"#2a3f5f\",\"arrowhead\":0,\"arrowwidth\":1},\"geo\":{\"bgcolor\":\"white\",\"landcolor\":\"#E5ECF6\",\"subunitcolor\":\"white\",\"showland\":true,\"showlakes\":true,\"lakecolor\":\"white\"},\"title\":{\"x\":0.05},\"mapbox\":{\"style\":\"light\"}}},\"xaxis\":{\"anchor\":\"y\",\"domain\":[0.0,1.0],\"title\":{\"text\":\"ID del operador\"}},\"yaxis\":{\"anchor\":\"x\",\"domain\":[0.0,1.0],\"title\":{\"text\":\"Tiempo promedio de espera(seg)\"}},\"coloraxis\":{\"colorbar\":{\"title\":{\"text\":\"Tiempo promedio de espera(seg)\"}},\"colorscale\":[[0.0,\"#0d0887\"],[0.1111111111111111,\"#46039f\"],[0.2222222222222222,\"#7201a8\"],[0.3333333333333333,\"#9c179e\"],[0.4444444444444444,\"#bd3786\"],[0.5555555555555556,\"#d8576b\"],[0.6666666666666666,\"#ed7953\"],[0.7777777777777778,\"#fb9f3a\"],[0.8888888888888888,\"#fdca26\"],[1.0,\"#f0f921\"]]},\"legend\":{\"tracegroupgap\":0},\"title\":{\"text\":\"Top 10 operadores m\\u00e1s ineficientes por tiempo promedio de espera\"},\"barmode\":\"relative\"},                        {\"responsive\": true}                    ).then(function(){\n",
       "                            \n",
       "var gd = document.getElementById('6f05095d-d96d-48ce-beae-b40f874785a6');\n",
       "var x = new MutationObserver(function (mutations, observer) {{\n",
       "        var display = window.getComputedStyle(gd).display;\n",
       "        if (!display || display === 'none') {{\n",
       "            console.log([gd, 'removed!']);\n",
       "            Plotly.purge(gd);\n",
       "            observer.disconnect();\n",
       "        }}\n",
       "}});\n",
       "\n",
       "// Listen for the removal of the full notebook cells\n",
       "var notebookContainer = gd.closest('#notebook-container');\n",
       "if (notebookContainer) {{\n",
       "    x.observe(notebookContainer, {childList: true});\n",
       "}}\n",
       "\n",
       "// Listen for the clearing of the current output cell\n",
       "var outputEl = gd.closest('.output');\n",
       "if (outputEl) {{\n",
       "    x.observe(outputEl, {childList: true});\n",
       "}}\n",
       "\n",
       "                        })                };                });            </script>        </div>"
      ]
     },
     "metadata": {},
     "output_type": "display_data"
    }
   ],
   "source": [
    "# Gráfico de top 10 operadores más ineficientes en tiempo de espera para llamadas entrantes\n",
    "inefficient_operators_by_waiting_time['operator_id'] = inefficient_operators_by_waiting_time['operator_id'].astype('str') # Convertimos a categoría para el gráfico\n",
    "\n",
    "fig = px.bar(inefficient_operators_by_waiting_time.sort_values(by='avg_wait_time_per_call', ascending=False).head(10), \n",
    "             x='operator_id', \n",
    "             y='avg_wait_time_per_call', \n",
    "             color='avg_wait_time_per_call',\n",
    "             text='avg_wait_time_per_call',\n",
    "             title='Top 10 operadores más ineficientes por tiempo promedio de espera',\n",
    "             labels={'operator_id': 'ID del operador', 'avg_wait_time_per_call': 'Tiempo promedio de espera(seg)'},)\n",
    "\n",
    "fig.show()"
   ]
  },
  {
   "cell_type": "markdown",
   "id": "0392e2ba",
   "metadata": {},
   "source": [
    "#### **Llamadas salientes**"
   ]
  },
  {
   "cell_type": "code",
   "execution_count": 149,
   "id": "48cd9d20",
   "metadata": {},
   "outputs": [
    {
     "data": {
      "application/vnd.microsoft.datawrangler.viewer.v0+json": {
       "columns": [
        {
         "name": "index",
         "rawType": "int64",
         "type": "integer"
        },
        {
         "name": "user_id",
         "rawType": "int64",
         "type": "integer"
        },
        {
         "name": "date",
         "rawType": "datetime64[ns, UTC+03:00]",
         "type": "unknown"
        },
        {
         "name": "direction",
         "rawType": "category",
         "type": "unknown"
        },
        {
         "name": "internal",
         "rawType": "int64",
         "type": "integer"
        },
        {
         "name": "operator_id",
         "rawType": "int64",
         "type": "integer"
        },
        {
         "name": "is_missed_call",
         "rawType": "int64",
         "type": "integer"
        },
        {
         "name": "calls_count",
         "rawType": "int64",
         "type": "integer"
        },
        {
         "name": "call_duration",
         "rawType": "int64",
         "type": "integer"
        },
        {
         "name": "total_call_duration",
         "rawType": "int64",
         "type": "integer"
        },
        {
         "name": "wait_time",
         "rawType": "int64",
         "type": "integer"
        },
        {
         "name": "avg_call_duration_per_call",
         "rawType": "float64",
         "type": "float"
        },
        {
         "name": "avg_total_call_duration_per_call",
         "rawType": "float64",
         "type": "float"
        },
        {
         "name": "avg_wait_time_per_call",
         "rawType": "float64",
         "type": "float"
        },
        {
         "name": "year",
         "rawType": "int32",
         "type": "integer"
        },
        {
         "name": "month",
         "rawType": "int32",
         "type": "integer"
        },
        {
         "name": "day",
         "rawType": "int32",
         "type": "integer"
        },
        {
         "name": "day_of_week",
         "rawType": "int32",
         "type": "integer"
        }
       ],
       "conversionMethod": "pd.DataFrame",
       "ref": "ed5bd870-5364-4494-b9ba-10892931e2e5",
       "rows": [
        [
         "1",
         "166377",
         "2019-08-05 00:00:00+03:00",
         "out",
         "1",
         "880022",
         "1",
         "3",
         "0",
         "5",
         "5",
         "0.0",
         "1.6666666666666667",
         "1.6666666666666667",
         "2019",
         "8",
         "5",
         "0"
        ],
        [
         "2",
         "166377",
         "2019-08-05 00:00:00+03:00",
         "out",
         "1",
         "880020",
         "1",
         "1",
         "0",
         "1",
         "1",
         "0.0",
         "1.0",
         "1.0",
         "2019",
         "8",
         "5",
         "0"
        ],
        [
         "3",
         "166377",
         "2019-08-05 00:00:00+03:00",
         "out",
         "1",
         "880020",
         "0",
         "1",
         "10",
         "18",
         "8",
         "10.0",
         "18.0",
         "8.0",
         "2019",
         "8",
         "5",
         "0"
        ],
        [
         "4",
         "166377",
         "2019-08-05 00:00:00+03:00",
         "out",
         "0",
         "880022",
         "1",
         "3",
         "0",
         "25",
         "25",
         "0.0",
         "8.333333333333334",
         "8.333333333333334",
         "2019",
         "8",
         "5",
         "0"
        ],
        [
         "5",
         "166377",
         "2019-08-05 00:00:00+03:00",
         "out",
         "0",
         "880020",
         "0",
         "2",
         "3",
         "29",
         "26",
         "1.5",
         "14.5",
         "13.0",
         "2019",
         "8",
         "5",
         "0"
        ],
        [
         "6",
         "166377",
         "2019-08-05 00:00:00+03:00",
         "out",
         "0",
         "880020",
         "1",
         "8",
         "0",
         "50",
         "50",
         "0.0",
         "6.25",
         "6.25",
         "2019",
         "8",
         "5",
         "0"
        ],
        [
         "10",
         "166377",
         "2019-08-06 00:00:00+03:00",
         "out",
         "0",
         "881278",
         "1",
         "3",
         "0",
         "29",
         "29",
         "0.0",
         "9.666666666666666",
         "9.666666666666666",
         "2019",
         "8",
         "6",
         "1"
        ],
        [
         "11",
         "166377",
         "2019-08-06 00:00:00+03:00",
         "out",
         "0",
         "880020",
         "1",
         "5",
         "0",
         "70",
         "70",
         "0.0",
         "14.0",
         "14.0",
         "2019",
         "8",
         "6",
         "1"
        ],
        [
         "12",
         "166377",
         "2019-08-06 00:00:00+03:00",
         "out",
         "1",
         "881278",
         "1",
         "2",
         "0",
         "5",
         "5",
         "0.0",
         "2.5",
         "2.5",
         "2019",
         "8",
         "6",
         "1"
        ],
        [
         "13",
         "166377",
         "2019-08-06 00:00:00+03:00",
         "out",
         "0",
         "880020",
         "0",
         "5",
         "800",
         "819",
         "19",
         "160.0",
         "163.8",
         "3.8",
         "2019",
         "8",
         "6",
         "1"
        ],
        [
         "14",
         "166377",
         "2019-08-07 00:00:00+03:00",
         "out",
         "0",
         "880028",
         "1",
         "1",
         "0",
         "15",
         "15",
         "0.0",
         "15.0",
         "15.0",
         "2019",
         "8",
         "7",
         "2"
        ],
        [
         "15",
         "166377",
         "2019-08-07 00:00:00+03:00",
         "out",
         "0",
         "880026",
         "0",
         "1",
         "21",
         "28",
         "7",
         "21.0",
         "28.0",
         "7.0",
         "2019",
         "8",
         "7",
         "2"
        ],
        [
         "16",
         "166377",
         "2019-08-07 00:00:00+03:00",
         "out",
         "0",
         "880020",
         "0",
         "2",
         "232",
         "240",
         "8",
         "116.0",
         "120.0",
         "4.0",
         "2019",
         "8",
         "7",
         "2"
        ],
        [
         "18",
         "166377",
         "2019-08-07 00:00:00+03:00",
         "out",
         "0",
         "880026",
         "1",
         "1",
         "0",
         "17",
         "17",
         "0.0",
         "17.0",
         "17.0",
         "2019",
         "8",
         "7",
         "2"
        ],
        [
         "19",
         "166377",
         "2019-08-08 00:00:00+03:00",
         "out",
         "0",
         "880022",
         "0",
         "2",
         "558",
         "568",
         "10",
         "279.0",
         "284.0",
         "5.0",
         "2019",
         "8",
         "8",
         "3"
        ],
        [
         "20",
         "166377",
         "2019-08-08 00:00:00+03:00",
         "out",
         "0",
         "880022",
         "1",
         "4",
         "0",
         "28",
         "28",
         "0.0",
         "7.0",
         "7.0",
         "2019",
         "8",
         "8",
         "3"
        ],
        [
         "21",
         "166377",
         "2019-08-09 00:00:00+03:00",
         "out",
         "0",
         "880028",
         "0",
         "17",
         "1603",
         "1725",
         "122",
         "94.29411764705883",
         "101.47058823529412",
         "7.176470588235294",
         "2019",
         "8",
         "9",
         "4"
        ],
        [
         "22",
         "166377",
         "2019-08-09 00:00:00+03:00",
         "out",
         "0",
         "880028",
         "1",
         "2",
         "0",
         "2",
         "2",
         "0.0",
         "1.0",
         "1.0",
         "2019",
         "8",
         "9",
         "4"
        ],
        [
         "23",
         "166377",
         "2019-08-09 00:00:00+03:00",
         "out",
         "0",
         "880022",
         "1",
         "2",
         "0",
         "10",
         "10",
         "0.0",
         "5.0",
         "5.0",
         "2019",
         "8",
         "9",
         "4"
        ],
        [
         "24",
         "166377",
         "2019-08-12 00:00:00+03:00",
         "out",
         "0",
         "880028",
         "0",
         "20",
         "2074",
         "2191",
         "117",
         "103.7",
         "109.55",
         "5.85",
         "2019",
         "8",
         "12",
         "0"
        ],
        [
         "25",
         "166377",
         "2019-08-12 00:00:00+03:00",
         "out",
         "1",
         "880028",
         "1",
         "1",
         "0",
         "26",
         "26",
         "0.0",
         "26.0",
         "26.0",
         "2019",
         "8",
         "12",
         "0"
        ],
        [
         "29",
         "166377",
         "2019-08-13 00:00:00+03:00",
         "out",
         "1",
         "880026",
         "1",
         "2",
         "0",
         "23",
         "23",
         "0.0",
         "11.5",
         "11.5",
         "2019",
         "8",
         "13",
         "1"
        ],
        [
         "31",
         "166377",
         "2019-08-13 00:00:00+03:00",
         "out",
         "0",
         "880026",
         "0",
         "4",
         "258",
         "287",
         "29",
         "64.5",
         "71.75",
         "7.25",
         "2019",
         "8",
         "13",
         "1"
        ],
        [
         "32",
         "166377",
         "2019-08-13 00:00:00+03:00",
         "out",
         "1",
         "880028",
         "1",
         "1",
         "0",
         "16",
         "16",
         "0.0",
         "16.0",
         "16.0",
         "2019",
         "8",
         "13",
         "1"
        ],
        [
         "33",
         "166377",
         "2019-08-13 00:00:00+03:00",
         "out",
         "0",
         "880028",
         "0",
         "10",
         "647",
         "788",
         "141",
         "64.7",
         "78.8",
         "14.1",
         "2019",
         "8",
         "13",
         "1"
        ],
        [
         "35",
         "166377",
         "2019-08-13 00:00:00+03:00",
         "out",
         "0",
         "880028",
         "1",
         "1",
         "0",
         "60",
         "60",
         "0.0",
         "60.0",
         "60.0",
         "2019",
         "8",
         "13",
         "1"
        ],
        [
         "36",
         "166377",
         "2019-08-14 00:00:00+03:00",
         "out",
         "0",
         "880028",
         "1",
         "7",
         "0",
         "105",
         "105",
         "0.0",
         "15.0",
         "15.0",
         "2019",
         "8",
         "14",
         "2"
        ],
        [
         "40",
         "166377",
         "2019-08-14 00:00:00+03:00",
         "out",
         "1",
         "880026",
         "1",
         "2",
         "0",
         "0",
         "0",
         "0.0",
         "0.0",
         "0.0",
         "2019",
         "8",
         "14",
         "2"
        ],
        [
         "41",
         "166377",
         "2019-08-14 00:00:00+03:00",
         "out",
         "0",
         "880028",
         "0",
         "18",
         "2686",
         "2782",
         "96",
         "149.22222222222223",
         "154.55555555555554",
         "5.333333333333333",
         "2019",
         "8",
         "14",
         "2"
        ],
        [
         "42",
         "166377",
         "2019-08-14 00:00:00+03:00",
         "out",
         "0",
         "880026",
         "1",
         "7",
         "0",
         "38",
         "38",
         "0.0",
         "5.428571428571429",
         "5.428571428571429",
         "2019",
         "8",
         "14",
         "2"
        ],
        [
         "43",
         "166377",
         "2019-08-14 00:00:00+03:00",
         "out",
         "0",
         "880026",
         "0",
         "10",
         "1567",
         "1654",
         "87",
         "156.7",
         "165.4",
         "8.7",
         "2019",
         "8",
         "14",
         "2"
        ],
        [
         "46",
         "166377",
         "2019-08-15 00:00:00+03:00",
         "out",
         "0",
         "880026",
         "0",
         "11",
         "1413",
         "1473",
         "60",
         "128.45454545454547",
         "133.9090909090909",
         "5.454545454545454",
         "2019",
         "8",
         "15",
         "3"
        ],
        [
         "47",
         "166377",
         "2019-08-15 00:00:00+03:00",
         "out",
         "0",
         "880028",
         "1",
         "8",
         "0",
         "458",
         "458",
         "0.0",
         "57.25",
         "57.25",
         "2019",
         "8",
         "15",
         "3"
        ],
        [
         "48",
         "166377",
         "2019-08-15 00:00:00+03:00",
         "out",
         "0",
         "880028",
         "0",
         "19",
         "2653",
         "2779",
         "126",
         "139.6315789473684",
         "146.26315789473685",
         "6.631578947368421",
         "2019",
         "8",
         "15",
         "3"
        ],
        [
         "50",
         "166377",
         "2019-08-15 00:00:00+03:00",
         "out",
         "0",
         "880026",
         "1",
         "15",
         "0",
         "330",
         "330",
         "0.0",
         "22.0",
         "22.0",
         "2019",
         "8",
         "15",
         "3"
        ],
        [
         "52",
         "166377",
         "2019-08-16 00:00:00+03:00",
         "out",
         "0",
         "880026",
         "1",
         "6",
         "0",
         "249",
         "249",
         "0.0",
         "41.5",
         "41.5",
         "2019",
         "8",
         "16",
         "4"
        ],
        [
         "53",
         "166377",
         "2019-08-16 00:00:00+03:00",
         "out",
         "0",
         "880026",
         "0",
         "15",
         "1658",
         "1714",
         "56",
         "110.53333333333333",
         "114.26666666666667",
         "3.7333333333333334",
         "2019",
         "8",
         "16",
         "4"
        ],
        [
         "54",
         "166377",
         "2019-08-16 00:00:00+03:00",
         "out",
         "0",
         "880028",
         "1",
         "4",
         "0",
         "29",
         "29",
         "0.0",
         "7.25",
         "7.25",
         "2019",
         "8",
         "16",
         "4"
        ],
        [
         "55",
         "166377",
         "2019-08-16 00:00:00+03:00",
         "out",
         "0",
         "880028",
         "0",
         "15",
         "1574",
         "1674",
         "100",
         "104.93333333333334",
         "111.6",
         "6.666666666666667",
         "2019",
         "8",
         "16",
         "4"
        ],
        [
         "56",
         "166377",
         "2019-08-16 00:00:00+03:00",
         "out",
         "1",
         "880026",
         "1",
         "3",
         "0",
         "2",
         "2",
         "0.0",
         "0.6666666666666666",
         "0.6666666666666666",
         "2019",
         "8",
         "16",
         "4"
        ],
        [
         "57",
         "166377",
         "2019-08-19 00:00:00+03:00",
         "out",
         "0",
         "880026",
         "1",
         "13",
         "0",
         "142",
         "142",
         "0.0",
         "10.923076923076923",
         "10.923076923076923",
         "2019",
         "8",
         "19",
         "0"
        ],
        [
         "58",
         "166377",
         "2019-08-19 00:00:00+03:00",
         "out",
         "0",
         "880026",
         "0",
         "14",
         "1519",
         "1598",
         "79",
         "108.5",
         "114.14285714285714",
         "5.642857142857143",
         "2019",
         "8",
         "19",
         "0"
        ],
        [
         "59",
         "166377",
         "2019-08-19 00:00:00+03:00",
         "out",
         "0",
         "880028",
         "1",
         "5",
         "0",
         "170",
         "170",
         "0.0",
         "34.0",
         "34.0",
         "2019",
         "8",
         "19",
         "0"
        ],
        [
         "61",
         "166377",
         "2019-08-19 00:00:00+03:00",
         "out",
         "0",
         "880028",
         "0",
         "8",
         "904",
         "1033",
         "129",
         "113.0",
         "129.125",
         "16.125",
         "2019",
         "8",
         "19",
         "0"
        ],
        [
         "63",
         "166377",
         "2019-08-20 00:00:00+03:00",
         "out",
         "0",
         "880028",
         "0",
         "32",
         "2975",
         "3243",
         "268",
         "92.96875",
         "101.34375",
         "8.375",
         "2019",
         "8",
         "20",
         "1"
        ],
        [
         "64",
         "166377",
         "2019-08-20 00:00:00+03:00",
         "out",
         "0",
         "880026",
         "0",
         "19",
         "2568",
         "2758",
         "190",
         "135.1578947368421",
         "145.1578947368421",
         "10.0",
         "2019",
         "8",
         "20",
         "1"
        ],
        [
         "65",
         "166377",
         "2019-08-20 00:00:00+03:00",
         "out",
         "0",
         "880028",
         "1",
         "13",
         "0",
         "572",
         "572",
         "0.0",
         "44.0",
         "44.0",
         "2019",
         "8",
         "20",
         "1"
        ],
        [
         "67",
         "166377",
         "2019-08-20 00:00:00+03:00",
         "out",
         "0",
         "880026",
         "1",
         "9",
         "0",
         "53",
         "53",
         "0.0",
         "5.888888888888889",
         "5.888888888888889",
         "2019",
         "8",
         "20",
         "1"
        ],
        [
         "68",
         "166377",
         "2019-08-21 00:00:00+03:00",
         "out",
         "0",
         "880026",
         "1",
         "8",
         "0",
         "174",
         "174",
         "0.0",
         "21.75",
         "21.75",
         "2019",
         "8",
         "21",
         "2"
        ],
        [
         "69",
         "166377",
         "2019-08-21 00:00:00+03:00",
         "out",
         "0",
         "880028",
         "1",
         "22",
         "0",
         "717",
         "717",
         "0.0",
         "32.59090909090909",
         "32.59090909090909",
         "2019",
         "8",
         "21",
         "2"
        ]
       ],
       "shape": {
        "columns": 17,
        "rows": 28997
       }
      },
      "text/html": [
       "<div>\n",
       "<style scoped>\n",
       "    .dataframe tbody tr th:only-of-type {\n",
       "        vertical-align: middle;\n",
       "    }\n",
       "\n",
       "    .dataframe tbody tr th {\n",
       "        vertical-align: top;\n",
       "    }\n",
       "\n",
       "    .dataframe thead th {\n",
       "        text-align: right;\n",
       "    }\n",
       "</style>\n",
       "<table border=\"1\" class=\"dataframe\">\n",
       "  <thead>\n",
       "    <tr style=\"text-align: right;\">\n",
       "      <th></th>\n",
       "      <th>user_id</th>\n",
       "      <th>date</th>\n",
       "      <th>direction</th>\n",
       "      <th>internal</th>\n",
       "      <th>operator_id</th>\n",
       "      <th>is_missed_call</th>\n",
       "      <th>calls_count</th>\n",
       "      <th>call_duration</th>\n",
       "      <th>total_call_duration</th>\n",
       "      <th>wait_time</th>\n",
       "      <th>avg_call_duration_per_call</th>\n",
       "      <th>avg_total_call_duration_per_call</th>\n",
       "      <th>avg_wait_time_per_call</th>\n",
       "      <th>year</th>\n",
       "      <th>month</th>\n",
       "      <th>day</th>\n",
       "      <th>day_of_week</th>\n",
       "    </tr>\n",
       "  </thead>\n",
       "  <tbody>\n",
       "    <tr>\n",
       "      <th>1</th>\n",
       "      <td>166377</td>\n",
       "      <td>2019-08-05 00:00:00+03:00</td>\n",
       "      <td>out</td>\n",
       "      <td>1</td>\n",
       "      <td>880022</td>\n",
       "      <td>1</td>\n",
       "      <td>3</td>\n",
       "      <td>0</td>\n",
       "      <td>5</td>\n",
       "      <td>5</td>\n",
       "      <td>0.00</td>\n",
       "      <td>1.666667</td>\n",
       "      <td>1.666667</td>\n",
       "      <td>2019</td>\n",
       "      <td>8</td>\n",
       "      <td>5</td>\n",
       "      <td>0</td>\n",
       "    </tr>\n",
       "    <tr>\n",
       "      <th>2</th>\n",
       "      <td>166377</td>\n",
       "      <td>2019-08-05 00:00:00+03:00</td>\n",
       "      <td>out</td>\n",
       "      <td>1</td>\n",
       "      <td>880020</td>\n",
       "      <td>1</td>\n",
       "      <td>1</td>\n",
       "      <td>0</td>\n",
       "      <td>1</td>\n",
       "      <td>1</td>\n",
       "      <td>0.00</td>\n",
       "      <td>1.000000</td>\n",
       "      <td>1.000000</td>\n",
       "      <td>2019</td>\n",
       "      <td>8</td>\n",
       "      <td>5</td>\n",
       "      <td>0</td>\n",
       "    </tr>\n",
       "    <tr>\n",
       "      <th>3</th>\n",
       "      <td>166377</td>\n",
       "      <td>2019-08-05 00:00:00+03:00</td>\n",
       "      <td>out</td>\n",
       "      <td>1</td>\n",
       "      <td>880020</td>\n",
       "      <td>0</td>\n",
       "      <td>1</td>\n",
       "      <td>10</td>\n",
       "      <td>18</td>\n",
       "      <td>8</td>\n",
       "      <td>10.00</td>\n",
       "      <td>18.000000</td>\n",
       "      <td>8.000000</td>\n",
       "      <td>2019</td>\n",
       "      <td>8</td>\n",
       "      <td>5</td>\n",
       "      <td>0</td>\n",
       "    </tr>\n",
       "    <tr>\n",
       "      <th>4</th>\n",
       "      <td>166377</td>\n",
       "      <td>2019-08-05 00:00:00+03:00</td>\n",
       "      <td>out</td>\n",
       "      <td>0</td>\n",
       "      <td>880022</td>\n",
       "      <td>1</td>\n",
       "      <td>3</td>\n",
       "      <td>0</td>\n",
       "      <td>25</td>\n",
       "      <td>25</td>\n",
       "      <td>0.00</td>\n",
       "      <td>8.333333</td>\n",
       "      <td>8.333333</td>\n",
       "      <td>2019</td>\n",
       "      <td>8</td>\n",
       "      <td>5</td>\n",
       "      <td>0</td>\n",
       "    </tr>\n",
       "    <tr>\n",
       "      <th>5</th>\n",
       "      <td>166377</td>\n",
       "      <td>2019-08-05 00:00:00+03:00</td>\n",
       "      <td>out</td>\n",
       "      <td>0</td>\n",
       "      <td>880020</td>\n",
       "      <td>0</td>\n",
       "      <td>2</td>\n",
       "      <td>3</td>\n",
       "      <td>29</td>\n",
       "      <td>26</td>\n",
       "      <td>1.50</td>\n",
       "      <td>14.500000</td>\n",
       "      <td>13.000000</td>\n",
       "      <td>2019</td>\n",
       "      <td>8</td>\n",
       "      <td>5</td>\n",
       "      <td>0</td>\n",
       "    </tr>\n",
       "    <tr>\n",
       "      <th>...</th>\n",
       "      <td>...</td>\n",
       "      <td>...</td>\n",
       "      <td>...</td>\n",
       "      <td>...</td>\n",
       "      <td>...</td>\n",
       "      <td>...</td>\n",
       "      <td>...</td>\n",
       "      <td>...</td>\n",
       "      <td>...</td>\n",
       "      <td>...</td>\n",
       "      <td>...</td>\n",
       "      <td>...</td>\n",
       "      <td>...</td>\n",
       "      <td>...</td>\n",
       "      <td>...</td>\n",
       "      <td>...</td>\n",
       "      <td>...</td>\n",
       "    </tr>\n",
       "    <tr>\n",
       "      <th>53895</th>\n",
       "      <td>168606</td>\n",
       "      <td>2019-11-09 00:00:00+03:00</td>\n",
       "      <td>out</td>\n",
       "      <td>0</td>\n",
       "      <td>957922</td>\n",
       "      <td>0</td>\n",
       "      <td>4</td>\n",
       "      <td>551</td>\n",
       "      <td>593</td>\n",
       "      <td>42</td>\n",
       "      <td>137.75</td>\n",
       "      <td>148.250000</td>\n",
       "      <td>10.500000</td>\n",
       "      <td>2019</td>\n",
       "      <td>11</td>\n",
       "      <td>9</td>\n",
       "      <td>5</td>\n",
       "    </tr>\n",
       "    <tr>\n",
       "      <th>53896</th>\n",
       "      <td>168606</td>\n",
       "      <td>2019-11-10 00:00:00+03:00</td>\n",
       "      <td>out</td>\n",
       "      <td>1</td>\n",
       "      <td>957922</td>\n",
       "      <td>0</td>\n",
       "      <td>1</td>\n",
       "      <td>0</td>\n",
       "      <td>25</td>\n",
       "      <td>25</td>\n",
       "      <td>0.00</td>\n",
       "      <td>25.000000</td>\n",
       "      <td>25.000000</td>\n",
       "      <td>2019</td>\n",
       "      <td>11</td>\n",
       "      <td>10</td>\n",
       "      <td>6</td>\n",
       "    </tr>\n",
       "    <tr>\n",
       "      <th>53897</th>\n",
       "      <td>168606</td>\n",
       "      <td>2019-11-10 00:00:00+03:00</td>\n",
       "      <td>out</td>\n",
       "      <td>1</td>\n",
       "      <td>957922</td>\n",
       "      <td>1</td>\n",
       "      <td>1</td>\n",
       "      <td>0</td>\n",
       "      <td>38</td>\n",
       "      <td>38</td>\n",
       "      <td>0.00</td>\n",
       "      <td>38.000000</td>\n",
       "      <td>38.000000</td>\n",
       "      <td>2019</td>\n",
       "      <td>11</td>\n",
       "      <td>10</td>\n",
       "      <td>6</td>\n",
       "    </tr>\n",
       "    <tr>\n",
       "      <th>53898</th>\n",
       "      <td>168606</td>\n",
       "      <td>2019-11-11 00:00:00+03:00</td>\n",
       "      <td>out</td>\n",
       "      <td>1</td>\n",
       "      <td>957922</td>\n",
       "      <td>0</td>\n",
       "      <td>2</td>\n",
       "      <td>479</td>\n",
       "      <td>501</td>\n",
       "      <td>22</td>\n",
       "      <td>239.50</td>\n",
       "      <td>250.500000</td>\n",
       "      <td>11.000000</td>\n",
       "      <td>2019</td>\n",
       "      <td>11</td>\n",
       "      <td>11</td>\n",
       "      <td>0</td>\n",
       "    </tr>\n",
       "    <tr>\n",
       "      <th>53899</th>\n",
       "      <td>168606</td>\n",
       "      <td>2019-11-15 00:00:00+03:00</td>\n",
       "      <td>out</td>\n",
       "      <td>1</td>\n",
       "      <td>957922</td>\n",
       "      <td>0</td>\n",
       "      <td>4</td>\n",
       "      <td>3130</td>\n",
       "      <td>3190</td>\n",
       "      <td>60</td>\n",
       "      <td>782.50</td>\n",
       "      <td>797.500000</td>\n",
       "      <td>15.000000</td>\n",
       "      <td>2019</td>\n",
       "      <td>11</td>\n",
       "      <td>15</td>\n",
       "      <td>4</td>\n",
       "    </tr>\n",
       "  </tbody>\n",
       "</table>\n",
       "<p>28997 rows × 17 columns</p>\n",
       "</div>"
      ],
      "text/plain": [
       "       user_id                      date direction  internal  operator_id  \\\n",
       "1       166377 2019-08-05 00:00:00+03:00       out         1       880022   \n",
       "2       166377 2019-08-05 00:00:00+03:00       out         1       880020   \n",
       "3       166377 2019-08-05 00:00:00+03:00       out         1       880020   \n",
       "4       166377 2019-08-05 00:00:00+03:00       out         0       880022   \n",
       "5       166377 2019-08-05 00:00:00+03:00       out         0       880020   \n",
       "...        ...                       ...       ...       ...          ...   \n",
       "53895   168606 2019-11-09 00:00:00+03:00       out         0       957922   \n",
       "53896   168606 2019-11-10 00:00:00+03:00       out         1       957922   \n",
       "53897   168606 2019-11-10 00:00:00+03:00       out         1       957922   \n",
       "53898   168606 2019-11-11 00:00:00+03:00       out         1       957922   \n",
       "53899   168606 2019-11-15 00:00:00+03:00       out         1       957922   \n",
       "\n",
       "       is_missed_call  calls_count  call_duration  total_call_duration  \\\n",
       "1                   1            3              0                    5   \n",
       "2                   1            1              0                    1   \n",
       "3                   0            1             10                   18   \n",
       "4                   1            3              0                   25   \n",
       "5                   0            2              3                   29   \n",
       "...               ...          ...            ...                  ...   \n",
       "53895               0            4            551                  593   \n",
       "53896               0            1              0                   25   \n",
       "53897               1            1              0                   38   \n",
       "53898               0            2            479                  501   \n",
       "53899               0            4           3130                 3190   \n",
       "\n",
       "       wait_time  avg_call_duration_per_call  \\\n",
       "1              5                        0.00   \n",
       "2              1                        0.00   \n",
       "3              8                       10.00   \n",
       "4             25                        0.00   \n",
       "5             26                        1.50   \n",
       "...          ...                         ...   \n",
       "53895         42                      137.75   \n",
       "53896         25                        0.00   \n",
       "53897         38                        0.00   \n",
       "53898         22                      239.50   \n",
       "53899         60                      782.50   \n",
       "\n",
       "       avg_total_call_duration_per_call  avg_wait_time_per_call  year  month  \\\n",
       "1                              1.666667                1.666667  2019      8   \n",
       "2                              1.000000                1.000000  2019      8   \n",
       "3                             18.000000                8.000000  2019      8   \n",
       "4                              8.333333                8.333333  2019      8   \n",
       "5                             14.500000               13.000000  2019      8   \n",
       "...                                 ...                     ...   ...    ...   \n",
       "53895                        148.250000               10.500000  2019     11   \n",
       "53896                         25.000000               25.000000  2019     11   \n",
       "53897                         38.000000               38.000000  2019     11   \n",
       "53898                        250.500000               11.000000  2019     11   \n",
       "53899                        797.500000               15.000000  2019     11   \n",
       "\n",
       "       day  day_of_week  \n",
       "1        5            0  \n",
       "2        5            0  \n",
       "3        5            0  \n",
       "4        5            0  \n",
       "5        5            0  \n",
       "...    ...          ...  \n",
       "53895    9            5  \n",
       "53896   10            6  \n",
       "53897   10            6  \n",
       "53898   11            0  \n",
       "53899   15            4  \n",
       "\n",
       "[28997 rows x 17 columns]"
      ]
     },
     "execution_count": 149,
     "metadata": {},
     "output_type": "execute_result"
    }
   ],
   "source": [
    "# Llamadas salientes\n",
    "outgoing_calls = telecom_df[telecom_df['direction']=='out'] \n",
    "outgoing_calls"
   ]
  },
  {
   "cell_type": "markdown",
   "id": "bc0c5ba9",
   "metadata": {},
   "source": [
    "**Llamadas salientes por operador**"
   ]
  },
  {
   "cell_type": "code",
   "execution_count": 150,
   "id": "fff3339d",
   "metadata": {},
   "outputs": [
    {
     "name": "stdout",
     "output_type": "stream",
     "text": [
      "     operator_id  outgoing_calls_count\n",
      "869       970240                     1\n",
      "872       970250                     1\n",
      "428       924572                     1\n",
      "862       969284                     1\n",
      "103       895266                     1\n",
      "525       935956                     1\n",
      "572       937872                     1\n",
      "748       949420                     1\n",
      "578       937956                     1\n",
      "545       937716                     1\n",
      "544       937710                     1\n",
      "546       937720                     1\n",
      "294       914272                     1\n",
      "875       970258                     1\n",
      "292       914256                     1\n",
      "140       900192                     1\n",
      "476       930326                     1\n",
      "488       930820                     1\n",
      "487       930816                     1\n",
      "776       952968                     1\n"
     ]
    }
   ],
   "source": [
    "# Volumen de llamdas salientes por operador\n",
    "outgoing_calls_per_operator = outgoing_calls.groupby('operator_id')['calls_count'].sum().reset_index(name='outgoing_calls_count')\n",
    "\n",
    "print(outgoing_calls_per_operator.sort_values(by='outgoing_calls_count', ascending=True).head(20))"
   ]
  },
  {
   "cell_type": "markdown",
   "id": "76673bfd",
   "metadata": {},
   "source": [
    "**Mediana de llamadas salientes**"
   ]
  },
  {
   "cell_type": "code",
   "execution_count": 151,
   "id": "57e47825",
   "metadata": {},
   "outputs": [
    {
     "name": "stdout",
     "output_type": "stream",
     "text": [
      "90.0\n"
     ]
    }
   ],
   "source": [
    "# Mediana de volumen de llamadas salientes\n",
    "print(outgoing_calls_per_operator['outgoing_calls_count'].median())"
   ]
  },
  {
   "cell_type": "markdown",
   "id": "22d0ae2c",
   "metadata": {},
   "source": [
    "**Cuartiles de la distribución de llamadas salientes**"
   ]
  },
  {
   "cell_type": "code",
   "execution_count": 152,
   "id": "2d591546",
   "metadata": {},
   "outputs": [
    {
     "name": "stdout",
     "output_type": "stream",
     "text": [
      "0.25     11.0\n",
      "0.50     90.0\n",
      "0.75    591.5\n",
      "Name: outgoing_calls_count, dtype: float64\n"
     ]
    }
   ],
   "source": [
    "# Cálculo de cuartiles\n",
    "outgoing_calls_per_operator_quantiles = outgoing_calls_per_operator['outgoing_calls_count'].quantile([0.25, 0.5, 0.75])\n",
    "print(outgoing_calls_per_operator_quantiles)"
   ]
  },
  {
   "cell_type": "markdown",
   "id": "2dd05551",
   "metadata": {},
   "source": [
    "**Operadores ineficientes por llamadas salientes**"
   ]
  },
  {
   "cell_type": "markdown",
   "id": "eec373a5",
   "metadata": {},
   "source": [
    "    Nota: En este caso, por no haber ouliers inferiores, clasificaremos a los operadores ineficientes si están *por debajo* del cuartil 1, es decir, debajo del 25% de los datos."
   ]
  },
  {
   "cell_type": "code",
   "execution_count": 153,
   "id": "4873fd0f",
   "metadata": {},
   "outputs": [
    {
     "name": "stdout",
     "output_type": "stream",
     "text": [
      "     operator_id  outgoing_calls_count\n",
      "9         882478                     1\n",
      "15        883898                     1\n",
      "46        890234                     1\n",
      "65        891192                     1\n",
      "75        891918                     1\n",
      "..           ...                   ...\n",
      "777       953362                    10\n",
      "651       941736                    10\n",
      "610       939718                    10\n",
      "762       951650                    10\n",
      "870       970242                    10\n",
      "\n",
      "[214 rows x 2 columns]\n"
     ]
    }
   ],
   "source": [
    "# Operadores ineficientes por bajo volumen de llamadas salientes\n",
    "inefficient_operators_by_outgoing_calls = outgoing_calls_per_operator[outgoing_calls_per_operator['outgoing_calls_count'] < outgoing_calls_per_operator_quantiles[0.25]]\n",
    "\n",
    "print(inefficient_operators_by_outgoing_calls.sort_values(by='outgoing_calls_count', ascending=True))"
   ]
  },
  {
   "cell_type": "code",
   "execution_count": null,
   "id": "4714b644",
   "metadata": {},
   "outputs": [
    {
     "data": {
      "application/vnd.plotly.v1+json": {
       "config": {
        "plotlyServerURL": "https://plot.ly"
       },
       "data": [
        {
         "alignmentgroup": "True",
         "hovertemplate": "ID del operador=%{x}<br>Cantidad de llamadas salientes=%{marker.color}<extra></extra>",
         "legendgroup": "",
         "marker": {
          "color": [
           1,
           1,
           1,
           1,
           1,
           1,
           1,
           1,
           1,
           1
          ],
          "coloraxis": "coloraxis",
          "pattern": {
           "shape": ""
          }
         },
         "name": "",
         "offsetgroup": "",
         "orientation": "v",
         "showlegend": false,
         "text": [
          1,
          1,
          1,
          1,
          1,
          1,
          1,
          1,
          1,
          1
         ],
         "textposition": "auto",
         "type": "bar",
         "x": [
          "882478",
          "883898",
          "890234",
          "891192",
          "891918",
          "895266",
          "900192",
          "914256",
          "908834",
          "914440"
         ],
         "xaxis": "x",
         "y": [
          1,
          1,
          1,
          1,
          1,
          1,
          1,
          1,
          1,
          1
         ],
         "yaxis": "y"
        }
       ],
       "layout": {
        "barmode": "relative",
        "coloraxis": {
         "colorbar": {
          "title": {
           "text": "Cantidad de llamadas salientes"
          }
         },
         "colorscale": [
          [
           0,
           "#0d0887"
          ],
          [
           0.1111111111111111,
           "#46039f"
          ],
          [
           0.2222222222222222,
           "#7201a8"
          ],
          [
           0.3333333333333333,
           "#9c179e"
          ],
          [
           0.4444444444444444,
           "#bd3786"
          ],
          [
           0.5555555555555556,
           "#d8576b"
          ],
          [
           0.6666666666666666,
           "#ed7953"
          ],
          [
           0.7777777777777778,
           "#fb9f3a"
          ],
          [
           0.8888888888888888,
           "#fdca26"
          ],
          [
           1,
           "#f0f921"
          ]
         ]
        },
        "legend": {
         "tracegroupgap": 0
        },
        "margin": {
         "t": 60
        },
        "template": {
         "data": {
          "bar": [
           {
            "error_x": {
             "color": "#2a3f5f"
            },
            "error_y": {
             "color": "#2a3f5f"
            },
            "marker": {
             "line": {
              "color": "#E5ECF6",
              "width": 0.5
             },
             "pattern": {
              "fillmode": "overlay",
              "size": 10,
              "solidity": 0.2
             }
            },
            "type": "bar"
           }
          ],
          "barpolar": [
           {
            "marker": {
             "line": {
              "color": "#E5ECF6",
              "width": 0.5
             },
             "pattern": {
              "fillmode": "overlay",
              "size": 10,
              "solidity": 0.2
             }
            },
            "type": "barpolar"
           }
          ],
          "carpet": [
           {
            "aaxis": {
             "endlinecolor": "#2a3f5f",
             "gridcolor": "white",
             "linecolor": "white",
             "minorgridcolor": "white",
             "startlinecolor": "#2a3f5f"
            },
            "baxis": {
             "endlinecolor": "#2a3f5f",
             "gridcolor": "white",
             "linecolor": "white",
             "minorgridcolor": "white",
             "startlinecolor": "#2a3f5f"
            },
            "type": "carpet"
           }
          ],
          "choropleth": [
           {
            "colorbar": {
             "outlinewidth": 0,
             "ticks": ""
            },
            "type": "choropleth"
           }
          ],
          "contour": [
           {
            "colorbar": {
             "outlinewidth": 0,
             "ticks": ""
            },
            "colorscale": [
             [
              0,
              "#0d0887"
             ],
             [
              0.1111111111111111,
              "#46039f"
             ],
             [
              0.2222222222222222,
              "#7201a8"
             ],
             [
              0.3333333333333333,
              "#9c179e"
             ],
             [
              0.4444444444444444,
              "#bd3786"
             ],
             [
              0.5555555555555556,
              "#d8576b"
             ],
             [
              0.6666666666666666,
              "#ed7953"
             ],
             [
              0.7777777777777778,
              "#fb9f3a"
             ],
             [
              0.8888888888888888,
              "#fdca26"
             ],
             [
              1,
              "#f0f921"
             ]
            ],
            "type": "contour"
           }
          ],
          "contourcarpet": [
           {
            "colorbar": {
             "outlinewidth": 0,
             "ticks": ""
            },
            "type": "contourcarpet"
           }
          ],
          "heatmap": [
           {
            "colorbar": {
             "outlinewidth": 0,
             "ticks": ""
            },
            "colorscale": [
             [
              0,
              "#0d0887"
             ],
             [
              0.1111111111111111,
              "#46039f"
             ],
             [
              0.2222222222222222,
              "#7201a8"
             ],
             [
              0.3333333333333333,
              "#9c179e"
             ],
             [
              0.4444444444444444,
              "#bd3786"
             ],
             [
              0.5555555555555556,
              "#d8576b"
             ],
             [
              0.6666666666666666,
              "#ed7953"
             ],
             [
              0.7777777777777778,
              "#fb9f3a"
             ],
             [
              0.8888888888888888,
              "#fdca26"
             ],
             [
              1,
              "#f0f921"
             ]
            ],
            "type": "heatmap"
           }
          ],
          "heatmapgl": [
           {
            "colorbar": {
             "outlinewidth": 0,
             "ticks": ""
            },
            "colorscale": [
             [
              0,
              "#0d0887"
             ],
             [
              0.1111111111111111,
              "#46039f"
             ],
             [
              0.2222222222222222,
              "#7201a8"
             ],
             [
              0.3333333333333333,
              "#9c179e"
             ],
             [
              0.4444444444444444,
              "#bd3786"
             ],
             [
              0.5555555555555556,
              "#d8576b"
             ],
             [
              0.6666666666666666,
              "#ed7953"
             ],
             [
              0.7777777777777778,
              "#fb9f3a"
             ],
             [
              0.8888888888888888,
              "#fdca26"
             ],
             [
              1,
              "#f0f921"
             ]
            ],
            "type": "heatmapgl"
           }
          ],
          "histogram": [
           {
            "marker": {
             "pattern": {
              "fillmode": "overlay",
              "size": 10,
              "solidity": 0.2
             }
            },
            "type": "histogram"
           }
          ],
          "histogram2d": [
           {
            "colorbar": {
             "outlinewidth": 0,
             "ticks": ""
            },
            "colorscale": [
             [
              0,
              "#0d0887"
             ],
             [
              0.1111111111111111,
              "#46039f"
             ],
             [
              0.2222222222222222,
              "#7201a8"
             ],
             [
              0.3333333333333333,
              "#9c179e"
             ],
             [
              0.4444444444444444,
              "#bd3786"
             ],
             [
              0.5555555555555556,
              "#d8576b"
             ],
             [
              0.6666666666666666,
              "#ed7953"
             ],
             [
              0.7777777777777778,
              "#fb9f3a"
             ],
             [
              0.8888888888888888,
              "#fdca26"
             ],
             [
              1,
              "#f0f921"
             ]
            ],
            "type": "histogram2d"
           }
          ],
          "histogram2dcontour": [
           {
            "colorbar": {
             "outlinewidth": 0,
             "ticks": ""
            },
            "colorscale": [
             [
              0,
              "#0d0887"
             ],
             [
              0.1111111111111111,
              "#46039f"
             ],
             [
              0.2222222222222222,
              "#7201a8"
             ],
             [
              0.3333333333333333,
              "#9c179e"
             ],
             [
              0.4444444444444444,
              "#bd3786"
             ],
             [
              0.5555555555555556,
              "#d8576b"
             ],
             [
              0.6666666666666666,
              "#ed7953"
             ],
             [
              0.7777777777777778,
              "#fb9f3a"
             ],
             [
              0.8888888888888888,
              "#fdca26"
             ],
             [
              1,
              "#f0f921"
             ]
            ],
            "type": "histogram2dcontour"
           }
          ],
          "mesh3d": [
           {
            "colorbar": {
             "outlinewidth": 0,
             "ticks": ""
            },
            "type": "mesh3d"
           }
          ],
          "parcoords": [
           {
            "line": {
             "colorbar": {
              "outlinewidth": 0,
              "ticks": ""
             }
            },
            "type": "parcoords"
           }
          ],
          "pie": [
           {
            "automargin": true,
            "type": "pie"
           }
          ],
          "scatter": [
           {
            "fillpattern": {
             "fillmode": "overlay",
             "size": 10,
             "solidity": 0.2
            },
            "type": "scatter"
           }
          ],
          "scatter3d": [
           {
            "line": {
             "colorbar": {
              "outlinewidth": 0,
              "ticks": ""
             }
            },
            "marker": {
             "colorbar": {
              "outlinewidth": 0,
              "ticks": ""
             }
            },
            "type": "scatter3d"
           }
          ],
          "scattercarpet": [
           {
            "marker": {
             "colorbar": {
              "outlinewidth": 0,
              "ticks": ""
             }
            },
            "type": "scattercarpet"
           }
          ],
          "scattergeo": [
           {
            "marker": {
             "colorbar": {
              "outlinewidth": 0,
              "ticks": ""
             }
            },
            "type": "scattergeo"
           }
          ],
          "scattergl": [
           {
            "marker": {
             "colorbar": {
              "outlinewidth": 0,
              "ticks": ""
             }
            },
            "type": "scattergl"
           }
          ],
          "scattermapbox": [
           {
            "marker": {
             "colorbar": {
              "outlinewidth": 0,
              "ticks": ""
             }
            },
            "type": "scattermapbox"
           }
          ],
          "scatterpolar": [
           {
            "marker": {
             "colorbar": {
              "outlinewidth": 0,
              "ticks": ""
             }
            },
            "type": "scatterpolar"
           }
          ],
          "scatterpolargl": [
           {
            "marker": {
             "colorbar": {
              "outlinewidth": 0,
              "ticks": ""
             }
            },
            "type": "scatterpolargl"
           }
          ],
          "scatterternary": [
           {
            "marker": {
             "colorbar": {
              "outlinewidth": 0,
              "ticks": ""
             }
            },
            "type": "scatterternary"
           }
          ],
          "surface": [
           {
            "colorbar": {
             "outlinewidth": 0,
             "ticks": ""
            },
            "colorscale": [
             [
              0,
              "#0d0887"
             ],
             [
              0.1111111111111111,
              "#46039f"
             ],
             [
              0.2222222222222222,
              "#7201a8"
             ],
             [
              0.3333333333333333,
              "#9c179e"
             ],
             [
              0.4444444444444444,
              "#bd3786"
             ],
             [
              0.5555555555555556,
              "#d8576b"
             ],
             [
              0.6666666666666666,
              "#ed7953"
             ],
             [
              0.7777777777777778,
              "#fb9f3a"
             ],
             [
              0.8888888888888888,
              "#fdca26"
             ],
             [
              1,
              "#f0f921"
             ]
            ],
            "type": "surface"
           }
          ],
          "table": [
           {
            "cells": {
             "fill": {
              "color": "#EBF0F8"
             },
             "line": {
              "color": "white"
             }
            },
            "header": {
             "fill": {
              "color": "#C8D4E3"
             },
             "line": {
              "color": "white"
             }
            },
            "type": "table"
           }
          ]
         },
         "layout": {
          "annotationdefaults": {
           "arrowcolor": "#2a3f5f",
           "arrowhead": 0,
           "arrowwidth": 1
          },
          "autotypenumbers": "strict",
          "coloraxis": {
           "colorbar": {
            "outlinewidth": 0,
            "ticks": ""
           }
          },
          "colorscale": {
           "diverging": [
            [
             0,
             "#8e0152"
            ],
            [
             0.1,
             "#c51b7d"
            ],
            [
             0.2,
             "#de77ae"
            ],
            [
             0.3,
             "#f1b6da"
            ],
            [
             0.4,
             "#fde0ef"
            ],
            [
             0.5,
             "#f7f7f7"
            ],
            [
             0.6,
             "#e6f5d0"
            ],
            [
             0.7,
             "#b8e186"
            ],
            [
             0.8,
             "#7fbc41"
            ],
            [
             0.9,
             "#4d9221"
            ],
            [
             1,
             "#276419"
            ]
           ],
           "sequential": [
            [
             0,
             "#0d0887"
            ],
            [
             0.1111111111111111,
             "#46039f"
            ],
            [
             0.2222222222222222,
             "#7201a8"
            ],
            [
             0.3333333333333333,
             "#9c179e"
            ],
            [
             0.4444444444444444,
             "#bd3786"
            ],
            [
             0.5555555555555556,
             "#d8576b"
            ],
            [
             0.6666666666666666,
             "#ed7953"
            ],
            [
             0.7777777777777778,
             "#fb9f3a"
            ],
            [
             0.8888888888888888,
             "#fdca26"
            ],
            [
             1,
             "#f0f921"
            ]
           ],
           "sequentialminus": [
            [
             0,
             "#0d0887"
            ],
            [
             0.1111111111111111,
             "#46039f"
            ],
            [
             0.2222222222222222,
             "#7201a8"
            ],
            [
             0.3333333333333333,
             "#9c179e"
            ],
            [
             0.4444444444444444,
             "#bd3786"
            ],
            [
             0.5555555555555556,
             "#d8576b"
            ],
            [
             0.6666666666666666,
             "#ed7953"
            ],
            [
             0.7777777777777778,
             "#fb9f3a"
            ],
            [
             0.8888888888888888,
             "#fdca26"
            ],
            [
             1,
             "#f0f921"
            ]
           ]
          },
          "colorway": [
           "#636efa",
           "#EF553B",
           "#00cc96",
           "#ab63fa",
           "#FFA15A",
           "#19d3f3",
           "#FF6692",
           "#B6E880",
           "#FF97FF",
           "#FECB52"
          ],
          "font": {
           "color": "#2a3f5f"
          },
          "geo": {
           "bgcolor": "white",
           "lakecolor": "white",
           "landcolor": "#E5ECF6",
           "showlakes": true,
           "showland": true,
           "subunitcolor": "white"
          },
          "hoverlabel": {
           "align": "left"
          },
          "hovermode": "closest",
          "mapbox": {
           "style": "light"
          },
          "paper_bgcolor": "white",
          "plot_bgcolor": "#E5ECF6",
          "polar": {
           "angularaxis": {
            "gridcolor": "white",
            "linecolor": "white",
            "ticks": ""
           },
           "bgcolor": "#E5ECF6",
           "radialaxis": {
            "gridcolor": "white",
            "linecolor": "white",
            "ticks": ""
           }
          },
          "scene": {
           "xaxis": {
            "backgroundcolor": "#E5ECF6",
            "gridcolor": "white",
            "gridwidth": 2,
            "linecolor": "white",
            "showbackground": true,
            "ticks": "",
            "zerolinecolor": "white"
           },
           "yaxis": {
            "backgroundcolor": "#E5ECF6",
            "gridcolor": "white",
            "gridwidth": 2,
            "linecolor": "white",
            "showbackground": true,
            "ticks": "",
            "zerolinecolor": "white"
           },
           "zaxis": {
            "backgroundcolor": "#E5ECF6",
            "gridcolor": "white",
            "gridwidth": 2,
            "linecolor": "white",
            "showbackground": true,
            "ticks": "",
            "zerolinecolor": "white"
           }
          },
          "shapedefaults": {
           "line": {
            "color": "#2a3f5f"
           }
          },
          "ternary": {
           "aaxis": {
            "gridcolor": "white",
            "linecolor": "white",
            "ticks": ""
           },
           "baxis": {
            "gridcolor": "white",
            "linecolor": "white",
            "ticks": ""
           },
           "bgcolor": "#E5ECF6",
           "caxis": {
            "gridcolor": "white",
            "linecolor": "white",
            "ticks": ""
           }
          },
          "title": {
           "x": 0.05
          },
          "xaxis": {
           "automargin": true,
           "gridcolor": "white",
           "linecolor": "white",
           "ticks": "",
           "title": {
            "standoff": 15
           },
           "zerolinecolor": "white",
           "zerolinewidth": 2
          },
          "yaxis": {
           "automargin": true,
           "gridcolor": "white",
           "linecolor": "white",
           "ticks": "",
           "title": {
            "standoff": 15
           },
           "zerolinecolor": "white",
           "zerolinewidth": 2
          }
         }
        },
        "xaxis": {
         "anchor": "y",
         "domain": [
          0,
          1
         ],
         "title": {
          "text": "ID del operador"
         }
        },
        "yaxis": {
         "anchor": "x",
         "domain": [
          0,
          1
         ],
         "title": {
          "text": "Cantidad de llamadas salientes"
         }
        }
       }
      },
      "text/html": [
       "<div>                            <div id=\"2d904fc0-2adb-4325-b58b-4012a6f3d73a\" class=\"plotly-graph-div\" style=\"height:525px; width:100%;\"></div>            <script type=\"text/javascript\">                require([\"plotly\"], function(Plotly) {                    window.PLOTLYENV=window.PLOTLYENV || {};                                    if (document.getElementById(\"2d904fc0-2adb-4325-b58b-4012a6f3d73a\")) {                    Plotly.newPlot(                        \"2d904fc0-2adb-4325-b58b-4012a6f3d73a\",                        [{\"alignmentgroup\":\"True\",\"hovertemplate\":\"ID del operador=%{x}\\u003cbr\\u003eCantidad de llamadas salientes=%{marker.color}\\u003cextra\\u003e\\u003c\\u002fextra\\u003e\",\"legendgroup\":\"\",\"marker\":{\"color\":[1,1,1,1,1,1,1,1,1,1],\"coloraxis\":\"coloraxis\",\"pattern\":{\"shape\":\"\"}},\"name\":\"\",\"offsetgroup\":\"\",\"orientation\":\"v\",\"showlegend\":false,\"text\":[1.0,1.0,1.0,1.0,1.0,1.0,1.0,1.0,1.0,1.0],\"textposition\":\"auto\",\"x\":[\"882478\",\"883898\",\"890234\",\"891192\",\"891918\",\"895266\",\"900192\",\"914256\",\"908834\",\"914440\"],\"xaxis\":\"x\",\"y\":[1,1,1,1,1,1,1,1,1,1],\"yaxis\":\"y\",\"type\":\"bar\"}],                        {\"template\":{\"data\":{\"histogram2dcontour\":[{\"type\":\"histogram2dcontour\",\"colorbar\":{\"outlinewidth\":0,\"ticks\":\"\"},\"colorscale\":[[0.0,\"#0d0887\"],[0.1111111111111111,\"#46039f\"],[0.2222222222222222,\"#7201a8\"],[0.3333333333333333,\"#9c179e\"],[0.4444444444444444,\"#bd3786\"],[0.5555555555555556,\"#d8576b\"],[0.6666666666666666,\"#ed7953\"],[0.7777777777777778,\"#fb9f3a\"],[0.8888888888888888,\"#fdca26\"],[1.0,\"#f0f921\"]]}],\"choropleth\":[{\"type\":\"choropleth\",\"colorbar\":{\"outlinewidth\":0,\"ticks\":\"\"}}],\"histogram2d\":[{\"type\":\"histogram2d\",\"colorbar\":{\"outlinewidth\":0,\"ticks\":\"\"},\"colorscale\":[[0.0,\"#0d0887\"],[0.1111111111111111,\"#46039f\"],[0.2222222222222222,\"#7201a8\"],[0.3333333333333333,\"#9c179e\"],[0.4444444444444444,\"#bd3786\"],[0.5555555555555556,\"#d8576b\"],[0.6666666666666666,\"#ed7953\"],[0.7777777777777778,\"#fb9f3a\"],[0.8888888888888888,\"#fdca26\"],[1.0,\"#f0f921\"]]}],\"heatmap\":[{\"type\":\"heatmap\",\"colorbar\":{\"outlinewidth\":0,\"ticks\":\"\"},\"colorscale\":[[0.0,\"#0d0887\"],[0.1111111111111111,\"#46039f\"],[0.2222222222222222,\"#7201a8\"],[0.3333333333333333,\"#9c179e\"],[0.4444444444444444,\"#bd3786\"],[0.5555555555555556,\"#d8576b\"],[0.6666666666666666,\"#ed7953\"],[0.7777777777777778,\"#fb9f3a\"],[0.8888888888888888,\"#fdca26\"],[1.0,\"#f0f921\"]]}],\"heatmapgl\":[{\"type\":\"heatmapgl\",\"colorbar\":{\"outlinewidth\":0,\"ticks\":\"\"},\"colorscale\":[[0.0,\"#0d0887\"],[0.1111111111111111,\"#46039f\"],[0.2222222222222222,\"#7201a8\"],[0.3333333333333333,\"#9c179e\"],[0.4444444444444444,\"#bd3786\"],[0.5555555555555556,\"#d8576b\"],[0.6666666666666666,\"#ed7953\"],[0.7777777777777778,\"#fb9f3a\"],[0.8888888888888888,\"#fdca26\"],[1.0,\"#f0f921\"]]}],\"contourcarpet\":[{\"type\":\"contourcarpet\",\"colorbar\":{\"outlinewidth\":0,\"ticks\":\"\"}}],\"contour\":[{\"type\":\"contour\",\"colorbar\":{\"outlinewidth\":0,\"ticks\":\"\"},\"colorscale\":[[0.0,\"#0d0887\"],[0.1111111111111111,\"#46039f\"],[0.2222222222222222,\"#7201a8\"],[0.3333333333333333,\"#9c179e\"],[0.4444444444444444,\"#bd3786\"],[0.5555555555555556,\"#d8576b\"],[0.6666666666666666,\"#ed7953\"],[0.7777777777777778,\"#fb9f3a\"],[0.8888888888888888,\"#fdca26\"],[1.0,\"#f0f921\"]]}],\"surface\":[{\"type\":\"surface\",\"colorbar\":{\"outlinewidth\":0,\"ticks\":\"\"},\"colorscale\":[[0.0,\"#0d0887\"],[0.1111111111111111,\"#46039f\"],[0.2222222222222222,\"#7201a8\"],[0.3333333333333333,\"#9c179e\"],[0.4444444444444444,\"#bd3786\"],[0.5555555555555556,\"#d8576b\"],[0.6666666666666666,\"#ed7953\"],[0.7777777777777778,\"#fb9f3a\"],[0.8888888888888888,\"#fdca26\"],[1.0,\"#f0f921\"]]}],\"mesh3d\":[{\"type\":\"mesh3d\",\"colorbar\":{\"outlinewidth\":0,\"ticks\":\"\"}}],\"scatter\":[{\"fillpattern\":{\"fillmode\":\"overlay\",\"size\":10,\"solidity\":0.2},\"type\":\"scatter\"}],\"parcoords\":[{\"type\":\"parcoords\",\"line\":{\"colorbar\":{\"outlinewidth\":0,\"ticks\":\"\"}}}],\"scatterpolargl\":[{\"type\":\"scatterpolargl\",\"marker\":{\"colorbar\":{\"outlinewidth\":0,\"ticks\":\"\"}}}],\"bar\":[{\"error_x\":{\"color\":\"#2a3f5f\"},\"error_y\":{\"color\":\"#2a3f5f\"},\"marker\":{\"line\":{\"color\":\"#E5ECF6\",\"width\":0.5},\"pattern\":{\"fillmode\":\"overlay\",\"size\":10,\"solidity\":0.2}},\"type\":\"bar\"}],\"scattergeo\":[{\"type\":\"scattergeo\",\"marker\":{\"colorbar\":{\"outlinewidth\":0,\"ticks\":\"\"}}}],\"scatterpolar\":[{\"type\":\"scatterpolar\",\"marker\":{\"colorbar\":{\"outlinewidth\":0,\"ticks\":\"\"}}}],\"histogram\":[{\"marker\":{\"pattern\":{\"fillmode\":\"overlay\",\"size\":10,\"solidity\":0.2}},\"type\":\"histogram\"}],\"scattergl\":[{\"type\":\"scattergl\",\"marker\":{\"colorbar\":{\"outlinewidth\":0,\"ticks\":\"\"}}}],\"scatter3d\":[{\"type\":\"scatter3d\",\"line\":{\"colorbar\":{\"outlinewidth\":0,\"ticks\":\"\"}},\"marker\":{\"colorbar\":{\"outlinewidth\":0,\"ticks\":\"\"}}}],\"scattermapbox\":[{\"type\":\"scattermapbox\",\"marker\":{\"colorbar\":{\"outlinewidth\":0,\"ticks\":\"\"}}}],\"scatterternary\":[{\"type\":\"scatterternary\",\"marker\":{\"colorbar\":{\"outlinewidth\":0,\"ticks\":\"\"}}}],\"scattercarpet\":[{\"type\":\"scattercarpet\",\"marker\":{\"colorbar\":{\"outlinewidth\":0,\"ticks\":\"\"}}}],\"carpet\":[{\"aaxis\":{\"endlinecolor\":\"#2a3f5f\",\"gridcolor\":\"white\",\"linecolor\":\"white\",\"minorgridcolor\":\"white\",\"startlinecolor\":\"#2a3f5f\"},\"baxis\":{\"endlinecolor\":\"#2a3f5f\",\"gridcolor\":\"white\",\"linecolor\":\"white\",\"minorgridcolor\":\"white\",\"startlinecolor\":\"#2a3f5f\"},\"type\":\"carpet\"}],\"table\":[{\"cells\":{\"fill\":{\"color\":\"#EBF0F8\"},\"line\":{\"color\":\"white\"}},\"header\":{\"fill\":{\"color\":\"#C8D4E3\"},\"line\":{\"color\":\"white\"}},\"type\":\"table\"}],\"barpolar\":[{\"marker\":{\"line\":{\"color\":\"#E5ECF6\",\"width\":0.5},\"pattern\":{\"fillmode\":\"overlay\",\"size\":10,\"solidity\":0.2}},\"type\":\"barpolar\"}],\"pie\":[{\"automargin\":true,\"type\":\"pie\"}]},\"layout\":{\"autotypenumbers\":\"strict\",\"colorway\":[\"#636efa\",\"#EF553B\",\"#00cc96\",\"#ab63fa\",\"#FFA15A\",\"#19d3f3\",\"#FF6692\",\"#B6E880\",\"#FF97FF\",\"#FECB52\"],\"font\":{\"color\":\"#2a3f5f\"},\"hovermode\":\"closest\",\"hoverlabel\":{\"align\":\"left\"},\"paper_bgcolor\":\"white\",\"plot_bgcolor\":\"#E5ECF6\",\"polar\":{\"bgcolor\":\"#E5ECF6\",\"angularaxis\":{\"gridcolor\":\"white\",\"linecolor\":\"white\",\"ticks\":\"\"},\"radialaxis\":{\"gridcolor\":\"white\",\"linecolor\":\"white\",\"ticks\":\"\"}},\"ternary\":{\"bgcolor\":\"#E5ECF6\",\"aaxis\":{\"gridcolor\":\"white\",\"linecolor\":\"white\",\"ticks\":\"\"},\"baxis\":{\"gridcolor\":\"white\",\"linecolor\":\"white\",\"ticks\":\"\"},\"caxis\":{\"gridcolor\":\"white\",\"linecolor\":\"white\",\"ticks\":\"\"}},\"coloraxis\":{\"colorbar\":{\"outlinewidth\":0,\"ticks\":\"\"}},\"colorscale\":{\"sequential\":[[0.0,\"#0d0887\"],[0.1111111111111111,\"#46039f\"],[0.2222222222222222,\"#7201a8\"],[0.3333333333333333,\"#9c179e\"],[0.4444444444444444,\"#bd3786\"],[0.5555555555555556,\"#d8576b\"],[0.6666666666666666,\"#ed7953\"],[0.7777777777777778,\"#fb9f3a\"],[0.8888888888888888,\"#fdca26\"],[1.0,\"#f0f921\"]],\"sequentialminus\":[[0.0,\"#0d0887\"],[0.1111111111111111,\"#46039f\"],[0.2222222222222222,\"#7201a8\"],[0.3333333333333333,\"#9c179e\"],[0.4444444444444444,\"#bd3786\"],[0.5555555555555556,\"#d8576b\"],[0.6666666666666666,\"#ed7953\"],[0.7777777777777778,\"#fb9f3a\"],[0.8888888888888888,\"#fdca26\"],[1.0,\"#f0f921\"]],\"diverging\":[[0,\"#8e0152\"],[0.1,\"#c51b7d\"],[0.2,\"#de77ae\"],[0.3,\"#f1b6da\"],[0.4,\"#fde0ef\"],[0.5,\"#f7f7f7\"],[0.6,\"#e6f5d0\"],[0.7,\"#b8e186\"],[0.8,\"#7fbc41\"],[0.9,\"#4d9221\"],[1,\"#276419\"]]},\"xaxis\":{\"gridcolor\":\"white\",\"linecolor\":\"white\",\"ticks\":\"\",\"title\":{\"standoff\":15},\"zerolinecolor\":\"white\",\"automargin\":true,\"zerolinewidth\":2},\"yaxis\":{\"gridcolor\":\"white\",\"linecolor\":\"white\",\"ticks\":\"\",\"title\":{\"standoff\":15},\"zerolinecolor\":\"white\",\"automargin\":true,\"zerolinewidth\":2},\"scene\":{\"xaxis\":{\"backgroundcolor\":\"#E5ECF6\",\"gridcolor\":\"white\",\"linecolor\":\"white\",\"showbackground\":true,\"ticks\":\"\",\"zerolinecolor\":\"white\",\"gridwidth\":2},\"yaxis\":{\"backgroundcolor\":\"#E5ECF6\",\"gridcolor\":\"white\",\"linecolor\":\"white\",\"showbackground\":true,\"ticks\":\"\",\"zerolinecolor\":\"white\",\"gridwidth\":2},\"zaxis\":{\"backgroundcolor\":\"#E5ECF6\",\"gridcolor\":\"white\",\"linecolor\":\"white\",\"showbackground\":true,\"ticks\":\"\",\"zerolinecolor\":\"white\",\"gridwidth\":2}},\"shapedefaults\":{\"line\":{\"color\":\"#2a3f5f\"}},\"annotationdefaults\":{\"arrowcolor\":\"#2a3f5f\",\"arrowhead\":0,\"arrowwidth\":1},\"geo\":{\"bgcolor\":\"white\",\"landcolor\":\"#E5ECF6\",\"subunitcolor\":\"white\",\"showland\":true,\"showlakes\":true,\"lakecolor\":\"white\"},\"title\":{\"x\":0.05},\"mapbox\":{\"style\":\"light\"}}},\"xaxis\":{\"anchor\":\"y\",\"domain\":[0.0,1.0],\"title\":{\"text\":\"ID del operador\"}},\"yaxis\":{\"anchor\":\"x\",\"domain\":[0.0,1.0],\"title\":{\"text\":\"Cantidad de llamadas salientes\"}},\"coloraxis\":{\"colorbar\":{\"title\":{\"text\":\"Cantidad de llamadas salientes\"}},\"colorscale\":[[0.0,\"#0d0887\"],[0.1111111111111111,\"#46039f\"],[0.2222222222222222,\"#7201a8\"],[0.3333333333333333,\"#9c179e\"],[0.4444444444444444,\"#bd3786\"],[0.5555555555555556,\"#d8576b\"],[0.6666666666666666,\"#ed7953\"],[0.7777777777777778,\"#fb9f3a\"],[0.8888888888888888,\"#fdca26\"],[1.0,\"#f0f921\"]]},\"legend\":{\"tracegroupgap\":0},\"margin\":{\"t\":60},\"barmode\":\"relative\"},                        {\"responsive\": true}                    ).then(function(){\n",
       "                            \n",
       "var gd = document.getElementById('2d904fc0-2adb-4325-b58b-4012a6f3d73a');\n",
       "var x = new MutationObserver(function (mutations, observer) {{\n",
       "        var display = window.getComputedStyle(gd).display;\n",
       "        if (!display || display === 'none') {{\n",
       "            console.log([gd, 'removed!']);\n",
       "            Plotly.purge(gd);\n",
       "            observer.disconnect();\n",
       "        }}\n",
       "}});\n",
       "\n",
       "// Listen for the removal of the full notebook cells\n",
       "var notebookContainer = gd.closest('#notebook-container');\n",
       "if (notebookContainer) {{\n",
       "    x.observe(notebookContainer, {childList: true});\n",
       "}}\n",
       "\n",
       "// Listen for the clearing of the current output cell\n",
       "var outputEl = gd.closest('.output');\n",
       "if (outputEl) {{\n",
       "    x.observe(outputEl, {childList: true});\n",
       "}}\n",
       "\n",
       "                        })                };                });            </script>        </div>"
      ]
     },
     "metadata": {},
     "output_type": "display_data"
    }
   ],
   "source": [
    "# Gráfico de top 10 operadores más ineficientes por bajo volumen de llamadas salientes\n",
    "inefficient_operators_by_outgoing_calls['operator_id'] = inefficient_operators_by_outgoing_calls['operator_id'].astype('str') # Convertimos a categoría para el gráfico\n",
    "\n",
    "fig = px.bar(inefficient_operators_by_outgoing_calls.sort_values(by='outgoing_calls_count', ascending=True).head(10),\n",
    "             x='operator_id',\n",
    "             y='outgoing_calls_count',\n",
    "             color='outgoing_calls_count',\n",
    "             text='outgoing_calls_count',\n",
    "             labels={'operator_id': 'ID del operador', 'outgoing_calls_count': 'Cantidad de llamadas salientes'},\n",
    "             title='Top 10 operadores ineficientes por volumen de llamadas salientes'\n",
    "             )\n",
    "fig.show()"
   ]
  },
  {
   "cell_type": "markdown",
   "id": "a2cb2d29",
   "metadata": {},
   "source": [
    "Claramente tenemos muchos operadores que solamente hacen 1 llamada, cuando se espera que realicen más."
   ]
  },
  {
   "cell_type": "markdown",
   "id": "59b73f91",
   "metadata": {},
   "source": [
    "#### **Análisis de Relación de Métricas**\n",
    "* direction + internal -> ¿las llamadas internas son más comunes en cierto tipo de dirección?\n",
    "* is_missed_call + internal -> ¿las llamadas internas son las más perdidas?\n",
    "* calls_count + operator_id -> ¿algunos operadores tienen más llamadas recibidas o hechas que otros?"
   ]
  },
  {
   "cell_type": "code",
   "execution_count": 155,
   "id": "ef91ad53",
   "metadata": {},
   "outputs": [
    {
     "name": "stderr",
     "output_type": "stream",
     "text": [
      "C:\\Users\\Andrea\\AppData\\Local\\Temp\\ipykernel_20936\\727181095.py:1: FutureWarning:\n",
      "\n",
      "The default of observed=False is deprecated and will be changed to True in a future version of pandas. Pass observed=False to retain current behavior or observed=True to adopt the future default and silence this warning.\n",
      "\n"
     ]
    },
    {
     "name": "stdout",
     "output_type": "stream",
     "text": [
      "  direction  internal  is_missed_call  calls_count\n",
      "0        in         0               0        92786\n",
      "1        in         0               1       103219\n",
      "2        in         1               0          677\n",
      "3        in         1               1          944\n",
      "4       out         0               0       329306\n",
      "5       out         0               1       266518\n",
      "6       out         1               0         7963\n",
      "7       out         1               1         5071\n"
     ]
    }
   ],
   "source": [
    "direction_and_internal = telecom_df.groupby(['direction','internal', 'is_missed_call'])['calls_count'].sum().reset_index()\n",
    "\n",
    "print(direction_and_internal)"
   ]
  },
  {
   "cell_type": "code",
   "execution_count": 156,
   "id": "82a12392",
   "metadata": {},
   "outputs": [
    {
     "name": "stderr",
     "output_type": "stream",
     "text": [
      "C:\\Users\\Andrea\\AppData\\Local\\Temp\\ipykernel_20936\\2730063093.py:2: FutureWarning:\n",
      "\n",
      "The default of observed=False is deprecated and will be changed to True in a future version of pandas. Pass observed=False to retain current behavior or observed=True to adopt the future default and silence this warning.\n",
      "\n"
     ]
    },
    {
     "name": "stdout",
     "output_type": "stream",
     "text": [
      "  direction  internal  calls_count\n",
      "0        in         0       196005\n",
      "1        in         1         1621\n",
      "2       out         0       595824\n",
      "3       out         1        13034\n"
     ]
    }
   ],
   "source": [
    "# ¿Las llamadas internas en cierto tipo de dirección son más comunes?\n",
    "print(direction_and_internal.groupby(['direction', 'internal'])['calls_count'].sum().reset_index())"
   ]
  },
  {
   "cell_type": "markdown",
   "id": "6cb4a3d8",
   "metadata": {},
   "source": [
    "Las llamadas internas son más comunes en cuando se hacen que cuando se reciben. Sin embargo, las que no son internas, aproximadamente la mitad de las llamadas totales se pierden."
   ]
  },
  {
   "cell_type": "code",
   "execution_count": 157,
   "id": "3f42435c",
   "metadata": {},
   "outputs": [
    {
     "data": {
      "application/vnd.plotly.v1+json": {
       "config": {
        "plotlyServerURL": "https://plot.ly"
       },
       "data": [
        {
         "alignmentgroup": "True",
         "hovertemplate": "Es llamada interna=0<br>Dirección=%{x}<br>Cantidad de llamadas=%{text}<br>Es llamada perdida=%{marker.color}<extra></extra>",
         "legendgroup": "",
         "marker": {
          "color": [
           0,
           1,
           0,
           1
          ],
          "coloraxis": "coloraxis",
          "pattern": {
           "shape": ""
          }
         },
         "name": "",
         "offsetgroup": "",
         "orientation": "v",
         "showlegend": false,
         "text": [
          92786,
          103219,
          329306,
          266518
         ],
         "textposition": "auto",
         "type": "bar",
         "x": [
          "in",
          "in",
          "out",
          "out"
         ],
         "xaxis": "x",
         "y": [
          92786,
          103219,
          329306,
          266518
         ],
         "yaxis": "y"
        },
        {
         "alignmentgroup": "True",
         "hovertemplate": "Es llamada interna=1<br>Dirección=%{x}<br>Cantidad de llamadas=%{text}<br>Es llamada perdida=%{marker.color}<extra></extra>",
         "legendgroup": "",
         "marker": {
          "color": [
           0,
           1,
           0,
           1
          ],
          "coloraxis": "coloraxis",
          "pattern": {
           "shape": ""
          }
         },
         "name": "",
         "offsetgroup": "",
         "orientation": "v",
         "showlegend": false,
         "text": [
          677,
          944,
          7963,
          5071
         ],
         "textposition": "auto",
         "type": "bar",
         "x": [
          "in",
          "in",
          "out",
          "out"
         ],
         "xaxis": "x2",
         "y": [
          677,
          944,
          7963,
          5071
         ],
         "yaxis": "y2"
        }
       ],
       "layout": {
        "annotations": [
         {
          "font": {},
          "showarrow": false,
          "text": "Es llamada interna=0",
          "x": 0.245,
          "xanchor": "center",
          "xref": "paper",
          "y": 1,
          "yanchor": "bottom",
          "yref": "paper"
         },
         {
          "font": {},
          "showarrow": false,
          "text": "Es llamada interna=1",
          "x": 0.755,
          "xanchor": "center",
          "xref": "paper",
          "y": 1,
          "yanchor": "bottom",
          "yref": "paper"
         }
        ],
        "barmode": "group",
        "coloraxis": {
         "colorbar": {
          "title": {
           "text": "Es llamada perdida"
          }
         },
         "colorscale": [
          [
           0,
           "#0d0887"
          ],
          [
           0.1111111111111111,
           "#46039f"
          ],
          [
           0.2222222222222222,
           "#7201a8"
          ],
          [
           0.3333333333333333,
           "#9c179e"
          ],
          [
           0.4444444444444444,
           "#bd3786"
          ],
          [
           0.5555555555555556,
           "#d8576b"
          ],
          [
           0.6666666666666666,
           "#ed7953"
          ],
          [
           0.7777777777777778,
           "#fb9f3a"
          ],
          [
           0.8888888888888888,
           "#fdca26"
          ],
          [
           1,
           "#f0f921"
          ]
         ]
        },
        "legend": {
         "tracegroupgap": 0
        },
        "template": {
         "data": {
          "bar": [
           {
            "error_x": {
             "color": "#2a3f5f"
            },
            "error_y": {
             "color": "#2a3f5f"
            },
            "marker": {
             "line": {
              "color": "#E5ECF6",
              "width": 0.5
             },
             "pattern": {
              "fillmode": "overlay",
              "size": 10,
              "solidity": 0.2
             }
            },
            "type": "bar"
           }
          ],
          "barpolar": [
           {
            "marker": {
             "line": {
              "color": "#E5ECF6",
              "width": 0.5
             },
             "pattern": {
              "fillmode": "overlay",
              "size": 10,
              "solidity": 0.2
             }
            },
            "type": "barpolar"
           }
          ],
          "carpet": [
           {
            "aaxis": {
             "endlinecolor": "#2a3f5f",
             "gridcolor": "white",
             "linecolor": "white",
             "minorgridcolor": "white",
             "startlinecolor": "#2a3f5f"
            },
            "baxis": {
             "endlinecolor": "#2a3f5f",
             "gridcolor": "white",
             "linecolor": "white",
             "minorgridcolor": "white",
             "startlinecolor": "#2a3f5f"
            },
            "type": "carpet"
           }
          ],
          "choropleth": [
           {
            "colorbar": {
             "outlinewidth": 0,
             "ticks": ""
            },
            "type": "choropleth"
           }
          ],
          "contour": [
           {
            "colorbar": {
             "outlinewidth": 0,
             "ticks": ""
            },
            "colorscale": [
             [
              0,
              "#0d0887"
             ],
             [
              0.1111111111111111,
              "#46039f"
             ],
             [
              0.2222222222222222,
              "#7201a8"
             ],
             [
              0.3333333333333333,
              "#9c179e"
             ],
             [
              0.4444444444444444,
              "#bd3786"
             ],
             [
              0.5555555555555556,
              "#d8576b"
             ],
             [
              0.6666666666666666,
              "#ed7953"
             ],
             [
              0.7777777777777778,
              "#fb9f3a"
             ],
             [
              0.8888888888888888,
              "#fdca26"
             ],
             [
              1,
              "#f0f921"
             ]
            ],
            "type": "contour"
           }
          ],
          "contourcarpet": [
           {
            "colorbar": {
             "outlinewidth": 0,
             "ticks": ""
            },
            "type": "contourcarpet"
           }
          ],
          "heatmap": [
           {
            "colorbar": {
             "outlinewidth": 0,
             "ticks": ""
            },
            "colorscale": [
             [
              0,
              "#0d0887"
             ],
             [
              0.1111111111111111,
              "#46039f"
             ],
             [
              0.2222222222222222,
              "#7201a8"
             ],
             [
              0.3333333333333333,
              "#9c179e"
             ],
             [
              0.4444444444444444,
              "#bd3786"
             ],
             [
              0.5555555555555556,
              "#d8576b"
             ],
             [
              0.6666666666666666,
              "#ed7953"
             ],
             [
              0.7777777777777778,
              "#fb9f3a"
             ],
             [
              0.8888888888888888,
              "#fdca26"
             ],
             [
              1,
              "#f0f921"
             ]
            ],
            "type": "heatmap"
           }
          ],
          "heatmapgl": [
           {
            "colorbar": {
             "outlinewidth": 0,
             "ticks": ""
            },
            "colorscale": [
             [
              0,
              "#0d0887"
             ],
             [
              0.1111111111111111,
              "#46039f"
             ],
             [
              0.2222222222222222,
              "#7201a8"
             ],
             [
              0.3333333333333333,
              "#9c179e"
             ],
             [
              0.4444444444444444,
              "#bd3786"
             ],
             [
              0.5555555555555556,
              "#d8576b"
             ],
             [
              0.6666666666666666,
              "#ed7953"
             ],
             [
              0.7777777777777778,
              "#fb9f3a"
             ],
             [
              0.8888888888888888,
              "#fdca26"
             ],
             [
              1,
              "#f0f921"
             ]
            ],
            "type": "heatmapgl"
           }
          ],
          "histogram": [
           {
            "marker": {
             "pattern": {
              "fillmode": "overlay",
              "size": 10,
              "solidity": 0.2
             }
            },
            "type": "histogram"
           }
          ],
          "histogram2d": [
           {
            "colorbar": {
             "outlinewidth": 0,
             "ticks": ""
            },
            "colorscale": [
             [
              0,
              "#0d0887"
             ],
             [
              0.1111111111111111,
              "#46039f"
             ],
             [
              0.2222222222222222,
              "#7201a8"
             ],
             [
              0.3333333333333333,
              "#9c179e"
             ],
             [
              0.4444444444444444,
              "#bd3786"
             ],
             [
              0.5555555555555556,
              "#d8576b"
             ],
             [
              0.6666666666666666,
              "#ed7953"
             ],
             [
              0.7777777777777778,
              "#fb9f3a"
             ],
             [
              0.8888888888888888,
              "#fdca26"
             ],
             [
              1,
              "#f0f921"
             ]
            ],
            "type": "histogram2d"
           }
          ],
          "histogram2dcontour": [
           {
            "colorbar": {
             "outlinewidth": 0,
             "ticks": ""
            },
            "colorscale": [
             [
              0,
              "#0d0887"
             ],
             [
              0.1111111111111111,
              "#46039f"
             ],
             [
              0.2222222222222222,
              "#7201a8"
             ],
             [
              0.3333333333333333,
              "#9c179e"
             ],
             [
              0.4444444444444444,
              "#bd3786"
             ],
             [
              0.5555555555555556,
              "#d8576b"
             ],
             [
              0.6666666666666666,
              "#ed7953"
             ],
             [
              0.7777777777777778,
              "#fb9f3a"
             ],
             [
              0.8888888888888888,
              "#fdca26"
             ],
             [
              1,
              "#f0f921"
             ]
            ],
            "type": "histogram2dcontour"
           }
          ],
          "mesh3d": [
           {
            "colorbar": {
             "outlinewidth": 0,
             "ticks": ""
            },
            "type": "mesh3d"
           }
          ],
          "parcoords": [
           {
            "line": {
             "colorbar": {
              "outlinewidth": 0,
              "ticks": ""
             }
            },
            "type": "parcoords"
           }
          ],
          "pie": [
           {
            "automargin": true,
            "type": "pie"
           }
          ],
          "scatter": [
           {
            "fillpattern": {
             "fillmode": "overlay",
             "size": 10,
             "solidity": 0.2
            },
            "type": "scatter"
           }
          ],
          "scatter3d": [
           {
            "line": {
             "colorbar": {
              "outlinewidth": 0,
              "ticks": ""
             }
            },
            "marker": {
             "colorbar": {
              "outlinewidth": 0,
              "ticks": ""
             }
            },
            "type": "scatter3d"
           }
          ],
          "scattercarpet": [
           {
            "marker": {
             "colorbar": {
              "outlinewidth": 0,
              "ticks": ""
             }
            },
            "type": "scattercarpet"
           }
          ],
          "scattergeo": [
           {
            "marker": {
             "colorbar": {
              "outlinewidth": 0,
              "ticks": ""
             }
            },
            "type": "scattergeo"
           }
          ],
          "scattergl": [
           {
            "marker": {
             "colorbar": {
              "outlinewidth": 0,
              "ticks": ""
             }
            },
            "type": "scattergl"
           }
          ],
          "scattermapbox": [
           {
            "marker": {
             "colorbar": {
              "outlinewidth": 0,
              "ticks": ""
             }
            },
            "type": "scattermapbox"
           }
          ],
          "scatterpolar": [
           {
            "marker": {
             "colorbar": {
              "outlinewidth": 0,
              "ticks": ""
             }
            },
            "type": "scatterpolar"
           }
          ],
          "scatterpolargl": [
           {
            "marker": {
             "colorbar": {
              "outlinewidth": 0,
              "ticks": ""
             }
            },
            "type": "scatterpolargl"
           }
          ],
          "scatterternary": [
           {
            "marker": {
             "colorbar": {
              "outlinewidth": 0,
              "ticks": ""
             }
            },
            "type": "scatterternary"
           }
          ],
          "surface": [
           {
            "colorbar": {
             "outlinewidth": 0,
             "ticks": ""
            },
            "colorscale": [
             [
              0,
              "#0d0887"
             ],
             [
              0.1111111111111111,
              "#46039f"
             ],
             [
              0.2222222222222222,
              "#7201a8"
             ],
             [
              0.3333333333333333,
              "#9c179e"
             ],
             [
              0.4444444444444444,
              "#bd3786"
             ],
             [
              0.5555555555555556,
              "#d8576b"
             ],
             [
              0.6666666666666666,
              "#ed7953"
             ],
             [
              0.7777777777777778,
              "#fb9f3a"
             ],
             [
              0.8888888888888888,
              "#fdca26"
             ],
             [
              1,
              "#f0f921"
             ]
            ],
            "type": "surface"
           }
          ],
          "table": [
           {
            "cells": {
             "fill": {
              "color": "#EBF0F8"
             },
             "line": {
              "color": "white"
             }
            },
            "header": {
             "fill": {
              "color": "#C8D4E3"
             },
             "line": {
              "color": "white"
             }
            },
            "type": "table"
           }
          ]
         },
         "layout": {
          "annotationdefaults": {
           "arrowcolor": "#2a3f5f",
           "arrowhead": 0,
           "arrowwidth": 1
          },
          "autotypenumbers": "strict",
          "coloraxis": {
           "colorbar": {
            "outlinewidth": 0,
            "ticks": ""
           }
          },
          "colorscale": {
           "diverging": [
            [
             0,
             "#8e0152"
            ],
            [
             0.1,
             "#c51b7d"
            ],
            [
             0.2,
             "#de77ae"
            ],
            [
             0.3,
             "#f1b6da"
            ],
            [
             0.4,
             "#fde0ef"
            ],
            [
             0.5,
             "#f7f7f7"
            ],
            [
             0.6,
             "#e6f5d0"
            ],
            [
             0.7,
             "#b8e186"
            ],
            [
             0.8,
             "#7fbc41"
            ],
            [
             0.9,
             "#4d9221"
            ],
            [
             1,
             "#276419"
            ]
           ],
           "sequential": [
            [
             0,
             "#0d0887"
            ],
            [
             0.1111111111111111,
             "#46039f"
            ],
            [
             0.2222222222222222,
             "#7201a8"
            ],
            [
             0.3333333333333333,
             "#9c179e"
            ],
            [
             0.4444444444444444,
             "#bd3786"
            ],
            [
             0.5555555555555556,
             "#d8576b"
            ],
            [
             0.6666666666666666,
             "#ed7953"
            ],
            [
             0.7777777777777778,
             "#fb9f3a"
            ],
            [
             0.8888888888888888,
             "#fdca26"
            ],
            [
             1,
             "#f0f921"
            ]
           ],
           "sequentialminus": [
            [
             0,
             "#0d0887"
            ],
            [
             0.1111111111111111,
             "#46039f"
            ],
            [
             0.2222222222222222,
             "#7201a8"
            ],
            [
             0.3333333333333333,
             "#9c179e"
            ],
            [
             0.4444444444444444,
             "#bd3786"
            ],
            [
             0.5555555555555556,
             "#d8576b"
            ],
            [
             0.6666666666666666,
             "#ed7953"
            ],
            [
             0.7777777777777778,
             "#fb9f3a"
            ],
            [
             0.8888888888888888,
             "#fdca26"
            ],
            [
             1,
             "#f0f921"
            ]
           ]
          },
          "colorway": [
           "#636efa",
           "#EF553B",
           "#00cc96",
           "#ab63fa",
           "#FFA15A",
           "#19d3f3",
           "#FF6692",
           "#B6E880",
           "#FF97FF",
           "#FECB52"
          ],
          "font": {
           "color": "#2a3f5f"
          },
          "geo": {
           "bgcolor": "white",
           "lakecolor": "white",
           "landcolor": "#E5ECF6",
           "showlakes": true,
           "showland": true,
           "subunitcolor": "white"
          },
          "hoverlabel": {
           "align": "left"
          },
          "hovermode": "closest",
          "mapbox": {
           "style": "light"
          },
          "paper_bgcolor": "white",
          "plot_bgcolor": "#E5ECF6",
          "polar": {
           "angularaxis": {
            "gridcolor": "white",
            "linecolor": "white",
            "ticks": ""
           },
           "bgcolor": "#E5ECF6",
           "radialaxis": {
            "gridcolor": "white",
            "linecolor": "white",
            "ticks": ""
           }
          },
          "scene": {
           "xaxis": {
            "backgroundcolor": "#E5ECF6",
            "gridcolor": "white",
            "gridwidth": 2,
            "linecolor": "white",
            "showbackground": true,
            "ticks": "",
            "zerolinecolor": "white"
           },
           "yaxis": {
            "backgroundcolor": "#E5ECF6",
            "gridcolor": "white",
            "gridwidth": 2,
            "linecolor": "white",
            "showbackground": true,
            "ticks": "",
            "zerolinecolor": "white"
           },
           "zaxis": {
            "backgroundcolor": "#E5ECF6",
            "gridcolor": "white",
            "gridwidth": 2,
            "linecolor": "white",
            "showbackground": true,
            "ticks": "",
            "zerolinecolor": "white"
           }
          },
          "shapedefaults": {
           "line": {
            "color": "#2a3f5f"
           }
          },
          "ternary": {
           "aaxis": {
            "gridcolor": "white",
            "linecolor": "white",
            "ticks": ""
           },
           "baxis": {
            "gridcolor": "white",
            "linecolor": "white",
            "ticks": ""
           },
           "bgcolor": "#E5ECF6",
           "caxis": {
            "gridcolor": "white",
            "linecolor": "white",
            "ticks": ""
           }
          },
          "title": {
           "x": 0.05
          },
          "xaxis": {
           "automargin": true,
           "gridcolor": "white",
           "linecolor": "white",
           "ticks": "",
           "title": {
            "standoff": 15
           },
           "zerolinecolor": "white",
           "zerolinewidth": 2
          },
          "yaxis": {
           "automargin": true,
           "gridcolor": "white",
           "linecolor": "white",
           "ticks": "",
           "title": {
            "standoff": 15
           },
           "zerolinecolor": "white",
           "zerolinewidth": 2
          }
         }
        },
        "title": {
         "text": "Distribución de llamadas perdidas por dirección y llamadas internas"
        },
        "xaxis": {
         "anchor": "y",
         "domain": [
          0,
          0.49
         ],
         "title": {
          "text": "Dirección"
         }
        },
        "xaxis2": {
         "anchor": "y2",
         "domain": [
          0.51,
          1
         ],
         "matches": "x",
         "title": {
          "text": "Dirección"
         }
        },
        "yaxis": {
         "anchor": "x",
         "domain": [
          0,
          1
         ],
         "title": {
          "text": "Cantidad de llamadas"
         }
        },
        "yaxis2": {
         "anchor": "x2",
         "domain": [
          0,
          1
         ],
         "matches": "y",
         "showticklabels": false
        }
       }
      },
      "text/html": [
       "<div>                            <div id=\"a0b53ea0-fdde-45b7-84b2-76ae13b1522c\" class=\"plotly-graph-div\" style=\"height:525px; width:100%;\"></div>            <script type=\"text/javascript\">                require([\"plotly\"], function(Plotly) {                    window.PLOTLYENV=window.PLOTLYENV || {};                                    if (document.getElementById(\"a0b53ea0-fdde-45b7-84b2-76ae13b1522c\")) {                    Plotly.newPlot(                        \"a0b53ea0-fdde-45b7-84b2-76ae13b1522c\",                        [{\"alignmentgroup\":\"True\",\"hovertemplate\":\"Es llamada interna=0\\u003cbr\\u003eDirecci\\u00f3n=%{x}\\u003cbr\\u003eCantidad de llamadas=%{text}\\u003cbr\\u003eEs llamada perdida=%{marker.color}\\u003cextra\\u003e\\u003c\\u002fextra\\u003e\",\"legendgroup\":\"\",\"marker\":{\"color\":[0,1,0,1],\"coloraxis\":\"coloraxis\",\"pattern\":{\"shape\":\"\"}},\"name\":\"\",\"offsetgroup\":\"\",\"orientation\":\"v\",\"showlegend\":false,\"text\":[92786.0,103219.0,329306.0,266518.0],\"textposition\":\"auto\",\"x\":[\"in\",\"in\",\"out\",\"out\"],\"xaxis\":\"x\",\"y\":[92786,103219,329306,266518],\"yaxis\":\"y\",\"type\":\"bar\"},{\"alignmentgroup\":\"True\",\"hovertemplate\":\"Es llamada interna=1\\u003cbr\\u003eDirecci\\u00f3n=%{x}\\u003cbr\\u003eCantidad de llamadas=%{text}\\u003cbr\\u003eEs llamada perdida=%{marker.color}\\u003cextra\\u003e\\u003c\\u002fextra\\u003e\",\"legendgroup\":\"\",\"marker\":{\"color\":[0,1,0,1],\"coloraxis\":\"coloraxis\",\"pattern\":{\"shape\":\"\"}},\"name\":\"\",\"offsetgroup\":\"\",\"orientation\":\"v\",\"showlegend\":false,\"text\":[677.0,944.0,7963.0,5071.0],\"textposition\":\"auto\",\"x\":[\"in\",\"in\",\"out\",\"out\"],\"xaxis\":\"x2\",\"y\":[677,944,7963,5071],\"yaxis\":\"y2\",\"type\":\"bar\"}],                        {\"template\":{\"data\":{\"histogram2dcontour\":[{\"type\":\"histogram2dcontour\",\"colorbar\":{\"outlinewidth\":0,\"ticks\":\"\"},\"colorscale\":[[0.0,\"#0d0887\"],[0.1111111111111111,\"#46039f\"],[0.2222222222222222,\"#7201a8\"],[0.3333333333333333,\"#9c179e\"],[0.4444444444444444,\"#bd3786\"],[0.5555555555555556,\"#d8576b\"],[0.6666666666666666,\"#ed7953\"],[0.7777777777777778,\"#fb9f3a\"],[0.8888888888888888,\"#fdca26\"],[1.0,\"#f0f921\"]]}],\"choropleth\":[{\"type\":\"choropleth\",\"colorbar\":{\"outlinewidth\":0,\"ticks\":\"\"}}],\"histogram2d\":[{\"type\":\"histogram2d\",\"colorbar\":{\"outlinewidth\":0,\"ticks\":\"\"},\"colorscale\":[[0.0,\"#0d0887\"],[0.1111111111111111,\"#46039f\"],[0.2222222222222222,\"#7201a8\"],[0.3333333333333333,\"#9c179e\"],[0.4444444444444444,\"#bd3786\"],[0.5555555555555556,\"#d8576b\"],[0.6666666666666666,\"#ed7953\"],[0.7777777777777778,\"#fb9f3a\"],[0.8888888888888888,\"#fdca26\"],[1.0,\"#f0f921\"]]}],\"heatmap\":[{\"type\":\"heatmap\",\"colorbar\":{\"outlinewidth\":0,\"ticks\":\"\"},\"colorscale\":[[0.0,\"#0d0887\"],[0.1111111111111111,\"#46039f\"],[0.2222222222222222,\"#7201a8\"],[0.3333333333333333,\"#9c179e\"],[0.4444444444444444,\"#bd3786\"],[0.5555555555555556,\"#d8576b\"],[0.6666666666666666,\"#ed7953\"],[0.7777777777777778,\"#fb9f3a\"],[0.8888888888888888,\"#fdca26\"],[1.0,\"#f0f921\"]]}],\"heatmapgl\":[{\"type\":\"heatmapgl\",\"colorbar\":{\"outlinewidth\":0,\"ticks\":\"\"},\"colorscale\":[[0.0,\"#0d0887\"],[0.1111111111111111,\"#46039f\"],[0.2222222222222222,\"#7201a8\"],[0.3333333333333333,\"#9c179e\"],[0.4444444444444444,\"#bd3786\"],[0.5555555555555556,\"#d8576b\"],[0.6666666666666666,\"#ed7953\"],[0.7777777777777778,\"#fb9f3a\"],[0.8888888888888888,\"#fdca26\"],[1.0,\"#f0f921\"]]}],\"contourcarpet\":[{\"type\":\"contourcarpet\",\"colorbar\":{\"outlinewidth\":0,\"ticks\":\"\"}}],\"contour\":[{\"type\":\"contour\",\"colorbar\":{\"outlinewidth\":0,\"ticks\":\"\"},\"colorscale\":[[0.0,\"#0d0887\"],[0.1111111111111111,\"#46039f\"],[0.2222222222222222,\"#7201a8\"],[0.3333333333333333,\"#9c179e\"],[0.4444444444444444,\"#bd3786\"],[0.5555555555555556,\"#d8576b\"],[0.6666666666666666,\"#ed7953\"],[0.7777777777777778,\"#fb9f3a\"],[0.8888888888888888,\"#fdca26\"],[1.0,\"#f0f921\"]]}],\"surface\":[{\"type\":\"surface\",\"colorbar\":{\"outlinewidth\":0,\"ticks\":\"\"},\"colorscale\":[[0.0,\"#0d0887\"],[0.1111111111111111,\"#46039f\"],[0.2222222222222222,\"#7201a8\"],[0.3333333333333333,\"#9c179e\"],[0.4444444444444444,\"#bd3786\"],[0.5555555555555556,\"#d8576b\"],[0.6666666666666666,\"#ed7953\"],[0.7777777777777778,\"#fb9f3a\"],[0.8888888888888888,\"#fdca26\"],[1.0,\"#f0f921\"]]}],\"mesh3d\":[{\"type\":\"mesh3d\",\"colorbar\":{\"outlinewidth\":0,\"ticks\":\"\"}}],\"scatter\":[{\"fillpattern\":{\"fillmode\":\"overlay\",\"size\":10,\"solidity\":0.2},\"type\":\"scatter\"}],\"parcoords\":[{\"type\":\"parcoords\",\"line\":{\"colorbar\":{\"outlinewidth\":0,\"ticks\":\"\"}}}],\"scatterpolargl\":[{\"type\":\"scatterpolargl\",\"marker\":{\"colorbar\":{\"outlinewidth\":0,\"ticks\":\"\"}}}],\"bar\":[{\"error_x\":{\"color\":\"#2a3f5f\"},\"error_y\":{\"color\":\"#2a3f5f\"},\"marker\":{\"line\":{\"color\":\"#E5ECF6\",\"width\":0.5},\"pattern\":{\"fillmode\":\"overlay\",\"size\":10,\"solidity\":0.2}},\"type\":\"bar\"}],\"scattergeo\":[{\"type\":\"scattergeo\",\"marker\":{\"colorbar\":{\"outlinewidth\":0,\"ticks\":\"\"}}}],\"scatterpolar\":[{\"type\":\"scatterpolar\",\"marker\":{\"colorbar\":{\"outlinewidth\":0,\"ticks\":\"\"}}}],\"histogram\":[{\"marker\":{\"pattern\":{\"fillmode\":\"overlay\",\"size\":10,\"solidity\":0.2}},\"type\":\"histogram\"}],\"scattergl\":[{\"type\":\"scattergl\",\"marker\":{\"colorbar\":{\"outlinewidth\":0,\"ticks\":\"\"}}}],\"scatter3d\":[{\"type\":\"scatter3d\",\"line\":{\"colorbar\":{\"outlinewidth\":0,\"ticks\":\"\"}},\"marker\":{\"colorbar\":{\"outlinewidth\":0,\"ticks\":\"\"}}}],\"scattermapbox\":[{\"type\":\"scattermapbox\",\"marker\":{\"colorbar\":{\"outlinewidth\":0,\"ticks\":\"\"}}}],\"scatterternary\":[{\"type\":\"scatterternary\",\"marker\":{\"colorbar\":{\"outlinewidth\":0,\"ticks\":\"\"}}}],\"scattercarpet\":[{\"type\":\"scattercarpet\",\"marker\":{\"colorbar\":{\"outlinewidth\":0,\"ticks\":\"\"}}}],\"carpet\":[{\"aaxis\":{\"endlinecolor\":\"#2a3f5f\",\"gridcolor\":\"white\",\"linecolor\":\"white\",\"minorgridcolor\":\"white\",\"startlinecolor\":\"#2a3f5f\"},\"baxis\":{\"endlinecolor\":\"#2a3f5f\",\"gridcolor\":\"white\",\"linecolor\":\"white\",\"minorgridcolor\":\"white\",\"startlinecolor\":\"#2a3f5f\"},\"type\":\"carpet\"}],\"table\":[{\"cells\":{\"fill\":{\"color\":\"#EBF0F8\"},\"line\":{\"color\":\"white\"}},\"header\":{\"fill\":{\"color\":\"#C8D4E3\"},\"line\":{\"color\":\"white\"}},\"type\":\"table\"}],\"barpolar\":[{\"marker\":{\"line\":{\"color\":\"#E5ECF6\",\"width\":0.5},\"pattern\":{\"fillmode\":\"overlay\",\"size\":10,\"solidity\":0.2}},\"type\":\"barpolar\"}],\"pie\":[{\"automargin\":true,\"type\":\"pie\"}]},\"layout\":{\"autotypenumbers\":\"strict\",\"colorway\":[\"#636efa\",\"#EF553B\",\"#00cc96\",\"#ab63fa\",\"#FFA15A\",\"#19d3f3\",\"#FF6692\",\"#B6E880\",\"#FF97FF\",\"#FECB52\"],\"font\":{\"color\":\"#2a3f5f\"},\"hovermode\":\"closest\",\"hoverlabel\":{\"align\":\"left\"},\"paper_bgcolor\":\"white\",\"plot_bgcolor\":\"#E5ECF6\",\"polar\":{\"bgcolor\":\"#E5ECF6\",\"angularaxis\":{\"gridcolor\":\"white\",\"linecolor\":\"white\",\"ticks\":\"\"},\"radialaxis\":{\"gridcolor\":\"white\",\"linecolor\":\"white\",\"ticks\":\"\"}},\"ternary\":{\"bgcolor\":\"#E5ECF6\",\"aaxis\":{\"gridcolor\":\"white\",\"linecolor\":\"white\",\"ticks\":\"\"},\"baxis\":{\"gridcolor\":\"white\",\"linecolor\":\"white\",\"ticks\":\"\"},\"caxis\":{\"gridcolor\":\"white\",\"linecolor\":\"white\",\"ticks\":\"\"}},\"coloraxis\":{\"colorbar\":{\"outlinewidth\":0,\"ticks\":\"\"}},\"colorscale\":{\"sequential\":[[0.0,\"#0d0887\"],[0.1111111111111111,\"#46039f\"],[0.2222222222222222,\"#7201a8\"],[0.3333333333333333,\"#9c179e\"],[0.4444444444444444,\"#bd3786\"],[0.5555555555555556,\"#d8576b\"],[0.6666666666666666,\"#ed7953\"],[0.7777777777777778,\"#fb9f3a\"],[0.8888888888888888,\"#fdca26\"],[1.0,\"#f0f921\"]],\"sequentialminus\":[[0.0,\"#0d0887\"],[0.1111111111111111,\"#46039f\"],[0.2222222222222222,\"#7201a8\"],[0.3333333333333333,\"#9c179e\"],[0.4444444444444444,\"#bd3786\"],[0.5555555555555556,\"#d8576b\"],[0.6666666666666666,\"#ed7953\"],[0.7777777777777778,\"#fb9f3a\"],[0.8888888888888888,\"#fdca26\"],[1.0,\"#f0f921\"]],\"diverging\":[[0,\"#8e0152\"],[0.1,\"#c51b7d\"],[0.2,\"#de77ae\"],[0.3,\"#f1b6da\"],[0.4,\"#fde0ef\"],[0.5,\"#f7f7f7\"],[0.6,\"#e6f5d0\"],[0.7,\"#b8e186\"],[0.8,\"#7fbc41\"],[0.9,\"#4d9221\"],[1,\"#276419\"]]},\"xaxis\":{\"gridcolor\":\"white\",\"linecolor\":\"white\",\"ticks\":\"\",\"title\":{\"standoff\":15},\"zerolinecolor\":\"white\",\"automargin\":true,\"zerolinewidth\":2},\"yaxis\":{\"gridcolor\":\"white\",\"linecolor\":\"white\",\"ticks\":\"\",\"title\":{\"standoff\":15},\"zerolinecolor\":\"white\",\"automargin\":true,\"zerolinewidth\":2},\"scene\":{\"xaxis\":{\"backgroundcolor\":\"#E5ECF6\",\"gridcolor\":\"white\",\"linecolor\":\"white\",\"showbackground\":true,\"ticks\":\"\",\"zerolinecolor\":\"white\",\"gridwidth\":2},\"yaxis\":{\"backgroundcolor\":\"#E5ECF6\",\"gridcolor\":\"white\",\"linecolor\":\"white\",\"showbackground\":true,\"ticks\":\"\",\"zerolinecolor\":\"white\",\"gridwidth\":2},\"zaxis\":{\"backgroundcolor\":\"#E5ECF6\",\"gridcolor\":\"white\",\"linecolor\":\"white\",\"showbackground\":true,\"ticks\":\"\",\"zerolinecolor\":\"white\",\"gridwidth\":2}},\"shapedefaults\":{\"line\":{\"color\":\"#2a3f5f\"}},\"annotationdefaults\":{\"arrowcolor\":\"#2a3f5f\",\"arrowhead\":0,\"arrowwidth\":1},\"geo\":{\"bgcolor\":\"white\",\"landcolor\":\"#E5ECF6\",\"subunitcolor\":\"white\",\"showland\":true,\"showlakes\":true,\"lakecolor\":\"white\"},\"title\":{\"x\":0.05},\"mapbox\":{\"style\":\"light\"}}},\"xaxis\":{\"anchor\":\"y\",\"domain\":[0.0,0.49],\"title\":{\"text\":\"Direcci\\u00f3n\"}},\"yaxis\":{\"anchor\":\"x\",\"domain\":[0.0,1.0],\"title\":{\"text\":\"Cantidad de llamadas\"}},\"xaxis2\":{\"anchor\":\"y2\",\"domain\":[0.51,1.0],\"matches\":\"x\",\"title\":{\"text\":\"Direcci\\u00f3n\"}},\"yaxis2\":{\"anchor\":\"x2\",\"domain\":[0.0,1.0],\"matches\":\"y\",\"showticklabels\":false},\"annotations\":[{\"font\":{},\"showarrow\":false,\"text\":\"Es llamada interna=0\",\"x\":0.245,\"xanchor\":\"center\",\"xref\":\"paper\",\"y\":1.0,\"yanchor\":\"bottom\",\"yref\":\"paper\"},{\"font\":{},\"showarrow\":false,\"text\":\"Es llamada interna=1\",\"x\":0.755,\"xanchor\":\"center\",\"xref\":\"paper\",\"y\":1.0,\"yanchor\":\"bottom\",\"yref\":\"paper\"}],\"coloraxis\":{\"colorbar\":{\"title\":{\"text\":\"Es llamada perdida\"}},\"colorscale\":[[0.0,\"#0d0887\"],[0.1111111111111111,\"#46039f\"],[0.2222222222222222,\"#7201a8\"],[0.3333333333333333,\"#9c179e\"],[0.4444444444444444,\"#bd3786\"],[0.5555555555555556,\"#d8576b\"],[0.6666666666666666,\"#ed7953\"],[0.7777777777777778,\"#fb9f3a\"],[0.8888888888888888,\"#fdca26\"],[1.0,\"#f0f921\"]]},\"legend\":{\"tracegroupgap\":0},\"title\":{\"text\":\"Distribuci\\u00f3n de llamadas perdidas por direcci\\u00f3n y llamadas internas\"},\"barmode\":\"group\"},                        {\"responsive\": true}                    ).then(function(){\n",
       "                            \n",
       "var gd = document.getElementById('a0b53ea0-fdde-45b7-84b2-76ae13b1522c');\n",
       "var x = new MutationObserver(function (mutations, observer) {{\n",
       "        var display = window.getComputedStyle(gd).display;\n",
       "        if (!display || display === 'none') {{\n",
       "            console.log([gd, 'removed!']);\n",
       "            Plotly.purge(gd);\n",
       "            observer.disconnect();\n",
       "        }}\n",
       "}});\n",
       "\n",
       "// Listen for the removal of the full notebook cells\n",
       "var notebookContainer = gd.closest('#notebook-container');\n",
       "if (notebookContainer) {{\n",
       "    x.observe(notebookContainer, {childList: true});\n",
       "}}\n",
       "\n",
       "// Listen for the clearing of the current output cell\n",
       "var outputEl = gd.closest('.output');\n",
       "if (outputEl) {{\n",
       "    x.observe(outputEl, {childList: true});\n",
       "}}\n",
       "\n",
       "                        })                };                });            </script>        </div>"
      ]
     },
     "metadata": {},
     "output_type": "display_data"
    },
    {
     "data": {
      "text/plain": [
       "<Figure size 1200x900 with 0 Axes>"
      ]
     },
     "metadata": {},
     "output_type": "display_data"
    }
   ],
   "source": [
    "# Crear un gráfico de barras para cada región\n",
    "plt.figure(figsize=(12,9))\n",
    "\n",
    "fig = px.bar(\n",
    "    direction_and_internal,\n",
    "    x='direction',\n",
    "    y='calls_count',  \n",
    "    color='is_missed_call',\n",
    "    facet_col='internal',\n",
    "    facet_col_wrap=2,\n",
    "    title='Distribución de llamadas perdidas por dirección y llamadas internas',\n",
    "    labels={'direction': 'Dirección', 'is_missed_call': 'Es llamada perdida', 'calls_count': 'Cantidad de llamadas', 'internal': 'Es llamada interna'},\n",
    "    barmode='group',\n",
    "    text='calls_count'\n",
    ")\n",
    "# Mostrar el gráfico\n",
    "fig.show()"
   ]
  },
  {
   "cell_type": "markdown",
   "id": "083d5e3e",
   "metadata": {},
   "source": [
    "Enfocándonos en el gráfico de lado izquierdo, la mayor cantidad de llamadas son de y hacia los clientes, donde las llamadas perdidas son mayores en entrantes, sin embargo, en las llamadas salientes está casi equilibrado entre llamadas perdidas y no perdidas."
   ]
  },
  {
   "cell_type": "markdown",
   "id": "b4b0a002",
   "metadata": {},
   "source": [
    "**Clients**"
   ]
  },
  {
   "cell_type": "code",
   "execution_count": 158,
   "id": "9a1d61cf",
   "metadata": {},
   "outputs": [
    {
     "data": {
      "application/vnd.microsoft.datawrangler.viewer.v0+json": {
       "columns": [
        {
         "name": "index",
         "rawType": "int64",
         "type": "integer"
        },
        {
         "name": "user_id",
         "rawType": "int64",
         "type": "integer"
        },
        {
         "name": "tariff_plan",
         "rawType": "category",
         "type": "unknown"
        },
        {
         "name": "date_start",
         "rawType": "datetime64[ns]",
         "type": "datetime"
        },
        {
         "name": "year_start",
         "rawType": "int32",
         "type": "integer"
        },
        {
         "name": "month_start",
         "rawType": "int32",
         "type": "integer"
        },
        {
         "name": "day_start",
         "rawType": "int32",
         "type": "integer"
        },
        {
         "name": "day_of_week_start",
         "rawType": "int32",
         "type": "integer"
        }
       ],
       "conversionMethod": "pd.DataFrame",
       "ref": "fa994cef-7bae-491e-8149-3f82f5c19936",
       "rows": [
        [
         "0",
         "166713",
         "A",
         "2019-08-15 00:00:00",
         "2019",
         "8",
         "15",
         "3"
        ],
        [
         "1",
         "166901",
         "A",
         "2019-08-23 00:00:00",
         "2019",
         "8",
         "23",
         "4"
        ],
        [
         "2",
         "168527",
         "A",
         "2019-10-29 00:00:00",
         "2019",
         "10",
         "29",
         "1"
        ],
        [
         "3",
         "167097",
         "A",
         "2019-09-01 00:00:00",
         "2019",
         "9",
         "1",
         "6"
        ],
        [
         "4",
         "168193",
         "A",
         "2019-10-16 00:00:00",
         "2019",
         "10",
         "16",
         "2"
        ]
       ],
       "shape": {
        "columns": 7,
        "rows": 5
       }
      },
      "text/html": [
       "<div>\n",
       "<style scoped>\n",
       "    .dataframe tbody tr th:only-of-type {\n",
       "        vertical-align: middle;\n",
       "    }\n",
       "\n",
       "    .dataframe tbody tr th {\n",
       "        vertical-align: top;\n",
       "    }\n",
       "\n",
       "    .dataframe thead th {\n",
       "        text-align: right;\n",
       "    }\n",
       "</style>\n",
       "<table border=\"1\" class=\"dataframe\">\n",
       "  <thead>\n",
       "    <tr style=\"text-align: right;\">\n",
       "      <th></th>\n",
       "      <th>user_id</th>\n",
       "      <th>tariff_plan</th>\n",
       "      <th>date_start</th>\n",
       "      <th>year_start</th>\n",
       "      <th>month_start</th>\n",
       "      <th>day_start</th>\n",
       "      <th>day_of_week_start</th>\n",
       "    </tr>\n",
       "  </thead>\n",
       "  <tbody>\n",
       "    <tr>\n",
       "      <th>0</th>\n",
       "      <td>166713</td>\n",
       "      <td>A</td>\n",
       "      <td>2019-08-15</td>\n",
       "      <td>2019</td>\n",
       "      <td>8</td>\n",
       "      <td>15</td>\n",
       "      <td>3</td>\n",
       "    </tr>\n",
       "    <tr>\n",
       "      <th>1</th>\n",
       "      <td>166901</td>\n",
       "      <td>A</td>\n",
       "      <td>2019-08-23</td>\n",
       "      <td>2019</td>\n",
       "      <td>8</td>\n",
       "      <td>23</td>\n",
       "      <td>4</td>\n",
       "    </tr>\n",
       "    <tr>\n",
       "      <th>2</th>\n",
       "      <td>168527</td>\n",
       "      <td>A</td>\n",
       "      <td>2019-10-29</td>\n",
       "      <td>2019</td>\n",
       "      <td>10</td>\n",
       "      <td>29</td>\n",
       "      <td>1</td>\n",
       "    </tr>\n",
       "    <tr>\n",
       "      <th>3</th>\n",
       "      <td>167097</td>\n",
       "      <td>A</td>\n",
       "      <td>2019-09-01</td>\n",
       "      <td>2019</td>\n",
       "      <td>9</td>\n",
       "      <td>1</td>\n",
       "      <td>6</td>\n",
       "    </tr>\n",
       "    <tr>\n",
       "      <th>4</th>\n",
       "      <td>168193</td>\n",
       "      <td>A</td>\n",
       "      <td>2019-10-16</td>\n",
       "      <td>2019</td>\n",
       "      <td>10</td>\n",
       "      <td>16</td>\n",
       "      <td>2</td>\n",
       "    </tr>\n",
       "  </tbody>\n",
       "</table>\n",
       "</div>"
      ],
      "text/plain": [
       "   user_id tariff_plan date_start  year_start  month_start  day_start  \\\n",
       "0   166713           A 2019-08-15        2019            8         15   \n",
       "1   166901           A 2019-08-23        2019            8         23   \n",
       "2   168527           A 2019-10-29        2019           10         29   \n",
       "3   167097           A 2019-09-01        2019            9          1   \n",
       "4   168193           A 2019-10-16        2019           10         16   \n",
       "\n",
       "   day_of_week_start  \n",
       "0                  3  \n",
       "1                  4  \n",
       "2                  1  \n",
       "3                  6  \n",
       "4                  2  "
      ]
     },
     "execution_count": 158,
     "metadata": {},
     "output_type": "execute_result"
    }
   ],
   "source": [
    "telecom_clients.head()"
   ]
  },
  {
   "cell_type": "code",
   "execution_count": 159,
   "id": "6b634552",
   "metadata": {},
   "outputs": [
    {
     "name": "stderr",
     "output_type": "stream",
     "text": [
      "C:\\Users\\Andrea\\AppData\\Local\\Temp\\ipykernel_20936\\3570841464.py:1: FutureWarning:\n",
      "\n",
      "The default of observed=False is deprecated and will be changed to True in a future version of pandas. Pass observed=False to retain current behavior or observed=True to adopt the future default and silence this warning.\n",
      "\n"
     ]
    },
    {
     "data": {
      "application/vnd.plotly.v1+json": {
       "config": {
        "plotlyServerURL": "https://plot.ly"
       },
       "data": [
        {
         "alignmentgroup": "True",
         "hovertemplate": "Plan tarifario=%{x}<br>Cantidad de clientes=%{text}<extra></extra>",
         "legendgroup": "A",
         "marker": {
          "color": "#636efa",
          "pattern": {
           "shape": ""
          }
         },
         "name": "A",
         "offsetgroup": "A",
         "orientation": "v",
         "showlegend": true,
         "text": [
          76
         ],
         "textposition": "auto",
         "type": "bar",
         "x": [
          "A"
         ],
         "xaxis": "x",
         "y": [
          76
         ],
         "yaxis": "y"
        },
        {
         "alignmentgroup": "True",
         "hovertemplate": "Plan tarifario=%{x}<br>Cantidad de clientes=%{text}<extra></extra>",
         "legendgroup": "B",
         "marker": {
          "color": "#EF553B",
          "pattern": {
           "shape": ""
          }
         },
         "name": "B",
         "offsetgroup": "B",
         "orientation": "v",
         "showlegend": true,
         "text": [
          261
         ],
         "textposition": "auto",
         "type": "bar",
         "x": [
          "B"
         ],
         "xaxis": "x",
         "y": [
          261
         ],
         "yaxis": "y"
        },
        {
         "alignmentgroup": "True",
         "hovertemplate": "Plan tarifario=%{x}<br>Cantidad de clientes=%{text}<extra></extra>",
         "legendgroup": "C",
         "marker": {
          "color": "#00cc96",
          "pattern": {
           "shape": ""
          }
         },
         "name": "C",
         "offsetgroup": "C",
         "orientation": "v",
         "showlegend": true,
         "text": [
          395
         ],
         "textposition": "auto",
         "type": "bar",
         "x": [
          "C"
         ],
         "xaxis": "x",
         "y": [
          395
         ],
         "yaxis": "y"
        }
       ],
       "layout": {
        "barmode": "relative",
        "legend": {
         "title": {
          "text": "Plan tarifario"
         },
         "tracegroupgap": 0
        },
        "template": {
         "data": {
          "bar": [
           {
            "error_x": {
             "color": "#2a3f5f"
            },
            "error_y": {
             "color": "#2a3f5f"
            },
            "marker": {
             "line": {
              "color": "#E5ECF6",
              "width": 0.5
             },
             "pattern": {
              "fillmode": "overlay",
              "size": 10,
              "solidity": 0.2
             }
            },
            "type": "bar"
           }
          ],
          "barpolar": [
           {
            "marker": {
             "line": {
              "color": "#E5ECF6",
              "width": 0.5
             },
             "pattern": {
              "fillmode": "overlay",
              "size": 10,
              "solidity": 0.2
             }
            },
            "type": "barpolar"
           }
          ],
          "carpet": [
           {
            "aaxis": {
             "endlinecolor": "#2a3f5f",
             "gridcolor": "white",
             "linecolor": "white",
             "minorgridcolor": "white",
             "startlinecolor": "#2a3f5f"
            },
            "baxis": {
             "endlinecolor": "#2a3f5f",
             "gridcolor": "white",
             "linecolor": "white",
             "minorgridcolor": "white",
             "startlinecolor": "#2a3f5f"
            },
            "type": "carpet"
           }
          ],
          "choropleth": [
           {
            "colorbar": {
             "outlinewidth": 0,
             "ticks": ""
            },
            "type": "choropleth"
           }
          ],
          "contour": [
           {
            "colorbar": {
             "outlinewidth": 0,
             "ticks": ""
            },
            "colorscale": [
             [
              0,
              "#0d0887"
             ],
             [
              0.1111111111111111,
              "#46039f"
             ],
             [
              0.2222222222222222,
              "#7201a8"
             ],
             [
              0.3333333333333333,
              "#9c179e"
             ],
             [
              0.4444444444444444,
              "#bd3786"
             ],
             [
              0.5555555555555556,
              "#d8576b"
             ],
             [
              0.6666666666666666,
              "#ed7953"
             ],
             [
              0.7777777777777778,
              "#fb9f3a"
             ],
             [
              0.8888888888888888,
              "#fdca26"
             ],
             [
              1,
              "#f0f921"
             ]
            ],
            "type": "contour"
           }
          ],
          "contourcarpet": [
           {
            "colorbar": {
             "outlinewidth": 0,
             "ticks": ""
            },
            "type": "contourcarpet"
           }
          ],
          "heatmap": [
           {
            "colorbar": {
             "outlinewidth": 0,
             "ticks": ""
            },
            "colorscale": [
             [
              0,
              "#0d0887"
             ],
             [
              0.1111111111111111,
              "#46039f"
             ],
             [
              0.2222222222222222,
              "#7201a8"
             ],
             [
              0.3333333333333333,
              "#9c179e"
             ],
             [
              0.4444444444444444,
              "#bd3786"
             ],
             [
              0.5555555555555556,
              "#d8576b"
             ],
             [
              0.6666666666666666,
              "#ed7953"
             ],
             [
              0.7777777777777778,
              "#fb9f3a"
             ],
             [
              0.8888888888888888,
              "#fdca26"
             ],
             [
              1,
              "#f0f921"
             ]
            ],
            "type": "heatmap"
           }
          ],
          "heatmapgl": [
           {
            "colorbar": {
             "outlinewidth": 0,
             "ticks": ""
            },
            "colorscale": [
             [
              0,
              "#0d0887"
             ],
             [
              0.1111111111111111,
              "#46039f"
             ],
             [
              0.2222222222222222,
              "#7201a8"
             ],
             [
              0.3333333333333333,
              "#9c179e"
             ],
             [
              0.4444444444444444,
              "#bd3786"
             ],
             [
              0.5555555555555556,
              "#d8576b"
             ],
             [
              0.6666666666666666,
              "#ed7953"
             ],
             [
              0.7777777777777778,
              "#fb9f3a"
             ],
             [
              0.8888888888888888,
              "#fdca26"
             ],
             [
              1,
              "#f0f921"
             ]
            ],
            "type": "heatmapgl"
           }
          ],
          "histogram": [
           {
            "marker": {
             "pattern": {
              "fillmode": "overlay",
              "size": 10,
              "solidity": 0.2
             }
            },
            "type": "histogram"
           }
          ],
          "histogram2d": [
           {
            "colorbar": {
             "outlinewidth": 0,
             "ticks": ""
            },
            "colorscale": [
             [
              0,
              "#0d0887"
             ],
             [
              0.1111111111111111,
              "#46039f"
             ],
             [
              0.2222222222222222,
              "#7201a8"
             ],
             [
              0.3333333333333333,
              "#9c179e"
             ],
             [
              0.4444444444444444,
              "#bd3786"
             ],
             [
              0.5555555555555556,
              "#d8576b"
             ],
             [
              0.6666666666666666,
              "#ed7953"
             ],
             [
              0.7777777777777778,
              "#fb9f3a"
             ],
             [
              0.8888888888888888,
              "#fdca26"
             ],
             [
              1,
              "#f0f921"
             ]
            ],
            "type": "histogram2d"
           }
          ],
          "histogram2dcontour": [
           {
            "colorbar": {
             "outlinewidth": 0,
             "ticks": ""
            },
            "colorscale": [
             [
              0,
              "#0d0887"
             ],
             [
              0.1111111111111111,
              "#46039f"
             ],
             [
              0.2222222222222222,
              "#7201a8"
             ],
             [
              0.3333333333333333,
              "#9c179e"
             ],
             [
              0.4444444444444444,
              "#bd3786"
             ],
             [
              0.5555555555555556,
              "#d8576b"
             ],
             [
              0.6666666666666666,
              "#ed7953"
             ],
             [
              0.7777777777777778,
              "#fb9f3a"
             ],
             [
              0.8888888888888888,
              "#fdca26"
             ],
             [
              1,
              "#f0f921"
             ]
            ],
            "type": "histogram2dcontour"
           }
          ],
          "mesh3d": [
           {
            "colorbar": {
             "outlinewidth": 0,
             "ticks": ""
            },
            "type": "mesh3d"
           }
          ],
          "parcoords": [
           {
            "line": {
             "colorbar": {
              "outlinewidth": 0,
              "ticks": ""
             }
            },
            "type": "parcoords"
           }
          ],
          "pie": [
           {
            "automargin": true,
            "type": "pie"
           }
          ],
          "scatter": [
           {
            "fillpattern": {
             "fillmode": "overlay",
             "size": 10,
             "solidity": 0.2
            },
            "type": "scatter"
           }
          ],
          "scatter3d": [
           {
            "line": {
             "colorbar": {
              "outlinewidth": 0,
              "ticks": ""
             }
            },
            "marker": {
             "colorbar": {
              "outlinewidth": 0,
              "ticks": ""
             }
            },
            "type": "scatter3d"
           }
          ],
          "scattercarpet": [
           {
            "marker": {
             "colorbar": {
              "outlinewidth": 0,
              "ticks": ""
             }
            },
            "type": "scattercarpet"
           }
          ],
          "scattergeo": [
           {
            "marker": {
             "colorbar": {
              "outlinewidth": 0,
              "ticks": ""
             }
            },
            "type": "scattergeo"
           }
          ],
          "scattergl": [
           {
            "marker": {
             "colorbar": {
              "outlinewidth": 0,
              "ticks": ""
             }
            },
            "type": "scattergl"
           }
          ],
          "scattermapbox": [
           {
            "marker": {
             "colorbar": {
              "outlinewidth": 0,
              "ticks": ""
             }
            },
            "type": "scattermapbox"
           }
          ],
          "scatterpolar": [
           {
            "marker": {
             "colorbar": {
              "outlinewidth": 0,
              "ticks": ""
             }
            },
            "type": "scatterpolar"
           }
          ],
          "scatterpolargl": [
           {
            "marker": {
             "colorbar": {
              "outlinewidth": 0,
              "ticks": ""
             }
            },
            "type": "scatterpolargl"
           }
          ],
          "scatterternary": [
           {
            "marker": {
             "colorbar": {
              "outlinewidth": 0,
              "ticks": ""
             }
            },
            "type": "scatterternary"
           }
          ],
          "surface": [
           {
            "colorbar": {
             "outlinewidth": 0,
             "ticks": ""
            },
            "colorscale": [
             [
              0,
              "#0d0887"
             ],
             [
              0.1111111111111111,
              "#46039f"
             ],
             [
              0.2222222222222222,
              "#7201a8"
             ],
             [
              0.3333333333333333,
              "#9c179e"
             ],
             [
              0.4444444444444444,
              "#bd3786"
             ],
             [
              0.5555555555555556,
              "#d8576b"
             ],
             [
              0.6666666666666666,
              "#ed7953"
             ],
             [
              0.7777777777777778,
              "#fb9f3a"
             ],
             [
              0.8888888888888888,
              "#fdca26"
             ],
             [
              1,
              "#f0f921"
             ]
            ],
            "type": "surface"
           }
          ],
          "table": [
           {
            "cells": {
             "fill": {
              "color": "#EBF0F8"
             },
             "line": {
              "color": "white"
             }
            },
            "header": {
             "fill": {
              "color": "#C8D4E3"
             },
             "line": {
              "color": "white"
             }
            },
            "type": "table"
           }
          ]
         },
         "layout": {
          "annotationdefaults": {
           "arrowcolor": "#2a3f5f",
           "arrowhead": 0,
           "arrowwidth": 1
          },
          "autotypenumbers": "strict",
          "coloraxis": {
           "colorbar": {
            "outlinewidth": 0,
            "ticks": ""
           }
          },
          "colorscale": {
           "diverging": [
            [
             0,
             "#8e0152"
            ],
            [
             0.1,
             "#c51b7d"
            ],
            [
             0.2,
             "#de77ae"
            ],
            [
             0.3,
             "#f1b6da"
            ],
            [
             0.4,
             "#fde0ef"
            ],
            [
             0.5,
             "#f7f7f7"
            ],
            [
             0.6,
             "#e6f5d0"
            ],
            [
             0.7,
             "#b8e186"
            ],
            [
             0.8,
             "#7fbc41"
            ],
            [
             0.9,
             "#4d9221"
            ],
            [
             1,
             "#276419"
            ]
           ],
           "sequential": [
            [
             0,
             "#0d0887"
            ],
            [
             0.1111111111111111,
             "#46039f"
            ],
            [
             0.2222222222222222,
             "#7201a8"
            ],
            [
             0.3333333333333333,
             "#9c179e"
            ],
            [
             0.4444444444444444,
             "#bd3786"
            ],
            [
             0.5555555555555556,
             "#d8576b"
            ],
            [
             0.6666666666666666,
             "#ed7953"
            ],
            [
             0.7777777777777778,
             "#fb9f3a"
            ],
            [
             0.8888888888888888,
             "#fdca26"
            ],
            [
             1,
             "#f0f921"
            ]
           ],
           "sequentialminus": [
            [
             0,
             "#0d0887"
            ],
            [
             0.1111111111111111,
             "#46039f"
            ],
            [
             0.2222222222222222,
             "#7201a8"
            ],
            [
             0.3333333333333333,
             "#9c179e"
            ],
            [
             0.4444444444444444,
             "#bd3786"
            ],
            [
             0.5555555555555556,
             "#d8576b"
            ],
            [
             0.6666666666666666,
             "#ed7953"
            ],
            [
             0.7777777777777778,
             "#fb9f3a"
            ],
            [
             0.8888888888888888,
             "#fdca26"
            ],
            [
             1,
             "#f0f921"
            ]
           ]
          },
          "colorway": [
           "#636efa",
           "#EF553B",
           "#00cc96",
           "#ab63fa",
           "#FFA15A",
           "#19d3f3",
           "#FF6692",
           "#B6E880",
           "#FF97FF",
           "#FECB52"
          ],
          "font": {
           "color": "#2a3f5f"
          },
          "geo": {
           "bgcolor": "white",
           "lakecolor": "white",
           "landcolor": "#E5ECF6",
           "showlakes": true,
           "showland": true,
           "subunitcolor": "white"
          },
          "hoverlabel": {
           "align": "left"
          },
          "hovermode": "closest",
          "mapbox": {
           "style": "light"
          },
          "paper_bgcolor": "white",
          "plot_bgcolor": "#E5ECF6",
          "polar": {
           "angularaxis": {
            "gridcolor": "white",
            "linecolor": "white",
            "ticks": ""
           },
           "bgcolor": "#E5ECF6",
           "radialaxis": {
            "gridcolor": "white",
            "linecolor": "white",
            "ticks": ""
           }
          },
          "scene": {
           "xaxis": {
            "backgroundcolor": "#E5ECF6",
            "gridcolor": "white",
            "gridwidth": 2,
            "linecolor": "white",
            "showbackground": true,
            "ticks": "",
            "zerolinecolor": "white"
           },
           "yaxis": {
            "backgroundcolor": "#E5ECF6",
            "gridcolor": "white",
            "gridwidth": 2,
            "linecolor": "white",
            "showbackground": true,
            "ticks": "",
            "zerolinecolor": "white"
           },
           "zaxis": {
            "backgroundcolor": "#E5ECF6",
            "gridcolor": "white",
            "gridwidth": 2,
            "linecolor": "white",
            "showbackground": true,
            "ticks": "",
            "zerolinecolor": "white"
           }
          },
          "shapedefaults": {
           "line": {
            "color": "#2a3f5f"
           }
          },
          "ternary": {
           "aaxis": {
            "gridcolor": "white",
            "linecolor": "white",
            "ticks": ""
           },
           "baxis": {
            "gridcolor": "white",
            "linecolor": "white",
            "ticks": ""
           },
           "bgcolor": "#E5ECF6",
           "caxis": {
            "gridcolor": "white",
            "linecolor": "white",
            "ticks": ""
           }
          },
          "title": {
           "x": 0.05
          },
          "xaxis": {
           "automargin": true,
           "gridcolor": "white",
           "linecolor": "white",
           "ticks": "",
           "title": {
            "standoff": 15
           },
           "zerolinecolor": "white",
           "zerolinewidth": 2
          },
          "yaxis": {
           "automargin": true,
           "gridcolor": "white",
           "linecolor": "white",
           "ticks": "",
           "title": {
            "standoff": 15
           },
           "zerolinecolor": "white",
           "zerolinewidth": 2
          }
         }
        },
        "title": {
         "text": "Cantidad de clientes por plan tarifario"
        },
        "xaxis": {
         "anchor": "y",
         "categoryarray": [
          "A",
          "B",
          "C"
         ],
         "categoryorder": "array",
         "domain": [
          0,
          1
         ],
         "title": {
          "text": "Plan tarifario"
         }
        },
        "yaxis": {
         "anchor": "x",
         "domain": [
          0,
          1
         ],
         "title": {
          "text": "Cantidad de clientes"
         }
        }
       }
      },
      "text/html": [
       "<div>                            <div id=\"f92d92ee-6e85-478b-9951-fc4cfdfe28eb\" class=\"plotly-graph-div\" style=\"height:525px; width:100%;\"></div>            <script type=\"text/javascript\">                require([\"plotly\"], function(Plotly) {                    window.PLOTLYENV=window.PLOTLYENV || {};                                    if (document.getElementById(\"f92d92ee-6e85-478b-9951-fc4cfdfe28eb\")) {                    Plotly.newPlot(                        \"f92d92ee-6e85-478b-9951-fc4cfdfe28eb\",                        [{\"alignmentgroup\":\"True\",\"hovertemplate\":\"Plan tarifario=%{x}\\u003cbr\\u003eCantidad de clientes=%{text}\\u003cextra\\u003e\\u003c\\u002fextra\\u003e\",\"legendgroup\":\"A\",\"marker\":{\"color\":\"#636efa\",\"pattern\":{\"shape\":\"\"}},\"name\":\"A\",\"offsetgroup\":\"A\",\"orientation\":\"v\",\"showlegend\":true,\"text\":[76.0],\"textposition\":\"auto\",\"x\":[\"A\"],\"xaxis\":\"x\",\"y\":[76],\"yaxis\":\"y\",\"type\":\"bar\"},{\"alignmentgroup\":\"True\",\"hovertemplate\":\"Plan tarifario=%{x}\\u003cbr\\u003eCantidad de clientes=%{text}\\u003cextra\\u003e\\u003c\\u002fextra\\u003e\",\"legendgroup\":\"B\",\"marker\":{\"color\":\"#EF553B\",\"pattern\":{\"shape\":\"\"}},\"name\":\"B\",\"offsetgroup\":\"B\",\"orientation\":\"v\",\"showlegend\":true,\"text\":[261.0],\"textposition\":\"auto\",\"x\":[\"B\"],\"xaxis\":\"x\",\"y\":[261],\"yaxis\":\"y\",\"type\":\"bar\"},{\"alignmentgroup\":\"True\",\"hovertemplate\":\"Plan tarifario=%{x}\\u003cbr\\u003eCantidad de clientes=%{text}\\u003cextra\\u003e\\u003c\\u002fextra\\u003e\",\"legendgroup\":\"C\",\"marker\":{\"color\":\"#00cc96\",\"pattern\":{\"shape\":\"\"}},\"name\":\"C\",\"offsetgroup\":\"C\",\"orientation\":\"v\",\"showlegend\":true,\"text\":[395.0],\"textposition\":\"auto\",\"x\":[\"C\"],\"xaxis\":\"x\",\"y\":[395],\"yaxis\":\"y\",\"type\":\"bar\"}],                        {\"template\":{\"data\":{\"histogram2dcontour\":[{\"type\":\"histogram2dcontour\",\"colorbar\":{\"outlinewidth\":0,\"ticks\":\"\"},\"colorscale\":[[0.0,\"#0d0887\"],[0.1111111111111111,\"#46039f\"],[0.2222222222222222,\"#7201a8\"],[0.3333333333333333,\"#9c179e\"],[0.4444444444444444,\"#bd3786\"],[0.5555555555555556,\"#d8576b\"],[0.6666666666666666,\"#ed7953\"],[0.7777777777777778,\"#fb9f3a\"],[0.8888888888888888,\"#fdca26\"],[1.0,\"#f0f921\"]]}],\"choropleth\":[{\"type\":\"choropleth\",\"colorbar\":{\"outlinewidth\":0,\"ticks\":\"\"}}],\"histogram2d\":[{\"type\":\"histogram2d\",\"colorbar\":{\"outlinewidth\":0,\"ticks\":\"\"},\"colorscale\":[[0.0,\"#0d0887\"],[0.1111111111111111,\"#46039f\"],[0.2222222222222222,\"#7201a8\"],[0.3333333333333333,\"#9c179e\"],[0.4444444444444444,\"#bd3786\"],[0.5555555555555556,\"#d8576b\"],[0.6666666666666666,\"#ed7953\"],[0.7777777777777778,\"#fb9f3a\"],[0.8888888888888888,\"#fdca26\"],[1.0,\"#f0f921\"]]}],\"heatmap\":[{\"type\":\"heatmap\",\"colorbar\":{\"outlinewidth\":0,\"ticks\":\"\"},\"colorscale\":[[0.0,\"#0d0887\"],[0.1111111111111111,\"#46039f\"],[0.2222222222222222,\"#7201a8\"],[0.3333333333333333,\"#9c179e\"],[0.4444444444444444,\"#bd3786\"],[0.5555555555555556,\"#d8576b\"],[0.6666666666666666,\"#ed7953\"],[0.7777777777777778,\"#fb9f3a\"],[0.8888888888888888,\"#fdca26\"],[1.0,\"#f0f921\"]]}],\"heatmapgl\":[{\"type\":\"heatmapgl\",\"colorbar\":{\"outlinewidth\":0,\"ticks\":\"\"},\"colorscale\":[[0.0,\"#0d0887\"],[0.1111111111111111,\"#46039f\"],[0.2222222222222222,\"#7201a8\"],[0.3333333333333333,\"#9c179e\"],[0.4444444444444444,\"#bd3786\"],[0.5555555555555556,\"#d8576b\"],[0.6666666666666666,\"#ed7953\"],[0.7777777777777778,\"#fb9f3a\"],[0.8888888888888888,\"#fdca26\"],[1.0,\"#f0f921\"]]}],\"contourcarpet\":[{\"type\":\"contourcarpet\",\"colorbar\":{\"outlinewidth\":0,\"ticks\":\"\"}}],\"contour\":[{\"type\":\"contour\",\"colorbar\":{\"outlinewidth\":0,\"ticks\":\"\"},\"colorscale\":[[0.0,\"#0d0887\"],[0.1111111111111111,\"#46039f\"],[0.2222222222222222,\"#7201a8\"],[0.3333333333333333,\"#9c179e\"],[0.4444444444444444,\"#bd3786\"],[0.5555555555555556,\"#d8576b\"],[0.6666666666666666,\"#ed7953\"],[0.7777777777777778,\"#fb9f3a\"],[0.8888888888888888,\"#fdca26\"],[1.0,\"#f0f921\"]]}],\"surface\":[{\"type\":\"surface\",\"colorbar\":{\"outlinewidth\":0,\"ticks\":\"\"},\"colorscale\":[[0.0,\"#0d0887\"],[0.1111111111111111,\"#46039f\"],[0.2222222222222222,\"#7201a8\"],[0.3333333333333333,\"#9c179e\"],[0.4444444444444444,\"#bd3786\"],[0.5555555555555556,\"#d8576b\"],[0.6666666666666666,\"#ed7953\"],[0.7777777777777778,\"#fb9f3a\"],[0.8888888888888888,\"#fdca26\"],[1.0,\"#f0f921\"]]}],\"mesh3d\":[{\"type\":\"mesh3d\",\"colorbar\":{\"outlinewidth\":0,\"ticks\":\"\"}}],\"scatter\":[{\"fillpattern\":{\"fillmode\":\"overlay\",\"size\":10,\"solidity\":0.2},\"type\":\"scatter\"}],\"parcoords\":[{\"type\":\"parcoords\",\"line\":{\"colorbar\":{\"outlinewidth\":0,\"ticks\":\"\"}}}],\"scatterpolargl\":[{\"type\":\"scatterpolargl\",\"marker\":{\"colorbar\":{\"outlinewidth\":0,\"ticks\":\"\"}}}],\"bar\":[{\"error_x\":{\"color\":\"#2a3f5f\"},\"error_y\":{\"color\":\"#2a3f5f\"},\"marker\":{\"line\":{\"color\":\"#E5ECF6\",\"width\":0.5},\"pattern\":{\"fillmode\":\"overlay\",\"size\":10,\"solidity\":0.2}},\"type\":\"bar\"}],\"scattergeo\":[{\"type\":\"scattergeo\",\"marker\":{\"colorbar\":{\"outlinewidth\":0,\"ticks\":\"\"}}}],\"scatterpolar\":[{\"type\":\"scatterpolar\",\"marker\":{\"colorbar\":{\"outlinewidth\":0,\"ticks\":\"\"}}}],\"histogram\":[{\"marker\":{\"pattern\":{\"fillmode\":\"overlay\",\"size\":10,\"solidity\":0.2}},\"type\":\"histogram\"}],\"scattergl\":[{\"type\":\"scattergl\",\"marker\":{\"colorbar\":{\"outlinewidth\":0,\"ticks\":\"\"}}}],\"scatter3d\":[{\"type\":\"scatter3d\",\"line\":{\"colorbar\":{\"outlinewidth\":0,\"ticks\":\"\"}},\"marker\":{\"colorbar\":{\"outlinewidth\":0,\"ticks\":\"\"}}}],\"scattermapbox\":[{\"type\":\"scattermapbox\",\"marker\":{\"colorbar\":{\"outlinewidth\":0,\"ticks\":\"\"}}}],\"scatterternary\":[{\"type\":\"scatterternary\",\"marker\":{\"colorbar\":{\"outlinewidth\":0,\"ticks\":\"\"}}}],\"scattercarpet\":[{\"type\":\"scattercarpet\",\"marker\":{\"colorbar\":{\"outlinewidth\":0,\"ticks\":\"\"}}}],\"carpet\":[{\"aaxis\":{\"endlinecolor\":\"#2a3f5f\",\"gridcolor\":\"white\",\"linecolor\":\"white\",\"minorgridcolor\":\"white\",\"startlinecolor\":\"#2a3f5f\"},\"baxis\":{\"endlinecolor\":\"#2a3f5f\",\"gridcolor\":\"white\",\"linecolor\":\"white\",\"minorgridcolor\":\"white\",\"startlinecolor\":\"#2a3f5f\"},\"type\":\"carpet\"}],\"table\":[{\"cells\":{\"fill\":{\"color\":\"#EBF0F8\"},\"line\":{\"color\":\"white\"}},\"header\":{\"fill\":{\"color\":\"#C8D4E3\"},\"line\":{\"color\":\"white\"}},\"type\":\"table\"}],\"barpolar\":[{\"marker\":{\"line\":{\"color\":\"#E5ECF6\",\"width\":0.5},\"pattern\":{\"fillmode\":\"overlay\",\"size\":10,\"solidity\":0.2}},\"type\":\"barpolar\"}],\"pie\":[{\"automargin\":true,\"type\":\"pie\"}]},\"layout\":{\"autotypenumbers\":\"strict\",\"colorway\":[\"#636efa\",\"#EF553B\",\"#00cc96\",\"#ab63fa\",\"#FFA15A\",\"#19d3f3\",\"#FF6692\",\"#B6E880\",\"#FF97FF\",\"#FECB52\"],\"font\":{\"color\":\"#2a3f5f\"},\"hovermode\":\"closest\",\"hoverlabel\":{\"align\":\"left\"},\"paper_bgcolor\":\"white\",\"plot_bgcolor\":\"#E5ECF6\",\"polar\":{\"bgcolor\":\"#E5ECF6\",\"angularaxis\":{\"gridcolor\":\"white\",\"linecolor\":\"white\",\"ticks\":\"\"},\"radialaxis\":{\"gridcolor\":\"white\",\"linecolor\":\"white\",\"ticks\":\"\"}},\"ternary\":{\"bgcolor\":\"#E5ECF6\",\"aaxis\":{\"gridcolor\":\"white\",\"linecolor\":\"white\",\"ticks\":\"\"},\"baxis\":{\"gridcolor\":\"white\",\"linecolor\":\"white\",\"ticks\":\"\"},\"caxis\":{\"gridcolor\":\"white\",\"linecolor\":\"white\",\"ticks\":\"\"}},\"coloraxis\":{\"colorbar\":{\"outlinewidth\":0,\"ticks\":\"\"}},\"colorscale\":{\"sequential\":[[0.0,\"#0d0887\"],[0.1111111111111111,\"#46039f\"],[0.2222222222222222,\"#7201a8\"],[0.3333333333333333,\"#9c179e\"],[0.4444444444444444,\"#bd3786\"],[0.5555555555555556,\"#d8576b\"],[0.6666666666666666,\"#ed7953\"],[0.7777777777777778,\"#fb9f3a\"],[0.8888888888888888,\"#fdca26\"],[1.0,\"#f0f921\"]],\"sequentialminus\":[[0.0,\"#0d0887\"],[0.1111111111111111,\"#46039f\"],[0.2222222222222222,\"#7201a8\"],[0.3333333333333333,\"#9c179e\"],[0.4444444444444444,\"#bd3786\"],[0.5555555555555556,\"#d8576b\"],[0.6666666666666666,\"#ed7953\"],[0.7777777777777778,\"#fb9f3a\"],[0.8888888888888888,\"#fdca26\"],[1.0,\"#f0f921\"]],\"diverging\":[[0,\"#8e0152\"],[0.1,\"#c51b7d\"],[0.2,\"#de77ae\"],[0.3,\"#f1b6da\"],[0.4,\"#fde0ef\"],[0.5,\"#f7f7f7\"],[0.6,\"#e6f5d0\"],[0.7,\"#b8e186\"],[0.8,\"#7fbc41\"],[0.9,\"#4d9221\"],[1,\"#276419\"]]},\"xaxis\":{\"gridcolor\":\"white\",\"linecolor\":\"white\",\"ticks\":\"\",\"title\":{\"standoff\":15},\"zerolinecolor\":\"white\",\"automargin\":true,\"zerolinewidth\":2},\"yaxis\":{\"gridcolor\":\"white\",\"linecolor\":\"white\",\"ticks\":\"\",\"title\":{\"standoff\":15},\"zerolinecolor\":\"white\",\"automargin\":true,\"zerolinewidth\":2},\"scene\":{\"xaxis\":{\"backgroundcolor\":\"#E5ECF6\",\"gridcolor\":\"white\",\"linecolor\":\"white\",\"showbackground\":true,\"ticks\":\"\",\"zerolinecolor\":\"white\",\"gridwidth\":2},\"yaxis\":{\"backgroundcolor\":\"#E5ECF6\",\"gridcolor\":\"white\",\"linecolor\":\"white\",\"showbackground\":true,\"ticks\":\"\",\"zerolinecolor\":\"white\",\"gridwidth\":2},\"zaxis\":{\"backgroundcolor\":\"#E5ECF6\",\"gridcolor\":\"white\",\"linecolor\":\"white\",\"showbackground\":true,\"ticks\":\"\",\"zerolinecolor\":\"white\",\"gridwidth\":2}},\"shapedefaults\":{\"line\":{\"color\":\"#2a3f5f\"}},\"annotationdefaults\":{\"arrowcolor\":\"#2a3f5f\",\"arrowhead\":0,\"arrowwidth\":1},\"geo\":{\"bgcolor\":\"white\",\"landcolor\":\"#E5ECF6\",\"subunitcolor\":\"white\",\"showland\":true,\"showlakes\":true,\"lakecolor\":\"white\"},\"title\":{\"x\":0.05},\"mapbox\":{\"style\":\"light\"}}},\"xaxis\":{\"anchor\":\"y\",\"domain\":[0.0,1.0],\"title\":{\"text\":\"Plan tarifario\"},\"categoryorder\":\"array\",\"categoryarray\":[\"A\",\"B\",\"C\"]},\"yaxis\":{\"anchor\":\"x\",\"domain\":[0.0,1.0],\"title\":{\"text\":\"Cantidad de clientes\"}},\"legend\":{\"title\":{\"text\":\"Plan tarifario\"},\"tracegroupgap\":0},\"title\":{\"text\":\"Cantidad de clientes por plan tarifario\"},\"barmode\":\"relative\"},                        {\"responsive\": true}                    ).then(function(){\n",
       "                            \n",
       "var gd = document.getElementById('f92d92ee-6e85-478b-9951-fc4cfdfe28eb');\n",
       "var x = new MutationObserver(function (mutations, observer) {{\n",
       "        var display = window.getComputedStyle(gd).display;\n",
       "        if (!display || display === 'none') {{\n",
       "            console.log([gd, 'removed!']);\n",
       "            Plotly.purge(gd);\n",
       "            observer.disconnect();\n",
       "        }}\n",
       "}});\n",
       "\n",
       "// Listen for the removal of the full notebook cells\n",
       "var notebookContainer = gd.closest('#notebook-container');\n",
       "if (notebookContainer) {{\n",
       "    x.observe(notebookContainer, {childList: true});\n",
       "}}\n",
       "\n",
       "// Listen for the clearing of the current output cell\n",
       "var outputEl = gd.closest('.output');\n",
       "if (outputEl) {{\n",
       "    x.observe(outputEl, {childList: true});\n",
       "}}\n",
       "\n",
       "                        })                };                });            </script>        </div>"
      ]
     },
     "metadata": {},
     "output_type": "display_data"
    },
    {
     "data": {
      "text/plain": [
       "<Figure size 1200x900 with 0 Axes>"
      ]
     },
     "metadata": {},
     "output_type": "display_data"
    }
   ],
   "source": [
    "clients_plan = telecom_clients.groupby('tariff_plan')['user_id'].count().reset_index(name='clients_count')\n",
    "\n",
    "plt.figure(figsize=(12,9))\n",
    "\n",
    "fig = px.bar(\n",
    "    clients_plan,\n",
    "    x='tariff_plan',\n",
    "    y='clients_count',  \n",
    "    color='tariff_plan',\n",
    "    title='Cantidad de clientes por plan tarifario',\n",
    "    labels={'tariff_plan': 'Plan tarifario', 'clients_count': 'Cantidad de clientes'},\n",
    "    text='clients_count'\n",
    ")\n",
    "# Mostrar el gráfico\n",
    "fig.show()"
   ]
  },
  {
   "cell_type": "markdown",
   "id": "2a47bd8f",
   "metadata": {},
   "source": [
    "Observación:\n",
    "\n",
    "La mayoría de los clientes tienen el plan C, y muy pocos el plan A. "
   ]
  },
  {
   "cell_type": "markdown",
   "id": "28004049",
   "metadata": {},
   "source": [
    "## **Operadores Clasificados por Ineficiencia**"
   ]
  },
  {
   "cell_type": "markdown",
   "id": "ebdcdf37",
   "metadata": {},
   "source": [
    "#### **Unimos las métricas por operador**"
   ]
  },
  {
   "cell_type": "code",
   "execution_count": 160,
   "id": "2c7ccb10",
   "metadata": {},
   "outputs": [
    {
     "data": {
      "application/vnd.microsoft.datawrangler.viewer.v0+json": {
       "columns": [
        {
         "name": "index",
         "rawType": "int64",
         "type": "integer"
        },
        {
         "name": "operator_id",
         "rawType": "int64",
         "type": "integer"
        },
        {
         "name": "missed_call_ratio",
         "rawType": "float64",
         "type": "float"
        }
       ],
       "conversionMethod": "pd.DataFrame",
       "ref": "dc691f35-f8f0-4c86-b0a1-f327ad26556d",
       "rows": [
        [
         "0",
         "0",
         "0.07"
        ],
        [
         "1",
         "879896",
         "0.0"
        ],
        [
         "2",
         "879898",
         "0.0"
        ],
        [
         "3",
         "880020",
         "0.0"
        ],
        [
         "4",
         "880022",
         "0.0"
        ],
        [
         "5",
         "880026",
         "0.0"
        ],
        [
         "6",
         "880028",
         "0.0"
        ],
        [
         "7",
         "882476",
         "0.0"
        ],
        [
         "8",
         "882478",
         "0.0"
        ],
        [
         "9",
         "882680",
         "0.03"
        ],
        [
         "10",
         "882684",
         "0.01"
        ],
        [
         "11",
         "882686",
         "0.01"
        ],
        [
         "12",
         "882688",
         "0.0"
        ],
        [
         "13",
         "882690",
         "0.01"
        ],
        [
         "14",
         "883940",
         "0.0"
        ],
        [
         "15",
         "883942",
         "0.0"
        ],
        [
         "16",
         "884294",
         "0.0"
        ],
        [
         "17",
         "884408",
         "0.09"
        ],
        [
         "18",
         "884412",
         "0.0"
        ],
        [
         "19",
         "884478",
         "0.0"
        ],
        [
         "20",
         "884524",
         "0.0"
        ],
        [
         "21",
         "884946",
         "0.0"
        ],
        [
         "22",
         "885876",
         "0.02"
        ],
        [
         "23",
         "885890",
         "0.02"
        ],
        [
         "24",
         "886146",
         "0.0"
        ],
        [
         "25",
         "886674",
         "0.0"
        ],
        [
         "26",
         "886892",
         "0.0"
        ],
        [
         "27",
         "887276",
         "0.01"
        ],
        [
         "28",
         "887278",
         "0.0"
        ],
        [
         "29",
         "887282",
         "0.0"
        ],
        [
         "30",
         "887416",
         "0.0"
        ],
        [
         "31",
         "887802",
         "0.0"
        ],
        [
         "32",
         "888406",
         "0.11"
        ],
        [
         "33",
         "888520",
         "0.0"
        ],
        [
         "34",
         "888532",
         "0.17"
        ],
        [
         "35",
         "888534",
         "0.03"
        ],
        [
         "36",
         "888536",
         "0.0"
        ],
        [
         "37",
         "888538",
         "0.0"
        ],
        [
         "38",
         "888540",
         "0.0"
        ],
        [
         "39",
         "888868",
         "0.05"
        ],
        [
         "40",
         "889410",
         "0.0"
        ],
        [
         "41",
         "889638",
         "0.0"
        ],
        [
         "42",
         "889640",
         "0.0"
        ],
        [
         "43",
         "889754",
         "0.0"
        ],
        [
         "44",
         "890226",
         "0.0"
        ],
        [
         "45",
         "890228",
         "0.17"
        ],
        [
         "46",
         "890402",
         "0.0"
        ],
        [
         "47",
         "890404",
         "0.0"
        ],
        [
         "48",
         "890406",
         "0.01"
        ],
        [
         "49",
         "890410",
         "0.0"
        ]
       ],
       "shape": {
        "columns": 2,
        "rows": 755
       }
      },
      "text/html": [
       "<div>\n",
       "<style scoped>\n",
       "    .dataframe tbody tr th:only-of-type {\n",
       "        vertical-align: middle;\n",
       "    }\n",
       "\n",
       "    .dataframe tbody tr th {\n",
       "        vertical-align: top;\n",
       "    }\n",
       "\n",
       "    .dataframe thead th {\n",
       "        text-align: right;\n",
       "    }\n",
       "</style>\n",
       "<table border=\"1\" class=\"dataframe\">\n",
       "  <thead>\n",
       "    <tr style=\"text-align: right;\">\n",
       "      <th></th>\n",
       "      <th>operator_id</th>\n",
       "      <th>missed_call_ratio</th>\n",
       "    </tr>\n",
       "  </thead>\n",
       "  <tbody>\n",
       "    <tr>\n",
       "      <th>0</th>\n",
       "      <td>0</td>\n",
       "      <td>0.07</td>\n",
       "    </tr>\n",
       "    <tr>\n",
       "      <th>1</th>\n",
       "      <td>879896</td>\n",
       "      <td>0.00</td>\n",
       "    </tr>\n",
       "    <tr>\n",
       "      <th>2</th>\n",
       "      <td>879898</td>\n",
       "      <td>0.00</td>\n",
       "    </tr>\n",
       "    <tr>\n",
       "      <th>3</th>\n",
       "      <td>880020</td>\n",
       "      <td>0.00</td>\n",
       "    </tr>\n",
       "    <tr>\n",
       "      <th>4</th>\n",
       "      <td>880022</td>\n",
       "      <td>0.00</td>\n",
       "    </tr>\n",
       "    <tr>\n",
       "      <th>...</th>\n",
       "      <td>...</td>\n",
       "      <td>...</td>\n",
       "    </tr>\n",
       "    <tr>\n",
       "      <th>750</th>\n",
       "      <td>971102</td>\n",
       "      <td>0.00</td>\n",
       "    </tr>\n",
       "    <tr>\n",
       "      <th>751</th>\n",
       "      <td>971354</td>\n",
       "      <td>0.00</td>\n",
       "    </tr>\n",
       "    <tr>\n",
       "      <th>752</th>\n",
       "      <td>972412</td>\n",
       "      <td>0.00</td>\n",
       "    </tr>\n",
       "    <tr>\n",
       "      <th>753</th>\n",
       "      <td>972460</td>\n",
       "      <td>0.00</td>\n",
       "    </tr>\n",
       "    <tr>\n",
       "      <th>754</th>\n",
       "      <td>973286</td>\n",
       "      <td>0.00</td>\n",
       "    </tr>\n",
       "  </tbody>\n",
       "</table>\n",
       "<p>755 rows × 2 columns</p>\n",
       "</div>"
      ],
      "text/plain": [
       "     operator_id  missed_call_ratio\n",
       "0              0               0.07\n",
       "1         879896               0.00\n",
       "2         879898               0.00\n",
       "3         880020               0.00\n",
       "4         880022               0.00\n",
       "..           ...                ...\n",
       "750       971102               0.00\n",
       "751       971354               0.00\n",
       "752       972412               0.00\n",
       "753       972460               0.00\n",
       "754       973286               0.00\n",
       "\n",
       "[755 rows x 2 columns]"
      ]
     },
     "execution_count": 160,
     "metadata": {},
     "output_type": "execute_result"
    }
   ],
   "source": [
    "missed_call_ratio_per_operator"
   ]
  },
  {
   "cell_type": "code",
   "execution_count": 161,
   "id": "9753506a",
   "metadata": {},
   "outputs": [
    {
     "data": {
      "application/vnd.microsoft.datawrangler.viewer.v0+json": {
       "columns": [
        {
         "name": "index",
         "rawType": "int64",
         "type": "integer"
        },
        {
         "name": "operator_id",
         "rawType": "int64",
         "type": "integer"
        },
        {
         "name": "avg_wait_time_per_call",
         "rawType": "float64",
         "type": "float"
        }
       ],
       "conversionMethod": "pd.DataFrame",
       "ref": "61978d3e-80ce-4a1b-a6cc-a6fa0168aaeb",
       "rows": [
        [
         "0",
         "0",
         "12.16"
        ],
        [
         "1",
         "879896",
         "9.9"
        ],
        [
         "2",
         "879898",
         "16.24"
        ],
        [
         "3",
         "880020",
         "7.71"
        ],
        [
         "4",
         "880022",
         "14.0"
        ],
        [
         "5",
         "880026",
         "5.96"
        ],
        [
         "6",
         "880028",
         "5.44"
        ],
        [
         "7",
         "882476",
         "31.67"
        ],
        [
         "8",
         "882478",
         "25.33"
        ],
        [
         "9",
         "882680",
         "16.07"
        ],
        [
         "10",
         "882684",
         "15.54"
        ],
        [
         "11",
         "882686",
         "14.71"
        ],
        [
         "12",
         "882688",
         "44.87"
        ],
        [
         "13",
         "882690",
         "41.53"
        ],
        [
         "14",
         "883940",
         "12.67"
        ],
        [
         "15",
         "883942",
         "7.05"
        ],
        [
         "16",
         "884294",
         "6.0"
        ],
        [
         "17",
         "884408",
         "26.4"
        ],
        [
         "18",
         "884412",
         "41.67"
        ],
        [
         "19",
         "884478",
         "14.68"
        ],
        [
         "20",
         "884524",
         "9.5"
        ],
        [
         "21",
         "884946",
         "13.25"
        ],
        [
         "22",
         "885876",
         "9.09"
        ],
        [
         "23",
         "885890",
         "9.09"
        ],
        [
         "24",
         "886146",
         "9.0"
        ],
        [
         "25",
         "886674",
         "15.27"
        ],
        [
         "26",
         "886892",
         "29.0"
        ],
        [
         "27",
         "887276",
         "28.21"
        ],
        [
         "28",
         "887278",
         "17.29"
        ],
        [
         "29",
         "887282",
         "44.61"
        ],
        [
         "30",
         "887416",
         "16.72"
        ],
        [
         "31",
         "887802",
         "13.06"
        ],
        [
         "32",
         "888406",
         "28.33"
        ],
        [
         "33",
         "888520",
         "15.67"
        ],
        [
         "34",
         "888532",
         "24.08"
        ],
        [
         "35",
         "888534",
         "28.79"
        ],
        [
         "36",
         "888536",
         "21.5"
        ],
        [
         "37",
         "888538",
         "24.0"
        ],
        [
         "38",
         "888540",
         "19.67"
        ],
        [
         "39",
         "888868",
         "20.15"
        ],
        [
         "40",
         "889410",
         "6.33"
        ],
        [
         "41",
         "889638",
         "14.5"
        ],
        [
         "42",
         "889640",
         "13.5"
        ],
        [
         "43",
         "889754",
         "7.93"
        ],
        [
         "44",
         "890226",
         "27.33"
        ],
        [
         "45",
         "890228",
         "17.33"
        ],
        [
         "46",
         "890402",
         "10.31"
        ],
        [
         "47",
         "890404",
         "10.79"
        ],
        [
         "48",
         "890406",
         "9.46"
        ],
        [
         "49",
         "890410",
         "6.75"
        ]
       ],
       "shape": {
        "columns": 2,
        "rows": 755
       }
      },
      "text/html": [
       "<div>\n",
       "<style scoped>\n",
       "    .dataframe tbody tr th:only-of-type {\n",
       "        vertical-align: middle;\n",
       "    }\n",
       "\n",
       "    .dataframe tbody tr th {\n",
       "        vertical-align: top;\n",
       "    }\n",
       "\n",
       "    .dataframe thead th {\n",
       "        text-align: right;\n",
       "    }\n",
       "</style>\n",
       "<table border=\"1\" class=\"dataframe\">\n",
       "  <thead>\n",
       "    <tr style=\"text-align: right;\">\n",
       "      <th></th>\n",
       "      <th>operator_id</th>\n",
       "      <th>avg_wait_time_per_call</th>\n",
       "    </tr>\n",
       "  </thead>\n",
       "  <tbody>\n",
       "    <tr>\n",
       "      <th>0</th>\n",
       "      <td>0</td>\n",
       "      <td>12.16</td>\n",
       "    </tr>\n",
       "    <tr>\n",
       "      <th>1</th>\n",
       "      <td>879896</td>\n",
       "      <td>9.90</td>\n",
       "    </tr>\n",
       "    <tr>\n",
       "      <th>2</th>\n",
       "      <td>879898</td>\n",
       "      <td>16.24</td>\n",
       "    </tr>\n",
       "    <tr>\n",
       "      <th>3</th>\n",
       "      <td>880020</td>\n",
       "      <td>7.71</td>\n",
       "    </tr>\n",
       "    <tr>\n",
       "      <th>4</th>\n",
       "      <td>880022</td>\n",
       "      <td>14.00</td>\n",
       "    </tr>\n",
       "    <tr>\n",
       "      <th>...</th>\n",
       "      <td>...</td>\n",
       "      <td>...</td>\n",
       "    </tr>\n",
       "    <tr>\n",
       "      <th>750</th>\n",
       "      <td>971102</td>\n",
       "      <td>17.79</td>\n",
       "    </tr>\n",
       "    <tr>\n",
       "      <th>751</th>\n",
       "      <td>971354</td>\n",
       "      <td>14.00</td>\n",
       "    </tr>\n",
       "    <tr>\n",
       "      <th>752</th>\n",
       "      <td>972412</td>\n",
       "      <td>25.00</td>\n",
       "    </tr>\n",
       "    <tr>\n",
       "      <th>753</th>\n",
       "      <td>972460</td>\n",
       "      <td>4.00</td>\n",
       "    </tr>\n",
       "    <tr>\n",
       "      <th>754</th>\n",
       "      <td>973286</td>\n",
       "      <td>44.00</td>\n",
       "    </tr>\n",
       "  </tbody>\n",
       "</table>\n",
       "<p>755 rows × 2 columns</p>\n",
       "</div>"
      ],
      "text/plain": [
       "     operator_id  avg_wait_time_per_call\n",
       "0              0                   12.16\n",
       "1         879896                    9.90\n",
       "2         879898                   16.24\n",
       "3         880020                    7.71\n",
       "4         880022                   14.00\n",
       "..           ...                     ...\n",
       "750       971102                   17.79\n",
       "751       971354                   14.00\n",
       "752       972412                   25.00\n",
       "753       972460                    4.00\n",
       "754       973286                   44.00\n",
       "\n",
       "[755 rows x 2 columns]"
      ]
     },
     "execution_count": 161,
     "metadata": {},
     "output_type": "execute_result"
    }
   ],
   "source": [
    "wating_time_per_operator"
   ]
  },
  {
   "cell_type": "code",
   "execution_count": 162,
   "id": "13da1046",
   "metadata": {},
   "outputs": [
    {
     "data": {
      "application/vnd.microsoft.datawrangler.viewer.v0+json": {
       "columns": [
        {
         "name": "index",
         "rawType": "int64",
         "type": "integer"
        },
        {
         "name": "operator_id",
         "rawType": "int64",
         "type": "integer"
        },
        {
         "name": "outgoing_calls_count",
         "rawType": "int64",
         "type": "integer"
        }
       ],
       "conversionMethod": "pd.DataFrame",
       "ref": "27ddbd0a-f050-448c-ad58-c537860f1dc6",
       "rows": [
        [
         "0",
         "0",
         "515"
        ],
        [
         "1",
         "879896",
         "872"
        ],
        [
         "2",
         "879898",
         "7209"
        ],
        [
         "3",
         "880020",
         "38"
        ],
        [
         "4",
         "880022",
         "189"
        ],
        [
         "5",
         "880026",
         "2208"
        ],
        [
         "6",
         "880028",
         "2497"
        ],
        [
         "7",
         "880240",
         "47"
        ],
        [
         "8",
         "881278",
         "20"
        ],
        [
         "9",
         "882478",
         "1"
        ],
        [
         "10",
         "882684",
         "661"
        ],
        [
         "11",
         "882686",
         "2884"
        ],
        [
         "12",
         "882688",
         "43"
        ],
        [
         "13",
         "882690",
         "1417"
        ],
        [
         "14",
         "883018",
         "2"
        ],
        [
         "15",
         "883898",
         "1"
        ],
        [
         "16",
         "883940",
         "632"
        ],
        [
         "17",
         "883942",
         "2030"
        ],
        [
         "18",
         "884402",
         "4"
        ],
        [
         "19",
         "884406",
         "3"
        ],
        [
         "20",
         "884408",
         "25"
        ],
        [
         "21",
         "884412",
         "748"
        ],
        [
         "22",
         "884478",
         "2270"
        ],
        [
         "23",
         "884946",
         "1847"
        ],
        [
         "24",
         "885682",
         "3"
        ],
        [
         "25",
         "885876",
         "58437"
        ],
        [
         "26",
         "885890",
         "58977"
        ],
        [
         "27",
         "886146",
         "49"
        ],
        [
         "28",
         "887276",
         "896"
        ],
        [
         "29",
         "887278",
         "256"
        ],
        [
         "30",
         "887280",
         "8"
        ],
        [
         "31",
         "887282",
         "2327"
        ],
        [
         "32",
         "887802",
         "121"
        ],
        [
         "33",
         "887992",
         "47"
        ],
        [
         "34",
         "888406",
         "6"
        ],
        [
         "35",
         "888532",
         "188"
        ],
        [
         "36",
         "888534",
         "315"
        ],
        [
         "37",
         "888536",
         "52"
        ],
        [
         "38",
         "888538",
         "5"
        ],
        [
         "39",
         "888540",
         "14"
        ],
        [
         "40",
         "888868",
         "52"
        ],
        [
         "41",
         "889410",
         "1015"
        ],
        [
         "42",
         "889754",
         "1207"
        ],
        [
         "43",
         "890226",
         "3"
        ],
        [
         "44",
         "890228",
         "86"
        ],
        [
         "45",
         "890232",
         "33"
        ],
        [
         "46",
         "890234",
         "1"
        ],
        [
         "47",
         "890402",
         "1243"
        ],
        [
         "48",
         "890404",
         "1349"
        ],
        [
         "49",
         "890406",
         "1197"
        ]
       ],
       "shape": {
        "columns": 2,
        "rows": 883
       }
      },
      "text/html": [
       "<div>\n",
       "<style scoped>\n",
       "    .dataframe tbody tr th:only-of-type {\n",
       "        vertical-align: middle;\n",
       "    }\n",
       "\n",
       "    .dataframe tbody tr th {\n",
       "        vertical-align: top;\n",
       "    }\n",
       "\n",
       "    .dataframe thead th {\n",
       "        text-align: right;\n",
       "    }\n",
       "</style>\n",
       "<table border=\"1\" class=\"dataframe\">\n",
       "  <thead>\n",
       "    <tr style=\"text-align: right;\">\n",
       "      <th></th>\n",
       "      <th>operator_id</th>\n",
       "      <th>outgoing_calls_count</th>\n",
       "    </tr>\n",
       "  </thead>\n",
       "  <tbody>\n",
       "    <tr>\n",
       "      <th>0</th>\n",
       "      <td>0</td>\n",
       "      <td>515</td>\n",
       "    </tr>\n",
       "    <tr>\n",
       "      <th>1</th>\n",
       "      <td>879896</td>\n",
       "      <td>872</td>\n",
       "    </tr>\n",
       "    <tr>\n",
       "      <th>2</th>\n",
       "      <td>879898</td>\n",
       "      <td>7209</td>\n",
       "    </tr>\n",
       "    <tr>\n",
       "      <th>3</th>\n",
       "      <td>880020</td>\n",
       "      <td>38</td>\n",
       "    </tr>\n",
       "    <tr>\n",
       "      <th>4</th>\n",
       "      <td>880022</td>\n",
       "      <td>189</td>\n",
       "    </tr>\n",
       "    <tr>\n",
       "      <th>...</th>\n",
       "      <td>...</td>\n",
       "      <td>...</td>\n",
       "    </tr>\n",
       "    <tr>\n",
       "      <th>878</th>\n",
       "      <td>972408</td>\n",
       "      <td>6</td>\n",
       "    </tr>\n",
       "    <tr>\n",
       "      <th>879</th>\n",
       "      <td>972410</td>\n",
       "      <td>77</td>\n",
       "    </tr>\n",
       "    <tr>\n",
       "      <th>880</th>\n",
       "      <td>972412</td>\n",
       "      <td>60</td>\n",
       "    </tr>\n",
       "    <tr>\n",
       "      <th>881</th>\n",
       "      <td>972460</td>\n",
       "      <td>50</td>\n",
       "    </tr>\n",
       "    <tr>\n",
       "      <th>882</th>\n",
       "      <td>973120</td>\n",
       "      <td>3</td>\n",
       "    </tr>\n",
       "  </tbody>\n",
       "</table>\n",
       "<p>883 rows × 2 columns</p>\n",
       "</div>"
      ],
      "text/plain": [
       "     operator_id  outgoing_calls_count\n",
       "0              0                   515\n",
       "1         879896                   872\n",
       "2         879898                  7209\n",
       "3         880020                    38\n",
       "4         880022                   189\n",
       "..           ...                   ...\n",
       "878       972408                     6\n",
       "879       972410                    77\n",
       "880       972412                    60\n",
       "881       972460                    50\n",
       "882       973120                     3\n",
       "\n",
       "[883 rows x 2 columns]"
      ]
     },
     "execution_count": 162,
     "metadata": {},
     "output_type": "execute_result"
    }
   ],
   "source": [
    "outgoing_calls_per_operator"
   ]
  },
  {
   "cell_type": "code",
   "execution_count": 163,
   "id": "4f205e4b",
   "metadata": {},
   "outputs": [
    {
     "data": {
      "application/vnd.microsoft.datawrangler.viewer.v0+json": {
       "columns": [
        {
         "name": "index",
         "rawType": "int64",
         "type": "integer"
        },
        {
         "name": "operator_id",
         "rawType": "int64",
         "type": "integer"
        },
        {
         "name": "missed_call_ratio",
         "rawType": "float64",
         "type": "float"
        },
        {
         "name": "avg_wait_time_per_call",
         "rawType": "float64",
         "type": "float"
        },
        {
         "name": "outgoing_calls_count",
         "rawType": "float64",
         "type": "float"
        }
       ],
       "conversionMethod": "pd.DataFrame",
       "ref": "8b2a6057-7697-4afa-a007-05d06fa58c8d",
       "rows": [
        [
         "0",
         "0",
         "0.07",
         "12.16",
         "515.0"
        ],
        [
         "1",
         "879896",
         "0.0",
         "9.9",
         "872.0"
        ],
        [
         "2",
         "879898",
         "0.0",
         "16.24",
         "7209.0"
        ],
        [
         "3",
         "880020",
         "0.0",
         "7.71",
         "38.0"
        ],
        [
         "4",
         "880022",
         "0.0",
         "14.0",
         "189.0"
        ],
        [
         "5",
         "880026",
         "0.0",
         "5.96",
         "2208.0"
        ],
        [
         "6",
         "880028",
         "0.0",
         "5.44",
         "2497.0"
        ],
        [
         "7",
         "880240",
         null,
         null,
         "47.0"
        ],
        [
         "8",
         "881278",
         null,
         null,
         "20.0"
        ],
        [
         "9",
         "882476",
         "0.0",
         "31.67",
         null
        ],
        [
         "10",
         "882478",
         "0.0",
         "25.33",
         "1.0"
        ],
        [
         "11",
         "882680",
         "0.03",
         "16.07",
         null
        ],
        [
         "12",
         "882684",
         "0.01",
         "15.54",
         "661.0"
        ],
        [
         "13",
         "882686",
         "0.01",
         "14.71",
         "2884.0"
        ],
        [
         "14",
         "882688",
         "0.0",
         "44.87",
         "43.0"
        ],
        [
         "15",
         "882690",
         "0.01",
         "41.53",
         "1417.0"
        ],
        [
         "16",
         "883018",
         null,
         null,
         "2.0"
        ],
        [
         "17",
         "883898",
         null,
         null,
         "1.0"
        ],
        [
         "18",
         "883940",
         "0.0",
         "12.67",
         "632.0"
        ],
        [
         "19",
         "883942",
         "0.0",
         "7.05",
         "2030.0"
        ],
        [
         "20",
         "884294",
         "0.0",
         "6.0",
         null
        ],
        [
         "21",
         "884402",
         null,
         null,
         "4.0"
        ],
        [
         "22",
         "884406",
         null,
         null,
         "3.0"
        ],
        [
         "23",
         "884408",
         "0.09",
         "26.4",
         "25.0"
        ],
        [
         "24",
         "884412",
         "0.0",
         "41.67",
         "748.0"
        ],
        [
         "25",
         "884478",
         "0.0",
         "14.68",
         "2270.0"
        ],
        [
         "26",
         "884524",
         "0.0",
         "9.5",
         null
        ],
        [
         "27",
         "884946",
         "0.0",
         "13.25",
         "1847.0"
        ],
        [
         "28",
         "885682",
         null,
         null,
         "3.0"
        ],
        [
         "29",
         "885876",
         "0.02",
         "9.09",
         "58437.0"
        ],
        [
         "30",
         "885890",
         "0.02",
         "9.09",
         "58977.0"
        ],
        [
         "31",
         "886146",
         "0.0",
         "9.0",
         "49.0"
        ],
        [
         "32",
         "886674",
         "0.0",
         "15.27",
         null
        ],
        [
         "33",
         "886892",
         "0.0",
         "29.0",
         null
        ],
        [
         "34",
         "887276",
         "0.01",
         "28.21",
         "896.0"
        ],
        [
         "35",
         "887278",
         "0.0",
         "17.29",
         "256.0"
        ],
        [
         "36",
         "887280",
         null,
         null,
         "8.0"
        ],
        [
         "37",
         "887282",
         "0.0",
         "44.61",
         "2327.0"
        ],
        [
         "38",
         "887416",
         "0.0",
         "16.72",
         null
        ],
        [
         "39",
         "887802",
         "0.0",
         "13.06",
         "121.0"
        ],
        [
         "40",
         "887992",
         null,
         null,
         "47.0"
        ],
        [
         "41",
         "888406",
         "0.11",
         "28.33",
         "6.0"
        ],
        [
         "42",
         "888520",
         "0.0",
         "15.67",
         null
        ],
        [
         "43",
         "888532",
         "0.17",
         "24.08",
         "188.0"
        ],
        [
         "44",
         "888534",
         "0.03",
         "28.79",
         "315.0"
        ],
        [
         "45",
         "888536",
         "0.0",
         "21.5",
         "52.0"
        ],
        [
         "46",
         "888538",
         "0.0",
         "24.0",
         "5.0"
        ],
        [
         "47",
         "888540",
         "0.0",
         "19.67",
         "14.0"
        ],
        [
         "48",
         "888868",
         "0.05",
         "20.15",
         "52.0"
        ],
        [
         "49",
         "889410",
         "0.0",
         "6.33",
         "1015.0"
        ]
       ],
       "shape": {
        "columns": 4,
        "rows": 1093
       }
      },
      "text/html": [
       "<div>\n",
       "<style scoped>\n",
       "    .dataframe tbody tr th:only-of-type {\n",
       "        vertical-align: middle;\n",
       "    }\n",
       "\n",
       "    .dataframe tbody tr th {\n",
       "        vertical-align: top;\n",
       "    }\n",
       "\n",
       "    .dataframe thead th {\n",
       "        text-align: right;\n",
       "    }\n",
       "</style>\n",
       "<table border=\"1\" class=\"dataframe\">\n",
       "  <thead>\n",
       "    <tr style=\"text-align: right;\">\n",
       "      <th></th>\n",
       "      <th>operator_id</th>\n",
       "      <th>missed_call_ratio</th>\n",
       "      <th>avg_wait_time_per_call</th>\n",
       "      <th>outgoing_calls_count</th>\n",
       "    </tr>\n",
       "  </thead>\n",
       "  <tbody>\n",
       "    <tr>\n",
       "      <th>0</th>\n",
       "      <td>0</td>\n",
       "      <td>0.07</td>\n",
       "      <td>12.16</td>\n",
       "      <td>515.0</td>\n",
       "    </tr>\n",
       "    <tr>\n",
       "      <th>1</th>\n",
       "      <td>879896</td>\n",
       "      <td>0.00</td>\n",
       "      <td>9.90</td>\n",
       "      <td>872.0</td>\n",
       "    </tr>\n",
       "    <tr>\n",
       "      <th>2</th>\n",
       "      <td>879898</td>\n",
       "      <td>0.00</td>\n",
       "      <td>16.24</td>\n",
       "      <td>7209.0</td>\n",
       "    </tr>\n",
       "    <tr>\n",
       "      <th>3</th>\n",
       "      <td>880020</td>\n",
       "      <td>0.00</td>\n",
       "      <td>7.71</td>\n",
       "      <td>38.0</td>\n",
       "    </tr>\n",
       "    <tr>\n",
       "      <th>4</th>\n",
       "      <td>880022</td>\n",
       "      <td>0.00</td>\n",
       "      <td>14.00</td>\n",
       "      <td>189.0</td>\n",
       "    </tr>\n",
       "    <tr>\n",
       "      <th>...</th>\n",
       "      <td>...</td>\n",
       "      <td>...</td>\n",
       "      <td>...</td>\n",
       "      <td>...</td>\n",
       "    </tr>\n",
       "    <tr>\n",
       "      <th>1088</th>\n",
       "      <td>972410</td>\n",
       "      <td>NaN</td>\n",
       "      <td>NaN</td>\n",
       "      <td>77.0</td>\n",
       "    </tr>\n",
       "    <tr>\n",
       "      <th>1089</th>\n",
       "      <td>972412</td>\n",
       "      <td>0.00</td>\n",
       "      <td>25.00</td>\n",
       "      <td>60.0</td>\n",
       "    </tr>\n",
       "    <tr>\n",
       "      <th>1090</th>\n",
       "      <td>972460</td>\n",
       "      <td>0.00</td>\n",
       "      <td>4.00</td>\n",
       "      <td>50.0</td>\n",
       "    </tr>\n",
       "    <tr>\n",
       "      <th>1091</th>\n",
       "      <td>973120</td>\n",
       "      <td>NaN</td>\n",
       "      <td>NaN</td>\n",
       "      <td>3.0</td>\n",
       "    </tr>\n",
       "    <tr>\n",
       "      <th>1092</th>\n",
       "      <td>973286</td>\n",
       "      <td>0.00</td>\n",
       "      <td>44.00</td>\n",
       "      <td>NaN</td>\n",
       "    </tr>\n",
       "  </tbody>\n",
       "</table>\n",
       "<p>1093 rows × 4 columns</p>\n",
       "</div>"
      ],
      "text/plain": [
       "      operator_id  missed_call_ratio  avg_wait_time_per_call  \\\n",
       "0               0               0.07                   12.16   \n",
       "1          879896               0.00                    9.90   \n",
       "2          879898               0.00                   16.24   \n",
       "3          880020               0.00                    7.71   \n",
       "4          880022               0.00                   14.00   \n",
       "...           ...                ...                     ...   \n",
       "1088       972410                NaN                     NaN   \n",
       "1089       972412               0.00                   25.00   \n",
       "1090       972460               0.00                    4.00   \n",
       "1091       973120                NaN                     NaN   \n",
       "1092       973286               0.00                   44.00   \n",
       "\n",
       "      outgoing_calls_count  \n",
       "0                    515.0  \n",
       "1                    872.0  \n",
       "2                   7209.0  \n",
       "3                     38.0  \n",
       "4                    189.0  \n",
       "...                    ...  \n",
       "1088                  77.0  \n",
       "1089                  60.0  \n",
       "1090                  50.0  \n",
       "1091                   3.0  \n",
       "1092                   NaN  \n",
       "\n",
       "[1093 rows x 4 columns]"
      ]
     },
     "execution_count": 163,
     "metadata": {},
     "output_type": "execute_result"
    }
   ],
   "source": [
    "# Combinamos todas las métricas en un solo DataFrame\n",
    "operator_metrics = pd.merge(\n",
    "    missed_call_ratio_per_operator,\n",
    "    wating_time_per_operator,\n",
    "    on='operator_id',\n",
    "    how='outer'\n",
    ")\n",
    "\n",
    "operator_metrics = pd.merge(\n",
    "    operator_metrics,\n",
    "    outgoing_calls_per_operator,\n",
    "    on='operator_id',\n",
    "    how='outer'\n",
    ")\n",
    "\n",
    "# Mostrar el resultado\n",
    "operator_metrics"
   ]
  },
  {
   "cell_type": "code",
   "execution_count": 164,
   "id": "e7a76115",
   "metadata": {},
   "outputs": [],
   "source": [
    "# Excluiremos al operador_id 0 ya que el enfoque de nuestro análisis es sobre los operadores\n",
    "operator_metrics = operator_metrics[operator_metrics['operator_id'] != 0]"
   ]
  },
  {
   "cell_type": "code",
   "execution_count": 165,
   "id": "dcb0f4f8",
   "metadata": {},
   "outputs": [],
   "source": [
    "# Creamos columnas de ineficiencia (1 punto por cada una)\n",
    "operator_metrics['inefficient_missed_call'] = (operator_metrics['missed_call_ratio'] > missed_call_ratio_limit).astype(int)\n",
    "operator_metrics['inefficient_wait_time'] = (operator_metrics['avg_wait_time_per_call'] > wating_time_per_operator_limit).astype(int)\n",
    "operator_metrics['inefficient_outgoing_volume'] = (operator_metrics['outgoing_calls_count'] < outgoing_calls_per_operator_quantiles[0.25]).astype(int)"
   ]
  },
  {
   "cell_type": "code",
   "execution_count": 166,
   "id": "6f1527c0",
   "metadata": {},
   "outputs": [],
   "source": [
    "# Calculamos el nivel de ineficiencia sumando las columnas binarias\n",
    "operator_metrics['inefficiency_level'] = (\n",
    "    operator_metrics['inefficient_missed_call'] +\n",
    "    operator_metrics['inefficient_wait_time'] +\n",
    "    operator_metrics['inefficient_outgoing_volume']\n",
    ")"
   ]
  },
  {
   "cell_type": "code",
   "execution_count": 167,
   "id": "83862d4f",
   "metadata": {},
   "outputs": [],
   "source": [
    "# Clasificamos según nivel de ineficiencia\n",
    "def classify_inefficiency(level):\n",
    "    if level == 0:\n",
    "        return 'eficiente'\n",
    "    elif level == 1:\n",
    "        return 'ineficiente bajo'\n",
    "    elif level == 2:\n",
    "        return 'ineficiente medio'\n",
    "    else:\n",
    "        return 'ineficiente alto'"
   ]
  },
  {
   "cell_type": "code",
   "execution_count": 168,
   "id": "9244ea95",
   "metadata": {},
   "outputs": [],
   "source": [
    "# Aplicamos la función de clasificación\n",
    "operator_metrics['inefficiency_class'] = operator_metrics['inefficiency_level'].apply(classify_inefficiency)"
   ]
  },
  {
   "cell_type": "code",
   "execution_count": 169,
   "id": "256102dc",
   "metadata": {},
   "outputs": [
    {
     "data": {
      "application/vnd.microsoft.datawrangler.viewer.v0+json": {
       "columns": [
        {
         "name": "index",
         "rawType": "int64",
         "type": "integer"
        },
        {
         "name": "operator_id",
         "rawType": "int64",
         "type": "integer"
        },
        {
         "name": "missed_call_ratio",
         "rawType": "float64",
         "type": "float"
        },
        {
         "name": "avg_wait_time_per_call",
         "rawType": "float64",
         "type": "float"
        },
        {
         "name": "outgoing_calls_count",
         "rawType": "float64",
         "type": "float"
        },
        {
         "name": "inefficient_missed_call",
         "rawType": "int64",
         "type": "integer"
        },
        {
         "name": "inefficient_wait_time",
         "rawType": "int64",
         "type": "integer"
        },
        {
         "name": "inefficient_outgoing_volume",
         "rawType": "int64",
         "type": "integer"
        },
        {
         "name": "inefficiency_level",
         "rawType": "int64",
         "type": "integer"
        },
        {
         "name": "inefficiency_class",
         "rawType": "object",
         "type": "string"
        }
       ],
       "conversionMethod": "pd.DataFrame",
       "ref": "502b5b75-6cdf-4508-86ee-3933243f4103",
       "rows": [
        [
         "1",
         "879896",
         "0.0",
         "9.9",
         "872.0",
         "0",
         "0",
         "0",
         "0",
         "eficiente"
        ],
        [
         "2",
         "879898",
         "0.0",
         "16.24",
         "7209.0",
         "0",
         "0",
         "0",
         "0",
         "eficiente"
        ],
        [
         "3",
         "880020",
         "0.0",
         "7.71",
         "38.0",
         "0",
         "0",
         "0",
         "0",
         "eficiente"
        ],
        [
         "4",
         "880022",
         "0.0",
         "14.0",
         "189.0",
         "0",
         "0",
         "0",
         "0",
         "eficiente"
        ],
        [
         "5",
         "880026",
         "0.0",
         "5.96",
         "2208.0",
         "0",
         "0",
         "0",
         "0",
         "eficiente"
        ],
        [
         "6",
         "880028",
         "0.0",
         "5.44",
         "2497.0",
         "0",
         "0",
         "0",
         "0",
         "eficiente"
        ],
        [
         "7",
         "880240",
         "0.0",
         "0.0",
         "47.0",
         "0",
         "0",
         "0",
         "0",
         "eficiente"
        ],
        [
         "8",
         "881278",
         "0.0",
         "0.0",
         "20.0",
         "0",
         "0",
         "0",
         "0",
         "eficiente"
        ],
        [
         "9",
         "882476",
         "0.0",
         "31.67",
         "0.0",
         "0",
         "0",
         "0",
         "0",
         "eficiente"
        ],
        [
         "10",
         "882478",
         "0.0",
         "25.33",
         "1.0",
         "0",
         "0",
         "1",
         "1",
         "ineficiente bajo"
        ],
        [
         "11",
         "882680",
         "0.03",
         "16.07",
         "0.0",
         "1",
         "0",
         "0",
         "1",
         "ineficiente bajo"
        ],
        [
         "12",
         "882684",
         "0.01",
         "15.54",
         "661.0",
         "0",
         "0",
         "0",
         "0",
         "eficiente"
        ],
        [
         "13",
         "882686",
         "0.01",
         "14.71",
         "2884.0",
         "0",
         "0",
         "0",
         "0",
         "eficiente"
        ],
        [
         "14",
         "882688",
         "0.0",
         "44.87",
         "43.0",
         "0",
         "1",
         "0",
         "1",
         "ineficiente bajo"
        ],
        [
         "15",
         "882690",
         "0.01",
         "41.53",
         "1417.0",
         "0",
         "1",
         "0",
         "1",
         "ineficiente bajo"
        ],
        [
         "16",
         "883018",
         "0.0",
         "0.0",
         "2.0",
         "0",
         "0",
         "1",
         "1",
         "ineficiente bajo"
        ],
        [
         "17",
         "883898",
         "0.0",
         "0.0",
         "1.0",
         "0",
         "0",
         "1",
         "1",
         "ineficiente bajo"
        ],
        [
         "18",
         "883940",
         "0.0",
         "12.67",
         "632.0",
         "0",
         "0",
         "0",
         "0",
         "eficiente"
        ],
        [
         "19",
         "883942",
         "0.0",
         "7.05",
         "2030.0",
         "0",
         "0",
         "0",
         "0",
         "eficiente"
        ],
        [
         "20",
         "884294",
         "0.0",
         "6.0",
         "0.0",
         "0",
         "0",
         "0",
         "0",
         "eficiente"
        ],
        [
         "21",
         "884402",
         "0.0",
         "0.0",
         "4.0",
         "0",
         "0",
         "1",
         "1",
         "ineficiente bajo"
        ],
        [
         "22",
         "884406",
         "0.0",
         "0.0",
         "3.0",
         "0",
         "0",
         "1",
         "1",
         "ineficiente bajo"
        ],
        [
         "23",
         "884408",
         "0.09",
         "26.4",
         "25.0",
         "1",
         "0",
         "0",
         "1",
         "ineficiente bajo"
        ],
        [
         "24",
         "884412",
         "0.0",
         "41.67",
         "748.0",
         "0",
         "1",
         "0",
         "1",
         "ineficiente bajo"
        ],
        [
         "25",
         "884478",
         "0.0",
         "14.68",
         "2270.0",
         "0",
         "0",
         "0",
         "0",
         "eficiente"
        ],
        [
         "26",
         "884524",
         "0.0",
         "9.5",
         "0.0",
         "0",
         "0",
         "0",
         "0",
         "eficiente"
        ],
        [
         "27",
         "884946",
         "0.0",
         "13.25",
         "1847.0",
         "0",
         "0",
         "0",
         "0",
         "eficiente"
        ],
        [
         "28",
         "885682",
         "0.0",
         "0.0",
         "3.0",
         "0",
         "0",
         "1",
         "1",
         "ineficiente bajo"
        ],
        [
         "29",
         "885876",
         "0.02",
         "9.09",
         "58437.0",
         "0",
         "0",
         "0",
         "0",
         "eficiente"
        ],
        [
         "30",
         "885890",
         "0.02",
         "9.09",
         "58977.0",
         "0",
         "0",
         "0",
         "0",
         "eficiente"
        ],
        [
         "31",
         "886146",
         "0.0",
         "9.0",
         "49.0",
         "0",
         "0",
         "0",
         "0",
         "eficiente"
        ],
        [
         "32",
         "886674",
         "0.0",
         "15.27",
         "0.0",
         "0",
         "0",
         "0",
         "0",
         "eficiente"
        ],
        [
         "33",
         "886892",
         "0.0",
         "29.0",
         "0.0",
         "0",
         "0",
         "0",
         "0",
         "eficiente"
        ],
        [
         "34",
         "887276",
         "0.01",
         "28.21",
         "896.0",
         "0",
         "0",
         "0",
         "0",
         "eficiente"
        ],
        [
         "35",
         "887278",
         "0.0",
         "17.29",
         "256.0",
         "0",
         "0",
         "0",
         "0",
         "eficiente"
        ],
        [
         "36",
         "887280",
         "0.0",
         "0.0",
         "8.0",
         "0",
         "0",
         "1",
         "1",
         "ineficiente bajo"
        ],
        [
         "37",
         "887282",
         "0.0",
         "44.61",
         "2327.0",
         "0",
         "1",
         "0",
         "1",
         "ineficiente bajo"
        ],
        [
         "38",
         "887416",
         "0.0",
         "16.72",
         "0.0",
         "0",
         "0",
         "0",
         "0",
         "eficiente"
        ],
        [
         "39",
         "887802",
         "0.0",
         "13.06",
         "121.0",
         "0",
         "0",
         "0",
         "0",
         "eficiente"
        ],
        [
         "40",
         "887992",
         "0.0",
         "0.0",
         "47.0",
         "0",
         "0",
         "0",
         "0",
         "eficiente"
        ],
        [
         "41",
         "888406",
         "0.11",
         "28.33",
         "6.0",
         "1",
         "0",
         "1",
         "2",
         "ineficiente medio"
        ],
        [
         "42",
         "888520",
         "0.0",
         "15.67",
         "0.0",
         "0",
         "0",
         "0",
         "0",
         "eficiente"
        ],
        [
         "43",
         "888532",
         "0.17",
         "24.08",
         "188.0",
         "1",
         "0",
         "0",
         "1",
         "ineficiente bajo"
        ],
        [
         "44",
         "888534",
         "0.03",
         "28.79",
         "315.0",
         "1",
         "0",
         "0",
         "1",
         "ineficiente bajo"
        ],
        [
         "45",
         "888536",
         "0.0",
         "21.5",
         "52.0",
         "0",
         "0",
         "0",
         "0",
         "eficiente"
        ],
        [
         "46",
         "888538",
         "0.0",
         "24.0",
         "5.0",
         "0",
         "0",
         "1",
         "1",
         "ineficiente bajo"
        ],
        [
         "47",
         "888540",
         "0.0",
         "19.67",
         "14.0",
         "0",
         "0",
         "0",
         "0",
         "eficiente"
        ],
        [
         "48",
         "888868",
         "0.05",
         "20.15",
         "52.0",
         "1",
         "0",
         "0",
         "1",
         "ineficiente bajo"
        ],
        [
         "49",
         "889410",
         "0.0",
         "6.33",
         "1015.0",
         "0",
         "0",
         "0",
         "0",
         "eficiente"
        ],
        [
         "50",
         "889638",
         "0.0",
         "14.5",
         "0.0",
         "0",
         "0",
         "0",
         "0",
         "eficiente"
        ]
       ],
       "shape": {
        "columns": 9,
        "rows": 1092
       }
      },
      "text/html": [
       "<div>\n",
       "<style scoped>\n",
       "    .dataframe tbody tr th:only-of-type {\n",
       "        vertical-align: middle;\n",
       "    }\n",
       "\n",
       "    .dataframe tbody tr th {\n",
       "        vertical-align: top;\n",
       "    }\n",
       "\n",
       "    .dataframe thead th {\n",
       "        text-align: right;\n",
       "    }\n",
       "</style>\n",
       "<table border=\"1\" class=\"dataframe\">\n",
       "  <thead>\n",
       "    <tr style=\"text-align: right;\">\n",
       "      <th></th>\n",
       "      <th>operator_id</th>\n",
       "      <th>missed_call_ratio</th>\n",
       "      <th>avg_wait_time_per_call</th>\n",
       "      <th>outgoing_calls_count</th>\n",
       "      <th>inefficient_missed_call</th>\n",
       "      <th>inefficient_wait_time</th>\n",
       "      <th>inefficient_outgoing_volume</th>\n",
       "      <th>inefficiency_level</th>\n",
       "      <th>inefficiency_class</th>\n",
       "    </tr>\n",
       "  </thead>\n",
       "  <tbody>\n",
       "    <tr>\n",
       "      <th>1</th>\n",
       "      <td>879896</td>\n",
       "      <td>0.0</td>\n",
       "      <td>9.90</td>\n",
       "      <td>872.0</td>\n",
       "      <td>0</td>\n",
       "      <td>0</td>\n",
       "      <td>0</td>\n",
       "      <td>0</td>\n",
       "      <td>eficiente</td>\n",
       "    </tr>\n",
       "    <tr>\n",
       "      <th>2</th>\n",
       "      <td>879898</td>\n",
       "      <td>0.0</td>\n",
       "      <td>16.24</td>\n",
       "      <td>7209.0</td>\n",
       "      <td>0</td>\n",
       "      <td>0</td>\n",
       "      <td>0</td>\n",
       "      <td>0</td>\n",
       "      <td>eficiente</td>\n",
       "    </tr>\n",
       "    <tr>\n",
       "      <th>3</th>\n",
       "      <td>880020</td>\n",
       "      <td>0.0</td>\n",
       "      <td>7.71</td>\n",
       "      <td>38.0</td>\n",
       "      <td>0</td>\n",
       "      <td>0</td>\n",
       "      <td>0</td>\n",
       "      <td>0</td>\n",
       "      <td>eficiente</td>\n",
       "    </tr>\n",
       "    <tr>\n",
       "      <th>4</th>\n",
       "      <td>880022</td>\n",
       "      <td>0.0</td>\n",
       "      <td>14.00</td>\n",
       "      <td>189.0</td>\n",
       "      <td>0</td>\n",
       "      <td>0</td>\n",
       "      <td>0</td>\n",
       "      <td>0</td>\n",
       "      <td>eficiente</td>\n",
       "    </tr>\n",
       "    <tr>\n",
       "      <th>5</th>\n",
       "      <td>880026</td>\n",
       "      <td>0.0</td>\n",
       "      <td>5.96</td>\n",
       "      <td>2208.0</td>\n",
       "      <td>0</td>\n",
       "      <td>0</td>\n",
       "      <td>0</td>\n",
       "      <td>0</td>\n",
       "      <td>eficiente</td>\n",
       "    </tr>\n",
       "    <tr>\n",
       "      <th>...</th>\n",
       "      <td>...</td>\n",
       "      <td>...</td>\n",
       "      <td>...</td>\n",
       "      <td>...</td>\n",
       "      <td>...</td>\n",
       "      <td>...</td>\n",
       "      <td>...</td>\n",
       "      <td>...</td>\n",
       "      <td>...</td>\n",
       "    </tr>\n",
       "    <tr>\n",
       "      <th>1088</th>\n",
       "      <td>972410</td>\n",
       "      <td>0.0</td>\n",
       "      <td>0.00</td>\n",
       "      <td>77.0</td>\n",
       "      <td>0</td>\n",
       "      <td>0</td>\n",
       "      <td>0</td>\n",
       "      <td>0</td>\n",
       "      <td>eficiente</td>\n",
       "    </tr>\n",
       "    <tr>\n",
       "      <th>1089</th>\n",
       "      <td>972412</td>\n",
       "      <td>0.0</td>\n",
       "      <td>25.00</td>\n",
       "      <td>60.0</td>\n",
       "      <td>0</td>\n",
       "      <td>0</td>\n",
       "      <td>0</td>\n",
       "      <td>0</td>\n",
       "      <td>eficiente</td>\n",
       "    </tr>\n",
       "    <tr>\n",
       "      <th>1090</th>\n",
       "      <td>972460</td>\n",
       "      <td>0.0</td>\n",
       "      <td>4.00</td>\n",
       "      <td>50.0</td>\n",
       "      <td>0</td>\n",
       "      <td>0</td>\n",
       "      <td>0</td>\n",
       "      <td>0</td>\n",
       "      <td>eficiente</td>\n",
       "    </tr>\n",
       "    <tr>\n",
       "      <th>1091</th>\n",
       "      <td>973120</td>\n",
       "      <td>0.0</td>\n",
       "      <td>0.00</td>\n",
       "      <td>3.0</td>\n",
       "      <td>0</td>\n",
       "      <td>0</td>\n",
       "      <td>1</td>\n",
       "      <td>1</td>\n",
       "      <td>ineficiente bajo</td>\n",
       "    </tr>\n",
       "    <tr>\n",
       "      <th>1092</th>\n",
       "      <td>973286</td>\n",
       "      <td>0.0</td>\n",
       "      <td>44.00</td>\n",
       "      <td>0.0</td>\n",
       "      <td>0</td>\n",
       "      <td>1</td>\n",
       "      <td>0</td>\n",
       "      <td>1</td>\n",
       "      <td>ineficiente bajo</td>\n",
       "    </tr>\n",
       "  </tbody>\n",
       "</table>\n",
       "<p>1092 rows × 9 columns</p>\n",
       "</div>"
      ],
      "text/plain": [
       "      operator_id  missed_call_ratio  avg_wait_time_per_call  \\\n",
       "1          879896                0.0                    9.90   \n",
       "2          879898                0.0                   16.24   \n",
       "3          880020                0.0                    7.71   \n",
       "4          880022                0.0                   14.00   \n",
       "5          880026                0.0                    5.96   \n",
       "...           ...                ...                     ...   \n",
       "1088       972410                0.0                    0.00   \n",
       "1089       972412                0.0                   25.00   \n",
       "1090       972460                0.0                    4.00   \n",
       "1091       973120                0.0                    0.00   \n",
       "1092       973286                0.0                   44.00   \n",
       "\n",
       "      outgoing_calls_count  inefficient_missed_call  inefficient_wait_time  \\\n",
       "1                    872.0                        0                      0   \n",
       "2                   7209.0                        0                      0   \n",
       "3                     38.0                        0                      0   \n",
       "4                    189.0                        0                      0   \n",
       "5                   2208.0                        0                      0   \n",
       "...                    ...                      ...                    ...   \n",
       "1088                  77.0                        0                      0   \n",
       "1089                  60.0                        0                      0   \n",
       "1090                  50.0                        0                      0   \n",
       "1091                   3.0                        0                      0   \n",
       "1092                   0.0                        0                      1   \n",
       "\n",
       "      inefficient_outgoing_volume  inefficiency_level inefficiency_class  \n",
       "1                               0                   0          eficiente  \n",
       "2                               0                   0          eficiente  \n",
       "3                               0                   0          eficiente  \n",
       "4                               0                   0          eficiente  \n",
       "5                               0                   0          eficiente  \n",
       "...                           ...                 ...                ...  \n",
       "1088                            0                   0          eficiente  \n",
       "1089                            0                   0          eficiente  \n",
       "1090                            0                   0          eficiente  \n",
       "1091                            1                   1   ineficiente bajo  \n",
       "1092                            0                   1   ineficiente bajo  \n",
       "\n",
       "[1092 rows x 9 columns]"
      ]
     },
     "execution_count": 169,
     "metadata": {},
     "output_type": "execute_result"
    }
   ],
   "source": [
    "# Sustituimos los valores ausentes por un cero para que no afecten los cálculos\n",
    "operator_metrics.fillna(0, inplace=True) # El 0 en este contexto singificaría (no ineficiente por inexistencia)\n",
    "# Mostramos el dataframe final\n",
    "operator_metrics"
   ]
  },
  {
   "cell_type": "markdown",
   "id": "53d5e2c0",
   "metadata": {},
   "source": [
    "### **Top Operadores más Ineficienetes**"
   ]
  },
  {
   "cell_type": "code",
   "execution_count": null,
   "id": "95a83748",
   "metadata": {},
   "outputs": [
    {
     "name": "stdout",
     "output_type": "stream",
     "text": [
      "Empty DataFrame\n",
      "Columns: [operator_id, inefficiency_level]\n",
      "Index: []\n"
     ]
    }
   ],
   "source": [
    "# Operadores más ineficientes\n",
    "most_inefficient_operators = operator_metrics.groupby(['operator_id'])['inefficiency_level'].sum().reset_index()\n",
    "most_inefficient_operators = most_inefficient_operators.query('inefficiency_level > 1')\n",
    "print(most_inefficient_operators.sort_values(by='inefficiency_level', ascending=False))"
   ]
  },
  {
   "cell_type": "markdown",
   "id": "4820c489",
   "metadata": {},
   "source": [
    "## **Prueba de Hipótesis**"
   ]
  },
  {
   "cell_type": "markdown",
   "id": "34622703",
   "metadata": {},
   "source": [
    "**Hipótesis: ¿Hay relación entre la proporción de llamadas perdidas y la eficiencia?**\n",
    "\n",
    "H0: No hay diferencia significativa en el porcentaje de llamadas perdidas entre operadores eficientes e ineficientes.\n",
    "\n",
    "H1: Los operadores ineficientes tienen un porcentaje mayor de llamadas perdidas."
   ]
  },
  {
   "cell_type": "code",
   "execution_count": 171,
   "id": "9b3b692f",
   "metadata": {},
   "outputs": [
    {
     "name": "stdout",
     "output_type": "stream",
     "text": [
      "Estadístico U: 99505.5\n",
      "Valor p: 5.937540906834263e-16\n",
      "Rechazamos H₀: Los operadores ineficientes tienen un porcentaje mayor de llamadas perdidas.\n"
     ]
    }
   ],
   "source": [
    "# Dividimos los datos en operadores eficientes e ineficientes\n",
    "efficient_operators = operator_metrics[operator_metrics['inefficiency_level'] == 0]['missed_call_ratio']\n",
    "inefficient_operators = operator_metrics[operator_metrics['inefficiency_level'] > 0]['missed_call_ratio']\n",
    "\n",
    "# Prueba de Mann-Whitney U\n",
    "stat, p_value = mannwhitneyu(efficient_operators, inefficient_operators, alternative='less') # Prueba unilateral porque queremos ver si los operadores ineficientes tienen un porcentaje mayor de llamadas perdidas\n",
    "\n",
    "print(f'Estadístico U: {stat}')\n",
    "print(f'Valor p: {p_value}')\n",
    "\n",
    "# Interpretación\n",
    "alpha = 0.05\n",
    "if p_value < alpha:\n",
    "    print(\"Rechazamos H₀: Los operadores ineficientes tienen un porcentaje mayor de llamadas perdidas.\")\n",
    "else:\n",
    "    print(\"No se puede rechazar H₀: No hay diferencia significativa en el porcentaje de llamadas perdidas.\")"
   ]
  },
  {
   "cell_type": "markdown",
   "id": "f42631a4",
   "metadata": {},
   "source": [
    "**Hipótesis: ¿Hay relación entre las llamadas internas con la ineficiencia?**\n",
    "\n",
    "H0: El tipo de llamada (interna/externa) no se asocia con la proporción de llamdas perdidas\n",
    "\n",
    "H1: Ciertas direcciones (internas/externas) están asociadas con una mayor proporción de llamadas perdidas"
   ]
  },
  {
   "cell_type": "code",
   "execution_count": 172,
   "id": "8335c5ce",
   "metadata": {},
   "outputs": [
    {
     "name": "stdout",
     "output_type": "stream",
     "text": [
      "Estadístico Chi-cuadrado: 49.7983610620781\n",
      "Valor p: 1.7038623122341556e-12\n",
      "Rechazamos H₀: El tipo de llamada está asociado con la proporción de llamadas perdidas.\n"
     ]
    }
   ],
   "source": [
    "# Creamos una tabla de contingencia\n",
    "contingency_table = pd.crosstab(telecom_df['internal'], telecom_df['is_missed_call'])\n",
    "\n",
    "# Prueba de Chi-cuadrado\n",
    "chi2, p_value, _, _ = chi2_contingency(contingency_table)\n",
    "\n",
    "print(f'Estadístico Chi-cuadrado: {chi2}')\n",
    "print(f'Valor p: {p_value}')\n",
    "\n",
    "# Interpretación\n",
    "if p_value < alpha:\n",
    "    print(\"Rechazamos H₀: El tipo de llamada está asociado con la proporción de llamadas perdidas.\")\n",
    "else:\n",
    "    print(\"No se puede rechazar H₀: No hay asociación significativa entre el tipo de llamada y las llamadas perdidas.\")"
   ]
  },
  {
   "cell_type": "code",
   "execution_count": 173,
   "id": "13171b11",
   "metadata": {},
   "outputs": [
    {
     "name": "stdout",
     "output_type": "stream",
     "text": [
      "is_missed_call      0      1\n",
      "internal                    \n",
      "0               24564  18675\n",
      "1                2931   2722\n"
     ]
    }
   ],
   "source": [
    "print(contingency_table)"
   ]
  },
  {
   "cell_type": "markdown",
   "id": "4a1f65b4",
   "metadata": {},
   "source": [
    "**Hipótesis: ¿Hay relación entre el tiempo de espera promedio y la eficiencia?**\n",
    "\n",
    "H0: No hay diferencia en el tiempo promedio de espera entre operadores eficientes e ineficientes\n",
    "\n",
    "H1: Los operadores ineficientes tienen mayor tiempo de espera"
   ]
  },
  {
   "cell_type": "code",
   "execution_count": 174,
   "id": "23be230c",
   "metadata": {},
   "outputs": [
    {
     "name": "stdout",
     "output_type": "stream",
     "text": [
      "Estadístico U: 105835.5\n",
      "Valor p: 1.774582367105487e-05\n",
      "Rechazamos H₀: Los operadores ineficientes tienen mayor tiempo de espera.\n"
     ]
    }
   ],
   "source": [
    "# Dividimos los datos en operadores eficientes e ineficientes\n",
    "efficient_wait_time = operator_metrics[operator_metrics['inefficiency_level'] == 0]['avg_wait_time_per_call']\n",
    "inefficient_wait_time = operator_metrics[operator_metrics['inefficiency_level'] > 0]['avg_wait_time_per_call']\n",
    "\n",
    "# Prueba de Mann-Whitney U\n",
    "stat, p_value = mannwhitneyu(efficient_wait_time, inefficient_wait_time, alternative='less') # Prueba unilateral porque queremos ver si los operadores ineficientes tienen un tiempo de espera mayor\n",
    "\n",
    "print(f'Estadístico U: {stat}')\n",
    "print(f'Valor p: {p_value}')\n",
    "\n",
    "# Interpretación\n",
    "if p_value < alpha:\n",
    "    print(\"Rechazamos H₀: Los operadores ineficientes tienen mayor tiempo de espera.\")\n",
    "else:\n",
    "    print(\"No se puede rechazar H₀: No hay diferencia significativa en el tiempo promedio de espera.\")"
   ]
  },
  {
   "cell_type": "markdown",
   "id": "b72f2c4e",
   "metadata": {},
   "source": [
    "**Hipótesis: ¿Hay relación entre el volumen de llamadas salientes y la eficiencia?** \n",
    "\n",
    "H₀: No hay diferencia significativa en el volumen de llamadas salientes entre operadores eficientes e ineficientes.\n",
    "\n",
    "H₁: Los operadores ineficientes tienen menor volumen de llamadas salientes."
   ]
  },
  {
   "cell_type": "code",
   "execution_count": 175,
   "id": "4acc6853",
   "metadata": {},
   "outputs": [
    {
     "name": "stdout",
     "output_type": "stream",
     "text": [
      "Estadístico U: 183354.5\n",
      "Valor p: 1.0\n",
      "No se puede rechazar H₀: No hay diferencia significativa en el volumen de llamadas salientes.\n"
     ]
    }
   ],
   "source": [
    "# Dividimos los datos en operadores eficientes e ineficientes\n",
    "efficient_outgoing_calls = operator_metrics[operator_metrics['inefficiency_level'] == 0]['outgoing_calls_count']\n",
    "inefficient_outgoing_calls = operator_metrics[operator_metrics['inefficiency_level'] > 0]['outgoing_calls_count']\n",
    "\n",
    "# Prueba de Mann-Whitney U\n",
    "stat, p_value = mannwhitneyu(efficient_outgoing_calls, inefficient_outgoing_calls, alternative='less')\n",
    "\n",
    "print(f'Estadístico U: {stat}')\n",
    "print(f'Valor p: {p_value}')\n",
    "\n",
    "# Interpretación\n",
    "if p_value < alpha:\n",
    "    print(\"Rechazamos H₀: Los operadores ineficientes tienen menor volumen de llamadas salientes.\")\n",
    "else:\n",
    "    print(\"No se puede rechazar H₀: No hay diferencia significativa en el volumen de llamadas salientes.\")"
   ]
  },
  {
   "cell_type": "markdown",
   "id": "3d7b0bde",
   "metadata": {},
   "source": [
    "**Hipótesis: ¿Hay operadores que manejan mayor cantidad de llamadas?**\n",
    "\n",
    "H₀: Todos los operadores manejan un número similar de llamadas.\n",
    "\n",
    "H₁: Algunos operadores manejan significativamente más llamadas que otros."
   ]
  },
  {
   "cell_type": "markdown",
   "id": "5e011498",
   "metadata": {},
   "source": [
    "*La prueba H de Kruskal-Wallis contrasta la hipótesis nula de que la mediana poblacional de todos los grupos es igual. Es una versión no paramétrica del ANOVA. La prueba funciona con dos o más muestras independientes, que pueden tener diferentes tamaños. Cabe destacar que rechazar la hipótesis nula no indica cuál de los grupos difiere. Se requieren comparaciones post hoc entre los grupos para determinar cuáles son diferentes.*"
   ]
  },
  {
   "cell_type": "code",
   "execution_count": 176,
   "id": "d2b11eb6",
   "metadata": {},
   "outputs": [
    {
     "name": "stdout",
     "output_type": "stream",
     "text": [
      "Estadístico H: 18838.506078784612\n",
      "Valor p: 0.0\n",
      "Rechazamos H₀: Algunos operadores manejan significativamente más llamadas que otros.\n"
     ]
    }
   ],
   "source": [
    "# Agrupamos por operador\n",
    "call_counts = telecom_df.groupby('operator_id')['calls_count'].sum()\n",
    "\n",
    "# Prueba de Kruskal-Wallis\n",
    "# Sintaxis: kruskal(*args) -> args= una lista de arrays\n",
    "# En este caso, agrupa los datos por operator_id, extrae los valoers de calls_count para cada grupo y realiza la prueba de Kruskal para comparar las distribuciones de calls_count entre operadores\n",
    "stat, p_value = kruskal(*[group['calls_count'].values for _, group in telecom_df.groupby('operator_id')])\n",
    "\n",
    "print(f'Estadístico H: {stat}')\n",
    "print(f'Valor p: {p_value}')\n",
    "\n",
    "# Interpretación\n",
    "if p_value < alpha:\n",
    "    print(\"Rechazamos H₀: Algunos operadores manejan significativamente más llamadas que otros.\")\n",
    "else:\n",
    "    print(\"No se puede rechazar H₀: Todos los operadores manejan un número similar de llamadas.\")"
   ]
  },
  {
   "cell_type": "markdown",
   "id": "cbb152b2",
   "metadata": {},
   "source": [
    "**Hipótesis: ¿La duración de la llamada depende del tipo de llamada?**\n",
    "\n",
    "H₀: La duración promedio de la llamada no difiere entre llamadas internas y externas.\n",
    "\n",
    "H₁: La duración difiere según el tipo de llamada."
   ]
  },
  {
   "cell_type": "code",
   "execution_count": 177,
   "id": "252e4501",
   "metadata": {},
   "outputs": [
    {
     "name": "stdout",
     "output_type": "stream",
     "text": [
      "Estadístico U: 95712692.0\n",
      "Valor p: 7.749636231585533e-169\n",
      "Rechazamos H₀: La duración promedio de la llamada difiere según el tipo de llamada.\n"
     ]
    }
   ],
   "source": [
    "# Dividimos los datos en llamadas internas y externas\n",
    "internal_calls = telecom_df[telecom_df['internal'] == 1]['call_duration']\n",
    "external_calls = telecom_df[telecom_df['internal'] == 0]['call_duration']\n",
    "\n",
    "# Prueba de Mann-Whitney U\n",
    "stat, p_value = mannwhitneyu(internal_calls, external_calls, alternative='two-sided')\n",
    "\n",
    "print(f'Estadístico U: {stat}')\n",
    "print(f'Valor p: {p_value}')\n",
    "\n",
    "# Interpretación\n",
    "if p_value < alpha:\n",
    "    print(\"Rechazamos H₀: La duración promedio de la llamada difiere según el tipo de llamada.\")\n",
    "else:\n",
    "    print(\"No se puede rechazar H₀: No hay diferencia significativa en la duración promedio de la llamada.\")"
   ]
  },
  {
   "cell_type": "markdown",
   "id": "baf9e351",
   "metadata": {},
   "source": [
    "**Hipótesis: ¿El plan tarifario del cliente influye en la eficiencia?**\n",
    "\n",
    "H₀: El plan tarifario del cliente no influye en la eficiencia del operador.\n",
    "\n",
    "H₁: Ciertos planes tarifarios están asociados con mayor ineficiencia del operador."
   ]
  },
  {
   "cell_type": "code",
   "execution_count": null,
   "id": "7f6e506c",
   "metadata": {},
   "outputs": [],
   "source": [
    "# Primero unimos los dataframes con el de clientes para tener el conjunto de datos completo\n",
    "operator_metrics_clients_merged = pd.merge(telecom_df[['user_id','operator_id']], operator_metrics, on='operator_id')\n",
    "operator_metrics_clients_merged = pd.merge(operator_metrics_clients_merged, telecom_clients, on='user_id')"
   ]
  },
  {
   "cell_type": "code",
   "execution_count": 179,
   "id": "c9c9607b",
   "metadata": {},
   "outputs": [
    {
     "name": "stdout",
     "output_type": "stream",
     "text": [
      "40399\n",
      "<class 'pandas.core.frame.DataFrame'>\n",
      "RangeIndex: 41491 entries, 0 to 41490\n",
      "Data columns (total 16 columns):\n",
      " #   Column                       Non-Null Count  Dtype         \n",
      "---  ------                       --------------  -----         \n",
      " 0   user_id                      41491 non-null  int64         \n",
      " 1   operator_id                  41491 non-null  int64         \n",
      " 2   missed_call_ratio            41491 non-null  float64       \n",
      " 3   avg_wait_time_per_call       41491 non-null  float64       \n",
      " 4   outgoing_calls_count         41491 non-null  float64       \n",
      " 5   inefficient_missed_call      41491 non-null  int64         \n",
      " 6   inefficient_wait_time        41491 non-null  int64         \n",
      " 7   inefficient_outgoing_volume  41491 non-null  int64         \n",
      " 8   inefficiency_level           41491 non-null  int64         \n",
      " 9   inefficiency_class           41491 non-null  object        \n",
      " 10  tariff_plan                  41491 non-null  category      \n",
      " 11  date_start                   41491 non-null  datetime64[ns]\n",
      " 12  year_start                   41491 non-null  int32         \n",
      " 13  month_start                  41491 non-null  int32         \n",
      " 14  day_start                    41491 non-null  int32         \n",
      " 15  day_of_week_start            41491 non-null  int32         \n",
      "dtypes: category(1), datetime64[ns](1), float64(3), int32(4), int64(6), object(1)\n",
      "memory usage: 4.2+ MB\n",
      "None\n"
     ]
    }
   ],
   "source": [
    "# Verificamos valores duplicados y ausentes despues del merge\n",
    "print(operator_metrics_clients_merged.duplicated().sum())\n",
    "print(operator_metrics_clients_merged.info())"
   ]
  },
  {
   "cell_type": "code",
   "execution_count": 180,
   "id": "4adc1f49",
   "metadata": {},
   "outputs": [],
   "source": [
    "# Eliminamos valores duplicados \n",
    "operator_metrics_clients_merged = operator_metrics_clients_merged.drop_duplicates() "
   ]
  },
  {
   "cell_type": "code",
   "execution_count": 181,
   "id": "98eadd2a",
   "metadata": {},
   "outputs": [
    {
     "name": "stdout",
     "output_type": "stream",
     "text": [
      "Estadístico H: 4.959042895944554\n",
      "Valor p: 0.08378331067324457\n",
      "No se puede rechazar H₀: El plan tarifario no influye en la eficiencia del operador.\n"
     ]
    },
    {
     "name": "stderr",
     "output_type": "stream",
     "text": [
      "C:\\Users\\Andrea\\AppData\\Local\\Temp\\ipykernel_20936\\2457708130.py:2: FutureWarning:\n",
      "\n",
      "The default of observed=False is deprecated and will be changed to True in a future version of pandas. Pass observed=False to retain current behavior or observed=True to adopt the future default and silence this warning.\n",
      "\n"
     ]
    }
   ],
   "source": [
    "# Agrupamos por plan tarifario\n",
    "tariff_inefficiency_level = operator_metrics_clients_merged.groupby('tariff_plan')['inefficiency_level']\n",
    "\n",
    "# Prueba de Kruskal-Wallis\n",
    "stat, p_value = kruskal(*[group.values for _, group in tariff_inefficiency_level])\n",
    "\n",
    "print(f'Estadístico H: {stat}')\n",
    "print(f'Valor p: {p_value}')\n",
    "\n",
    "# Interpretación\n",
    "if p_value < alpha:\n",
    "    print(\"Rechazamos H₀: Ciertos planes tarifarios están asociados con mayor ineficiencia del operador.\")\n",
    "else:\n",
    "    print(\"No se puede rechazar H₀: El plan tarifario no influye en la eficiencia del operador.\")"
   ]
  },
  {
   "cell_type": "code",
   "execution_count": null,
   "id": "f636853f",
   "metadata": {},
   "outputs": [
    {
     "name": "stderr",
     "output_type": "stream",
     "text": [
      "C:\\Users\\Andrea\\AppData\\Local\\Temp\\ipykernel_20936\\1865470154.py:1: FutureWarning:\n",
      "\n",
      "The default of observed=False is deprecated and will be changed to True in a future version of pandas. Pass observed=False to retain current behavior or observed=True to adopt the future default and silence this warning.\n",
      "\n"
     ]
    },
    {
     "data": {
      "image/png": "[encoded data removed]",
      "text/plain": [
       "<Figure size 640x480 with 1 Axes>"
      ]
     },
     "metadata": {},
     "output_type": "display_data"
    }
   ],
   "source": [
    "# Agrupamos por plan tarifario \n",
    "tariff_inefficiency_per_plan = operator_metrics_clients_merged.groupby('tariff_plan')['inefficiency_level'].sum().reset_index()\n",
    "\n",
    "# Creamos un gráfico de barras \n",
    "tariff_inefficiency_per_plan.plot(\n",
    "    kind='bar',\n",
    "    x='tariff_plan',\n",
    "    y='inefficiency_level',\n",
    "    title='Ineficiencia total por plan tarifario',\n",
    "    xlabel='Plan tarifario',\n",
    "    ylabel='Ineficiencia total',\n",
    "    color=['skyblue','violet', 'yellowgreen'],\n",
    "    rot=0,\n",
    "    legend=False\n",
    ")\n",
    "plt.show()"
   ]
  },
  {
   "cell_type": "markdown",
   "id": "2514ad83",
   "metadata": {},
   "source": [
    "Recordemos que la cantidad de usuarios por plan tarifario iba en orden ascendente, y a pesar de eso, el plan tariario B es el más influyente en la eficiencia de los operadores."
   ]
  },
  {
   "cell_type": "markdown",
   "id": "5a6ee111",
   "metadata": {},
   "source": [
    "**Hipótesis: ¿Los clientes están asociados con la eficiencia del operador?**\n",
    "\n",
    "H₀: El cliente (user_id) no influye en la eficiencia del operador.\n",
    "\n",
    "H₁: Algunos clientes están asociados con operadores más ineficientes."
   ]
  },
  {
   "cell_type": "code",
   "execution_count": 183,
   "id": "31431c48",
   "metadata": {},
   "outputs": [
    {
     "name": "stdout",
     "output_type": "stream",
     "text": [
      "Estadístico H: 402.59700345858465\n",
      "Valor p: 1.0937743898170011e-05\n",
      "Rechazamos H₀: Algunos clientes están asociados con operadores más ineficientes.\n"
     ]
    }
   ],
   "source": [
    "# Agrupamos por cliente\n",
    "client_groups = operator_metrics_clients_merged.groupby('user_id')['inefficiency_level']\n",
    "\n",
    "# Prueba de Kruskal-Wallis\n",
    "stat, p_value = kruskal(*[group.values for _, group in client_groups])\n",
    "\n",
    "print(f'Estadístico H: {stat}')\n",
    "print(f'Valor p: {p_value}')\n",
    "\n",
    "# Interpretación\n",
    "if p_value < alpha:\n",
    "    print(\"Rechazamos H₀: Algunos clientes están asociados con operadores más ineficientes.\")\n",
    "else:\n",
    "    print(\"No se puede rechazar H₀: El cliente no influye en la eficiencia del operador.\")"
   ]
  },
  {
   "cell_type": "code",
   "execution_count": 184,
   "id": "f60ef59d",
   "metadata": {},
   "outputs": [
    {
     "data": {
      "application/vnd.plotly.v1+json": {
       "config": {
        "plotlyServerURL": "https://plot.ly"
       },
       "data": [
        {
         "alignmentgroup": "True",
         "hovertemplate": "ID del cliente=%{x}<br>Ineficiencia total=%{marker.color}<extra></extra>",
         "legendgroup": "",
         "marker": {
          "color": [
           15,
           12,
           12,
           10,
           10,
           9,
           9,
           9,
           7,
           6
          ],
          "coloraxis": "coloraxis",
          "pattern": {
           "shape": ""
          }
         },
         "name": "",
         "offsetgroup": "",
         "orientation": "v",
         "showlegend": false,
         "textposition": "auto",
         "type": "bar",
         "x": [
          "168187",
          "168252",
          "167497",
          "167580",
          "168336",
          "168073",
          "166520",
          "168225",
          "167176",
          "166916"
         ],
         "xaxis": "x",
         "y": [
          15,
          12,
          12,
          10,
          10,
          9,
          9,
          9,
          7,
          6
         ],
         "yaxis": "y"
        }
       ],
       "layout": {
        "barmode": "relative",
        "coloraxis": {
         "colorbar": {
          "title": {
           "text": "Ineficiencia total"
          }
         },
         "colorscale": [
          [
           0,
           "#0d0887"
          ],
          [
           0.1111111111111111,
           "#46039f"
          ],
          [
           0.2222222222222222,
           "#7201a8"
          ],
          [
           0.3333333333333333,
           "#9c179e"
          ],
          [
           0.4444444444444444,
           "#bd3786"
          ],
          [
           0.5555555555555556,
           "#d8576b"
          ],
          [
           0.6666666666666666,
           "#ed7953"
          ],
          [
           0.7777777777777778,
           "#fb9f3a"
          ],
          [
           0.8888888888888888,
           "#fdca26"
          ],
          [
           1,
           "#f0f921"
          ]
         ]
        },
        "legend": {
         "tracegroupgap": 0
        },
        "template": {
         "data": {
          "bar": [
           {
            "error_x": {
             "color": "#2a3f5f"
            },
            "error_y": {
             "color": "#2a3f5f"
            },
            "marker": {
             "line": {
              "color": "#E5ECF6",
              "width": 0.5
             },
             "pattern": {
              "fillmode": "overlay",
              "size": 10,
              "solidity": 0.2
             }
            },
            "type": "bar"
           }
          ],
          "barpolar": [
           {
            "marker": {
             "line": {
              "color": "#E5ECF6",
              "width": 0.5
             },
             "pattern": {
              "fillmode": "overlay",
              "size": 10,
              "solidity": 0.2
             }
            },
            "type": "barpolar"
           }
          ],
          "carpet": [
           {
            "aaxis": {
             "endlinecolor": "#2a3f5f",
             "gridcolor": "white",
             "linecolor": "white",
             "minorgridcolor": "white",
             "startlinecolor": "#2a3f5f"
            },
            "baxis": {
             "endlinecolor": "#2a3f5f",
             "gridcolor": "white",
             "linecolor": "white",
             "minorgridcolor": "white",
             "startlinecolor": "#2a3f5f"
            },
            "type": "carpet"
           }
          ],
          "choropleth": [
           {
            "colorbar": {
             "outlinewidth": 0,
             "ticks": ""
            },
            "type": "choropleth"
           }
          ],
          "contour": [
           {
            "colorbar": {
             "outlinewidth": 0,
             "ticks": ""
            },
            "colorscale": [
             [
              0,
              "#0d0887"
             ],
             [
              0.1111111111111111,
              "#46039f"
             ],
             [
              0.2222222222222222,
              "#7201a8"
             ],
             [
              0.3333333333333333,
              "#9c179e"
             ],
             [
              0.4444444444444444,
              "#bd3786"
             ],
             [
              0.5555555555555556,
              "#d8576b"
             ],
             [
              0.6666666666666666,
              "#ed7953"
             ],
             [
              0.7777777777777778,
              "#fb9f3a"
             ],
             [
              0.8888888888888888,
              "#fdca26"
             ],
             [
              1,
              "#f0f921"
             ]
            ],
            "type": "contour"
           }
          ],
          "contourcarpet": [
           {
            "colorbar": {
             "outlinewidth": 0,
             "ticks": ""
            },
            "type": "contourcarpet"
           }
          ],
          "heatmap": [
           {
            "colorbar": {
             "outlinewidth": 0,
             "ticks": ""
            },
            "colorscale": [
             [
              0,
              "#0d0887"
             ],
             [
              0.1111111111111111,
              "#46039f"
             ],
             [
              0.2222222222222222,
              "#7201a8"
             ],
             [
              0.3333333333333333,
              "#9c179e"
             ],
             [
              0.4444444444444444,
              "#bd3786"
             ],
             [
              0.5555555555555556,
              "#d8576b"
             ],
             [
              0.6666666666666666,
              "#ed7953"
             ],
             [
              0.7777777777777778,
              "#fb9f3a"
             ],
             [
              0.8888888888888888,
              "#fdca26"
             ],
             [
              1,
              "#f0f921"
             ]
            ],
            "type": "heatmap"
           }
          ],
          "heatmapgl": [
           {
            "colorbar": {
             "outlinewidth": 0,
             "ticks": ""
            },
            "colorscale": [
             [
              0,
              "#0d0887"
             ],
             [
              0.1111111111111111,
              "#46039f"
             ],
             [
              0.2222222222222222,
              "#7201a8"
             ],
             [
              0.3333333333333333,
              "#9c179e"
             ],
             [
              0.4444444444444444,
              "#bd3786"
             ],
             [
              0.5555555555555556,
              "#d8576b"
             ],
             [
              0.6666666666666666,
              "#ed7953"
             ],
             [
              0.7777777777777778,
              "#fb9f3a"
             ],
             [
              0.8888888888888888,
              "#fdca26"
             ],
             [
              1,
              "#f0f921"
             ]
            ],
            "type": "heatmapgl"
           }
          ],
          "histogram": [
           {
            "marker": {
             "pattern": {
              "fillmode": "overlay",
              "size": 10,
              "solidity": 0.2
             }
            },
            "type": "histogram"
           }
          ],
          "histogram2d": [
           {
            "colorbar": {
             "outlinewidth": 0,
             "ticks": ""
            },
            "colorscale": [
             [
              0,
              "#0d0887"
             ],
             [
              0.1111111111111111,
              "#46039f"
             ],
             [
              0.2222222222222222,
              "#7201a8"
             ],
             [
              0.3333333333333333,
              "#9c179e"
             ],
             [
              0.4444444444444444,
              "#bd3786"
             ],
             [
              0.5555555555555556,
              "#d8576b"
             ],
             [
              0.6666666666666666,
              "#ed7953"
             ],
             [
              0.7777777777777778,
              "#fb9f3a"
             ],
             [
              0.8888888888888888,
              "#fdca26"
             ],
             [
              1,
              "#f0f921"
             ]
            ],
            "type": "histogram2d"
           }
          ],
          "histogram2dcontour": [
           {
            "colorbar": {
             "outlinewidth": 0,
             "ticks": ""
            },
            "colorscale": [
             [
              0,
              "#0d0887"
             ],
             [
              0.1111111111111111,
              "#46039f"
             ],
             [
              0.2222222222222222,
              "#7201a8"
             ],
             [
              0.3333333333333333,
              "#9c179e"
             ],
             [
              0.4444444444444444,
              "#bd3786"
             ],
             [
              0.5555555555555556,
              "#d8576b"
             ],
             [
              0.6666666666666666,
              "#ed7953"
             ],
             [
              0.7777777777777778,
              "#fb9f3a"
             ],
             [
              0.8888888888888888,
              "#fdca26"
             ],
             [
              1,
              "#f0f921"
             ]
            ],
            "type": "histogram2dcontour"
           }
          ],
          "mesh3d": [
           {
            "colorbar": {
             "outlinewidth": 0,
             "ticks": ""
            },
            "type": "mesh3d"
           }
          ],
          "parcoords": [
           {
            "line": {
             "colorbar": {
              "outlinewidth": 0,
              "ticks": ""
             }
            },
            "type": "parcoords"
           }
          ],
          "pie": [
           {
            "automargin": true,
            "type": "pie"
           }
          ],
          "scatter": [
           {
            "fillpattern": {
             "fillmode": "overlay",
             "size": 10,
             "solidity": 0.2
            },
            "type": "scatter"
           }
          ],
          "scatter3d": [
           {
            "line": {
             "colorbar": {
              "outlinewidth": 0,
              "ticks": ""
             }
            },
            "marker": {
             "colorbar": {
              "outlinewidth": 0,
              "ticks": ""
             }
            },
            "type": "scatter3d"
           }
          ],
          "scattercarpet": [
           {
            "marker": {
             "colorbar": {
              "outlinewidth": 0,
              "ticks": ""
             }
            },
            "type": "scattercarpet"
           }
          ],
          "scattergeo": [
           {
            "marker": {
             "colorbar": {
              "outlinewidth": 0,
              "ticks": ""
             }
            },
            "type": "scattergeo"
           }
          ],
          "scattergl": [
           {
            "marker": {
             "colorbar": {
              "outlinewidth": 0,
              "ticks": ""
             }
            },
            "type": "scattergl"
           }
          ],
          "scattermapbox": [
           {
            "marker": {
             "colorbar": {
              "outlinewidth": 0,
              "ticks": ""
             }
            },
            "type": "scattermapbox"
           }
          ],
          "scatterpolar": [
           {
            "marker": {
             "colorbar": {
              "outlinewidth": 0,
              "ticks": ""
             }
            },
            "type": "scatterpolar"
           }
          ],
          "scatterpolargl": [
           {
            "marker": {
             "colorbar": {
              "outlinewidth": 0,
              "ticks": ""
             }
            },
            "type": "scatterpolargl"
           }
          ],
          "scatterternary": [
           {
            "marker": {
             "colorbar": {
              "outlinewidth": 0,
              "ticks": ""
             }
            },
            "type": "scatterternary"
           }
          ],
          "surface": [
           {
            "colorbar": {
             "outlinewidth": 0,
             "ticks": ""
            },
            "colorscale": [
             [
              0,
              "#0d0887"
             ],
             [
              0.1111111111111111,
              "#46039f"
             ],
             [
              0.2222222222222222,
              "#7201a8"
             ],
             [
              0.3333333333333333,
              "#9c179e"
             ],
             [
              0.4444444444444444,
              "#bd3786"
             ],
             [
              0.5555555555555556,
              "#d8576b"
             ],
             [
              0.6666666666666666,
              "#ed7953"
             ],
             [
              0.7777777777777778,
              "#fb9f3a"
             ],
             [
              0.8888888888888888,
              "#fdca26"
             ],
             [
              1,
              "#f0f921"
             ]
            ],
            "type": "surface"
           }
          ],
          "table": [
           {
            "cells": {
             "fill": {
              "color": "#EBF0F8"
             },
             "line": {
              "color": "white"
             }
            },
            "header": {
             "fill": {
              "color": "#C8D4E3"
             },
             "line": {
              "color": "white"
             }
            },
            "type": "table"
           }
          ]
         },
         "layout": {
          "annotationdefaults": {
           "arrowcolor": "#2a3f5f",
           "arrowhead": 0,
           "arrowwidth": 1
          },
          "autotypenumbers": "strict",
          "coloraxis": {
           "colorbar": {
            "outlinewidth": 0,
            "ticks": ""
           }
          },
          "colorscale": {
           "diverging": [
            [
             0,
             "#8e0152"
            ],
            [
             0.1,
             "#c51b7d"
            ],
            [
             0.2,
             "#de77ae"
            ],
            [
             0.3,
             "#f1b6da"
            ],
            [
             0.4,
             "#fde0ef"
            ],
            [
             0.5,
             "#f7f7f7"
            ],
            [
             0.6,
             "#e6f5d0"
            ],
            [
             0.7,
             "#b8e186"
            ],
            [
             0.8,
             "#7fbc41"
            ],
            [
             0.9,
             "#4d9221"
            ],
            [
             1,
             "#276419"
            ]
           ],
           "sequential": [
            [
             0,
             "#0d0887"
            ],
            [
             0.1111111111111111,
             "#46039f"
            ],
            [
             0.2222222222222222,
             "#7201a8"
            ],
            [
             0.3333333333333333,
             "#9c179e"
            ],
            [
             0.4444444444444444,
             "#bd3786"
            ],
            [
             0.5555555555555556,
             "#d8576b"
            ],
            [
             0.6666666666666666,
             "#ed7953"
            ],
            [
             0.7777777777777778,
             "#fb9f3a"
            ],
            [
             0.8888888888888888,
             "#fdca26"
            ],
            [
             1,
             "#f0f921"
            ]
           ],
           "sequentialminus": [
            [
             0,
             "#0d0887"
            ],
            [
             0.1111111111111111,
             "#46039f"
            ],
            [
             0.2222222222222222,
             "#7201a8"
            ],
            [
             0.3333333333333333,
             "#9c179e"
            ],
            [
             0.4444444444444444,
             "#bd3786"
            ],
            [
             0.5555555555555556,
             "#d8576b"
            ],
            [
             0.6666666666666666,
             "#ed7953"
            ],
            [
             0.7777777777777778,
             "#fb9f3a"
            ],
            [
             0.8888888888888888,
             "#fdca26"
            ],
            [
             1,
             "#f0f921"
            ]
           ]
          },
          "colorway": [
           "#636efa",
           "#EF553B",
           "#00cc96",
           "#ab63fa",
           "#FFA15A",
           "#19d3f3",
           "#FF6692",
           "#B6E880",
           "#FF97FF",
           "#FECB52"
          ],
          "font": {
           "color": "#2a3f5f"
          },
          "geo": {
           "bgcolor": "white",
           "lakecolor": "white",
           "landcolor": "#E5ECF6",
           "showlakes": true,
           "showland": true,
           "subunitcolor": "white"
          },
          "hoverlabel": {
           "align": "left"
          },
          "hovermode": "closest",
          "mapbox": {
           "style": "light"
          },
          "paper_bgcolor": "white",
          "plot_bgcolor": "#E5ECF6",
          "polar": {
           "angularaxis": {
            "gridcolor": "white",
            "linecolor": "white",
            "ticks": ""
           },
           "bgcolor": "#E5ECF6",
           "radialaxis": {
            "gridcolor": "white",
            "linecolor": "white",
            "ticks": ""
           }
          },
          "scene": {
           "xaxis": {
            "backgroundcolor": "#E5ECF6",
            "gridcolor": "white",
            "gridwidth": 2,
            "linecolor": "white",
            "showbackground": true,
            "ticks": "",
            "zerolinecolor": "white"
           },
           "yaxis": {
            "backgroundcolor": "#E5ECF6",
            "gridcolor": "white",
            "gridwidth": 2,
            "linecolor": "white",
            "showbackground": true,
            "ticks": "",
            "zerolinecolor": "white"
           },
           "zaxis": {
            "backgroundcolor": "#E5ECF6",
            "gridcolor": "white",
            "gridwidth": 2,
            "linecolor": "white",
            "showbackground": true,
            "ticks": "",
            "zerolinecolor": "white"
           }
          },
          "shapedefaults": {
           "line": {
            "color": "#2a3f5f"
           }
          },
          "ternary": {
           "aaxis": {
            "gridcolor": "white",
            "linecolor": "white",
            "ticks": ""
           },
           "baxis": {
            "gridcolor": "white",
            "linecolor": "white",
            "ticks": ""
           },
           "bgcolor": "#E5ECF6",
           "caxis": {
            "gridcolor": "white",
            "linecolor": "white",
            "ticks": ""
           }
          },
          "title": {
           "x": 0.05
          },
          "xaxis": {
           "automargin": true,
           "gridcolor": "white",
           "linecolor": "white",
           "ticks": "",
           "title": {
            "standoff": 15
           },
           "zerolinecolor": "white",
           "zerolinewidth": 2
          },
          "yaxis": {
           "automargin": true,
           "gridcolor": "white",
           "linecolor": "white",
           "ticks": "",
           "title": {
            "standoff": 15
           },
           "zerolinecolor": "white",
           "zerolinewidth": 2
          }
         }
        },
        "title": {
         "text": "Top 10 clientes asociados a más ineficiencia de los operadores"
        },
        "xaxis": {
         "anchor": "y",
         "domain": [
          0,
          1
         ],
         "title": {
          "text": "ID del cliente"
         }
        },
        "yaxis": {
         "anchor": "x",
         "domain": [
          0,
          1
         ],
         "title": {
          "text": "Ineficiencia total"
         }
        }
       }
      },
      "text/html": [
       "<div>                            <div id=\"23cffe8d-005d-4362-a16a-8a2a181bddde\" class=\"plotly-graph-div\" style=\"height:525px; width:100%;\"></div>            <script type=\"text/javascript\">                require([\"plotly\"], function(Plotly) {                    window.PLOTLYENV=window.PLOTLYENV || {};                                    if (document.getElementById(\"23cffe8d-005d-4362-a16a-8a2a181bddde\")) {                    Plotly.newPlot(                        \"23cffe8d-005d-4362-a16a-8a2a181bddde\",                        [{\"alignmentgroup\":\"True\",\"hovertemplate\":\"ID del cliente=%{x}\\u003cbr\\u003eIneficiencia total=%{marker.color}\\u003cextra\\u003e\\u003c\\u002fextra\\u003e\",\"legendgroup\":\"\",\"marker\":{\"color\":[15,12,12,10,10,9,9,9,7,6],\"coloraxis\":\"coloraxis\",\"pattern\":{\"shape\":\"\"}},\"name\":\"\",\"offsetgroup\":\"\",\"orientation\":\"v\",\"showlegend\":false,\"textposition\":\"auto\",\"x\":[\"168187\",\"168252\",\"167497\",\"167580\",\"168336\",\"168073\",\"166520\",\"168225\",\"167176\",\"166916\"],\"xaxis\":\"x\",\"y\":[15,12,12,10,10,9,9,9,7,6],\"yaxis\":\"y\",\"type\":\"bar\"}],                        {\"template\":{\"data\":{\"histogram2dcontour\":[{\"type\":\"histogram2dcontour\",\"colorbar\":{\"outlinewidth\":0,\"ticks\":\"\"},\"colorscale\":[[0.0,\"#0d0887\"],[0.1111111111111111,\"#46039f\"],[0.2222222222222222,\"#7201a8\"],[0.3333333333333333,\"#9c179e\"],[0.4444444444444444,\"#bd3786\"],[0.5555555555555556,\"#d8576b\"],[0.6666666666666666,\"#ed7953\"],[0.7777777777777778,\"#fb9f3a\"],[0.8888888888888888,\"#fdca26\"],[1.0,\"#f0f921\"]]}],\"choropleth\":[{\"type\":\"choropleth\",\"colorbar\":{\"outlinewidth\":0,\"ticks\":\"\"}}],\"histogram2d\":[{\"type\":\"histogram2d\",\"colorbar\":{\"outlinewidth\":0,\"ticks\":\"\"},\"colorscale\":[[0.0,\"#0d0887\"],[0.1111111111111111,\"#46039f\"],[0.2222222222222222,\"#7201a8\"],[0.3333333333333333,\"#9c179e\"],[0.4444444444444444,\"#bd3786\"],[0.5555555555555556,\"#d8576b\"],[0.6666666666666666,\"#ed7953\"],[0.7777777777777778,\"#fb9f3a\"],[0.8888888888888888,\"#fdca26\"],[1.0,\"#f0f921\"]]}],\"heatmap\":[{\"type\":\"heatmap\",\"colorbar\":{\"outlinewidth\":0,\"ticks\":\"\"},\"colorscale\":[[0.0,\"#0d0887\"],[0.1111111111111111,\"#46039f\"],[0.2222222222222222,\"#7201a8\"],[0.3333333333333333,\"#9c179e\"],[0.4444444444444444,\"#bd3786\"],[0.5555555555555556,\"#d8576b\"],[0.6666666666666666,\"#ed7953\"],[0.7777777777777778,\"#fb9f3a\"],[0.8888888888888888,\"#fdca26\"],[1.0,\"#f0f921\"]]}],\"heatmapgl\":[{\"type\":\"heatmapgl\",\"colorbar\":{\"outlinewidth\":0,\"ticks\":\"\"},\"colorscale\":[[0.0,\"#0d0887\"],[0.1111111111111111,\"#46039f\"],[0.2222222222222222,\"#7201a8\"],[0.3333333333333333,\"#9c179e\"],[0.4444444444444444,\"#bd3786\"],[0.5555555555555556,\"#d8576b\"],[0.6666666666666666,\"#ed7953\"],[0.7777777777777778,\"#fb9f3a\"],[0.8888888888888888,\"#fdca26\"],[1.0,\"#f0f921\"]]}],\"contourcarpet\":[{\"type\":\"contourcarpet\",\"colorbar\":{\"outlinewidth\":0,\"ticks\":\"\"}}],\"contour\":[{\"type\":\"contour\",\"colorbar\":{\"outlinewidth\":0,\"ticks\":\"\"},\"colorscale\":[[0.0,\"#0d0887\"],[0.1111111111111111,\"#46039f\"],[0.2222222222222222,\"#7201a8\"],[0.3333333333333333,\"#9c179e\"],[0.4444444444444444,\"#bd3786\"],[0.5555555555555556,\"#d8576b\"],[0.6666666666666666,\"#ed7953\"],[0.7777777777777778,\"#fb9f3a\"],[0.8888888888888888,\"#fdca26\"],[1.0,\"#f0f921\"]]}],\"surface\":[{\"type\":\"surface\",\"colorbar\":{\"outlinewidth\":0,\"ticks\":\"\"},\"colorscale\":[[0.0,\"#0d0887\"],[0.1111111111111111,\"#46039f\"],[0.2222222222222222,\"#7201a8\"],[0.3333333333333333,\"#9c179e\"],[0.4444444444444444,\"#bd3786\"],[0.5555555555555556,\"#d8576b\"],[0.6666666666666666,\"#ed7953\"],[0.7777777777777778,\"#fb9f3a\"],[0.8888888888888888,\"#fdca26\"],[1.0,\"#f0f921\"]]}],\"mesh3d\":[{\"type\":\"mesh3d\",\"colorbar\":{\"outlinewidth\":0,\"ticks\":\"\"}}],\"scatter\":[{\"fillpattern\":{\"fillmode\":\"overlay\",\"size\":10,\"solidity\":0.2},\"type\":\"scatter\"}],\"parcoords\":[{\"type\":\"parcoords\",\"line\":{\"colorbar\":{\"outlinewidth\":0,\"ticks\":\"\"}}}],\"scatterpolargl\":[{\"type\":\"scatterpolargl\",\"marker\":{\"colorbar\":{\"outlinewidth\":0,\"ticks\":\"\"}}}],\"bar\":[{\"error_x\":{\"color\":\"#2a3f5f\"},\"error_y\":{\"color\":\"#2a3f5f\"},\"marker\":{\"line\":{\"color\":\"#E5ECF6\",\"width\":0.5},\"pattern\":{\"fillmode\":\"overlay\",\"size\":10,\"solidity\":0.2}},\"type\":\"bar\"}],\"scattergeo\":[{\"type\":\"scattergeo\",\"marker\":{\"colorbar\":{\"outlinewidth\":0,\"ticks\":\"\"}}}],\"scatterpolar\":[{\"type\":\"scatterpolar\",\"marker\":{\"colorbar\":{\"outlinewidth\":0,\"ticks\":\"\"}}}],\"histogram\":[{\"marker\":{\"pattern\":{\"fillmode\":\"overlay\",\"size\":10,\"solidity\":0.2}},\"type\":\"histogram\"}],\"scattergl\":[{\"type\":\"scattergl\",\"marker\":{\"colorbar\":{\"outlinewidth\":0,\"ticks\":\"\"}}}],\"scatter3d\":[{\"type\":\"scatter3d\",\"line\":{\"colorbar\":{\"outlinewidth\":0,\"ticks\":\"\"}},\"marker\":{\"colorbar\":{\"outlinewidth\":0,\"ticks\":\"\"}}}],\"scattermapbox\":[{\"type\":\"scattermapbox\",\"marker\":{\"colorbar\":{\"outlinewidth\":0,\"ticks\":\"\"}}}],\"scatterternary\":[{\"type\":\"scatterternary\",\"marker\":{\"colorbar\":{\"outlinewidth\":0,\"ticks\":\"\"}}}],\"scattercarpet\":[{\"type\":\"scattercarpet\",\"marker\":{\"colorbar\":{\"outlinewidth\":0,\"ticks\":\"\"}}}],\"carpet\":[{\"aaxis\":{\"endlinecolor\":\"#2a3f5f\",\"gridcolor\":\"white\",\"linecolor\":\"white\",\"minorgridcolor\":\"white\",\"startlinecolor\":\"#2a3f5f\"},\"baxis\":{\"endlinecolor\":\"#2a3f5f\",\"gridcolor\":\"white\",\"linecolor\":\"white\",\"minorgridcolor\":\"white\",\"startlinecolor\":\"#2a3f5f\"},\"type\":\"carpet\"}],\"table\":[{\"cells\":{\"fill\":{\"color\":\"#EBF0F8\"},\"line\":{\"color\":\"white\"}},\"header\":{\"fill\":{\"color\":\"#C8D4E3\"},\"line\":{\"color\":\"white\"}},\"type\":\"table\"}],\"barpolar\":[{\"marker\":{\"line\":{\"color\":\"#E5ECF6\",\"width\":0.5},\"pattern\":{\"fillmode\":\"overlay\",\"size\":10,\"solidity\":0.2}},\"type\":\"barpolar\"}],\"pie\":[{\"automargin\":true,\"type\":\"pie\"}]},\"layout\":{\"autotypenumbers\":\"strict\",\"colorway\":[\"#636efa\",\"#EF553B\",\"#00cc96\",\"#ab63fa\",\"#FFA15A\",\"#19d3f3\",\"#FF6692\",\"#B6E880\",\"#FF97FF\",\"#FECB52\"],\"font\":{\"color\":\"#2a3f5f\"},\"hovermode\":\"closest\",\"hoverlabel\":{\"align\":\"left\"},\"paper_bgcolor\":\"white\",\"plot_bgcolor\":\"#E5ECF6\",\"polar\":{\"bgcolor\":\"#E5ECF6\",\"angularaxis\":{\"gridcolor\":\"white\",\"linecolor\":\"white\",\"ticks\":\"\"},\"radialaxis\":{\"gridcolor\":\"white\",\"linecolor\":\"white\",\"ticks\":\"\"}},\"ternary\":{\"bgcolor\":\"#E5ECF6\",\"aaxis\":{\"gridcolor\":\"white\",\"linecolor\":\"white\",\"ticks\":\"\"},\"baxis\":{\"gridcolor\":\"white\",\"linecolor\":\"white\",\"ticks\":\"\"},\"caxis\":{\"gridcolor\":\"white\",\"linecolor\":\"white\",\"ticks\":\"\"}},\"coloraxis\":{\"colorbar\":{\"outlinewidth\":0,\"ticks\":\"\"}},\"colorscale\":{\"sequential\":[[0.0,\"#0d0887\"],[0.1111111111111111,\"#46039f\"],[0.2222222222222222,\"#7201a8\"],[0.3333333333333333,\"#9c179e\"],[0.4444444444444444,\"#bd3786\"],[0.5555555555555556,\"#d8576b\"],[0.6666666666666666,\"#ed7953\"],[0.7777777777777778,\"#fb9f3a\"],[0.8888888888888888,\"#fdca26\"],[1.0,\"#f0f921\"]],\"sequentialminus\":[[0.0,\"#0d0887\"],[0.1111111111111111,\"#46039f\"],[0.2222222222222222,\"#7201a8\"],[0.3333333333333333,\"#9c179e\"],[0.4444444444444444,\"#bd3786\"],[0.5555555555555556,\"#d8576b\"],[0.6666666666666666,\"#ed7953\"],[0.7777777777777778,\"#fb9f3a\"],[0.8888888888888888,\"#fdca26\"],[1.0,\"#f0f921\"]],\"diverging\":[[0,\"#8e0152\"],[0.1,\"#c51b7d\"],[0.2,\"#de77ae\"],[0.3,\"#f1b6da\"],[0.4,\"#fde0ef\"],[0.5,\"#f7f7f7\"],[0.6,\"#e6f5d0\"],[0.7,\"#b8e186\"],[0.8,\"#7fbc41\"],[0.9,\"#4d9221\"],[1,\"#276419\"]]},\"xaxis\":{\"gridcolor\":\"white\",\"linecolor\":\"white\",\"ticks\":\"\",\"title\":{\"standoff\":15},\"zerolinecolor\":\"white\",\"automargin\":true,\"zerolinewidth\":2},\"yaxis\":{\"gridcolor\":\"white\",\"linecolor\":\"white\",\"ticks\":\"\",\"title\":{\"standoff\":15},\"zerolinecolor\":\"white\",\"automargin\":true,\"zerolinewidth\":2},\"scene\":{\"xaxis\":{\"backgroundcolor\":\"#E5ECF6\",\"gridcolor\":\"white\",\"linecolor\":\"white\",\"showbackground\":true,\"ticks\":\"\",\"zerolinecolor\":\"white\",\"gridwidth\":2},\"yaxis\":{\"backgroundcolor\":\"#E5ECF6\",\"gridcolor\":\"white\",\"linecolor\":\"white\",\"showbackground\":true,\"ticks\":\"\",\"zerolinecolor\":\"white\",\"gridwidth\":2},\"zaxis\":{\"backgroundcolor\":\"#E5ECF6\",\"gridcolor\":\"white\",\"linecolor\":\"white\",\"showbackground\":true,\"ticks\":\"\",\"zerolinecolor\":\"white\",\"gridwidth\":2}},\"shapedefaults\":{\"line\":{\"color\":\"#2a3f5f\"}},\"annotationdefaults\":{\"arrowcolor\":\"#2a3f5f\",\"arrowhead\":0,\"arrowwidth\":1},\"geo\":{\"bgcolor\":\"white\",\"landcolor\":\"#E5ECF6\",\"subunitcolor\":\"white\",\"showland\":true,\"showlakes\":true,\"lakecolor\":\"white\"},\"title\":{\"x\":0.05},\"mapbox\":{\"style\":\"light\"}}},\"xaxis\":{\"anchor\":\"y\",\"domain\":[0.0,1.0],\"title\":{\"text\":\"ID del cliente\"}},\"yaxis\":{\"anchor\":\"x\",\"domain\":[0.0,1.0],\"title\":{\"text\":\"Ineficiencia total\"}},\"coloraxis\":{\"colorbar\":{\"title\":{\"text\":\"Ineficiencia total\"}},\"colorscale\":[[0.0,\"#0d0887\"],[0.1111111111111111,\"#46039f\"],[0.2222222222222222,\"#7201a8\"],[0.3333333333333333,\"#9c179e\"],[0.4444444444444444,\"#bd3786\"],[0.5555555555555556,\"#d8576b\"],[0.6666666666666666,\"#ed7953\"],[0.7777777777777778,\"#fb9f3a\"],[0.8888888888888888,\"#fdca26\"],[1.0,\"#f0f921\"]]},\"legend\":{\"tracegroupgap\":0},\"title\":{\"text\":\"Top 10 clientes asociados a m\\u00e1s ineficiencia de los operadores\"},\"barmode\":\"relative\"},                        {\"responsive\": true}                    ).then(function(){\n",
       "                            \n",
       "var gd = document.getElementById('23cffe8d-005d-4362-a16a-8a2a181bddde');\n",
       "var x = new MutationObserver(function (mutations, observer) {{\n",
       "        var display = window.getComputedStyle(gd).display;\n",
       "        if (!display || display === 'none') {{\n",
       "            console.log([gd, 'removed!']);\n",
       "            Plotly.purge(gd);\n",
       "            observer.disconnect();\n",
       "        }}\n",
       "}});\n",
       "\n",
       "// Listen for the removal of the full notebook cells\n",
       "var notebookContainer = gd.closest('#notebook-container');\n",
       "if (notebookContainer) {{\n",
       "    x.observe(notebookContainer, {childList: true});\n",
       "}}\n",
       "\n",
       "// Listen for the clearing of the current output cell\n",
       "var outputEl = gd.closest('.output');\n",
       "if (outputEl) {{\n",
       "    x.observe(outputEl, {childList: true});\n",
       "}}\n",
       "\n",
       "                        })                };                });            </script>        </div>"
      ]
     },
     "metadata": {},
     "output_type": "display_data"
    }
   ],
   "source": [
    "# Gráfico top 10 clientes asociados a más ineficiencia de los operadores (puede servir para poder analizar las causas de la ineficiencia)\n",
    "inefficiency_per_user = operator_metrics_clients_merged.groupby('user_id')['inefficiency_level'].sum().reset_index()\n",
    "inefficiency_per_user['user_id'] = inefficiency_per_user['user_id'].astype('str') # Convertimos a categoría para el gráfico\n",
    "\n",
    "fig = px.bar(inefficiency_per_user.sort_values(by='inefficiency_level', ascending=False).head(10),\n",
    "             x='user_id',\n",
    "             y='inefficiency_level',\n",
    "             color='inefficiency_level',\n",
    "             title='Top 10 clientes asociados a más ineficiencia de los operadores',\n",
    "             labels={'user_id': 'ID del cliente', 'inefficiency_level': 'Ineficiencia total'},\n",
    ")\n",
    "\n",
    "fig.show()"
   ]
  },
  {
   "cell_type": "code",
   "execution_count": null,
   "id": "b683880b",
   "metadata": {},
   "outputs": [
    {
     "ename": "NameError",
     "evalue": "name 'operator_metrics_clients_merged' is not defined",
     "output_type": "error",
     "traceback": [
      "\u001b[1;31m---------------------------------------------------------------------------\u001b[0m",
      "\u001b[1;31mNameError\u001b[0m                                 Traceback (most recent call last)",
      "Cell \u001b[1;32mIn[1], line 2\u001b[0m\n\u001b[0;32m      1\u001b[0m \u001b[38;5;66;03m# Analizamos qué métricas son las que ocasiona la ineficiencia de este cliente\u001b[39;00m\n\u001b[1;32m----> 2\u001b[0m user_168187 \u001b[38;5;241m=\u001b[39m \u001b[43moperator_metrics_clients_merged\u001b[49m[(operator_metrics_clients_merged[\u001b[38;5;124m'\u001b[39m\u001b[38;5;124muser_id\u001b[39m\u001b[38;5;124m'\u001b[39m]\u001b[38;5;241m==\u001b[39m\u001b[38;5;241m168187\u001b[39m) \u001b[38;5;241m&\u001b[39m (operator_metrics_clients_merged[\u001b[38;5;124m'\u001b[39m\u001b[38;5;124minefficiency_level\u001b[39m\u001b[38;5;124m'\u001b[39m]\u001b[38;5;241m>\u001b[39m\u001b[38;5;241m0\u001b[39m)][[\u001b[38;5;124m'\u001b[39m\u001b[38;5;124mmissed_call_ratio\u001b[39m\u001b[38;5;124m'\u001b[39m, \u001b[38;5;124m'\u001b[39m\u001b[38;5;124mavg_wait_time_per_call\u001b[39m\u001b[38;5;124m'\u001b[39m,\u001b[38;5;124m'\u001b[39m\u001b[38;5;124moutgoing_calls_count\u001b[39m\u001b[38;5;124m'\u001b[39m, \u001b[38;5;124m'\u001b[39m\u001b[38;5;124minefficiency_level\u001b[39m\u001b[38;5;124m'\u001b[39m]]\n\u001b[0;32m      3\u001b[0m user_168187\n",
      "\u001b[1;31mNameError\u001b[0m: name 'operator_metrics_clients_merged' is not defined"
     ]
    }
   ],
   "source": [
    "# Analizamos qué métricas son las que ocasiona la ineficiencia de este cliente\n",
    "user_168187 = operator_metrics_clients_merged[(operator_metrics_clients_merged['user_id']==168187) & (operator_metrics_clients_merged['inefficiency_level']>1)][['missed_call_ratio', 'avg_wait_time_per_call','outgoing_calls_count', 'inefficiency_level']]\n",
    "user_168187"
   ]
  },
  {
   "cell_type": "markdown",
   "id": "b07632a9",
   "metadata": {},
   "source": [
    "Claramente podemos ver que los operadores no pierden su llamada, todo lo contrario, hacen esperar de más a este cliente y realizan generalmente pocas llamadas, es por esto que el nivel de ineficiencia de los operadores se eleva. \n",
    "\n",
    "Sin embargo, esta ineficiencia no está relacionada directamente con un operador en específico. Solamente sirve como observación."
   ]
  },
  {
   "cell_type": "code",
   "execution_count": null,
   "id": "c4c8efc1",
   "metadata": {},
   "outputs": [
    {
     "name": "stdout",
     "output_type": "stream",
     "text": [
      "Empty DataFrame\n",
      "Columns: [operator_id, inefficiency_level]\n",
      "Index: []\n"
     ]
    }
   ],
   "source": [
    "# Top operadores más ineficientes asociados a este cliente '168187'\n",
    "user_168187_operator_ineff = operator_metrics_clients_merged[(operator_metrics_clients_merged['user_id']==168187) & (operator_metrics_clients_merged['inefficiency_level']>1)][['operator_id', 'inefficiency_level']]\n",
    "\n",
    "print(user_168187_operator_ineff.sort_values(by='inefficiency_level', ascending=False).head(10))"
   ]
  },
  {
   "cell_type": "markdown",
   "id": "f535839b",
   "metadata": {},
   "source": [
    "¿Será que sea un cliente dificil de tratar? ¿Hay forma de poder capacitar a estos operadores para un mejor trato o más agilidad en la atención al cliente?"
   ]
  },
  {
   "cell_type": "markdown",
   "id": "53b4b9e6",
   "metadata": {},
   "source": [
    "**Gráfico de cantidad de usuarios eficientes e ineficientes**"
   ]
  },
  {
   "cell_type": "code",
   "execution_count": 187,
   "id": "c5216dae",
   "metadata": {},
   "outputs": [
    {
     "data": {
      "application/vnd.plotly.v1+json": {
       "config": {
        "plotlyServerURL": "https://plot.ly"
       },
       "data": [
        {
         "alignmentgroup": "True",
         "hovertemplate": "ID del operador=%{x}<br>Ineficiencia total=%{marker.color}<extra></extra>",
         "legendgroup": "",
         "marker": {
          "color": [
           2,
           2,
           2,
           2,
           2,
           2,
           2,
           2,
           2,
           2,
           2,
           2,
           2,
           2,
           2,
           2,
           2,
           2,
           2,
           2,
           2,
           1,
           1,
           1,
           1,
           1,
           1,
           1,
           1,
           1,
           1,
           1,
           1,
           1,
           1,
           1,
           1,
           1,
           1,
           1,
           1,
           1,
           1,
           1,
           1,
           1,
           1,
           1,
           1,
           1,
           1,
           1,
           1,
           1,
           1,
           1,
           1,
           1,
           1,
           1,
           1,
           1,
           1,
           1,
           1,
           1,
           1,
           1,
           1,
           1,
           1,
           1,
           1,
           1,
           1,
           1,
           1,
           1,
           1,
           1,
           1,
           1,
           1,
           1,
           1,
           1,
           1,
           1,
           1,
           1,
           1,
           1,
           1,
           1,
           1,
           1,
           1,
           1,
           1,
           1,
           1,
           1,
           1,
           1,
           1,
           1,
           1,
           1,
           1,
           1,
           1,
           1,
           1,
           1,
           1,
           1,
           1,
           1,
           1,
           1,
           1,
           1,
           1,
           1,
           1,
           1,
           1,
           1,
           1,
           1,
           1,
           1,
           1,
           1,
           1,
           1,
           1,
           1,
           1,
           1,
           1,
           1,
           1,
           1,
           1,
           1,
           1,
           1,
           1,
           1,
           1,
           1,
           1,
           1,
           1,
           1,
           1,
           1,
           1,
           1,
           1,
           1,
           1,
           1,
           1,
           1,
           1,
           1,
           1,
           1,
           1,
           1,
           1,
           1,
           1,
           1,
           1,
           1,
           1,
           1,
           1,
           1,
           1,
           1,
           1,
           1,
           1,
           1,
           1,
           1,
           1,
           1,
           1,
           1,
           1,
           1,
           1,
           1,
           1,
           1,
           1,
           1,
           1,
           1,
           1,
           1,
           1,
           1,
           1,
           1,
           1,
           1,
           1,
           1,
           1,
           1,
           1,
           1,
           1,
           1,
           1,
           1,
           1,
           1,
           1,
           1,
           1,
           1,
           1,
           1,
           1,
           1,
           1,
           1,
           1,
           1,
           1,
           1,
           1,
           1,
           1,
           1,
           1,
           1,
           1,
           1,
           1,
           1,
           1,
           1,
           1,
           1,
           1,
           1,
           1,
           1,
           1,
           1,
           1,
           1,
           1,
           1,
           1,
           1,
           1,
           1,
           1,
           1,
           1,
           1,
           1,
           1,
           1,
           1,
           1,
           1,
           1,
           1,
           1,
           1,
           1,
           1,
           1,
           1,
           1,
           1,
           1,
           1,
           1,
           1,
           1,
           1,
           1,
           1,
           1,
           1,
           1,
           1,
           1,
           1,
           1,
           1,
           1,
           1,
           1,
           1,
           1,
           1,
           1,
           1,
           1,
           1,
           1,
           1,
           1,
           1,
           1,
           1,
           1,
           1,
           1,
           1,
           1,
           1,
           1,
           1,
           1,
           1,
           0,
           0,
           0,
           0,
           0,
           0,
           0,
           0,
           0,
           0,
           0,
           0,
           0,
           0,
           0,
           0,
           0,
           0,
           0,
           0,
           0,
           0,
           0,
           0,
           0,
           0,
           0,
           0,
           0,
           0,
           0,
           0,
           0,
           0,
           0,
           0,
           0,
           0,
           0,
           0,
           0,
           0,
           0,
           0,
           0,
           0,
           0,
           0,
           0,
           0,
           0,
           0,
           0,
           0,
           0,
           0,
           0,
           0,
           0,
           0,
           0,
           0,
           0,
           0,
           0,
           0,
           0,
           0,
           0,
           0,
           0,
           0,
           0,
           0,
           0,
           0,
           0,
           0,
           0,
           0,
           0,
           0,
           0,
           0,
           0,
           0,
           0,
           0,
           0,
           0,
           0,
           0,
           0,
           0,
           0,
           0,
           0,
           0,
           0,
           0,
           0,
           0,
           0,
           0,
           0,
           0,
           0,
           0,
           0,
           0,
           0,
           0,
           0,
           0,
           0,
           0,
           0,
           0,
           0,
           0,
           0,
           0,
           0,
           0,
           0,
           0,
           0,
           0,
           0,
           0,
           0,
           0,
           0,
           0,
           0,
           0,
           0,
           0,
           0,
           0,
           0,
           0,
           0,
           0,
           0,
           0,
           0,
           0,
           0,
           0,
           0,
           0,
           0,
           0,
           0,
           0,
           0,
           0,
           0,
           0,
           0,
           0,
           0,
           0,
           0,
           0,
           0,
           0,
           0,
           0,
           0,
           0,
           0,
           0,
           0,
           0,
           0,
           0,
           0,
           0,
           0,
           0,
           0,
           0,
           0,
           0,
           0,
           0,
           0,
           0,
           0,
           0,
           0,
           0,
           0,
           0,
           0,
           0,
           0,
           0,
           0,
           0,
           0,
           0,
           0,
           0,
           0,
           0,
           0,
           0,
           0,
           0,
           0,
           0,
           0,
           0,
           0,
           0,
           0,
           0,
           0,
           0,
           0,
           0,
           0,
           0,
           0,
           0,
           0,
           0,
           0,
           0,
           0,
           0,
           0,
           0,
           0,
           0,
           0,
           0,
           0,
           0,
           0,
           0,
           0,
           0,
           0,
           0,
           0,
           0,
           0,
           0,
           0,
           0,
           0,
           0,
           0,
           0,
           0,
           0,
           0,
           0,
           0,
           0,
           0,
           0,
           0,
           0,
           0,
           0,
           0,
           0,
           0,
           0,
           0,
           0,
           0,
           0,
           0,
           0,
           0,
           0,
           0,
           0,
           0,
           0,
           0,
           0,
           0,
           0,
           0,
           0,
           0,
           0,
           0,
           0,
           0,
           0,
           0,
           0,
           0,
           0,
           0,
           0,
           0,
           0,
           0,
           0,
           0,
           0,
           0,
           0,
           0,
           0,
           0,
           0,
           0,
           0,
           0,
           0,
           0,
           0,
           0,
           0,
           0,
           0,
           0,
           0,
           0,
           0,
           0,
           0,
           0,
           0,
           0,
           0,
           0,
           0,
           0,
           0,
           0,
           0,
           0,
           0,
           0,
           0,
           0,
           0,
           0,
           0,
           0,
           0,
           0,
           0,
           0,
           0,
           0,
           0,
           0,
           0,
           0,
           0,
           0,
           0,
           0,
           0,
           0,
           0,
           0,
           0,
           0,
           0,
           0,
           0,
           0,
           0,
           0,
           0,
           0,
           0,
           0,
           0,
           0,
           0,
           0,
           0,
           0,
           0,
           0,
           0,
           0,
           0,
           0,
           0,
           0,
           0,
           0,
           0,
           0,
           0,
           0,
           0,
           0,
           0,
           0,
           0,
           0,
           0,
           0,
           0,
           0,
           0,
           0,
           0,
           0,
           0,
           0,
           0,
           0,
           0,
           0,
           0,
           0,
           0,
           0,
           0,
           0,
           0,
           0,
           0,
           0,
           0,
           0,
           0,
           0,
           0,
           0,
           0,
           0,
           0,
           0,
           0,
           0,
           0,
           0,
           0,
           0,
           0,
           0,
           0,
           0,
           0,
           0,
           0,
           0,
           0,
           0,
           0,
           0,
           0,
           0,
           0,
           0,
           0,
           0,
           0,
           0,
           0,
           0,
           0,
           0,
           0,
           0,
           0,
           0,
           0,
           0,
           0,
           0,
           0,
           0,
           0,
           0,
           0,
           0,
           0,
           0,
           0,
           0,
           0,
           0,
           0,
           0,
           0,
           0,
           0,
           0,
           0,
           0,
           0,
           0,
           0,
           0,
           0,
           0,
           0,
           0,
           0,
           0,
           0,
           0,
           0,
           0,
           0,
           0,
           0,
           0,
           0,
           0,
           0,
           0,
           0,
           0,
           0,
           0,
           0,
           0,
           0,
           0,
           0,
           0,
           0,
           0,
           0,
           0,
           0,
           0,
           0,
           0,
           0,
           0,
           0,
           0,
           0,
           0,
           0,
           0,
           0,
           0,
           0,
           0,
           0,
           0,
           0,
           0,
           0,
           0,
           0,
           0,
           0,
           0,
           0,
           0,
           0,
           0,
           0,
           0,
           0,
           0,
           0,
           0,
           0,
           0,
           0,
           0,
           0,
           0,
           0,
           0,
           0,
           0,
           0,
           0,
           0,
           0,
           0,
           0,
           0,
           0,
           0,
           0,
           0,
           0,
           0,
           0,
           0,
           0,
           0,
           0,
           0,
           0,
           0,
           0,
           0,
           0,
           0,
           0,
           0,
           0,
           0,
           0,
           0,
           0,
           0,
           0,
           0,
           0,
           0,
           0,
           0,
           0,
           0,
           0,
           0,
           0,
           0,
           0,
           0,
           0,
           0,
           0,
           0,
           0,
           0,
           0,
           0,
           0,
           0,
           0,
           0,
           0,
           0,
           0,
           0,
           0,
           0,
           0,
           0,
           0,
           0,
           0,
           0,
           0,
           0,
           0,
           0,
           0,
           0,
           0,
           0,
           0,
           0,
           0,
           0,
           0,
           0,
           0,
           0,
           0,
           0,
           0,
           0,
           0,
           0,
           0,
           0,
           0,
           0,
           0,
           0,
           0,
           0,
           0,
           0,
           0,
           0,
           0,
           0,
           0,
           0,
           0,
           0,
           0,
           0,
           0,
           0,
           0,
           0,
           0,
           0,
           0,
           0,
           0,
           0,
           0,
           0,
           0,
           0,
           0,
           0,
           0,
           0,
           0,
           0,
           0,
           0,
           0,
           0,
           0,
           0,
           0,
           0,
           0,
           0,
           0,
           0,
           0,
           0,
           0,
           0,
           0,
           0,
           0,
           0,
           0,
           0,
           0,
           0,
           0,
           0,
           0,
           0,
           0,
           0,
           0,
           0,
           0,
           0,
           0,
           0,
           0,
           0,
           0,
           0,
           0,
           0,
           0,
           0,
           0,
           0,
           0,
           0,
           0,
           0
          ],
          "coloraxis": "coloraxis",
          "pattern": {
           "shape": ""
          }
         },
         "name": "",
         "offsetgroup": "",
         "orientation": "v",
         "showlegend": false,
         "textposition": "auto",
         "type": "bar",
         "x": [
          "888406",
          "937366",
          "923254",
          "906076",
          "911142",
          "928382",
          "918888",
          "937362",
          "951650",
          "904344",
          "914440",
          "935956",
          "926872",
          "944228",
          "905862",
          "896538",
          "944226",
          "933986",
          "970240",
          "937368",
          "970244",
          "896018",
          "908162",
          "928092",
          "908300",
          "928282",
          "908718",
          "908834",
          "928284",
          "969262",
          "969268",
          "929340",
          "908984",
          "969286",
          "969288",
          "909134",
          "969380",
          "929542",
          "929622",
          "970242",
          "970250",
          "970252",
          "970254",
          "970258",
          "970484",
          "970486",
          "909452",
          "929876",
          "930020",
          "972408",
          "909768",
          "909892",
          "930242",
          "973120",
          "887280",
          "887282",
          "930326",
          "930510",
          "930690",
          "930692",
          "888532",
          "888534",
          "930814",
          "888538",
          "930816",
          "888868",
          "910226",
          "930820",
          "932246",
          "932460",
          "890226",
          "890228",
          "932676",
          "890234",
          "932754",
          "932798",
          "932856",
          "933452",
          "934000",
          "910958",
          "911102",
          "934074",
          "934076",
          "934098",
          "911140",
          "934188",
          "934430",
          "934476",
          "935246",
          "935548",
          "935958",
          "912684",
          "891192",
          "891250",
          "936296",
          "913474",
          "937370",
          "937428",
          "937432",
          "913886",
          "891744",
          "937710",
          "937716",
          "913984",
          "937720",
          "891908",
          "891918",
          "937742",
          "937770",
          "914168",
          "891976",
          "914170",
          "937772",
          "892530",
          "937778",
          "937872",
          "914256",
          "914266",
          "892798",
          "892800",
          "893172",
          "893400",
          "914272",
          "937874",
          "914348",
          "893700",
          "914426",
          "894120",
          "894224",
          "914626",
          "894230",
          "894232",
          "894614",
          "937898",
          "937900",
          "914816",
          "937956",
          "937962",
          "914870",
          "895266",
          "895370",
          "938614",
          "939212",
          "939224",
          "895598",
          "939236",
          "895776",
          "939478",
          "939698",
          "939708",
          "896010",
          "939718",
          "896014",
          "940436",
          "906392",
          "940508",
          "940568",
          "917252",
          "940610",
          "940782",
          "917680",
          "917682",
          "940802",
          "940814",
          "940828",
          "897872",
          "940842",
          "898414",
          "917858",
          "898434",
          "917876",
          "917890",
          "940848",
          "918436",
          "941736",
          "941740",
          "918958",
          "899076",
          "941810",
          "941816",
          "899268",
          "918988",
          "941826",
          "941838",
          "941842",
          "899900",
          "919164",
          "941844",
          "942174",
          "944216",
          "944218",
          "944220",
          "944222",
          "900192",
          "900194",
          "944246",
          "944560",
          "945046",
          "900492",
          "919204",
          "919206",
          "919214",
          "919218",
          "900746",
          "945058",
          "945074",
          "900792",
          "945274",
          "945898",
          "946072",
          "946988",
          "947304",
          "947480",
          "947596",
          "901492",
          "901498",
          "947820",
          "948150",
          "948170",
          "948288",
          "948756",
          "919418",
          "948758",
          "949420",
          "950806",
          "951186",
          "902238",
          "951332",
          "951490",
          "919536",
          "951508",
          "952196",
          "952292",
          "952462",
          "952916",
          "919896",
          "952968",
          "953362",
          "953460",
          "954086",
          "902910",
          "919994",
          "954284",
          "954318",
          "954376",
          "954378",
          "903512",
          "920706",
          "954380",
          "903978",
          "955032",
          "904016",
          "955068",
          "955086",
          "955094",
          "904200",
          "955164",
          "955820",
          "920902",
          "956080",
          "920930",
          "956276",
          "905300",
          "905308",
          "921062",
          "956292",
          "905470",
          "905472",
          "921104",
          "905480",
          "957922",
          "905542",
          "958416",
          "958434",
          "958452",
          "958458",
          "905840",
          "905842",
          "958460",
          "958470",
          "958640",
          "959596",
          "960296",
          "906070",
          "960666",
          "882478",
          "922114",
          "882680",
          "882688",
          "882690",
          "883018",
          "906402",
          "883898",
          "884402",
          "922486",
          "884406",
          "906412",
          "884408",
          "906418",
          "884412",
          "885682",
          "960670",
          "907174",
          "960674",
          "969284",
          "962904",
          "963716",
          "964510",
          "964666",
          "964712",
          "966686",
          "924572",
          "907952",
          "967204",
          "924928",
          "907972",
          "924930",
          "924936",
          "924948",
          "924954",
          "907998",
          "973286",
          "926490",
          "908080",
          "927070",
          "927142",
          "927910",
          "927912",
          "879898",
          "880020",
          "880022",
          "968232",
          "968338",
          "968368",
          "968520",
          "969272",
          "882684",
          "969294",
          "969386",
          "969600",
          "971100",
          "971102",
          "971354",
          "972410",
          "972412",
          "972460",
          "887416",
          "887802",
          "887992",
          "888520",
          "888536",
          "888540",
          "889410",
          "889638",
          "889640",
          "889754",
          "890232",
          "890402",
          "890404",
          "890406",
          "890410",
          "890412",
          "890416",
          "890420",
          "890422",
          "890582",
          "890618",
          "891152",
          "891154",
          "891156",
          "891158",
          "891160",
          "891162",
          "891166",
          "891170",
          "891252",
          "891254",
          "891410",
          "891414",
          "891416",
          "891646",
          "891746",
          "891824",
          "891900",
          "891906",
          "891946",
          "891948",
          "891970",
          "891988",
          "892028",
          "892532",
          "892534",
          "892536",
          "892538",
          "893402",
          "893420",
          "893674",
          "893804",
          "894226",
          "894656",
          "894662",
          "894934",
          "895140",
          "895170",
          "895172",
          "895574",
          "895576",
          "895578",
          "895774",
          "895782",
          "895786",
          "896008",
          "896012",
          "896016",
          "896020",
          "896382",
          "896384",
          "896386",
          "896390",
          "896428",
          "896430",
          "896536",
          "896708",
          "897030",
          "897894",
          "898422",
          "898558",
          "898560",
          "898676",
          "898892",
          "898902",
          "898906",
          "898920",
          "899082",
          "899250",
          "899788",
          "899790",
          "899892",
          "899898",
          "899906",
          "899912",
          "899932",
          "899964",
          "899968",
          "899972",
          "900180",
          "900352",
          "900354",
          "900458",
          "900592",
          "900594",
          "900614",
          "900742",
          "900788",
          "900790",
          "900826",
          "900892",
          "900894",
          "901034",
          "901038",
          "901178",
          "901350",
          "901584",
          "901586",
          "901588",
          "901734",
          "901880",
          "901884",
          "901886",
          "901894",
          "901992",
          "901996",
          "902510",
          "902532",
          "902608",
          "902720",
          "902742",
          "902744",
          "902746",
          "902748",
          "902774",
          "902776",
          "902778",
          "902782",
          "902906",
          "903254",
          "903292",
          "903312",
          "903318",
          "903390",
          "903974",
          "903976",
          "904014",
          "904038",
          "904044",
          "904058",
          "904202",
          "904204",
          "904284",
          "904372",
          "905082",
          "905104",
          "905430",
          "905432",
          "905478",
          "905538",
          "905564",
          "905566",
          "905570",
          "905574",
          "905844",
          "905870",
          "905930",
          "905932",
          "905934",
          "906294",
          "906296",
          "879896",
          "906394",
          "906396",
          "906398",
          "906400",
          "906404",
          "906406",
          "906408",
          "906410",
          "906416",
          "906420",
          "906680",
          "906866",
          "907178",
          "907180",
          "907182",
          "907224",
          "907440",
          "907442",
          "907502",
          "907504",
          "907618",
          "907964",
          "907970",
          "907974",
          "907982",
          "907986",
          "907994",
          "908002",
          "908078",
          "908082",
          "908098",
          "908130",
          "908152",
          "908180",
          "908640",
          "908958",
          "908960",
          "909308",
          "909392",
          "909502",
          "909624",
          "909894",
          "909896",
          "909910",
          "910018",
          "910038",
          "910044",
          "910224",
          "910516",
          "910520",
          "910524",
          "910530",
          "910532",
          "910540",
          "910594",
          "910902",
          "910926",
          "911104",
          "911136",
          "911138",
          "911152",
          "911214",
          "911310",
          "912010",
          "912252",
          "912296",
          "912722",
          "913780",
          "913788",
          "913868",
          "913938",
          "913942",
          "914036",
          "914050",
          "914052",
          "914172",
          "914238",
          "914240",
          "914338",
          "914630",
          "914636",
          "914842",
          "914848",
          "915358",
          "915360",
          "915504",
          "915556",
          "915558",
          "915614",
          "915958",
          "916424",
          "916596",
          "916618",
          "917234",
          "917378",
          "917446",
          "917846",
          "917850",
          "917852",
          "917856",
          "918390",
          "918452",
          "918956",
          "918978",
          "918986",
          "919126",
          "919128",
          "919162",
          "919166",
          "919188",
          "919190",
          "919192",
          "919194",
          "919196",
          "919198",
          "919200",
          "919202",
          "919302",
          "919306",
          "919310",
          "919314",
          "919318",
          "919362",
          "919364",
          "919370",
          "919372",
          "919374",
          "919376",
          "919378",
          "919382",
          "919390",
          "919456",
          "919464",
          "919476",
          "919482",
          "919490",
          "919504",
          "919552",
          "919554",
          "919790",
          "919792",
          "919794",
          "919906",
          "919910",
          "919956",
          "919958",
          "920146",
          "920414",
          "920416",
          "920666",
          "920720",
          "920726",
          "920728",
          "920732",
          "920838",
          "920852",
          "920874",
          "920928",
          "920982",
          "921102",
          "921116",
          "921306",
          "921316",
          "921318",
          "921320",
          "921574",
          "921584",
          "921592",
          "921594",
          "921596",
          "921814",
          "921818",
          "922142",
          "922154",
          "922356",
          "922428",
          "922474",
          "922476",
          "922698",
          "922710",
          "923250",
          "923526",
          "923528",
          "923646",
          "923666",
          "923744",
          "923944",
          "924356",
          "924370",
          "924544",
          "924546",
          "924614",
          "937860",
          "937862",
          "937864",
          "937868",
          "937870",
          "925826",
          "930524",
          "937880",
          "937888",
          "930582",
          "930586",
          "937902",
          "930590",
          "937958",
          "937960",
          "930594",
          "937966",
          "937980",
          "937984",
          "937988",
          "938022",
          "938070",
          "938072",
          "938074",
          "938078",
          "938080",
          "938414",
          "938432",
          "938612",
          "930660",
          "938842",
          "938896",
          "930662",
          "939218",
          "939222",
          "925828",
          "927916",
          "939370",
          "939376",
          "939470",
          "939474",
          "939476",
          "928022",
          "939684",
          "925922",
          "939706",
          "930818",
          "939716",
          "928142",
          "939736",
          "939738",
          "939762",
          "939886",
          "940430",
          "940432",
          "940434",
          "930908",
          "940438",
          "940440",
          "940442",
          "940456",
          "940458",
          "940460",
          "940474",
          "940486",
          "930910",
          "940512",
          "940514",
          "930912",
          "940588",
          "940596",
          "930914",
          "940614",
          "940616",
          "940622",
          "940624",
          "940630",
          "940634",
          "940652",
          "940658",
          "940772",
          "931458",
          "940788",
          "931914",
          "932050",
          "932088",
          "928202",
          "932292",
          "940952",
          "940968",
          "941192",
          "941384",
          "941390",
          "941628",
          "932304",
          "928228",
          "941786",
          "932498",
          "932500",
          "932502",
          "932672",
          "926184",
          "932750",
          "926214",
          "942214",
          "943050",
          "943066",
          "943818",
          "944210",
          "928312",
          "932836",
          "924958",
          "933070",
          "924934",
          "924932",
          "933244",
          "944310",
          "944474",
          "944476",
          "928404",
          "944564",
          "944644",
          "944646",
          "944648",
          "944764",
          "944766",
          "944808",
          "944908",
          "933804",
          "945052",
          "933806",
          "933810",
          "933832",
          "945278",
          "945280",
          "945282",
          "945284",
          "945286",
          "945288",
          "945290",
          "945294",
          "945296",
          "945298",
          "945302",
          "945304",
          "945308",
          "945310",
          "945312",
          "945314",
          "945316",
          "945318",
          "945320",
          "945322",
          "945324",
          "945710",
          "945728",
          "945894",
          "924956",
          "945900",
          "945902",
          "945904",
          "946020",
          "946032",
          "933996",
          "946454",
          "946468",
          "946582",
          "946916",
          "928518",
          "928886",
          "947306",
          "928888",
          "947590",
          "947592",
          "928926",
          "947598",
          "947600",
          "947604",
          "947610",
          "947612",
          "947614",
          "947616",
          "947618",
          "947620",
          "947636",
          "947638",
          "947640",
          "947642",
          "947644",
          "947646",
          "947648",
          "947650",
          "947652",
          "947654",
          "947658",
          "947816",
          "947818",
          "934170",
          "929228",
          "934424",
          "948182",
          "948282",
          "948284",
          "948286",
          "934426",
          "948524",
          "934428",
          "929332",
          "949252",
          "934432",
          "950444",
          "950632",
          "950634",
          "950640",
          "950672",
          "926312",
          "950972",
          "951046",
          "951118",
          "934534",
          "951290",
          "934608",
          "951408",
          "935216",
          "951492",
          "951506",
          "935244",
          "951526",
          "951614",
          "951648",
          "924662",
          "952114",
          "952116",
          "952126",
          "929424",
          "935264",
          "952392",
          "952458",
          "952460",
          "935268",
          "952466",
          "952468",
          "952656",
          "952666",
          "952678",
          "925104",
          "952914",
          "935348",
          "952948",
          "952954",
          "935394",
          "952982",
          "929426",
          "953458",
          "935870",
          "953462",
          "953464",
          "953940",
          "953952",
          "924952",
          "929428",
          "954290",
          "936110",
          "926486",
          "936324",
          "936382",
          "954616",
          "954642",
          "954650",
          "954750",
          "954810",
          "936514",
          "936984",
          "955082",
          "937156",
          "955090",
          "937352",
          "924950",
          "955436",
          "924946",
          "924940",
          "956268",
          "929544",
          "937372",
          "956298",
          "956480",
          "956484",
          "956664",
          "957022",
          "937374",
          "958394",
          "937422",
          "958418",
          "958430",
          "958432",
          "925106",
          "958440",
          "958444",
          "937430",
          "958454",
          "958456",
          "929626",
          "937604",
          "958468",
          "937650",
          "958472",
          "958478",
          "958480",
          "937678",
          "958672",
          "959118",
          "959312",
          "937708",
          "960294",
          "924960",
          "960620",
          "960648",
          "929884",
          "880026",
          "880028",
          "880240",
          "881278",
          "882476",
          "925134",
          "937732",
          "961770",
          "882686",
          "937736",
          "930186",
          "937750",
          "937752",
          "883940",
          "883942",
          "884294",
          "937760",
          "937762",
          "925808",
          "930264",
          "884478",
          "884524",
          "884946",
          "937774",
          "885876",
          "885890",
          "886146",
          "886674",
          "886892",
          "887276",
          "887278",
          "968150",
          "927908",
          "960672",
          "937780",
          "960698",
          "960950",
          "961064",
          "961552",
          "937782",
          "962062",
          "962168",
          "962268",
          "962658",
          "962902",
          "937786",
          "937788",
          "937808",
          "964518",
          "937810",
          "937812",
          "964716",
          "965232",
          "965328",
          "965538",
          "965540",
          "965542",
          "965544",
          "965942",
          "966158",
          "937854",
          "937856",
          "967310",
          "952734"
         ],
         "xaxis": "x",
         "y": [
          2,
          2,
          2,
          2,
          2,
          2,
          2,
          2,
          2,
          2,
          2,
          2,
          2,
          2,
          2,
          2,
          2,
          2,
          2,
          2,
          2,
          1,
          1,
          1,
          1,
          1,
          1,
          1,
          1,
          1,
          1,
          1,
          1,
          1,
          1,
          1,
          1,
          1,
          1,
          1,
          1,
          1,
          1,
          1,
          1,
          1,
          1,
          1,
          1,
          1,
          1,
          1,
          1,
          1,
          1,
          1,
          1,
          1,
          1,
          1,
          1,
          1,
          1,
          1,
          1,
          1,
          1,
          1,
          1,
          1,
          1,
          1,
          1,
          1,
          1,
          1,
          1,
          1,
          1,
          1,
          1,
          1,
          1,
          1,
          1,
          1,
          1,
          1,
          1,
          1,
          1,
          1,
          1,
          1,
          1,
          1,
          1,
          1,
          1,
          1,
          1,
          1,
          1,
          1,
          1,
          1,
          1,
          1,
          1,
          1,
          1,
          1,
          1,
          1,
          1,
          1,
          1,
          1,
          1,
          1,
          1,
          1,
          1,
          1,
          1,
          1,
          1,
          1,
          1,
          1,
          1,
          1,
          1,
          1,
          1,
          1,
          1,
          1,
          1,
          1,
          1,
          1,
          1,
          1,
          1,
          1,
          1,
          1,
          1,
          1,
          1,
          1,
          1,
          1,
          1,
          1,
          1,
          1,
          1,
          1,
          1,
          1,
          1,
          1,
          1,
          1,
          1,
          1,
          1,
          1,
          1,
          1,
          1,
          1,
          1,
          1,
          1,
          1,
          1,
          1,
          1,
          1,
          1,
          1,
          1,
          1,
          1,
          1,
          1,
          1,
          1,
          1,
          1,
          1,
          1,
          1,
          1,
          1,
          1,
          1,
          1,
          1,
          1,
          1,
          1,
          1,
          1,
          1,
          1,
          1,
          1,
          1,
          1,
          1,
          1,
          1,
          1,
          1,
          1,
          1,
          1,
          1,
          1,
          1,
          1,
          1,
          1,
          1,
          1,
          1,
          1,
          1,
          1,
          1,
          1,
          1,
          1,
          1,
          1,
          1,
          1,
          1,
          1,
          1,
          1,
          1,
          1,
          1,
          1,
          1,
          1,
          1,
          1,
          1,
          1,
          1,
          1,
          1,
          1,
          1,
          1,
          1,
          1,
          1,
          1,
          1,
          1,
          1,
          1,
          1,
          1,
          1,
          1,
          1,
          1,
          1,
          1,
          1,
          1,
          1,
          1,
          1,
          1,
          1,
          1,
          1,
          1,
          1,
          1,
          1,
          1,
          1,
          1,
          1,
          1,
          1,
          1,
          1,
          1,
          1,
          1,
          1,
          1,
          1,
          1,
          1,
          1,
          1,
          1,
          1,
          1,
          1,
          1,
          1,
          1,
          1,
          1,
          1,
          1,
          1,
          1,
          1,
          1,
          1,
          1,
          1,
          1,
          1,
          0,
          0,
          0,
          0,
          0,
          0,
          0,
          0,
          0,
          0,
          0,
          0,
          0,
          0,
          0,
          0,
          0,
          0,
          0,
          0,
          0,
          0,
          0,
          0,
          0,
          0,
          0,
          0,
          0,
          0,
          0,
          0,
          0,
          0,
          0,
          0,
          0,
          0,
          0,
          0,
          0,
          0,
          0,
          0,
          0,
          0,
          0,
          0,
          0,
          0,
          0,
          0,
          0,
          0,
          0,
          0,
          0,
          0,
          0,
          0,
          0,
          0,
          0,
          0,
          0,
          0,
          0,
          0,
          0,
          0,
          0,
          0,
          0,
          0,
          0,
          0,
          0,
          0,
          0,
          0,
          0,
          0,
          0,
          0,
          0,
          0,
          0,
          0,
          0,
          0,
          0,
          0,
          0,
          0,
          0,
          0,
          0,
          0,
          0,
          0,
          0,
          0,
          0,
          0,
          0,
          0,
          0,
          0,
          0,
          0,
          0,
          0,
          0,
          0,
          0,
          0,
          0,
          0,
          0,
          0,
          0,
          0,
          0,
          0,
          0,
          0,
          0,
          0,
          0,
          0,
          0,
          0,
          0,
          0,
          0,
          0,
          0,
          0,
          0,
          0,
          0,
          0,
          0,
          0,
          0,
          0,
          0,
          0,
          0,
          0,
          0,
          0,
          0,
          0,
          0,
          0,
          0,
          0,
          0,
          0,
          0,
          0,
          0,
          0,
          0,
          0,
          0,
          0,
          0,
          0,
          0,
          0,
          0,
          0,
          0,
          0,
          0,
          0,
          0,
          0,
          0,
          0,
          0,
          0,
          0,
          0,
          0,
          0,
          0,
          0,
          0,
          0,
          0,
          0,
          0,
          0,
          0,
          0,
          0,
          0,
          0,
          0,
          0,
          0,
          0,
          0,
          0,
          0,
          0,
          0,
          0,
          0,
          0,
          0,
          0,
          0,
          0,
          0,
          0,
          0,
          0,
          0,
          0,
          0,
          0,
          0,
          0,
          0,
          0,
          0,
          0,
          0,
          0,
          0,
          0,
          0,
          0,
          0,
          0,
          0,
          0,
          0,
          0,
          0,
          0,
          0,
          0,
          0,
          0,
          0,
          0,
          0,
          0,
          0,
          0,
          0,
          0,
          0,
          0,
          0,
          0,
          0,
          0,
          0,
          0,
          0,
          0,
          0,
          0,
          0,
          0,
          0,
          0,
          0,
          0,
          0,
          0,
          0,
          0,
          0,
          0,
          0,
          0,
          0,
          0,
          0,
          0,
          0,
          0,
          0,
          0,
          0,
          0,
          0,
          0,
          0,
          0,
          0,
          0,
          0,
          0,
          0,
          0,
          0,
          0,
          0,
          0,
          0,
          0,
          0,
          0,
          0,
          0,
          0,
          0,
          0,
          0,
          0,
          0,
          0,
          0,
          0,
          0,
          0,
          0,
          0,
          0,
          0,
          0,
          0,
          0,
          0,
          0,
          0,
          0,
          0,
          0,
          0,
          0,
          0,
          0,
          0,
          0,
          0,
          0,
          0,
          0,
          0,
          0,
          0,
          0,
          0,
          0,
          0,
          0,
          0,
          0,
          0,
          0,
          0,
          0,
          0,
          0,
          0,
          0,
          0,
          0,
          0,
          0,
          0,
          0,
          0,
          0,
          0,
          0,
          0,
          0,
          0,
          0,
          0,
          0,
          0,
          0,
          0,
          0,
          0,
          0,
          0,
          0,
          0,
          0,
          0,
          0,
          0,
          0,
          0,
          0,
          0,
          0,
          0,
          0,
          0,
          0,
          0,
          0,
          0,
          0,
          0,
          0,
          0,
          0,
          0,
          0,
          0,
          0,
          0,
          0,
          0,
          0,
          0,
          0,
          0,
          0,
          0,
          0,
          0,
          0,
          0,
          0,
          0,
          0,
          0,
          0,
          0,
          0,
          0,
          0,
          0,
          0,
          0,
          0,
          0,
          0,
          0,
          0,
          0,
          0,
          0,
          0,
          0,
          0,
          0,
          0,
          0,
          0,
          0,
          0,
          0,
          0,
          0,
          0,
          0,
          0,
          0,
          0,
          0,
          0,
          0,
          0,
          0,
          0,
          0,
          0,
          0,
          0,
          0,
          0,
          0,
          0,
          0,
          0,
          0,
          0,
          0,
          0,
          0,
          0,
          0,
          0,
          0,
          0,
          0,
          0,
          0,
          0,
          0,
          0,
          0,
          0,
          0,
          0,
          0,
          0,
          0,
          0,
          0,
          0,
          0,
          0,
          0,
          0,
          0,
          0,
          0,
          0,
          0,
          0,
          0,
          0,
          0,
          0,
          0,
          0,
          0,
          0,
          0,
          0,
          0,
          0,
          0,
          0,
          0,
          0,
          0,
          0,
          0,
          0,
          0,
          0,
          0,
          0,
          0,
          0,
          0,
          0,
          0,
          0,
          0,
          0,
          0,
          0,
          0,
          0,
          0,
          0,
          0,
          0,
          0,
          0,
          0,
          0,
          0,
          0,
          0,
          0,
          0,
          0,
          0,
          0,
          0,
          0,
          0,
          0,
          0,
          0,
          0,
          0,
          0,
          0,
          0,
          0,
          0,
          0,
          0,
          0,
          0,
          0,
          0,
          0,
          0,
          0,
          0,
          0,
          0,
          0,
          0,
          0,
          0,
          0,
          0,
          0,
          0,
          0,
          0,
          0,
          0,
          0,
          0,
          0,
          0,
          0,
          0,
          0,
          0,
          0,
          0,
          0,
          0,
          0,
          0,
          0,
          0,
          0,
          0,
          0,
          0,
          0,
          0,
          0,
          0,
          0,
          0,
          0,
          0,
          0,
          0,
          0,
          0,
          0,
          0,
          0,
          0,
          0,
          0,
          0,
          0,
          0,
          0,
          0,
          0,
          0,
          0,
          0,
          0,
          0,
          0,
          0,
          0,
          0,
          0,
          0,
          0,
          0,
          0,
          0,
          0,
          0,
          0,
          0,
          0,
          0,
          0,
          0,
          0,
          0,
          0,
          0,
          0,
          0,
          0,
          0,
          0,
          0,
          0,
          0,
          0,
          0,
          0,
          0,
          0,
          0,
          0,
          0,
          0,
          0,
          0,
          0,
          0,
          0,
          0,
          0,
          0,
          0,
          0,
          0,
          0,
          0,
          0,
          0,
          0,
          0,
          0,
          0,
          0,
          0,
          0,
          0,
          0,
          0,
          0,
          0,
          0,
          0,
          0,
          0,
          0,
          0,
          0,
          0,
          0,
          0,
          0,
          0,
          0,
          0,
          0,
          0,
          0,
          0,
          0,
          0,
          0,
          0,
          0,
          0,
          0,
          0,
          0,
          0,
          0,
          0,
          0,
          0,
          0,
          0,
          0,
          0,
          0,
          0,
          0,
          0,
          0,
          0,
          0
         ],
         "yaxis": "y"
        }
       ],
       "layout": {
        "barmode": "relative",
        "coloraxis": {
         "colorbar": {
          "title": {
           "text": "Ineficiencia total"
          }
         },
         "colorscale": [
          [
           0,
           "#0d0887"
          ],
          [
           0.1111111111111111,
           "#46039f"
          ],
          [
           0.2222222222222222,
           "#7201a8"
          ],
          [
           0.3333333333333333,
           "#9c179e"
          ],
          [
           0.4444444444444444,
           "#bd3786"
          ],
          [
           0.5555555555555556,
           "#d8576b"
          ],
          [
           0.6666666666666666,
           "#ed7953"
          ],
          [
           0.7777777777777778,
           "#fb9f3a"
          ],
          [
           0.8888888888888888,
           "#fdca26"
          ],
          [
           1,
           "#f0f921"
          ]
         ]
        },
        "legend": {
         "tracegroupgap": 0
        },
        "template": {
         "data": {
          "bar": [
           {
            "error_x": {
             "color": "#2a3f5f"
            },
            "error_y": {
             "color": "#2a3f5f"
            },
            "marker": {
             "line": {
              "color": "#E5ECF6",
              "width": 0.5
             },
             "pattern": {
              "fillmode": "overlay",
              "size": 10,
              "solidity": 0.2
             }
            },
            "type": "bar"
           }
          ],
          "barpolar": [
           {
            "marker": {
             "line": {
              "color": "#E5ECF6",
              "width": 0.5
             },
             "pattern": {
              "fillmode": "overlay",
              "size": 10,
              "solidity": 0.2
             }
            },
            "type": "barpolar"
           }
          ],
          "carpet": [
           {
            "aaxis": {
             "endlinecolor": "#2a3f5f",
             "gridcolor": "white",
             "linecolor": "white",
             "minorgridcolor": "white",
             "startlinecolor": "#2a3f5f"
            },
            "baxis": {
             "endlinecolor": "#2a3f5f",
             "gridcolor": "white",
             "linecolor": "white",
             "minorgridcolor": "white",
             "startlinecolor": "#2a3f5f"
            },
            "type": "carpet"
           }
          ],
          "choropleth": [
           {
            "colorbar": {
             "outlinewidth": 0,
             "ticks": ""
            },
            "type": "choropleth"
           }
          ],
          "contour": [
           {
            "colorbar": {
             "outlinewidth": 0,
             "ticks": ""
            },
            "colorscale": [
             [
              0,
              "#0d0887"
             ],
             [
              0.1111111111111111,
              "#46039f"
             ],
             [
              0.2222222222222222,
              "#7201a8"
             ],
             [
              0.3333333333333333,
              "#9c179e"
             ],
             [
              0.4444444444444444,
              "#bd3786"
             ],
             [
              0.5555555555555556,
              "#d8576b"
             ],
             [
              0.6666666666666666,
              "#ed7953"
             ],
             [
              0.7777777777777778,
              "#fb9f3a"
             ],
             [
              0.8888888888888888,
              "#fdca26"
             ],
             [
              1,
              "#f0f921"
             ]
            ],
            "type": "contour"
           }
          ],
          "contourcarpet": [
           {
            "colorbar": {
             "outlinewidth": 0,
             "ticks": ""
            },
            "type": "contourcarpet"
           }
          ],
          "heatmap": [
           {
            "colorbar": {
             "outlinewidth": 0,
             "ticks": ""
            },
            "colorscale": [
             [
              0,
              "#0d0887"
             ],
             [
              0.1111111111111111,
              "#46039f"
             ],
             [
              0.2222222222222222,
              "#7201a8"
             ],
             [
              0.3333333333333333,
              "#9c179e"
             ],
             [
              0.4444444444444444,
              "#bd3786"
             ],
             [
              0.5555555555555556,
              "#d8576b"
             ],
             [
              0.6666666666666666,
              "#ed7953"
             ],
             [
              0.7777777777777778,
              "#fb9f3a"
             ],
             [
              0.8888888888888888,
              "#fdca26"
             ],
             [
              1,
              "#f0f921"
             ]
            ],
            "type": "heatmap"
           }
          ],
          "heatmapgl": [
           {
            "colorbar": {
             "outlinewidth": 0,
             "ticks": ""
            },
            "colorscale": [
             [
              0,
              "#0d0887"
             ],
             [
              0.1111111111111111,
              "#46039f"
             ],
             [
              0.2222222222222222,
              "#7201a8"
             ],
             [
              0.3333333333333333,
              "#9c179e"
             ],
             [
              0.4444444444444444,
              "#bd3786"
             ],
             [
              0.5555555555555556,
              "#d8576b"
             ],
             [
              0.6666666666666666,
              "#ed7953"
             ],
             [
              0.7777777777777778,
              "#fb9f3a"
             ],
             [
              0.8888888888888888,
              "#fdca26"
             ],
             [
              1,
              "#f0f921"
             ]
            ],
            "type": "heatmapgl"
           }
          ],
          "histogram": [
           {
            "marker": {
             "pattern": {
              "fillmode": "overlay",
              "size": 10,
              "solidity": 0.2
             }
            },
            "type": "histogram"
           }
          ],
          "histogram2d": [
           {
            "colorbar": {
             "outlinewidth": 0,
             "ticks": ""
            },
            "colorscale": [
             [
              0,
              "#0d0887"
             ],
             [
              0.1111111111111111,
              "#46039f"
             ],
             [
              0.2222222222222222,
              "#7201a8"
             ],
             [
              0.3333333333333333,
              "#9c179e"
             ],
             [
              0.4444444444444444,
              "#bd3786"
             ],
             [
              0.5555555555555556,
              "#d8576b"
             ],
             [
              0.6666666666666666,
              "#ed7953"
             ],
             [
              0.7777777777777778,
              "#fb9f3a"
             ],
             [
              0.8888888888888888,
              "#fdca26"
             ],
             [
              1,
              "#f0f921"
             ]
            ],
            "type": "histogram2d"
           }
          ],
          "histogram2dcontour": [
           {
            "colorbar": {
             "outlinewidth": 0,
             "ticks": ""
            },
            "colorscale": [
             [
              0,
              "#0d0887"
             ],
             [
              0.1111111111111111,
              "#46039f"
             ],
             [
              0.2222222222222222,
              "#7201a8"
             ],
             [
              0.3333333333333333,
              "#9c179e"
             ],
             [
              0.4444444444444444,
              "#bd3786"
             ],
             [
              0.5555555555555556,
              "#d8576b"
             ],
             [
              0.6666666666666666,
              "#ed7953"
             ],
             [
              0.7777777777777778,
              "#fb9f3a"
             ],
             [
              0.8888888888888888,
              "#fdca26"
             ],
             [
              1,
              "#f0f921"
             ]
            ],
            "type": "histogram2dcontour"
           }
          ],
          "mesh3d": [
           {
            "colorbar": {
             "outlinewidth": 0,
             "ticks": ""
            },
            "type": "mesh3d"
           }
          ],
          "parcoords": [
           {
            "line": {
             "colorbar": {
              "outlinewidth": 0,
              "ticks": ""
             }
            },
            "type": "parcoords"
           }
          ],
          "pie": [
           {
            "automargin": true,
            "type": "pie"
           }
          ],
          "scatter": [
           {
            "fillpattern": {
             "fillmode": "overlay",
             "size": 10,
             "solidity": 0.2
            },
            "type": "scatter"
           }
          ],
          "scatter3d": [
           {
            "line": {
             "colorbar": {
              "outlinewidth": 0,
              "ticks": ""
             }
            },
            "marker": {
             "colorbar": {
              "outlinewidth": 0,
              "ticks": ""
             }
            },
            "type": "scatter3d"
           }
          ],
          "scattercarpet": [
           {
            "marker": {
             "colorbar": {
              "outlinewidth": 0,
              "ticks": ""
             }
            },
            "type": "scattercarpet"
           }
          ],
          "scattergeo": [
           {
            "marker": {
             "colorbar": {
              "outlinewidth": 0,
              "ticks": ""
             }
            },
            "type": "scattergeo"
           }
          ],
          "scattergl": [
           {
            "marker": {
             "colorbar": {
              "outlinewidth": 0,
              "ticks": ""
             }
            },
            "type": "scattergl"
           }
          ],
          "scattermapbox": [
           {
            "marker": {
             "colorbar": {
              "outlinewidth": 0,
              "ticks": ""
             }
            },
            "type": "scattermapbox"
           }
          ],
          "scatterpolar": [
           {
            "marker": {
             "colorbar": {
              "outlinewidth": 0,
              "ticks": ""
             }
            },
            "type": "scatterpolar"
           }
          ],
          "scatterpolargl": [
           {
            "marker": {
             "colorbar": {
              "outlinewidth": 0,
              "ticks": ""
             }
            },
            "type": "scatterpolargl"
           }
          ],
          "scatterternary": [
           {
            "marker": {
             "colorbar": {
              "outlinewidth": 0,
              "ticks": ""
             }
            },
            "type": "scatterternary"
           }
          ],
          "surface": [
           {
            "colorbar": {
             "outlinewidth": 0,
             "ticks": ""
            },
            "colorscale": [
             [
              0,
              "#0d0887"
             ],
             [
              0.1111111111111111,
              "#46039f"
             ],
             [
              0.2222222222222222,
              "#7201a8"
             ],
             [
              0.3333333333333333,
              "#9c179e"
             ],
             [
              0.4444444444444444,
              "#bd3786"
             ],
             [
              0.5555555555555556,
              "#d8576b"
             ],
             [
              0.6666666666666666,
              "#ed7953"
             ],
             [
              0.7777777777777778,
              "#fb9f3a"
             ],
             [
              0.8888888888888888,
              "#fdca26"
             ],
             [
              1,
              "#f0f921"
             ]
            ],
            "type": "surface"
           }
          ],
          "table": [
           {
            "cells": {
             "fill": {
              "color": "#EBF0F8"
             },
             "line": {
              "color": "white"
             }
            },
            "header": {
             "fill": {
              "color": "#C8D4E3"
             },
             "line": {
              "color": "white"
             }
            },
            "type": "table"
           }
          ]
         },
         "layout": {
          "annotationdefaults": {
           "arrowcolor": "#2a3f5f",
           "arrowhead": 0,
           "arrowwidth": 1
          },
          "autotypenumbers": "strict",
          "coloraxis": {
           "colorbar": {
            "outlinewidth": 0,
            "ticks": ""
           }
          },
          "colorscale": {
           "diverging": [
            [
             0,
             "#8e0152"
            ],
            [
             0.1,
             "#c51b7d"
            ],
            [
             0.2,
             "#de77ae"
            ],
            [
             0.3,
             "#f1b6da"
            ],
            [
             0.4,
             "#fde0ef"
            ],
            [
             0.5,
             "#f7f7f7"
            ],
            [
             0.6,
             "#e6f5d0"
            ],
            [
             0.7,
             "#b8e186"
            ],
            [
             0.8,
             "#7fbc41"
            ],
            [
             0.9,
             "#4d9221"
            ],
            [
             1,
             "#276419"
            ]
           ],
           "sequential": [
            [
             0,
             "#0d0887"
            ],
            [
             0.1111111111111111,
             "#46039f"
            ],
            [
             0.2222222222222222,
             "#7201a8"
            ],
            [
             0.3333333333333333,
             "#9c179e"
            ],
            [
             0.4444444444444444,
             "#bd3786"
            ],
            [
             0.5555555555555556,
             "#d8576b"
            ],
            [
             0.6666666666666666,
             "#ed7953"
            ],
            [
             0.7777777777777778,
             "#fb9f3a"
            ],
            [
             0.8888888888888888,
             "#fdca26"
            ],
            [
             1,
             "#f0f921"
            ]
           ],
           "sequentialminus": [
            [
             0,
             "#0d0887"
            ],
            [
             0.1111111111111111,
             "#46039f"
            ],
            [
             0.2222222222222222,
             "#7201a8"
            ],
            [
             0.3333333333333333,
             "#9c179e"
            ],
            [
             0.4444444444444444,
             "#bd3786"
            ],
            [
             0.5555555555555556,
             "#d8576b"
            ],
            [
             0.6666666666666666,
             "#ed7953"
            ],
            [
             0.7777777777777778,
             "#fb9f3a"
            ],
            [
             0.8888888888888888,
             "#fdca26"
            ],
            [
             1,
             "#f0f921"
            ]
           ]
          },
          "colorway": [
           "#636efa",
           "#EF553B",
           "#00cc96",
           "#ab63fa",
           "#FFA15A",
           "#19d3f3",
           "#FF6692",
           "#B6E880",
           "#FF97FF",
           "#FECB52"
          ],
          "font": {
           "color": "#2a3f5f"
          },
          "geo": {
           "bgcolor": "white",
           "lakecolor": "white",
           "landcolor": "#E5ECF6",
           "showlakes": true,
           "showland": true,
           "subunitcolor": "white"
          },
          "hoverlabel": {
           "align": "left"
          },
          "hovermode": "closest",
          "mapbox": {
           "style": "light"
          },
          "paper_bgcolor": "white",
          "plot_bgcolor": "#E5ECF6",
          "polar": {
           "angularaxis": {
            "gridcolor": "white",
            "linecolor": "white",
            "ticks": ""
           },
           "bgcolor": "#E5ECF6",
           "radialaxis": {
            "gridcolor": "white",
            "linecolor": "white",
            "ticks": ""
           }
          },
          "scene": {
           "xaxis": {
            "backgroundcolor": "#E5ECF6",
            "gridcolor": "white",
            "gridwidth": 2,
            "linecolor": "white",
            "showbackground": true,
            "ticks": "",
            "zerolinecolor": "white"
           },
           "yaxis": {
            "backgroundcolor": "#E5ECF6",
            "gridcolor": "white",
            "gridwidth": 2,
            "linecolor": "white",
            "showbackground": true,
            "ticks": "",
            "zerolinecolor": "white"
           },
           "zaxis": {
            "backgroundcolor": "#E5ECF6",
            "gridcolor": "white",
            "gridwidth": 2,
            "linecolor": "white",
            "showbackground": true,
            "ticks": "",
            "zerolinecolor": "white"
           }
          },
          "shapedefaults": {
           "line": {
            "color": "#2a3f5f"
           }
          },
          "ternary": {
           "aaxis": {
            "gridcolor": "white",
            "linecolor": "white",
            "ticks": ""
           },
           "baxis": {
            "gridcolor": "white",
            "linecolor": "white",
            "ticks": ""
           },
           "bgcolor": "#E5ECF6",
           "caxis": {
            "gridcolor": "white",
            "linecolor": "white",
            "ticks": ""
           }
          },
          "title": {
           "x": 0.05
          },
          "xaxis": {
           "automargin": true,
           "gridcolor": "white",
           "linecolor": "white",
           "ticks": "",
           "title": {
            "standoff": 15
           },
           "zerolinecolor": "white",
           "zerolinewidth": 2
          },
          "yaxis": {
           "automargin": true,
           "gridcolor": "white",
           "linecolor": "white",
           "ticks": "",
           "title": {
            "standoff": 15
           },
           "zerolinecolor": "white",
           "zerolinewidth": 2
          }
         }
        },
        "title": {
         "text": "Cantidad de operadores eficientes e ineficientes"
        },
        "xaxis": {
         "anchor": "y",
         "domain": [
          0,
          1
         ],
         "title": {
          "text": "ID del operador"
         }
        },
        "yaxis": {
         "anchor": "x",
         "domain": [
          0,
          1
         ],
         "title": {
          "text": "Ineficiencia total"
         }
        }
       }
      },
      "text/html": [
       "<div>                            <div id=\"2b6e4b1e-f3cf-40d8-86dd-45431f9a5e63\" class=\"plotly-graph-div\" style=\"height:525px; width:100%;\"></div>            <script type=\"text/javascript\">                require([\"plotly\"], function(Plotly) {                    window.PLOTLYENV=window.PLOTLYENV || {};                                    if (document.getElementById(\"2b6e4b1e-f3cf-40d8-86dd-45431f9a5e63\")) {                    Plotly.newPlot(                        \"2b6e4b1e-f3cf-40d8-86dd-45431f9a5e63\",                        [{\"alignmentgroup\":\"True\",\"hovertemplate\":\"ID del operador=%{x}\\u003cbr\\u003eIneficiencia total=%{marker.color}\\u003cextra\\u003e\\u003c\\u002fextra\\u003e\",\"legendgroup\":\"\",\"marker\":{\"color\":[2,2,2,2,2,2,2,2,2,2,2,2,2,2,2,2,2,2,2,2,2,1,1,1,1,1,1,1,1,1,1,1,1,1,1,1,1,1,1,1,1,1,1,1,1,1,1,1,1,1,1,1,1,1,1,1,1,1,1,1,1,1,1,1,1,1,1,1,1,1,1,1,1,1,1,1,1,1,1,1,1,1,1,1,1,1,1,1,1,1,1,1,1,1,1,1,1,1,1,1,1,1,1,1,1,1,1,1,1,1,1,1,1,1,1,1,1,1,1,1,1,1,1,1,1,1,1,1,1,1,1,1,1,1,1,1,1,1,1,1,1,1,1,1,1,1,1,1,1,1,1,1,1,1,1,1,1,1,1,1,1,1,1,1,1,1,1,1,1,1,1,1,1,1,1,1,1,1,1,1,1,1,1,1,1,1,1,1,1,1,1,1,1,1,1,1,1,1,1,1,1,1,1,1,1,1,1,1,1,1,1,1,1,1,1,1,1,1,1,1,1,1,1,1,1,1,1,1,1,1,1,1,1,1,1,1,1,1,1,1,1,1,1,1,1,1,1,1,1,1,1,1,1,1,1,1,1,1,1,1,1,1,1,1,1,1,1,1,1,1,1,1,1,1,1,1,1,1,1,1,1,1,1,1,1,1,1,1,1,1,1,1,1,1,1,1,1,1,1,1,1,1,1,1,1,1,1,1,1,1,1,1,1,1,1,1,1,1,1,1,1,1,1,1,1,1,1,1,0,0,0,0,0,0,0,0,0,0,0,0,0,0,0,0,0,0,0,0,0,0,0,0,0,0,0,0,0,0,0,0,0,0,0,0,0,0,0,0,0,0,0,0,0,0,0,0,0,0,0,0,0,0,0,0,0,0,0,0,0,0,0,0,0,0,0,0,0,0,0,0,0,0,0,0,0,0,0,0,0,0,0,0,0,0,0,0,0,0,0,0,0,0,0,0,0,0,0,0,0,0,0,0,0,0,0,0,0,0,0,0,0,0,0,0,0,0,0,0,0,0,0,0,0,0,0,0,0,0,0,0,0,0,0,0,0,0,0,0,0,0,0,0,0,0,0,0,0,0,0,0,0,0,0,0,0,0,0,0,0,0,0,0,0,0,0,0,0,0,0,0,0,0,0,0,0,0,0,0,0,0,0,0,0,0,0,0,0,0,0,0,0,0,0,0,0,0,0,0,0,0,0,0,0,0,0,0,0,0,0,0,0,0,0,0,0,0,0,0,0,0,0,0,0,0,0,0,0,0,0,0,0,0,0,0,0,0,0,0,0,0,0,0,0,0,0,0,0,0,0,0,0,0,0,0,0,0,0,0,0,0,0,0,0,0,0,0,0,0,0,0,0,0,0,0,0,0,0,0,0,0,0,0,0,0,0,0,0,0,0,0,0,0,0,0,0,0,0,0,0,0,0,0,0,0,0,0,0,0,0,0,0,0,0,0,0,0,0,0,0,0,0,0,0,0,0,0,0,0,0,0,0,0,0,0,0,0,0,0,0,0,0,0,0,0,0,0,0,0,0,0,0,0,0,0,0,0,0,0,0,0,0,0,0,0,0,0,0,0,0,0,0,0,0,0,0,0,0,0,0,0,0,0,0,0,0,0,0,0,0,0,0,0,0,0,0,0,0,0,0,0,0,0,0,0,0,0,0,0,0,0,0,0,0,0,0,0,0,0,0,0,0,0,0,0,0,0,0,0,0,0,0,0,0,0,0,0,0,0,0,0,0,0,0,0,0,0,0,0,0,0,0,0,0,0,0,0,0,0,0,0,0,0,0,0,0,0,0,0,0,0,0,0,0,0,0,0,0,0,0,0,0,0,0,0,0,0,0,0,0,0,0,0,0,0,0,0,0,0,0,0,0,0,0,0,0,0,0,0,0,0,0,0,0,0,0,0,0,0,0,0,0,0,0,0,0,0,0,0,0,0,0,0,0,0,0,0,0,0,0,0,0,0,0,0,0,0,0,0,0,0,0,0,0,0,0,0,0,0,0,0,0,0,0,0,0,0,0,0,0,0,0,0,0,0,0,0,0,0,0,0,0,0,0,0,0,0,0,0,0,0,0,0,0,0,0,0,0,0,0,0,0,0,0,0,0,0,0,0,0,0,0,0,0,0,0,0,0,0,0,0,0,0,0,0,0,0,0,0,0,0,0,0,0,0,0,0,0,0,0,0,0,0,0,0,0,0,0,0,0,0,0,0,0,0,0,0,0,0,0,0,0,0,0,0,0,0,0,0,0,0,0,0,0,0,0,0,0,0,0,0,0,0,0,0,0,0,0,0,0,0,0,0,0,0,0,0,0,0,0,0,0,0,0,0,0,0,0,0,0,0,0,0,0,0,0,0,0,0,0,0,0,0,0,0,0,0,0,0,0,0,0,0,0,0,0,0,0,0,0,0,0,0,0,0,0,0,0,0,0,0,0,0,0,0,0,0,0,0,0,0,0,0],\"coloraxis\":\"coloraxis\",\"pattern\":{\"shape\":\"\"}},\"name\":\"\",\"offsetgroup\":\"\",\"orientation\":\"v\",\"showlegend\":false,\"textposition\":\"auto\",\"x\":[\"888406\",\"937366\",\"923254\",\"906076\",\"911142\",\"928382\",\"918888\",\"937362\",\"951650\",\"904344\",\"914440\",\"935956\",\"926872\",\"944228\",\"905862\",\"896538\",\"944226\",\"933986\",\"970240\",\"937368\",\"970244\",\"896018\",\"908162\",\"928092\",\"908300\",\"928282\",\"908718\",\"908834\",\"928284\",\"969262\",\"969268\",\"929340\",\"908984\",\"969286\",\"969288\",\"909134\",\"969380\",\"929542\",\"929622\",\"970242\",\"970250\",\"970252\",\"970254\",\"970258\",\"970484\",\"970486\",\"909452\",\"929876\",\"930020\",\"972408\",\"909768\",\"909892\",\"930242\",\"973120\",\"887280\",\"887282\",\"930326\",\"930510\",\"930690\",\"930692\",\"888532\",\"888534\",\"930814\",\"888538\",\"930816\",\"888868\",\"910226\",\"930820\",\"932246\",\"932460\",\"890226\",\"890228\",\"932676\",\"890234\",\"932754\",\"932798\",\"932856\",\"933452\",\"934000\",\"910958\",\"911102\",\"934074\",\"934076\",\"934098\",\"911140\",\"934188\",\"934430\",\"934476\",\"935246\",\"935548\",\"935958\",\"912684\",\"891192\",\"891250\",\"936296\",\"913474\",\"937370\",\"937428\",\"937432\",\"913886\",\"891744\",\"937710\",\"937716\",\"913984\",\"937720\",\"891908\",\"891918\",\"937742\",\"937770\",\"914168\",\"891976\",\"914170\",\"937772\",\"892530\",\"937778\",\"937872\",\"914256\",\"914266\",\"892798\",\"892800\",\"893172\",\"893400\",\"914272\",\"937874\",\"914348\",\"893700\",\"914426\",\"894120\",\"894224\",\"914626\",\"894230\",\"894232\",\"894614\",\"937898\",\"937900\",\"914816\",\"937956\",\"937962\",\"914870\",\"895266\",\"895370\",\"938614\",\"939212\",\"939224\",\"895598\",\"939236\",\"895776\",\"939478\",\"939698\",\"939708\",\"896010\",\"939718\",\"896014\",\"940436\",\"906392\",\"940508\",\"940568\",\"917252\",\"940610\",\"940782\",\"917680\",\"917682\",\"940802\",\"940814\",\"940828\",\"897872\",\"940842\",\"898414\",\"917858\",\"898434\",\"917876\",\"917890\",\"940848\",\"918436\",\"941736\",\"941740\",\"918958\",\"899076\",\"941810\",\"941816\",\"899268\",\"918988\",\"941826\",\"941838\",\"941842\",\"899900\",\"919164\",\"941844\",\"942174\",\"944216\",\"944218\",\"944220\",\"944222\",\"900192\",\"900194\",\"944246\",\"944560\",\"945046\",\"900492\",\"919204\",\"919206\",\"919214\",\"919218\",\"900746\",\"945058\",\"945074\",\"900792\",\"945274\",\"945898\",\"946072\",\"946988\",\"947304\",\"947480\",\"947596\",\"901492\",\"901498\",\"947820\",\"948150\",\"948170\",\"948288\",\"948756\",\"919418\",\"948758\",\"949420\",\"950806\",\"951186\",\"902238\",\"951332\",\"951490\",\"919536\",\"951508\",\"952196\",\"952292\",\"952462\",\"952916\",\"919896\",\"952968\",\"953362\",\"953460\",\"954086\",\"902910\",\"919994\",\"954284\",\"954318\",\"954376\",\"954378\",\"903512\",\"920706\",\"954380\",\"903978\",\"955032\",\"904016\",\"955068\",\"955086\",\"955094\",\"904200\",\"955164\",\"955820\",\"920902\",\"956080\",\"920930\",\"956276\",\"905300\",\"905308\",\"921062\",\"956292\",\"905470\",\"905472\",\"921104\",\"905480\",\"957922\",\"905542\",\"958416\",\"958434\",\"958452\",\"958458\",\"905840\",\"905842\",\"958460\",\"958470\",\"958640\",\"959596\",\"960296\",\"906070\",\"960666\",\"882478\",\"922114\",\"882680\",\"882688\",\"882690\",\"883018\",\"906402\",\"883898\",\"884402\",\"922486\",\"884406\",\"906412\",\"884408\",\"906418\",\"884412\",\"885682\",\"960670\",\"907174\",\"960674\",\"969284\",\"962904\",\"963716\",\"964510\",\"964666\",\"964712\",\"966686\",\"924572\",\"907952\",\"967204\",\"924928\",\"907972\",\"924930\",\"924936\",\"924948\",\"924954\",\"907998\",\"973286\",\"926490\",\"908080\",\"927070\",\"927142\",\"927910\",\"927912\",\"879898\",\"880020\",\"880022\",\"968232\",\"968338\",\"968368\",\"968520\",\"969272\",\"882684\",\"969294\",\"969386\",\"969600\",\"971100\",\"971102\",\"971354\",\"972410\",\"972412\",\"972460\",\"887416\",\"887802\",\"887992\",\"888520\",\"888536\",\"888540\",\"889410\",\"889638\",\"889640\",\"889754\",\"890232\",\"890402\",\"890404\",\"890406\",\"890410\",\"890412\",\"890416\",\"890420\",\"890422\",\"890582\",\"890618\",\"891152\",\"891154\",\"891156\",\"891158\",\"891160\",\"891162\",\"891166\",\"891170\",\"891252\",\"891254\",\"891410\",\"891414\",\"891416\",\"891646\",\"891746\",\"891824\",\"891900\",\"891906\",\"891946\",\"891948\",\"891970\",\"891988\",\"892028\",\"892532\",\"892534\",\"892536\",\"892538\",\"893402\",\"893420\",\"893674\",\"893804\",\"894226\",\"894656\",\"894662\",\"894934\",\"895140\",\"895170\",\"895172\",\"895574\",\"895576\",\"895578\",\"895774\",\"895782\",\"895786\",\"896008\",\"896012\",\"896016\",\"896020\",\"896382\",\"896384\",\"896386\",\"896390\",\"896428\",\"896430\",\"896536\",\"896708\",\"897030\",\"897894\",\"898422\",\"898558\",\"898560\",\"898676\",\"898892\",\"898902\",\"898906\",\"898920\",\"899082\",\"899250\",\"899788\",\"899790\",\"899892\",\"899898\",\"899906\",\"899912\",\"899932\",\"899964\",\"899968\",\"899972\",\"900180\",\"900352\",\"900354\",\"900458\",\"900592\",\"900594\",\"900614\",\"900742\",\"900788\",\"900790\",\"900826\",\"900892\",\"900894\",\"901034\",\"901038\",\"901178\",\"901350\",\"901584\",\"901586\",\"901588\",\"901734\",\"901880\",\"901884\",\"901886\",\"901894\",\"901992\",\"901996\",\"902510\",\"902532\",\"902608\",\"902720\",\"902742\",\"902744\",\"902746\",\"902748\",\"902774\",\"902776\",\"902778\",\"902782\",\"902906\",\"903254\",\"903292\",\"903312\",\"903318\",\"903390\",\"903974\",\"903976\",\"904014\",\"904038\",\"904044\",\"904058\",\"904202\",\"904204\",\"904284\",\"904372\",\"905082\",\"905104\",\"905430\",\"905432\",\"905478\",\"905538\",\"905564\",\"905566\",\"905570\",\"905574\",\"905844\",\"905870\",\"905930\",\"905932\",\"905934\",\"906294\",\"906296\",\"879896\",\"906394\",\"906396\",\"906398\",\"906400\",\"906404\",\"906406\",\"906408\",\"906410\",\"906416\",\"906420\",\"906680\",\"906866\",\"907178\",\"907180\",\"907182\",\"907224\",\"907440\",\"907442\",\"907502\",\"907504\",\"907618\",\"907964\",\"907970\",\"907974\",\"907982\",\"907986\",\"907994\",\"908002\",\"908078\",\"908082\",\"908098\",\"908130\",\"908152\",\"908180\",\"908640\",\"908958\",\"908960\",\"909308\",\"909392\",\"909502\",\"909624\",\"909894\",\"909896\",\"909910\",\"910018\",\"910038\",\"910044\",\"910224\",\"910516\",\"910520\",\"910524\",\"910530\",\"910532\",\"910540\",\"910594\",\"910902\",\"910926\",\"911104\",\"911136\",\"911138\",\"911152\",\"911214\",\"911310\",\"912010\",\"912252\",\"912296\",\"912722\",\"913780\",\"913788\",\"913868\",\"913938\",\"913942\",\"914036\",\"914050\",\"914052\",\"914172\",\"914238\",\"914240\",\"914338\",\"914630\",\"914636\",\"914842\",\"914848\",\"915358\",\"915360\",\"915504\",\"915556\",\"915558\",\"915614\",\"915958\",\"916424\",\"916596\",\"916618\",\"917234\",\"917378\",\"917446\",\"917846\",\"917850\",\"917852\",\"917856\",\"918390\",\"918452\",\"918956\",\"918978\",\"918986\",\"919126\",\"919128\",\"919162\",\"919166\",\"919188\",\"919190\",\"919192\",\"919194\",\"919196\",\"919198\",\"919200\",\"919202\",\"919302\",\"919306\",\"919310\",\"919314\",\"919318\",\"919362\",\"919364\",\"919370\",\"919372\",\"919374\",\"919376\",\"919378\",\"919382\",\"919390\",\"919456\",\"919464\",\"919476\",\"919482\",\"919490\",\"919504\",\"919552\",\"919554\",\"919790\",\"919792\",\"919794\",\"919906\",\"919910\",\"919956\",\"919958\",\"920146\",\"920414\",\"920416\",\"920666\",\"920720\",\"920726\",\"920728\",\"920732\",\"920838\",\"920852\",\"920874\",\"920928\",\"920982\",\"921102\",\"921116\",\"921306\",\"921316\",\"921318\",\"921320\",\"921574\",\"921584\",\"921592\",\"921594\",\"921596\",\"921814\",\"921818\",\"922142\",\"922154\",\"922356\",\"922428\",\"922474\",\"922476\",\"922698\",\"922710\",\"923250\",\"923526\",\"923528\",\"923646\",\"923666\",\"923744\",\"923944\",\"924356\",\"924370\",\"924544\",\"924546\",\"924614\",\"937860\",\"937862\",\"937864\",\"937868\",\"937870\",\"925826\",\"930524\",\"937880\",\"937888\",\"930582\",\"930586\",\"937902\",\"930590\",\"937958\",\"937960\",\"930594\",\"937966\",\"937980\",\"937984\",\"937988\",\"938022\",\"938070\",\"938072\",\"938074\",\"938078\",\"938080\",\"938414\",\"938432\",\"938612\",\"930660\",\"938842\",\"938896\",\"930662\",\"939218\",\"939222\",\"925828\",\"927916\",\"939370\",\"939376\",\"939470\",\"939474\",\"939476\",\"928022\",\"939684\",\"925922\",\"939706\",\"930818\",\"939716\",\"928142\",\"939736\",\"939738\",\"939762\",\"939886\",\"940430\",\"940432\",\"940434\",\"930908\",\"940438\",\"940440\",\"940442\",\"940456\",\"940458\",\"940460\",\"940474\",\"940486\",\"930910\",\"940512\",\"940514\",\"930912\",\"940588\",\"940596\",\"930914\",\"940614\",\"940616\",\"940622\",\"940624\",\"940630\",\"940634\",\"940652\",\"940658\",\"940772\",\"931458\",\"940788\",\"931914\",\"932050\",\"932088\",\"928202\",\"932292\",\"940952\",\"940968\",\"941192\",\"941384\",\"941390\",\"941628\",\"932304\",\"928228\",\"941786\",\"932498\",\"932500\",\"932502\",\"932672\",\"926184\",\"932750\",\"926214\",\"942214\",\"943050\",\"943066\",\"943818\",\"944210\",\"928312\",\"932836\",\"924958\",\"933070\",\"924934\",\"924932\",\"933244\",\"944310\",\"944474\",\"944476\",\"928404\",\"944564\",\"944644\",\"944646\",\"944648\",\"944764\",\"944766\",\"944808\",\"944908\",\"933804\",\"945052\",\"933806\",\"933810\",\"933832\",\"945278\",\"945280\",\"945282\",\"945284\",\"945286\",\"945288\",\"945290\",\"945294\",\"945296\",\"945298\",\"945302\",\"945304\",\"945308\",\"945310\",\"945312\",\"945314\",\"945316\",\"945318\",\"945320\",\"945322\",\"945324\",\"945710\",\"945728\",\"945894\",\"924956\",\"945900\",\"945902\",\"945904\",\"946020\",\"946032\",\"933996\",\"946454\",\"946468\",\"946582\",\"946916\",\"928518\",\"928886\",\"947306\",\"928888\",\"947590\",\"947592\",\"928926\",\"947598\",\"947600\",\"947604\",\"947610\",\"947612\",\"947614\",\"947616\",\"947618\",\"947620\",\"947636\",\"947638\",\"947640\",\"947642\",\"947644\",\"947646\",\"947648\",\"947650\",\"947652\",\"947654\",\"947658\",\"947816\",\"947818\",\"934170\",\"929228\",\"934424\",\"948182\",\"948282\",\"948284\",\"948286\",\"934426\",\"948524\",\"934428\",\"929332\",\"949252\",\"934432\",\"950444\",\"950632\",\"950634\",\"950640\",\"950672\",\"926312\",\"950972\",\"951046\",\"951118\",\"934534\",\"951290\",\"934608\",\"951408\",\"935216\",\"951492\",\"951506\",\"935244\",\"951526\",\"951614\",\"951648\",\"924662\",\"952114\",\"952116\",\"952126\",\"929424\",\"935264\",\"952392\",\"952458\",\"952460\",\"935268\",\"952466\",\"952468\",\"952656\",\"952666\",\"952678\",\"925104\",\"952914\",\"935348\",\"952948\",\"952954\",\"935394\",\"952982\",\"929426\",\"953458\",\"935870\",\"953462\",\"953464\",\"953940\",\"953952\",\"924952\",\"929428\",\"954290\",\"936110\",\"926486\",\"936324\",\"936382\",\"954616\",\"954642\",\"954650\",\"954750\",\"954810\",\"936514\",\"936984\",\"955082\",\"937156\",\"955090\",\"937352\",\"924950\",\"955436\",\"924946\",\"924940\",\"956268\",\"929544\",\"937372\",\"956298\",\"956480\",\"956484\",\"956664\",\"957022\",\"937374\",\"958394\",\"937422\",\"958418\",\"958430\",\"958432\",\"925106\",\"958440\",\"958444\",\"937430\",\"958454\",\"958456\",\"929626\",\"937604\",\"958468\",\"937650\",\"958472\",\"958478\",\"958480\",\"937678\",\"958672\",\"959118\",\"959312\",\"937708\",\"960294\",\"924960\",\"960620\",\"960648\",\"929884\",\"880026\",\"880028\",\"880240\",\"881278\",\"882476\",\"925134\",\"937732\",\"961770\",\"882686\",\"937736\",\"930186\",\"937750\",\"937752\",\"883940\",\"883942\",\"884294\",\"937760\",\"937762\",\"925808\",\"930264\",\"884478\",\"884524\",\"884946\",\"937774\",\"885876\",\"885890\",\"886146\",\"886674\",\"886892\",\"887276\",\"887278\",\"968150\",\"927908\",\"960672\",\"937780\",\"960698\",\"960950\",\"961064\",\"961552\",\"937782\",\"962062\",\"962168\",\"962268\",\"962658\",\"962902\",\"937786\",\"937788\",\"937808\",\"964518\",\"937810\",\"937812\",\"964716\",\"965232\",\"965328\",\"965538\",\"965540\",\"965542\",\"965544\",\"965942\",\"966158\",\"937854\",\"937856\",\"967310\",\"952734\"],\"xaxis\":\"x\",\"y\":[2,2,2,2,2,2,2,2,2,2,2,2,2,2,2,2,2,2,2,2,2,1,1,1,1,1,1,1,1,1,1,1,1,1,1,1,1,1,1,1,1,1,1,1,1,1,1,1,1,1,1,1,1,1,1,1,1,1,1,1,1,1,1,1,1,1,1,1,1,1,1,1,1,1,1,1,1,1,1,1,1,1,1,1,1,1,1,1,1,1,1,1,1,1,1,1,1,1,1,1,1,1,1,1,1,1,1,1,1,1,1,1,1,1,1,1,1,1,1,1,1,1,1,1,1,1,1,1,1,1,1,1,1,1,1,1,1,1,1,1,1,1,1,1,1,1,1,1,1,1,1,1,1,1,1,1,1,1,1,1,1,1,1,1,1,1,1,1,1,1,1,1,1,1,1,1,1,1,1,1,1,1,1,1,1,1,1,1,1,1,1,1,1,1,1,1,1,1,1,1,1,1,1,1,1,1,1,1,1,1,1,1,1,1,1,1,1,1,1,1,1,1,1,1,1,1,1,1,1,1,1,1,1,1,1,1,1,1,1,1,1,1,1,1,1,1,1,1,1,1,1,1,1,1,1,1,1,1,1,1,1,1,1,1,1,1,1,1,1,1,1,1,1,1,1,1,1,1,1,1,1,1,1,1,1,1,1,1,1,1,1,1,1,1,1,1,1,1,1,1,1,1,1,1,1,1,1,1,1,1,1,1,1,1,1,1,1,1,1,1,1,1,1,1,1,1,1,1,0,0,0,0,0,0,0,0,0,0,0,0,0,0,0,0,0,0,0,0,0,0,0,0,0,0,0,0,0,0,0,0,0,0,0,0,0,0,0,0,0,0,0,0,0,0,0,0,0,0,0,0,0,0,0,0,0,0,0,0,0,0,0,0,0,0,0,0,0,0,0,0,0,0,0,0,0,0,0,0,0,0,0,0,0,0,0,0,0,0,0,0,0,0,0,0,0,0,0,0,0,0,0,0,0,0,0,0,0,0,0,0,0,0,0,0,0,0,0,0,0,0,0,0,0,0,0,0,0,0,0,0,0,0,0,0,0,0,0,0,0,0,0,0,0,0,0,0,0,0,0,0,0,0,0,0,0,0,0,0,0,0,0,0,0,0,0,0,0,0,0,0,0,0,0,0,0,0,0,0,0,0,0,0,0,0,0,0,0,0,0,0,0,0,0,0,0,0,0,0,0,0,0,0,0,0,0,0,0,0,0,0,0,0,0,0,0,0,0,0,0,0,0,0,0,0,0,0,0,0,0,0,0,0,0,0,0,0,0,0,0,0,0,0,0,0,0,0,0,0,0,0,0,0,0,0,0,0,0,0,0,0,0,0,0,0,0,0,0,0,0,0,0,0,0,0,0,0,0,0,0,0,0,0,0,0,0,0,0,0,0,0,0,0,0,0,0,0,0,0,0,0,0,0,0,0,0,0,0,0,0,0,0,0,0,0,0,0,0,0,0,0,0,0,0,0,0,0,0,0,0,0,0,0,0,0,0,0,0,0,0,0,0,0,0,0,0,0,0,0,0,0,0,0,0,0,0,0,0,0,0,0,0,0,0,0,0,0,0,0,0,0,0,0,0,0,0,0,0,0,0,0,0,0,0,0,0,0,0,0,0,0,0,0,0,0,0,0,0,0,0,0,0,0,0,0,0,0,0,0,0,0,0,0,0,0,0,0,0,0,0,0,0,0,0,0,0,0,0,0,0,0,0,0,0,0,0,0,0,0,0,0,0,0,0,0,0,0,0,0,0,0,0,0,0,0,0,0,0,0,0,0,0,0,0,0,0,0,0,0,0,0,0,0,0,0,0,0,0,0,0,0,0,0,0,0,0,0,0,0,0,0,0,0,0,0,0,0,0,0,0,0,0,0,0,0,0,0,0,0,0,0,0,0,0,0,0,0,0,0,0,0,0,0,0,0,0,0,0,0,0,0,0,0,0,0,0,0,0,0,0,0,0,0,0,0,0,0,0,0,0,0,0,0,0,0,0,0,0,0,0,0,0,0,0,0,0,0,0,0,0,0,0,0,0,0,0,0,0,0,0,0,0,0,0,0,0,0,0,0,0,0,0,0,0,0,0,0,0,0,0,0,0,0,0,0,0,0,0,0,0,0,0,0,0,0,0,0,0,0,0,0,0,0,0,0,0,0,0,0,0,0,0,0,0,0,0,0,0,0,0,0,0,0,0,0,0,0,0,0,0,0,0,0,0,0,0,0,0,0,0,0,0,0,0,0,0,0,0,0,0,0,0,0,0,0,0,0,0,0,0,0,0,0,0,0,0,0,0,0,0,0,0,0,0,0,0,0,0,0,0,0,0,0,0,0,0,0,0,0,0,0,0,0,0,0,0,0,0,0,0,0,0,0,0,0,0,0,0,0,0,0,0,0,0,0,0,0,0,0,0,0,0,0,0,0,0,0,0,0,0,0,0,0,0,0,0,0,0,0,0,0,0,0],\"yaxis\":\"y\",\"type\":\"bar\"}],                        {\"template\":{\"data\":{\"histogram2dcontour\":[{\"type\":\"histogram2dcontour\",\"colorbar\":{\"outlinewidth\":0,\"ticks\":\"\"},\"colorscale\":[[0.0,\"#0d0887\"],[0.1111111111111111,\"#46039f\"],[0.2222222222222222,\"#7201a8\"],[0.3333333333333333,\"#9c179e\"],[0.4444444444444444,\"#bd3786\"],[0.5555555555555556,\"#d8576b\"],[0.6666666666666666,\"#ed7953\"],[0.7777777777777778,\"#fb9f3a\"],[0.8888888888888888,\"#fdca26\"],[1.0,\"#f0f921\"]]}],\"choropleth\":[{\"type\":\"choropleth\",\"colorbar\":{\"outlinewidth\":0,\"ticks\":\"\"}}],\"histogram2d\":[{\"type\":\"histogram2d\",\"colorbar\":{\"outlinewidth\":0,\"ticks\":\"\"},\"colorscale\":[[0.0,\"#0d0887\"],[0.1111111111111111,\"#46039f\"],[0.2222222222222222,\"#7201a8\"],[0.3333333333333333,\"#9c179e\"],[0.4444444444444444,\"#bd3786\"],[0.5555555555555556,\"#d8576b\"],[0.6666666666666666,\"#ed7953\"],[0.7777777777777778,\"#fb9f3a\"],[0.8888888888888888,\"#fdca26\"],[1.0,\"#f0f921\"]]}],\"heatmap\":[{\"type\":\"heatmap\",\"colorbar\":{\"outlinewidth\":0,\"ticks\":\"\"},\"colorscale\":[[0.0,\"#0d0887\"],[0.1111111111111111,\"#46039f\"],[0.2222222222222222,\"#7201a8\"],[0.3333333333333333,\"#9c179e\"],[0.4444444444444444,\"#bd3786\"],[0.5555555555555556,\"#d8576b\"],[0.6666666666666666,\"#ed7953\"],[0.7777777777777778,\"#fb9f3a\"],[0.8888888888888888,\"#fdca26\"],[1.0,\"#f0f921\"]]}],\"heatmapgl\":[{\"type\":\"heatmapgl\",\"colorbar\":{\"outlinewidth\":0,\"ticks\":\"\"},\"colorscale\":[[0.0,\"#0d0887\"],[0.1111111111111111,\"#46039f\"],[0.2222222222222222,\"#7201a8\"],[0.3333333333333333,\"#9c179e\"],[0.4444444444444444,\"#bd3786\"],[0.5555555555555556,\"#d8576b\"],[0.6666666666666666,\"#ed7953\"],[0.7777777777777778,\"#fb9f3a\"],[0.8888888888888888,\"#fdca26\"],[1.0,\"#f0f921\"]]}],\"contourcarpet\":[{\"type\":\"contourcarpet\",\"colorbar\":{\"outlinewidth\":0,\"ticks\":\"\"}}],\"contour\":[{\"type\":\"contour\",\"colorbar\":{\"outlinewidth\":0,\"ticks\":\"\"},\"colorscale\":[[0.0,\"#0d0887\"],[0.1111111111111111,\"#46039f\"],[0.2222222222222222,\"#7201a8\"],[0.3333333333333333,\"#9c179e\"],[0.4444444444444444,\"#bd3786\"],[0.5555555555555556,\"#d8576b\"],[0.6666666666666666,\"#ed7953\"],[0.7777777777777778,\"#fb9f3a\"],[0.8888888888888888,\"#fdca26\"],[1.0,\"#f0f921\"]]}],\"surface\":[{\"type\":\"surface\",\"colorbar\":{\"outlinewidth\":0,\"ticks\":\"\"},\"colorscale\":[[0.0,\"#0d0887\"],[0.1111111111111111,\"#46039f\"],[0.2222222222222222,\"#7201a8\"],[0.3333333333333333,\"#9c179e\"],[0.4444444444444444,\"#bd3786\"],[0.5555555555555556,\"#d8576b\"],[0.6666666666666666,\"#ed7953\"],[0.7777777777777778,\"#fb9f3a\"],[0.8888888888888888,\"#fdca26\"],[1.0,\"#f0f921\"]]}],\"mesh3d\":[{\"type\":\"mesh3d\",\"colorbar\":{\"outlinewidth\":0,\"ticks\":\"\"}}],\"scatter\":[{\"fillpattern\":{\"fillmode\":\"overlay\",\"size\":10,\"solidity\":0.2},\"type\":\"scatter\"}],\"parcoords\":[{\"type\":\"parcoords\",\"line\":{\"colorbar\":{\"outlinewidth\":0,\"ticks\":\"\"}}}],\"scatterpolargl\":[{\"type\":\"scatterpolargl\",\"marker\":{\"colorbar\":{\"outlinewidth\":0,\"ticks\":\"\"}}}],\"bar\":[{\"error_x\":{\"color\":\"#2a3f5f\"},\"error_y\":{\"color\":\"#2a3f5f\"},\"marker\":{\"line\":{\"color\":\"#E5ECF6\",\"width\":0.5},\"pattern\":{\"fillmode\":\"overlay\",\"size\":10,\"solidity\":0.2}},\"type\":\"bar\"}],\"scattergeo\":[{\"type\":\"scattergeo\",\"marker\":{\"colorbar\":{\"outlinewidth\":0,\"ticks\":\"\"}}}],\"scatterpolar\":[{\"type\":\"scatterpolar\",\"marker\":{\"colorbar\":{\"outlinewidth\":0,\"ticks\":\"\"}}}],\"histogram\":[{\"marker\":{\"pattern\":{\"fillmode\":\"overlay\",\"size\":10,\"solidity\":0.2}},\"type\":\"histogram\"}],\"scattergl\":[{\"type\":\"scattergl\",\"marker\":{\"colorbar\":{\"outlinewidth\":0,\"ticks\":\"\"}}}],\"scatter3d\":[{\"type\":\"scatter3d\",\"line\":{\"colorbar\":{\"outlinewidth\":0,\"ticks\":\"\"}},\"marker\":{\"colorbar\":{\"outlinewidth\":0,\"ticks\":\"\"}}}],\"scattermapbox\":[{\"type\":\"scattermapbox\",\"marker\":{\"colorbar\":{\"outlinewidth\":0,\"ticks\":\"\"}}}],\"scatterternary\":[{\"type\":\"scatterternary\",\"marker\":{\"colorbar\":{\"outlinewidth\":0,\"ticks\":\"\"}}}],\"scattercarpet\":[{\"type\":\"scattercarpet\",\"marker\":{\"colorbar\":{\"outlinewidth\":0,\"ticks\":\"\"}}}],\"carpet\":[{\"aaxis\":{\"endlinecolor\":\"#2a3f5f\",\"gridcolor\":\"white\",\"linecolor\":\"white\",\"minorgridcolor\":\"white\",\"startlinecolor\":\"#2a3f5f\"},\"baxis\":{\"endlinecolor\":\"#2a3f5f\",\"gridcolor\":\"white\",\"linecolor\":\"white\",\"minorgridcolor\":\"white\",\"startlinecolor\":\"#2a3f5f\"},\"type\":\"carpet\"}],\"table\":[{\"cells\":{\"fill\":{\"color\":\"#EBF0F8\"},\"line\":{\"color\":\"white\"}},\"header\":{\"fill\":{\"color\":\"#C8D4E3\"},\"line\":{\"color\":\"white\"}},\"type\":\"table\"}],\"barpolar\":[{\"marker\":{\"line\":{\"color\":\"#E5ECF6\",\"width\":0.5},\"pattern\":{\"fillmode\":\"overlay\",\"size\":10,\"solidity\":0.2}},\"type\":\"barpolar\"}],\"pie\":[{\"automargin\":true,\"type\":\"pie\"}]},\"layout\":{\"autotypenumbers\":\"strict\",\"colorway\":[\"#636efa\",\"#EF553B\",\"#00cc96\",\"#ab63fa\",\"#FFA15A\",\"#19d3f3\",\"#FF6692\",\"#B6E880\",\"#FF97FF\",\"#FECB52\"],\"font\":{\"color\":\"#2a3f5f\"},\"hovermode\":\"closest\",\"hoverlabel\":{\"align\":\"left\"},\"paper_bgcolor\":\"white\",\"plot_bgcolor\":\"#E5ECF6\",\"polar\":{\"bgcolor\":\"#E5ECF6\",\"angularaxis\":{\"gridcolor\":\"white\",\"linecolor\":\"white\",\"ticks\":\"\"},\"radialaxis\":{\"gridcolor\":\"white\",\"linecolor\":\"white\",\"ticks\":\"\"}},\"ternary\":{\"bgcolor\":\"#E5ECF6\",\"aaxis\":{\"gridcolor\":\"white\",\"linecolor\":\"white\",\"ticks\":\"\"},\"baxis\":{\"gridcolor\":\"white\",\"linecolor\":\"white\",\"ticks\":\"\"},\"caxis\":{\"gridcolor\":\"white\",\"linecolor\":\"white\",\"ticks\":\"\"}},\"coloraxis\":{\"colorbar\":{\"outlinewidth\":0,\"ticks\":\"\"}},\"colorscale\":{\"sequential\":[[0.0,\"#0d0887\"],[0.1111111111111111,\"#46039f\"],[0.2222222222222222,\"#7201a8\"],[0.3333333333333333,\"#9c179e\"],[0.4444444444444444,\"#bd3786\"],[0.5555555555555556,\"#d8576b\"],[0.6666666666666666,\"#ed7953\"],[0.7777777777777778,\"#fb9f3a\"],[0.8888888888888888,\"#fdca26\"],[1.0,\"#f0f921\"]],\"sequentialminus\":[[0.0,\"#0d0887\"],[0.1111111111111111,\"#46039f\"],[0.2222222222222222,\"#7201a8\"],[0.3333333333333333,\"#9c179e\"],[0.4444444444444444,\"#bd3786\"],[0.5555555555555556,\"#d8576b\"],[0.6666666666666666,\"#ed7953\"],[0.7777777777777778,\"#fb9f3a\"],[0.8888888888888888,\"#fdca26\"],[1.0,\"#f0f921\"]],\"diverging\":[[0,\"#8e0152\"],[0.1,\"#c51b7d\"],[0.2,\"#de77ae\"],[0.3,\"#f1b6da\"],[0.4,\"#fde0ef\"],[0.5,\"#f7f7f7\"],[0.6,\"#e6f5d0\"],[0.7,\"#b8e186\"],[0.8,\"#7fbc41\"],[0.9,\"#4d9221\"],[1,\"#276419\"]]},\"xaxis\":{\"gridcolor\":\"white\",\"linecolor\":\"white\",\"ticks\":\"\",\"title\":{\"standoff\":15},\"zerolinecolor\":\"white\",\"automargin\":true,\"zerolinewidth\":2},\"yaxis\":{\"gridcolor\":\"white\",\"linecolor\":\"white\",\"ticks\":\"\",\"title\":{\"standoff\":15},\"zerolinecolor\":\"white\",\"automargin\":true,\"zerolinewidth\":2},\"scene\":{\"xaxis\":{\"backgroundcolor\":\"#E5ECF6\",\"gridcolor\":\"white\",\"linecolor\":\"white\",\"showbackground\":true,\"ticks\":\"\",\"zerolinecolor\":\"white\",\"gridwidth\":2},\"yaxis\":{\"backgroundcolor\":\"#E5ECF6\",\"gridcolor\":\"white\",\"linecolor\":\"white\",\"showbackground\":true,\"ticks\":\"\",\"zerolinecolor\":\"white\",\"gridwidth\":2},\"zaxis\":{\"backgroundcolor\":\"#E5ECF6\",\"gridcolor\":\"white\",\"linecolor\":\"white\",\"showbackground\":true,\"ticks\":\"\",\"zerolinecolor\":\"white\",\"gridwidth\":2}},\"shapedefaults\":{\"line\":{\"color\":\"#2a3f5f\"}},\"annotationdefaults\":{\"arrowcolor\":\"#2a3f5f\",\"arrowhead\":0,\"arrowwidth\":1},\"geo\":{\"bgcolor\":\"white\",\"landcolor\":\"#E5ECF6\",\"subunitcolor\":\"white\",\"showland\":true,\"showlakes\":true,\"lakecolor\":\"white\"},\"title\":{\"x\":0.05},\"mapbox\":{\"style\":\"light\"}}},\"xaxis\":{\"anchor\":\"y\",\"domain\":[0.0,1.0],\"title\":{\"text\":\"ID del operador\"}},\"yaxis\":{\"anchor\":\"x\",\"domain\":[0.0,1.0],\"title\":{\"text\":\"Ineficiencia total\"}},\"coloraxis\":{\"colorbar\":{\"title\":{\"text\":\"Ineficiencia total\"}},\"colorscale\":[[0.0,\"#0d0887\"],[0.1111111111111111,\"#46039f\"],[0.2222222222222222,\"#7201a8\"],[0.3333333333333333,\"#9c179e\"],[0.4444444444444444,\"#bd3786\"],[0.5555555555555556,\"#d8576b\"],[0.6666666666666666,\"#ed7953\"],[0.7777777777777778,\"#fb9f3a\"],[0.8888888888888888,\"#fdca26\"],[1.0,\"#f0f921\"]]},\"legend\":{\"tracegroupgap\":0},\"title\":{\"text\":\"Cantidad de operadores eficientes e ineficientes\"},\"barmode\":\"relative\"},                        {\"responsive\": true}                    ).then(function(){\n",
       "                            \n",
       "var gd = document.getElementById('2b6e4b1e-f3cf-40d8-86dd-45431f9a5e63');\n",
       "var x = new MutationObserver(function (mutations, observer) {{\n",
       "        var display = window.getComputedStyle(gd).display;\n",
       "        if (!display || display === 'none') {{\n",
       "            console.log([gd, 'removed!']);\n",
       "            Plotly.purge(gd);\n",
       "            observer.disconnect();\n",
       "        }}\n",
       "}});\n",
       "\n",
       "// Listen for the removal of the full notebook cells\n",
       "var notebookContainer = gd.closest('#notebook-container');\n",
       "if (notebookContainer) {{\n",
       "    x.observe(notebookContainer, {childList: true});\n",
       "}}\n",
       "\n",
       "// Listen for the clearing of the current output cell\n",
       "var outputEl = gd.closest('.output');\n",
       "if (outputEl) {{\n",
       "    x.observe(outputEl, {childList: true});\n",
       "}}\n",
       "\n",
       "                        })                };                });            </script>        </div>"
      ]
     },
     "metadata": {},
     "output_type": "display_data"
    }
   ],
   "source": [
    "# Gráfico de cantidad de operadores eficientes e ineficientes (en el eje x vendrán la cantidad de usuarios con eficiencia = 0, 1, 2, 3)\n",
    "inefficiency_per_operator = operator_metrics_clients_merged.groupby('operator_id')['inefficiency_level'].sum().reset_index()\n",
    "inefficiency_per_operator['operator_id'] = inefficiency_per_operator['operator_id'].astype('str') # Convertimos a categoría para el gráfico\n",
    "\n",
    "fig = px.bar(inefficiency_per_operator.sort_values(by='inefficiency_level', ascending=False),\n",
    "             x='operator_id',\n",
    "             y='inefficiency_level',\n",
    "             color='inefficiency_level',\n",
    "             title='Cantidad de operadores eficientes e ineficientes',\n",
    "             labels={'operator_id': 'ID del operador', 'inefficiency_level': 'Ineficiencia total'},\n",
    ")\n",
    "fig.show()"
   ]
  },
  {
   "cell_type": "markdown",
   "id": "f683a1d0",
   "metadata": {},
   "source": [
    "El gráfico abarca a todos los operadores (1092) por lo que se puede dificultar un poco su visibilidad, sin embargo, a simple vista podemos observar que la cantidad de clientes con nivel de ineficiencia 2 es muy poca, en comparación con los de ineficiencia 1. Además, ¡Sorpresa! No tenemos operadores ineficientes alto, es una buena señal!\n",
    "\n",
    "No está de más destacar que la mayoría de los operadores son eficientes, esto lo podemos ver porque en la mayor parte de los operadores no tienen barritas o indicadores de ineficiencia."
   ]
  },
  {
   "cell_type": "markdown",
   "id": "b826f6b2",
   "metadata": {},
   "source": [
    "**Proporción de Operadores ineficientes vs Ineficiencia Total**"
   ]
  },
  {
   "cell_type": "code",
   "execution_count": 188,
   "id": "045e8790",
   "metadata": {},
   "outputs": [
    {
     "name": "stdout",
     "output_type": "stream",
     "text": [
      "El 20% de los operadores más ineficientes contribuyen con el 68.48% de la ineficiencia total.\n"
     ]
    }
   ],
   "source": [
    "# Ordenar operadores por nivel de ineficiencia total\n",
    "inefficiency_per_operator = operator_metrics_clients_merged.groupby('operator_id')['inefficiency_level'].sum().reset_index()\n",
    "inefficiency_per_operator = inefficiency_per_operator.sort_values(by='inefficiency_level', ascending=False)\n",
    "\n",
    "# Calcular el 20% superior de operadores\n",
    "top_20_percent_count = int(len(inefficiency_per_operator) * 0.2)\n",
    "top_20_percent = inefficiency_per_operator.head(top_20_percent_count)\n",
    "\n",
    "# Calcular el porcentaje de ineficiencia total que representan\n",
    "total_inefficiency = inefficiency_per_operator['inefficiency_level'].sum()\n",
    "top_20_percent_inefficiency = top_20_percent['inefficiency_level'].sum()\n",
    "percentage_contribution = (top_20_percent_inefficiency / total_inefficiency) * 100\n",
    "\n",
    "print(f\"El 20% de los operadores más ineficientes contribuyen con el {percentage_contribution:.2f}% de la ineficiencia total.\")"
   ]
  },
  {
   "cell_type": "markdown",
   "id": "33eaf79c",
   "metadata": {},
   "source": [
    "Este resultado sugiere que casi la mitad de la ineficiencia total proviene de solo el 20% de los operadores. Aunque no llega al 80% como sugiere el principio, sigue siendo útil para priorizar esfuerzos. Se pueden enfocar recursos como capacitación o supervisión a este grupo reducido para maximizar el impacto en la mejora de la eificnecia general."
   ]
  },
  {
   "cell_type": "markdown",
   "id": "fcd41d83",
   "metadata": {},
   "source": [
    "## **Principio de Pareto (80/20)**"
   ]
  },
  {
   "cell_type": "markdown",
   "id": "f70f2de6",
   "metadata": {},
   "source": [
    "El **Principio de Pareto (80/20)** es una herramienta útil para identificar las áreas clave que general el mayor impacto. En este proyecto, donde el propósito final es optimizar la eficiencia operativa de los operadores telefónicos, aplicar este principio nos permitirá *priorizar esfuerzos* en las cuasas principales de ineficiencia.\n",
    "\n",
    "El análisis de ineficiencia operativa revela que no todos los operadores contribuyen de manera equitativa a los problemas identificados. De hecho, es probable que una pequeña proporción de operadores o métricas específicas sean responsable de la mayor parte de la ineficiencia total.\n",
    "\n",
    "Al identificar el 20% de los operadores o métricas que contribuyen al 80% de la ineficiencia, podremos asignar recursos de manera más eficiente, y con esto, brindar información clara y relevante a los supervisores para la toma de decisiones estratégicas."
   ]
  },
  {
   "cell_type": "code",
   "execution_count": 189,
   "id": "13cf49e2",
   "metadata": {},
   "outputs": [
    {
     "name": "stdout",
     "output_type": "stream",
     "text": [
      "Contribución de cada métrica a la ineficiencia total:\n",
      "Missed Calls: 26.07%\n",
      "Wait Time: 12.61%\n",
      "Outgoing Volume: 61.32%\n"
     ]
    }
   ],
   "source": [
    "# Sumamos las métricas de ineficiencia\n",
    "metrics_sum = {\n",
    "    'Missed Calls': operator_metrics['inefficient_missed_call'].sum(),\n",
    "    'Wait Time': operator_metrics['inefficient_wait_time'].sum(),\n",
    "    'Outgoing Volume': operator_metrics['inefficient_outgoing_volume'].sum()\n",
    "}\n",
    "\n",
    "# Calculamos el porcentaje de contribución\n",
    "total_inefficiency = sum(metrics_sum.values())\n",
    "# Para cada clave (k) y su valor (v) en el diccionario metrics_sum, crea un nuevo par de clave:valor en donde:\n",
    "## la clave sigue siendo k y el valor es el resultado de (v / total_inefficiency) * 100 \n",
    "metrics_percentage = {k: (v / total_inefficiency) * 100 for k, v in metrics_sum.items()}\n",
    "\n",
    "# Mostrar los resultados\n",
    "print(\"Contribución de cada métrica a la ineficiencia total:\")\n",
    "for metric, percentage in metrics_percentage.items():\n",
    "    print(f\"{metric}: {percentage:.2f}%\")"
   ]
  },
  {
   "cell_type": "code",
   "execution_count": 190,
   "id": "bfad430e",
   "metadata": {},
   "outputs": [
    {
     "data": {
      "image/png": "[encoded data removed]",
      "text/plain": [
       "<Figure size 640x480 with 1 Axes>"
      ]
     },
     "metadata": {},
     "output_type": "display_data"
    }
   ],
   "source": [
    "# Creamos un gráfico de pastel\n",
    "explode = (0, 0, 0.1)  # Resaltamos la tercera sección\n",
    "\n",
    "fig, ax = plt.subplots()\n",
    "ax.pie(metrics_percentage.values(), # Los valores son los 'values' (cálculo de porcentaje) del diccionario\n",
    "       explode=explode, # Extruye el segmento indicado en 'explode'\n",
    "       labels=metrics_percentage.keys(), # Las etiquetas son las 'llaves' (nombres) del diccionario\n",
    "       autopct='%1.1f%%', # Formato con un decimal\n",
    "       shadow=True, # Aplicamos sombra\n",
    "       startangle=90, \n",
    "       wedgeprops={\"linewidth\": 1, \"edgecolor\": \"white\"}, # Propiedades del gráfico\n",
    "       colors=['skyblue','violet','yellowgreen'])\n",
    "\n",
    "ax.set_title('Distribución de ineficiencia por métrica')\n",
    "\n",
    "plt.show()"
   ]
  },
  {
   "cell_type": "markdown",
   "id": "c2b74e9e",
   "metadata": {},
   "source": [
    "**Conclusión**\n",
    "\n",
    "La principal métrica que causa ineficiencia en los operadores es que realizan muy pocas llamadas cuando se espera sean más proactivos. De igual forma, aunque en menor proporción, tienen varias llamadas perdidas (entrantes) por lo que también hay que mejorar esta parte. ¿Acaso están ocupados con otros clientes y no pueden contestar esas llamadas? ¿Hay forma de disminuirlo?"
   ]
  },
  {
   "cell_type": "markdown",
   "id": "4ff82c36",
   "metadata": {},
   "source": [
    "## **Modelo Predictivo**\n",
    "*Modelo de clasificación para predecir la ineficiencia de los operadores*"
   ]
  },
  {
   "cell_type": "markdown",
   "id": "351f677a",
   "metadata": {},
   "source": [
    "**Matriz de correlación**"
   ]
  },
  {
   "cell_type": "code",
   "execution_count": 191,
   "id": "9ba96d3e",
   "metadata": {},
   "outputs": [
    {
     "data": {
      "application/vnd.microsoft.datawrangler.viewer.v0+json": {
       "columns": [
        {
         "name": "index",
         "rawType": "int64",
         "type": "integer"
        },
        {
         "name": "user_id",
         "rawType": "int64",
         "type": "integer"
        },
        {
         "name": "operator_id",
         "rawType": "int64",
         "type": "integer"
        },
        {
         "name": "missed_call_ratio",
         "rawType": "float64",
         "type": "float"
        },
        {
         "name": "avg_wait_time_per_call",
         "rawType": "float64",
         "type": "float"
        },
        {
         "name": "outgoing_calls_count",
         "rawType": "float64",
         "type": "float"
        },
        {
         "name": "inefficient_missed_call",
         "rawType": "int64",
         "type": "integer"
        },
        {
         "name": "inefficient_wait_time",
         "rawType": "int64",
         "type": "integer"
        },
        {
         "name": "inefficient_outgoing_volume",
         "rawType": "int64",
         "type": "integer"
        },
        {
         "name": "inefficiency_level",
         "rawType": "int64",
         "type": "integer"
        },
        {
         "name": "inefficiency_class",
         "rawType": "object",
         "type": "string"
        },
        {
         "name": "tariff_plan",
         "rawType": "category",
         "type": "unknown"
        },
        {
         "name": "date_start",
         "rawType": "datetime64[ns]",
         "type": "datetime"
        },
        {
         "name": "year_start",
         "rawType": "int32",
         "type": "integer"
        },
        {
         "name": "month_start",
         "rawType": "int32",
         "type": "integer"
        },
        {
         "name": "day_start",
         "rawType": "int32",
         "type": "integer"
        },
        {
         "name": "day_of_week_start",
         "rawType": "int32",
         "type": "integer"
        }
       ],
       "conversionMethod": "pd.DataFrame",
       "ref": "455131df-cdfb-43ae-ad89-84ce389e12b7",
       "rows": [
        [
         "0",
         "166377",
         "880022",
         "0.0",
         "14.0",
         "189.0",
         "0",
         "0",
         "0",
         "0",
         "eficiente",
         "B",
         "2019-08-01 00:00:00",
         "2019",
         "8",
         "1",
         "3"
        ],
        [
         "1",
         "166377",
         "880020",
         "0.0",
         "7.71",
         "38.0",
         "0",
         "0",
         "0",
         "0",
         "eficiente",
         "B",
         "2019-08-01 00:00:00",
         "2019",
         "8",
         "1",
         "3"
        ],
        [
         "6",
         "166377",
         "881278",
         "0.0",
         "0.0",
         "20.0",
         "0",
         "0",
         "0",
         "0",
         "eficiente",
         "B",
         "2019-08-01 00:00:00",
         "2019",
         "8",
         "1",
         "3"
        ],
        [
         "10",
         "166377",
         "880028",
         "0.0",
         "5.44",
         "2497.0",
         "0",
         "0",
         "0",
         "0",
         "eficiente",
         "B",
         "2019-08-01 00:00:00",
         "2019",
         "8",
         "1",
         "3"
        ],
        [
         "11",
         "166377",
         "880026",
         "0.0",
         "5.96",
         "2208.0",
         "0",
         "0",
         "0",
         "0",
         "eficiente",
         "B",
         "2019-08-01 00:00:00",
         "2019",
         "8",
         "1",
         "3"
        ],
        [
         "482",
         "166391",
         "882476",
         "0.0",
         "31.67",
         "0.0",
         "0",
         "0",
         "0",
         "0",
         "eficiente",
         "C",
         "2019-08-01 00:00:00",
         "2019",
         "8",
         "1",
         "3"
        ],
        [
         "483",
         "166391",
         "882478",
         "0.0",
         "25.33",
         "1.0",
         "0",
         "0",
         "1",
         "1",
         "ineficiente bajo",
         "C",
         "2019-08-01 00:00:00",
         "2019",
         "8",
         "1",
         "3"
        ],
        [
         "488",
         "166392",
         "886892",
         "0.0",
         "29.0",
         "0.0",
         "0",
         "0",
         "0",
         "0",
         "eficiente",
         "C",
         "2019-08-01 00:00:00",
         "2019",
         "8",
         "1",
         "3"
        ],
        [
         "489",
         "166392",
         "891900",
         "0.0",
         "37.58",
         "0.0",
         "0",
         "0",
         "0",
         "0",
         "eficiente",
         "C",
         "2019-08-01 00:00:00",
         "2019",
         "8",
         "1",
         "3"
        ],
        [
         "490",
         "166392",
         "891906",
         "0.0",
         "26.6",
         "0.0",
         "0",
         "0",
         "0",
         "0",
         "eficiente",
         "C",
         "2019-08-01 00:00:00",
         "2019",
         "8",
         "1",
         "3"
        ],
        [
         "535",
         "166399",
         "886674",
         "0.0",
         "15.27",
         "0.0",
         "0",
         "0",
         "0",
         "0",
         "eficiente",
         "C",
         "2019-08-01 00:00:00",
         "2019",
         "8",
         "1",
         "3"
        ],
        [
         "544",
         "166405",
         "882684",
         "0.01",
         "15.54",
         "661.0",
         "0",
         "0",
         "0",
         "0",
         "eficiente",
         "B",
         "2019-08-02 00:00:00",
         "2019",
         "8",
         "2",
         "4"
        ],
        [
         "548",
         "166405",
         "882686",
         "0.01",
         "14.71",
         "2884.0",
         "0",
         "0",
         "0",
         "0",
         "eficiente",
         "B",
         "2019-08-02 00:00:00",
         "2019",
         "8",
         "2",
         "4"
        ],
        [
         "651",
         "166405",
         "902510",
         "0.02",
         "33.66",
         "1842.0",
         "0",
         "0",
         "0",
         "0",
         "eficiente",
         "B",
         "2019-08-02 00:00:00",
         "2019",
         "8",
         "2",
         "4"
        ],
        [
         "653",
         "166405",
         "902532",
         "0.0",
         "17.03",
         "867.0",
         "0",
         "0",
         "0",
         "0",
         "eficiente",
         "B",
         "2019-08-02 00:00:00",
         "2019",
         "8",
         "2",
         "4"
        ],
        [
         "836",
         "166405",
         "882688",
         "0.0",
         "44.87",
         "43.0",
         "0",
         "1",
         "0",
         "1",
         "ineficiente bajo",
         "B",
         "2019-08-02 00:00:00",
         "2019",
         "8",
         "2",
         "4"
        ],
        [
         "870",
         "166405",
         "882690",
         "0.01",
         "41.53",
         "1417.0",
         "0",
         "1",
         "0",
         "1",
         "ineficiente bajo",
         "B",
         "2019-08-02 00:00:00",
         "2019",
         "8",
         "2",
         "4"
        ],
        [
         "936",
         "166405",
         "939470",
         "0.0",
         "13.53",
         "729.0",
         "0",
         "0",
         "0",
         "0",
         "eficiente",
         "B",
         "2019-08-02 00:00:00",
         "2019",
         "8",
         "2",
         "4"
        ],
        [
         "950",
         "166405",
         "939474",
         "0.0",
         "14.53",
         "561.0",
         "0",
         "0",
         "0",
         "0",
         "eficiente",
         "B",
         "2019-08-02 00:00:00",
         "2019",
         "8",
         "2",
         "4"
        ],
        [
         "1050",
         "166405",
         "939478",
         "0.05",
         "28.26",
         "105.0",
         "1",
         "0",
         "0",
         "1",
         "ineficiente bajo",
         "B",
         "2019-08-02 00:00:00",
         "2019",
         "8",
         "2",
         "4"
        ],
        [
         "1057",
         "166405",
         "939476",
         "0.02",
         "9.28",
         "716.0",
         "0",
         "0",
         "0",
         "0",
         "eficiente",
         "B",
         "2019-08-02 00:00:00",
         "2019",
         "8",
         "2",
         "4"
        ],
        [
         "1395",
         "166406",
         "879898",
         "0.0",
         "16.24",
         "7209.0",
         "0",
         "0",
         "0",
         "0",
         "eficiente",
         "B",
         "2019-08-02 00:00:00",
         "2019",
         "8",
         "2",
         "4"
        ],
        [
         "1396",
         "166406",
         "879896",
         "0.0",
         "9.9",
         "872.0",
         "0",
         "0",
         "0",
         "0",
         "eficiente",
         "B",
         "2019-08-02 00:00:00",
         "2019",
         "8",
         "2",
         "4"
        ],
        [
         "1400",
         "166406",
         "880240",
         "0.0",
         "0.0",
         "47.0",
         "0",
         "0",
         "0",
         "0",
         "eficiente",
         "B",
         "2019-08-02 00:00:00",
         "2019",
         "8",
         "2",
         "4"
        ],
        [
         "1750",
         "166407",
         "888534",
         "0.03",
         "28.79",
         "315.0",
         "1",
         "0",
         "0",
         "1",
         "ineficiente bajo",
         "A",
         "2019-08-02 00:00:00",
         "2019",
         "8",
         "2",
         "4"
        ],
        [
         "1751",
         "166407",
         "888532",
         "0.17",
         "24.08",
         "188.0",
         "1",
         "0",
         "0",
         "1",
         "ineficiente bajo",
         "A",
         "2019-08-02 00:00:00",
         "2019",
         "8",
         "2",
         "4"
        ],
        [
         "1756",
         "166407",
         "888536",
         "0.0",
         "21.5",
         "52.0",
         "0",
         "0",
         "0",
         "0",
         "eficiente",
         "A",
         "2019-08-02 00:00:00",
         "2019",
         "8",
         "2",
         "4"
        ],
        [
         "1758",
         "166407",
         "907440",
         "0.0",
         "23.83",
         "167.0",
         "0",
         "0",
         "0",
         "0",
         "eficiente",
         "A",
         "2019-08-02 00:00:00",
         "2019",
         "8",
         "2",
         "4"
        ],
        [
         "1759",
         "166407",
         "907442",
         "0.0",
         "0.0",
         "89.0",
         "0",
         "0",
         "0",
         "0",
         "eficiente",
         "A",
         "2019-08-02 00:00:00",
         "2019",
         "8",
         "2",
         "4"
        ],
        [
         "1798",
         "166407",
         "888538",
         "0.0",
         "24.0",
         "5.0",
         "0",
         "0",
         "1",
         "1",
         "ineficiente bajo",
         "A",
         "2019-08-02 00:00:00",
         "2019",
         "8",
         "2",
         "4"
        ],
        [
         "1818",
         "166407",
         "888540",
         "0.0",
         "19.67",
         "14.0",
         "0",
         "0",
         "0",
         "0",
         "eficiente",
         "A",
         "2019-08-02 00:00:00",
         "2019",
         "8",
         "2",
         "4"
        ],
        [
         "2082",
         "166407",
         "960950",
         "0.0",
         "0.0",
         "14.0",
         "0",
         "0",
         "0",
         "0",
         "eficiente",
         "A",
         "2019-08-02 00:00:00",
         "2019",
         "8",
         "2",
         "4"
        ],
        [
         "2159",
         "166428",
         "882680",
         "0.03",
         "16.07",
         "0.0",
         "1",
         "0",
         "0",
         "1",
         "ineficiente bajo",
         "B",
         "2019-08-02 00:00:00",
         "2019",
         "8",
         "2",
         "4"
        ],
        [
         "2186",
         "166428",
         "928202",
         "0.0",
         "14.84",
         "0.0",
         "0",
         "0",
         "0",
         "0",
         "eficiente",
         "B",
         "2019-08-02 00:00:00",
         "2019",
         "8",
         "2",
         "4"
        ],
        [
         "2189",
         "166428",
         "898676",
         "0.0",
         "8.0",
         "0.0",
         "0",
         "0",
         "0",
         "0",
         "eficiente",
         "B",
         "2019-08-02 00:00:00",
         "2019",
         "8",
         "2",
         "4"
        ],
        [
         "2218",
         "166481",
         "884294",
         "0.0",
         "6.0",
         "0.0",
         "0",
         "0",
         "0",
         "0",
         "eficiente",
         "A",
         "2019-08-05 00:00:00",
         "2019",
         "8",
         "5",
         "0"
        ],
        [
         "2219",
         "166482",
         "934076",
         "0.09",
         "28.27",
         "0.0",
         "1",
         "0",
         "0",
         "1",
         "ineficiente bajo",
         "C",
         "2019-08-05 00:00:00",
         "2019",
         "8",
         "5",
         "0"
        ],
        [
         "2221",
         "166482",
         "934074",
         "0.03",
         "14.43",
         "0.0",
         "1",
         "0",
         "0",
         "1",
         "ineficiente bajo",
         "C",
         "2019-08-05 00:00:00",
         "2019",
         "8",
         "5",
         "0"
        ],
        [
         "2245",
         "166485",
         "887280",
         "0.0",
         "0.0",
         "8.0",
         "0",
         "0",
         "1",
         "1",
         "ineficiente bajo",
         "B",
         "2019-08-06 00:00:00",
         "2019",
         "8",
         "6",
         "1"
        ],
        [
         "2251",
         "166485",
         "887276",
         "0.01",
         "28.21",
         "896.0",
         "0",
         "0",
         "0",
         "0",
         "eficiente",
         "B",
         "2019-08-06 00:00:00",
         "2019",
         "8",
         "6",
         "1"
        ],
        [
         "2253",
         "166485",
         "887282",
         "0.0",
         "44.61",
         "2327.0",
         "0",
         "1",
         "0",
         "1",
         "ineficiente bajo",
         "B",
         "2019-08-06 00:00:00",
         "2019",
         "8",
         "6",
         "1"
        ],
        [
         "2306",
         "166485",
         "907174",
         "0.0",
         "61.89",
         "2524.0",
         "0",
         "1",
         "0",
         "1",
         "ineficiente bajo",
         "B",
         "2019-08-06 00:00:00",
         "2019",
         "8",
         "6",
         "1"
        ],
        [
         "2357",
         "166485",
         "887278",
         "0.0",
         "17.29",
         "256.0",
         "0",
         "0",
         "0",
         "0",
         "eficiente",
         "B",
         "2019-08-06 00:00:00",
         "2019",
         "8",
         "6",
         "1"
        ],
        [
         "2538",
         "166485",
         "906866",
         "0.0",
         "0.0",
         "655.0",
         "0",
         "0",
         "0",
         "0",
         "eficiente",
         "B",
         "2019-08-06 00:00:00",
         "2019",
         "8",
         "6",
         "1"
        ],
        [
         "2873",
         "166487",
         "959312",
         "0.02",
         "7.46",
         "145.0",
         "0",
         "0",
         "0",
         "0",
         "eficiente",
         "C",
         "2019-08-06 00:00:00",
         "2019",
         "8",
         "6",
         "1"
        ],
        [
         "2903",
         "166495",
         "883940",
         "0.0",
         "12.67",
         "632.0",
         "0",
         "0",
         "0",
         "0",
         "eficiente",
         "B",
         "2019-08-06 00:00:00",
         "2019",
         "8",
         "6",
         "1"
        ],
        [
         "2904",
         "166495",
         "883942",
         "0.0",
         "7.05",
         "2030.0",
         "0",
         "0",
         "0",
         "0",
         "eficiente",
         "B",
         "2019-08-06 00:00:00",
         "2019",
         "8",
         "6",
         "1"
        ],
        [
         "3088",
         "166503",
         "884412",
         "0.0",
         "41.67",
         "748.0",
         "0",
         "1",
         "0",
         "1",
         "ineficiente bajo",
         "B",
         "2019-08-06 00:00:00",
         "2019",
         "8",
         "6",
         "1"
        ],
        [
         "3091",
         "166503",
         "884408",
         "0.09",
         "26.4",
         "25.0",
         "1",
         "0",
         "0",
         "1",
         "ineficiente bajo",
         "B",
         "2019-08-06 00:00:00",
         "2019",
         "8",
         "6",
         "1"
        ],
        [
         "3141",
         "166503",
         "884402",
         "0.0",
         "0.0",
         "4.0",
         "0",
         "0",
         "1",
         "1",
         "ineficiente bajo",
         "B",
         "2019-08-06 00:00:00",
         "2019",
         "8",
         "6",
         "1"
        ]
       ],
       "shape": {
        "columns": 16,
        "rows": 1092
       }
      },
      "text/html": [
       "<div>\n",
       "<style scoped>\n",
       "    .dataframe tbody tr th:only-of-type {\n",
       "        vertical-align: middle;\n",
       "    }\n",
       "\n",
       "    .dataframe tbody tr th {\n",
       "        vertical-align: top;\n",
       "    }\n",
       "\n",
       "    .dataframe thead th {\n",
       "        text-align: right;\n",
       "    }\n",
       "</style>\n",
       "<table border=\"1\" class=\"dataframe\">\n",
       "  <thead>\n",
       "    <tr style=\"text-align: right;\">\n",
       "      <th></th>\n",
       "      <th>user_id</th>\n",
       "      <th>operator_id</th>\n",
       "      <th>missed_call_ratio</th>\n",
       "      <th>avg_wait_time_per_call</th>\n",
       "      <th>outgoing_calls_count</th>\n",
       "      <th>inefficient_missed_call</th>\n",
       "      <th>inefficient_wait_time</th>\n",
       "      <th>inefficient_outgoing_volume</th>\n",
       "      <th>inefficiency_level</th>\n",
       "      <th>inefficiency_class</th>\n",
       "      <th>tariff_plan</th>\n",
       "      <th>date_start</th>\n",
       "      <th>year_start</th>\n",
       "      <th>month_start</th>\n",
       "      <th>day_start</th>\n",
       "      <th>day_of_week_start</th>\n",
       "    </tr>\n",
       "  </thead>\n",
       "  <tbody>\n",
       "    <tr>\n",
       "      <th>0</th>\n",
       "      <td>166377</td>\n",
       "      <td>880022</td>\n",
       "      <td>0.00</td>\n",
       "      <td>14.00</td>\n",
       "      <td>189.0</td>\n",
       "      <td>0</td>\n",
       "      <td>0</td>\n",
       "      <td>0</td>\n",
       "      <td>0</td>\n",
       "      <td>eficiente</td>\n",
       "      <td>B</td>\n",
       "      <td>2019-08-01</td>\n",
       "      <td>2019</td>\n",
       "      <td>8</td>\n",
       "      <td>1</td>\n",
       "      <td>3</td>\n",
       "    </tr>\n",
       "    <tr>\n",
       "      <th>1</th>\n",
       "      <td>166377</td>\n",
       "      <td>880020</td>\n",
       "      <td>0.00</td>\n",
       "      <td>7.71</td>\n",
       "      <td>38.0</td>\n",
       "      <td>0</td>\n",
       "      <td>0</td>\n",
       "      <td>0</td>\n",
       "      <td>0</td>\n",
       "      <td>eficiente</td>\n",
       "      <td>B</td>\n",
       "      <td>2019-08-01</td>\n",
       "      <td>2019</td>\n",
       "      <td>8</td>\n",
       "      <td>1</td>\n",
       "      <td>3</td>\n",
       "    </tr>\n",
       "    <tr>\n",
       "      <th>6</th>\n",
       "      <td>166377</td>\n",
       "      <td>881278</td>\n",
       "      <td>0.00</td>\n",
       "      <td>0.00</td>\n",
       "      <td>20.0</td>\n",
       "      <td>0</td>\n",
       "      <td>0</td>\n",
       "      <td>0</td>\n",
       "      <td>0</td>\n",
       "      <td>eficiente</td>\n",
       "      <td>B</td>\n",
       "      <td>2019-08-01</td>\n",
       "      <td>2019</td>\n",
       "      <td>8</td>\n",
       "      <td>1</td>\n",
       "      <td>3</td>\n",
       "    </tr>\n",
       "    <tr>\n",
       "      <th>10</th>\n",
       "      <td>166377</td>\n",
       "      <td>880028</td>\n",
       "      <td>0.00</td>\n",
       "      <td>5.44</td>\n",
       "      <td>2497.0</td>\n",
       "      <td>0</td>\n",
       "      <td>0</td>\n",
       "      <td>0</td>\n",
       "      <td>0</td>\n",
       "      <td>eficiente</td>\n",
       "      <td>B</td>\n",
       "      <td>2019-08-01</td>\n",
       "      <td>2019</td>\n",
       "      <td>8</td>\n",
       "      <td>1</td>\n",
       "      <td>3</td>\n",
       "    </tr>\n",
       "    <tr>\n",
       "      <th>11</th>\n",
       "      <td>166377</td>\n",
       "      <td>880026</td>\n",
       "      <td>0.00</td>\n",
       "      <td>5.96</td>\n",
       "      <td>2208.0</td>\n",
       "      <td>0</td>\n",
       "      <td>0</td>\n",
       "      <td>0</td>\n",
       "      <td>0</td>\n",
       "      <td>eficiente</td>\n",
       "      <td>B</td>\n",
       "      <td>2019-08-01</td>\n",
       "      <td>2019</td>\n",
       "      <td>8</td>\n",
       "      <td>1</td>\n",
       "      <td>3</td>\n",
       "    </tr>\n",
       "    <tr>\n",
       "      <th>...</th>\n",
       "      <td>...</td>\n",
       "      <td>...</td>\n",
       "      <td>...</td>\n",
       "      <td>...</td>\n",
       "      <td>...</td>\n",
       "      <td>...</td>\n",
       "      <td>...</td>\n",
       "      <td>...</td>\n",
       "      <td>...</td>\n",
       "      <td>...</td>\n",
       "      <td>...</td>\n",
       "      <td>...</td>\n",
       "      <td>...</td>\n",
       "      <td>...</td>\n",
       "      <td>...</td>\n",
       "      <td>...</td>\n",
       "    </tr>\n",
       "    <tr>\n",
       "      <th>41413</th>\n",
       "      <td>168598</td>\n",
       "      <td>958394</td>\n",
       "      <td>0.00</td>\n",
       "      <td>7.19</td>\n",
       "      <td>0.0</td>\n",
       "      <td>0</td>\n",
       "      <td>0</td>\n",
       "      <td>0</td>\n",
       "      <td>0</td>\n",
       "      <td>eficiente</td>\n",
       "      <td>C</td>\n",
       "      <td>2019-10-31</td>\n",
       "      <td>2019</td>\n",
       "      <td>10</td>\n",
       "      <td>31</td>\n",
       "      <td>3</td>\n",
       "    </tr>\n",
       "    <tr>\n",
       "      <th>41422</th>\n",
       "      <td>168601</td>\n",
       "      <td>952914</td>\n",
       "      <td>0.00</td>\n",
       "      <td>7.47</td>\n",
       "      <td>580.0</td>\n",
       "      <td>0</td>\n",
       "      <td>0</td>\n",
       "      <td>0</td>\n",
       "      <td>0</td>\n",
       "      <td>eficiente</td>\n",
       "      <td>C</td>\n",
       "      <td>2019-10-31</td>\n",
       "      <td>2019</td>\n",
       "      <td>10</td>\n",
       "      <td>31</td>\n",
       "      <td>3</td>\n",
       "    </tr>\n",
       "    <tr>\n",
       "      <th>41425</th>\n",
       "      <td>168601</td>\n",
       "      <td>952916</td>\n",
       "      <td>0.00</td>\n",
       "      <td>25.00</td>\n",
       "      <td>7.0</td>\n",
       "      <td>0</td>\n",
       "      <td>0</td>\n",
       "      <td>1</td>\n",
       "      <td>1</td>\n",
       "      <td>ineficiente bajo</td>\n",
       "      <td>C</td>\n",
       "      <td>2019-10-31</td>\n",
       "      <td>2019</td>\n",
       "      <td>10</td>\n",
       "      <td>31</td>\n",
       "      <td>3</td>\n",
       "    </tr>\n",
       "    <tr>\n",
       "      <th>41476</th>\n",
       "      <td>168603</td>\n",
       "      <td>959118</td>\n",
       "      <td>0.00</td>\n",
       "      <td>0.00</td>\n",
       "      <td>14.0</td>\n",
       "      <td>0</td>\n",
       "      <td>0</td>\n",
       "      <td>0</td>\n",
       "      <td>0</td>\n",
       "      <td>eficiente</td>\n",
       "      <td>B</td>\n",
       "      <td>2019-10-31</td>\n",
       "      <td>2019</td>\n",
       "      <td>10</td>\n",
       "      <td>31</td>\n",
       "      <td>3</td>\n",
       "    </tr>\n",
       "    <tr>\n",
       "      <th>41482</th>\n",
       "      <td>168606</td>\n",
       "      <td>957922</td>\n",
       "      <td>0.33</td>\n",
       "      <td>8.67</td>\n",
       "      <td>16.0</td>\n",
       "      <td>1</td>\n",
       "      <td>0</td>\n",
       "      <td>0</td>\n",
       "      <td>1</td>\n",
       "      <td>ineficiente bajo</td>\n",
       "      <td>C</td>\n",
       "      <td>2019-10-31</td>\n",
       "      <td>2019</td>\n",
       "      <td>10</td>\n",
       "      <td>31</td>\n",
       "      <td>3</td>\n",
       "    </tr>\n",
       "  </tbody>\n",
       "</table>\n",
       "<p>1092 rows × 16 columns</p>\n",
       "</div>"
      ],
      "text/plain": [
       "       user_id  operator_id  missed_call_ratio  avg_wait_time_per_call  \\\n",
       "0       166377       880022               0.00                   14.00   \n",
       "1       166377       880020               0.00                    7.71   \n",
       "6       166377       881278               0.00                    0.00   \n",
       "10      166377       880028               0.00                    5.44   \n",
       "11      166377       880026               0.00                    5.96   \n",
       "...        ...          ...                ...                     ...   \n",
       "41413   168598       958394               0.00                    7.19   \n",
       "41422   168601       952914               0.00                    7.47   \n",
       "41425   168601       952916               0.00                   25.00   \n",
       "41476   168603       959118               0.00                    0.00   \n",
       "41482   168606       957922               0.33                    8.67   \n",
       "\n",
       "       outgoing_calls_count  inefficient_missed_call  inefficient_wait_time  \\\n",
       "0                     189.0                        0                      0   \n",
       "1                      38.0                        0                      0   \n",
       "6                      20.0                        0                      0   \n",
       "10                   2497.0                        0                      0   \n",
       "11                   2208.0                        0                      0   \n",
       "...                     ...                      ...                    ...   \n",
       "41413                   0.0                        0                      0   \n",
       "41422                 580.0                        0                      0   \n",
       "41425                   7.0                        0                      0   \n",
       "41476                  14.0                        0                      0   \n",
       "41482                  16.0                        1                      0   \n",
       "\n",
       "       inefficient_outgoing_volume  inefficiency_level inefficiency_class  \\\n",
       "0                                0                   0          eficiente   \n",
       "1                                0                   0          eficiente   \n",
       "6                                0                   0          eficiente   \n",
       "10                               0                   0          eficiente   \n",
       "11                               0                   0          eficiente   \n",
       "...                            ...                 ...                ...   \n",
       "41413                            0                   0          eficiente   \n",
       "41422                            0                   0          eficiente   \n",
       "41425                            1                   1   ineficiente bajo   \n",
       "41476                            0                   0          eficiente   \n",
       "41482                            0                   1   ineficiente bajo   \n",
       "\n",
       "      tariff_plan date_start  year_start  month_start  day_start  \\\n",
       "0               B 2019-08-01        2019            8          1   \n",
       "1               B 2019-08-01        2019            8          1   \n",
       "6               B 2019-08-01        2019            8          1   \n",
       "10              B 2019-08-01        2019            8          1   \n",
       "11              B 2019-08-01        2019            8          1   \n",
       "...           ...        ...         ...          ...        ...   \n",
       "41413           C 2019-10-31        2019           10         31   \n",
       "41422           C 2019-10-31        2019           10         31   \n",
       "41425           C 2019-10-31        2019           10         31   \n",
       "41476           B 2019-10-31        2019           10         31   \n",
       "41482           C 2019-10-31        2019           10         31   \n",
       "\n",
       "       day_of_week_start  \n",
       "0                      3  \n",
       "1                      3  \n",
       "6                      3  \n",
       "10                     3  \n",
       "11                     3  \n",
       "...                  ...  \n",
       "41413                  3  \n",
       "41422                  3  \n",
       "41425                  3  \n",
       "41476                  3  \n",
       "41482                  3  \n",
       "\n",
       "[1092 rows x 16 columns]"
      ]
     },
     "execution_count": 191,
     "metadata": {},
     "output_type": "execute_result"
    }
   ],
   "source": [
    "operator_metrics_clients_merged"
   ]
  },
  {
   "cell_type": "code",
   "execution_count": 192,
   "id": "fbf6d9f5",
   "metadata": {},
   "outputs": [
    {
     "data": {
      "image/png": "[encoded data removed]",
      "text/plain": [
       "<Figure size 1000x800 with 2 Axes>"
      ]
     },
     "metadata": {},
     "output_type": "display_data"
    }
   ],
   "source": [
    "# Matriz de correlación\n",
    "quant_cols = ['missed_call_ratio', 'avg_wait_time_per_call', 'outgoing_calls_count']\n",
    "\n",
    "cm = operator_metrics[quant_cols].corr() \n",
    "\n",
    "plt.figure(figsize = (10, 8))\n",
    "plt.title(\"Matriz de relación entre características numéricas\")\n",
    "sns.heatmap(cm, \n",
    "            annot=True, \n",
    "            fmt=\".2f\", \n",
    "            cmap=\"coolwarm\", \n",
    "            square=True, \n",
    "            linewidths=1, \n",
    "            linecolor='white')\n",
    "plt.show()"
   ]
  },
  {
   "cell_type": "code",
   "execution_count": 193,
   "id": "7696e70c",
   "metadata": {},
   "outputs": [
    {
     "data": {
      "image/png": "[encoded data removed]",
      "text/plain": [
       "<Figure size 1500x400 with 6 Axes>"
      ]
     },
     "metadata": {},
     "output_type": "display_data"
    }
   ],
   "source": [
    "cat_cols = ['inefficient_missed_call', 'inefficient_wait_time', 'inefficient_outgoing_volume',]\n",
    "\n",
    "cont_tables = []\n",
    "for col in cat_cols:\n",
    "    cont_table = pd.crosstab(index=operator_metrics[col], columns=operator_metrics['inefficiency_level'], normalize='index')\n",
    "    cont_tables.append(cont_table)\n",
    "\n",
    "# Graficamos las tablas de contingencia\n",
    "fig, axs = plt.subplots(nrows=1, ncols=3, figsize=(15,4))\n",
    "for i, ax in enumerate(axs.flat):\n",
    "    if i < len(cont_tables):\n",
    "        sns.heatmap(cont_tables[i], annot=True, fmt=\".2f\", cmap=\"coolwarm\", square=True, linewidths=1, linecolor='white', ax=ax)\n",
    "        ax.set_title(f'{cat_cols[i]}', fontsize=14)\n",
    "    else:\n",
    "        ax.axis('off')\n",
    "\n",
    "plt.suptitle('Tablas de contingencia de variables cualitativas', fontsize=16)\n",
    "plt.subplots_adjust(top=0.88)\n",
    "plt.show()"
   ]
  },
  {
   "cell_type": "markdown",
   "id": "9671c857",
   "metadata": {},
   "source": [
    "### **Modelo de Regresión Logística**"
   ]
  },
  {
   "cell_type": "code",
   "execution_count": 194,
   "id": "a83ff304",
   "metadata": {},
   "outputs": [],
   "source": [
    "# Creamos una copia del df por seguridad para usarla en el modelo\n",
    "df_model = operator_metrics_clients_merged.copy()"
   ]
  },
  {
   "cell_type": "code",
   "execution_count": 195,
   "id": "9514c998",
   "metadata": {},
   "outputs": [],
   "source": [
    "# Variables que vamos a eliminar por redundancia o por tipo de dato\n",
    "columns_to_drop = [\n",
    "    'user_id',\n",
    "    'operator_id',\n",
    "    'inefficient_missed_call',\n",
    "    'inefficient_wait_time',\n",
    "    'inefficient_outgoing_volume',\n",
    "    'inefficiency_class',\n",
    "    'date_start',\n",
    "    'year_start',\n",
    "    'day_start'\n",
    "]\n",
    "\n",
    "df_model.drop(columns=columns_to_drop, inplace=True)"
   ]
  },
  {
   "cell_type": "code",
   "execution_count": 196,
   "id": "dafed268",
   "metadata": {},
   "outputs": [
    {
     "data": {
      "application/vnd.microsoft.datawrangler.viewer.v0+json": {
       "columns": [
        {
         "name": "index",
         "rawType": "int64",
         "type": "integer"
        },
        {
         "name": "missed_call_ratio",
         "rawType": "float64",
         "type": "float"
        },
        {
         "name": "avg_wait_time_per_call",
         "rawType": "float64",
         "type": "float"
        },
        {
         "name": "outgoing_calls_count",
         "rawType": "float64",
         "type": "float"
        },
        {
         "name": "inefficiency_level",
         "rawType": "int64",
         "type": "integer"
        },
        {
         "name": "tariff_plan_B",
         "rawType": "bool",
         "type": "boolean"
        },
        {
         "name": "tariff_plan_C",
         "rawType": "bool",
         "type": "boolean"
        },
        {
         "name": "month_start_9",
         "rawType": "bool",
         "type": "boolean"
        },
        {
         "name": "month_start_10",
         "rawType": "bool",
         "type": "boolean"
        },
        {
         "name": "day_of_week_start_1",
         "rawType": "bool",
         "type": "boolean"
        },
        {
         "name": "day_of_week_start_2",
         "rawType": "bool",
         "type": "boolean"
        },
        {
         "name": "day_of_week_start_3",
         "rawType": "bool",
         "type": "boolean"
        },
        {
         "name": "day_of_week_start_4",
         "rawType": "bool",
         "type": "boolean"
        },
        {
         "name": "day_of_week_start_5",
         "rawType": "bool",
         "type": "boolean"
        }
       ],
       "conversionMethod": "pd.DataFrame",
       "ref": "3ed6f57b-762e-4dd3-9bc6-22aa38ff4559",
       "rows": [
        [
         "0",
         "0.0",
         "14.0",
         "189.0",
         "0",
         "True",
         "False",
         "False",
         "False",
         "False",
         "False",
         "True",
         "False",
         "False"
        ],
        [
         "1",
         "0.0",
         "7.71",
         "38.0",
         "0",
         "True",
         "False",
         "False",
         "False",
         "False",
         "False",
         "True",
         "False",
         "False"
        ],
        [
         "6",
         "0.0",
         "0.0",
         "20.0",
         "0",
         "True",
         "False",
         "False",
         "False",
         "False",
         "False",
         "True",
         "False",
         "False"
        ],
        [
         "10",
         "0.0",
         "5.44",
         "2497.0",
         "0",
         "True",
         "False",
         "False",
         "False",
         "False",
         "False",
         "True",
         "False",
         "False"
        ],
        [
         "11",
         "0.0",
         "5.96",
         "2208.0",
         "0",
         "True",
         "False",
         "False",
         "False",
         "False",
         "False",
         "True",
         "False",
         "False"
        ],
        [
         "482",
         "0.0",
         "31.67",
         "0.0",
         "0",
         "False",
         "True",
         "False",
         "False",
         "False",
         "False",
         "True",
         "False",
         "False"
        ],
        [
         "483",
         "0.0",
         "25.33",
         "1.0",
         "1",
         "False",
         "True",
         "False",
         "False",
         "False",
         "False",
         "True",
         "False",
         "False"
        ],
        [
         "488",
         "0.0",
         "29.0",
         "0.0",
         "0",
         "False",
         "True",
         "False",
         "False",
         "False",
         "False",
         "True",
         "False",
         "False"
        ],
        [
         "489",
         "0.0",
         "37.58",
         "0.0",
         "0",
         "False",
         "True",
         "False",
         "False",
         "False",
         "False",
         "True",
         "False",
         "False"
        ],
        [
         "490",
         "0.0",
         "26.6",
         "0.0",
         "0",
         "False",
         "True",
         "False",
         "False",
         "False",
         "False",
         "True",
         "False",
         "False"
        ],
        [
         "535",
         "0.0",
         "15.27",
         "0.0",
         "0",
         "False",
         "True",
         "False",
         "False",
         "False",
         "False",
         "True",
         "False",
         "False"
        ],
        [
         "544",
         "0.01",
         "15.54",
         "661.0",
         "0",
         "True",
         "False",
         "False",
         "False",
         "False",
         "False",
         "False",
         "True",
         "False"
        ],
        [
         "548",
         "0.01",
         "14.71",
         "2884.0",
         "0",
         "True",
         "False",
         "False",
         "False",
         "False",
         "False",
         "False",
         "True",
         "False"
        ],
        [
         "651",
         "0.02",
         "33.66",
         "1842.0",
         "0",
         "True",
         "False",
         "False",
         "False",
         "False",
         "False",
         "False",
         "True",
         "False"
        ],
        [
         "653",
         "0.0",
         "17.03",
         "867.0",
         "0",
         "True",
         "False",
         "False",
         "False",
         "False",
         "False",
         "False",
         "True",
         "False"
        ],
        [
         "836",
         "0.0",
         "44.87",
         "43.0",
         "1",
         "True",
         "False",
         "False",
         "False",
         "False",
         "False",
         "False",
         "True",
         "False"
        ],
        [
         "870",
         "0.01",
         "41.53",
         "1417.0",
         "1",
         "True",
         "False",
         "False",
         "False",
         "False",
         "False",
         "False",
         "True",
         "False"
        ],
        [
         "936",
         "0.0",
         "13.53",
         "729.0",
         "0",
         "True",
         "False",
         "False",
         "False",
         "False",
         "False",
         "False",
         "True",
         "False"
        ],
        [
         "950",
         "0.0",
         "14.53",
         "561.0",
         "0",
         "True",
         "False",
         "False",
         "False",
         "False",
         "False",
         "False",
         "True",
         "False"
        ],
        [
         "1050",
         "0.05",
         "28.26",
         "105.0",
         "1",
         "True",
         "False",
         "False",
         "False",
         "False",
         "False",
         "False",
         "True",
         "False"
        ],
        [
         "1057",
         "0.02",
         "9.28",
         "716.0",
         "0",
         "True",
         "False",
         "False",
         "False",
         "False",
         "False",
         "False",
         "True",
         "False"
        ],
        [
         "1395",
         "0.0",
         "16.24",
         "7209.0",
         "0",
         "True",
         "False",
         "False",
         "False",
         "False",
         "False",
         "False",
         "True",
         "False"
        ],
        [
         "1396",
         "0.0",
         "9.9",
         "872.0",
         "0",
         "True",
         "False",
         "False",
         "False",
         "False",
         "False",
         "False",
         "True",
         "False"
        ],
        [
         "1400",
         "0.0",
         "0.0",
         "47.0",
         "0",
         "True",
         "False",
         "False",
         "False",
         "False",
         "False",
         "False",
         "True",
         "False"
        ],
        [
         "1750",
         "0.03",
         "28.79",
         "315.0",
         "1",
         "False",
         "False",
         "False",
         "False",
         "False",
         "False",
         "False",
         "True",
         "False"
        ],
        [
         "1751",
         "0.17",
         "24.08",
         "188.0",
         "1",
         "False",
         "False",
         "False",
         "False",
         "False",
         "False",
         "False",
         "True",
         "False"
        ],
        [
         "1756",
         "0.0",
         "21.5",
         "52.0",
         "0",
         "False",
         "False",
         "False",
         "False",
         "False",
         "False",
         "False",
         "True",
         "False"
        ],
        [
         "1758",
         "0.0",
         "23.83",
         "167.0",
         "0",
         "False",
         "False",
         "False",
         "False",
         "False",
         "False",
         "False",
         "True",
         "False"
        ],
        [
         "1759",
         "0.0",
         "0.0",
         "89.0",
         "0",
         "False",
         "False",
         "False",
         "False",
         "False",
         "False",
         "False",
         "True",
         "False"
        ],
        [
         "1798",
         "0.0",
         "24.0",
         "5.0",
         "1",
         "False",
         "False",
         "False",
         "False",
         "False",
         "False",
         "False",
         "True",
         "False"
        ],
        [
         "1818",
         "0.0",
         "19.67",
         "14.0",
         "0",
         "False",
         "False",
         "False",
         "False",
         "False",
         "False",
         "False",
         "True",
         "False"
        ],
        [
         "2082",
         "0.0",
         "0.0",
         "14.0",
         "0",
         "False",
         "False",
         "False",
         "False",
         "False",
         "False",
         "False",
         "True",
         "False"
        ],
        [
         "2159",
         "0.03",
         "16.07",
         "0.0",
         "1",
         "True",
         "False",
         "False",
         "False",
         "False",
         "False",
         "False",
         "True",
         "False"
        ],
        [
         "2186",
         "0.0",
         "14.84",
         "0.0",
         "0",
         "True",
         "False",
         "False",
         "False",
         "False",
         "False",
         "False",
         "True",
         "False"
        ],
        [
         "2189",
         "0.0",
         "8.0",
         "0.0",
         "0",
         "True",
         "False",
         "False",
         "False",
         "False",
         "False",
         "False",
         "True",
         "False"
        ],
        [
         "2218",
         "0.0",
         "6.0",
         "0.0",
         "0",
         "False",
         "False",
         "False",
         "False",
         "False",
         "False",
         "False",
         "False",
         "False"
        ],
        [
         "2219",
         "0.09",
         "28.27",
         "0.0",
         "1",
         "False",
         "True",
         "False",
         "False",
         "False",
         "False",
         "False",
         "False",
         "False"
        ],
        [
         "2221",
         "0.03",
         "14.43",
         "0.0",
         "1",
         "False",
         "True",
         "False",
         "False",
         "False",
         "False",
         "False",
         "False",
         "False"
        ],
        [
         "2245",
         "0.0",
         "0.0",
         "8.0",
         "1",
         "True",
         "False",
         "False",
         "False",
         "True",
         "False",
         "False",
         "False",
         "False"
        ],
        [
         "2251",
         "0.01",
         "28.21",
         "896.0",
         "0",
         "True",
         "False",
         "False",
         "False",
         "True",
         "False",
         "False",
         "False",
         "False"
        ],
        [
         "2253",
         "0.0",
         "44.61",
         "2327.0",
         "1",
         "True",
         "False",
         "False",
         "False",
         "True",
         "False",
         "False",
         "False",
         "False"
        ],
        [
         "2306",
         "0.0",
         "61.89",
         "2524.0",
         "1",
         "True",
         "False",
         "False",
         "False",
         "True",
         "False",
         "False",
         "False",
         "False"
        ],
        [
         "2357",
         "0.0",
         "17.29",
         "256.0",
         "0",
         "True",
         "False",
         "False",
         "False",
         "True",
         "False",
         "False",
         "False",
         "False"
        ],
        [
         "2538",
         "0.0",
         "0.0",
         "655.0",
         "0",
         "True",
         "False",
         "False",
         "False",
         "True",
         "False",
         "False",
         "False",
         "False"
        ],
        [
         "2873",
         "0.02",
         "7.46",
         "145.0",
         "0",
         "False",
         "True",
         "False",
         "False",
         "True",
         "False",
         "False",
         "False",
         "False"
        ],
        [
         "2903",
         "0.0",
         "12.67",
         "632.0",
         "0",
         "True",
         "False",
         "False",
         "False",
         "True",
         "False",
         "False",
         "False",
         "False"
        ],
        [
         "2904",
         "0.0",
         "7.05",
         "2030.0",
         "0",
         "True",
         "False",
         "False",
         "False",
         "True",
         "False",
         "False",
         "False",
         "False"
        ],
        [
         "3088",
         "0.0",
         "41.67",
         "748.0",
         "1",
         "True",
         "False",
         "False",
         "False",
         "True",
         "False",
         "False",
         "False",
         "False"
        ],
        [
         "3091",
         "0.09",
         "26.4",
         "25.0",
         "1",
         "True",
         "False",
         "False",
         "False",
         "True",
         "False",
         "False",
         "False",
         "False"
        ],
        [
         "3141",
         "0.0",
         "0.0",
         "4.0",
         "1",
         "True",
         "False",
         "False",
         "False",
         "True",
         "False",
         "False",
         "False",
         "False"
        ]
       ],
       "shape": {
        "columns": 13,
        "rows": 1092
       }
      },
      "text/html": [
       "<div>\n",
       "<style scoped>\n",
       "    .dataframe tbody tr th:only-of-type {\n",
       "        vertical-align: middle;\n",
       "    }\n",
       "\n",
       "    .dataframe tbody tr th {\n",
       "        vertical-align: top;\n",
       "    }\n",
       "\n",
       "    .dataframe thead th {\n",
       "        text-align: right;\n",
       "    }\n",
       "</style>\n",
       "<table border=\"1\" class=\"dataframe\">\n",
       "  <thead>\n",
       "    <tr style=\"text-align: right;\">\n",
       "      <th></th>\n",
       "      <th>missed_call_ratio</th>\n",
       "      <th>avg_wait_time_per_call</th>\n",
       "      <th>outgoing_calls_count</th>\n",
       "      <th>inefficiency_level</th>\n",
       "      <th>tariff_plan_B</th>\n",
       "      <th>tariff_plan_C</th>\n",
       "      <th>month_start_9</th>\n",
       "      <th>month_start_10</th>\n",
       "      <th>day_of_week_start_1</th>\n",
       "      <th>day_of_week_start_2</th>\n",
       "      <th>day_of_week_start_3</th>\n",
       "      <th>day_of_week_start_4</th>\n",
       "      <th>day_of_week_start_5</th>\n",
       "    </tr>\n",
       "  </thead>\n",
       "  <tbody>\n",
       "    <tr>\n",
       "      <th>0</th>\n",
       "      <td>0.00</td>\n",
       "      <td>14.00</td>\n",
       "      <td>189.0</td>\n",
       "      <td>0</td>\n",
       "      <td>True</td>\n",
       "      <td>False</td>\n",
       "      <td>False</td>\n",
       "      <td>False</td>\n",
       "      <td>False</td>\n",
       "      <td>False</td>\n",
       "      <td>True</td>\n",
       "      <td>False</td>\n",
       "      <td>False</td>\n",
       "    </tr>\n",
       "    <tr>\n",
       "      <th>1</th>\n",
       "      <td>0.00</td>\n",
       "      <td>7.71</td>\n",
       "      <td>38.0</td>\n",
       "      <td>0</td>\n",
       "      <td>True</td>\n",
       "      <td>False</td>\n",
       "      <td>False</td>\n",
       "      <td>False</td>\n",
       "      <td>False</td>\n",
       "      <td>False</td>\n",
       "      <td>True</td>\n",
       "      <td>False</td>\n",
       "      <td>False</td>\n",
       "    </tr>\n",
       "    <tr>\n",
       "      <th>6</th>\n",
       "      <td>0.00</td>\n",
       "      <td>0.00</td>\n",
       "      <td>20.0</td>\n",
       "      <td>0</td>\n",
       "      <td>True</td>\n",
       "      <td>False</td>\n",
       "      <td>False</td>\n",
       "      <td>False</td>\n",
       "      <td>False</td>\n",
       "      <td>False</td>\n",
       "      <td>True</td>\n",
       "      <td>False</td>\n",
       "      <td>False</td>\n",
       "    </tr>\n",
       "    <tr>\n",
       "      <th>10</th>\n",
       "      <td>0.00</td>\n",
       "      <td>5.44</td>\n",
       "      <td>2497.0</td>\n",
       "      <td>0</td>\n",
       "      <td>True</td>\n",
       "      <td>False</td>\n",
       "      <td>False</td>\n",
       "      <td>False</td>\n",
       "      <td>False</td>\n",
       "      <td>False</td>\n",
       "      <td>True</td>\n",
       "      <td>False</td>\n",
       "      <td>False</td>\n",
       "    </tr>\n",
       "    <tr>\n",
       "      <th>11</th>\n",
       "      <td>0.00</td>\n",
       "      <td>5.96</td>\n",
       "      <td>2208.0</td>\n",
       "      <td>0</td>\n",
       "      <td>True</td>\n",
       "      <td>False</td>\n",
       "      <td>False</td>\n",
       "      <td>False</td>\n",
       "      <td>False</td>\n",
       "      <td>False</td>\n",
       "      <td>True</td>\n",
       "      <td>False</td>\n",
       "      <td>False</td>\n",
       "    </tr>\n",
       "    <tr>\n",
       "      <th>...</th>\n",
       "      <td>...</td>\n",
       "      <td>...</td>\n",
       "      <td>...</td>\n",
       "      <td>...</td>\n",
       "      <td>...</td>\n",
       "      <td>...</td>\n",
       "      <td>...</td>\n",
       "      <td>...</td>\n",
       "      <td>...</td>\n",
       "      <td>...</td>\n",
       "      <td>...</td>\n",
       "      <td>...</td>\n",
       "      <td>...</td>\n",
       "    </tr>\n",
       "    <tr>\n",
       "      <th>41413</th>\n",
       "      <td>0.00</td>\n",
       "      <td>7.19</td>\n",
       "      <td>0.0</td>\n",
       "      <td>0</td>\n",
       "      <td>False</td>\n",
       "      <td>True</td>\n",
       "      <td>False</td>\n",
       "      <td>True</td>\n",
       "      <td>False</td>\n",
       "      <td>False</td>\n",
       "      <td>True</td>\n",
       "      <td>False</td>\n",
       "      <td>False</td>\n",
       "    </tr>\n",
       "    <tr>\n",
       "      <th>41422</th>\n",
       "      <td>0.00</td>\n",
       "      <td>7.47</td>\n",
       "      <td>580.0</td>\n",
       "      <td>0</td>\n",
       "      <td>False</td>\n",
       "      <td>True</td>\n",
       "      <td>False</td>\n",
       "      <td>True</td>\n",
       "      <td>False</td>\n",
       "      <td>False</td>\n",
       "      <td>True</td>\n",
       "      <td>False</td>\n",
       "      <td>False</td>\n",
       "    </tr>\n",
       "    <tr>\n",
       "      <th>41425</th>\n",
       "      <td>0.00</td>\n",
       "      <td>25.00</td>\n",
       "      <td>7.0</td>\n",
       "      <td>1</td>\n",
       "      <td>False</td>\n",
       "      <td>True</td>\n",
       "      <td>False</td>\n",
       "      <td>True</td>\n",
       "      <td>False</td>\n",
       "      <td>False</td>\n",
       "      <td>True</td>\n",
       "      <td>False</td>\n",
       "      <td>False</td>\n",
       "    </tr>\n",
       "    <tr>\n",
       "      <th>41476</th>\n",
       "      <td>0.00</td>\n",
       "      <td>0.00</td>\n",
       "      <td>14.0</td>\n",
       "      <td>0</td>\n",
       "      <td>True</td>\n",
       "      <td>False</td>\n",
       "      <td>False</td>\n",
       "      <td>True</td>\n",
       "      <td>False</td>\n",
       "      <td>False</td>\n",
       "      <td>True</td>\n",
       "      <td>False</td>\n",
       "      <td>False</td>\n",
       "    </tr>\n",
       "    <tr>\n",
       "      <th>41482</th>\n",
       "      <td>0.33</td>\n",
       "      <td>8.67</td>\n",
       "      <td>16.0</td>\n",
       "      <td>1</td>\n",
       "      <td>False</td>\n",
       "      <td>True</td>\n",
       "      <td>False</td>\n",
       "      <td>True</td>\n",
       "      <td>False</td>\n",
       "      <td>False</td>\n",
       "      <td>True</td>\n",
       "      <td>False</td>\n",
       "      <td>False</td>\n",
       "    </tr>\n",
       "  </tbody>\n",
       "</table>\n",
       "<p>1092 rows × 13 columns</p>\n",
       "</div>"
      ],
      "text/plain": [
       "       missed_call_ratio  avg_wait_time_per_call  outgoing_calls_count  \\\n",
       "0                   0.00                   14.00                 189.0   \n",
       "1                   0.00                    7.71                  38.0   \n",
       "6                   0.00                    0.00                  20.0   \n",
       "10                  0.00                    5.44                2497.0   \n",
       "11                  0.00                    5.96                2208.0   \n",
       "...                  ...                     ...                   ...   \n",
       "41413               0.00                    7.19                   0.0   \n",
       "41422               0.00                    7.47                 580.0   \n",
       "41425               0.00                   25.00                   7.0   \n",
       "41476               0.00                    0.00                  14.0   \n",
       "41482               0.33                    8.67                  16.0   \n",
       "\n",
       "       inefficiency_level  tariff_plan_B  tariff_plan_C  month_start_9  \\\n",
       "0                       0           True          False          False   \n",
       "1                       0           True          False          False   \n",
       "6                       0           True          False          False   \n",
       "10                      0           True          False          False   \n",
       "11                      0           True          False          False   \n",
       "...                   ...            ...            ...            ...   \n",
       "41413                   0          False           True          False   \n",
       "41422                   0          False           True          False   \n",
       "41425                   1          False           True          False   \n",
       "41476                   0           True          False          False   \n",
       "41482                   1          False           True          False   \n",
       "\n",
       "       month_start_10  day_of_week_start_1  day_of_week_start_2  \\\n",
       "0               False                False                False   \n",
       "1               False                False                False   \n",
       "6               False                False                False   \n",
       "10              False                False                False   \n",
       "11              False                False                False   \n",
       "...               ...                  ...                  ...   \n",
       "41413            True                False                False   \n",
       "41422            True                False                False   \n",
       "41425            True                False                False   \n",
       "41476            True                False                False   \n",
       "41482            True                False                False   \n",
       "\n",
       "       day_of_week_start_3  day_of_week_start_4  day_of_week_start_5  \n",
       "0                     True                False                False  \n",
       "1                     True                False                False  \n",
       "6                     True                False                False  \n",
       "10                    True                False                False  \n",
       "11                    True                False                False  \n",
       "...                    ...                  ...                  ...  \n",
       "41413                 True                False                False  \n",
       "41422                 True                False                False  \n",
       "41425                 True                False                False  \n",
       "41476                 True                False                False  \n",
       "41482                 True                False                False  \n",
       "\n",
       "[1092 rows x 13 columns]"
      ]
     },
     "execution_count": 196,
     "metadata": {},
     "output_type": "execute_result"
    }
   ],
   "source": [
    "# Convertimos las variables categóricas a variables dummy (y evitar la colinealidad perfecta)\n",
    "df_model = pd.get_dummies(df_model, columns=['tariff_plan', 'month_start', 'day_of_week_start'], drop_first=True)\n",
    "df_model"
   ]
  },
  {
   "cell_type": "code",
   "execution_count": 197,
   "id": "1497f0a1",
   "metadata": {},
   "outputs": [],
   "source": [
    "# Variable caracteristica\n",
    "X = df_model.drop(columns='inefficiency_level')\n",
    "\n",
    "# Variable objetivo\n",
    "y = df_model['inefficiency_level']\n",
    "\n",
    "# Dividimos en entrenamiento y prueba (usamos stratify por ser variable categórica, para balancear las clases)\n",
    "X_train, X_test, y_train, y_test = train_test_split(X, y, test_size=0.2, random_state=0, stratify=y)\n",
    "\n",
    "# Normalizamos \n",
    "scaler = StandardScaler()\n",
    "X_train = scaler.fit_transform(X_train)\n",
    "X_test = scaler.transform(X_test)\n",
    "\n",
    "# Regresión Logística *Multiclase* / lbfg = algoritmo eficiente para datasets no gigantes / max_iter = maximo de iteraciones \n",
    "model_lr = LogisticRegression(solver='lbfgs', max_iter=1000, random_state=0)\n",
    "# Entrenamos el modelo\n",
    "model_lr.fit(X_train, y_train) \n",
    "\n",
    "# Predecimos\n",
    "pred_lr = model_lr.predict(X_test)\n",
    "pred_prob_lr = model_lr.predict_proba(X_test)[:,1]\n"
   ]
  },
  {
   "cell_type": "code",
   "execution_count": 198,
   "id": "29fa1ed4",
   "metadata": {},
   "outputs": [
    {
     "name": "stdout",
     "output_type": "stream",
     "text": [
      "Regresión Logística:\n",
      "Accuracy: 0.7808219178082192\n",
      "Precisión: 0.786780914019759\n",
      "Recall: 0.7808219178082192\n",
      "F1 Score: 0.7406825654478496\n"
     ]
    }
   ],
   "source": [
    "# Evaluación del modelo\n",
    "print(\"Regresión Logística:\")\n",
    "print(\"Accuracy:\", accuracy_score(y_test, pred_lr)) # Proporción de predicciones correctas globalmente -> tienen que estar balanceadas las clases\n",
    "print(\"Precisión:\", precision_score(y_test, pred_lr, average='weighted')) # ¿Cuántos de los que predije como clase X realmente eran clase X?\n",
    "print(\"Recall:\", recall_score(y_test, pred_lr, average='weighted')) # ¿Cuántos de los operadores que eran clase X, los identifiqué correctamente?\n",
    "print(\"F1 Score:\", f1_score(y_test, pred_lr, average='weighted')) # Promedio armónico de precisión y recall\n",
    "#print(\"Classification Report:\", classification_report(y_test, pred_lr)) # Resumen de precision, recall, f1 -> Util en clasificación multiclase\n",
    "#print(\"Matriz de Confusión:\", confusion_matrix(y_test, pred_lr)) # Te muestra en forma de matriz cuantos casos fueron (TP, FP, FN y TN) -> Visualización con heatmap"
   ]
  },
  {
   "cell_type": "markdown",
   "id": "0f760ac8",
   "metadata": {},
   "source": [
    "#### **Gráfico de Regresión Logística**"
   ]
  },
  {
   "cell_type": "code",
   "execution_count": 199,
   "id": "371dda5b",
   "metadata": {},
   "outputs": [
    {
     "data": {
      "image/png": "[encoded data removed]",
      "text/plain": [
       "<Figure size 800x500 with 2 Axes>"
      ]
     },
     "metadata": {},
     "output_type": "display_data"
    }
   ],
   "source": [
    "# Gráfico de Clasificación para Logistic Regression\n",
    "class_report_lr = classification_report(y_test, pred_lr, output_dict=True)\n",
    "\n",
    "class_report_lr_df = pd.DataFrame(class_report_lr).transpose()\n",
    "\n",
    "class_report_lr_df = class_report_lr_df.drop(columns=['support'])\n",
    "\n",
    "plt.figure(figsize=(8, 5))\n",
    "sns.heatmap(class_report_lr_df, annot=True, fmt=\".2f\", linewidths=1, color='white')\n",
    "plt.title(\"Matriz de Clasificación - Logistic Regression\")\n",
    "plt.ylabel(\"Clases\")\n",
    "plt.xlabel(\"Métricas\")\n",
    "plt.show()"
   ]
  },
  {
   "cell_type": "markdown",
   "id": "3606bd18",
   "metadata": {},
   "source": [
    "### **Modelo de Bosque Aleatorio**"
   ]
  },
  {
   "cell_type": "code",
   "execution_count": 200,
   "id": "8cb1e3ec",
   "metadata": {},
   "outputs": [],
   "source": [
    "# Creamos y entrenamos el modelo de Random Forest\n",
    "model_rf = RandomForestClassifier(n_estimators=50, max_depth=10, random_state=0)\n",
    "model_rf.fit(X_train, y_train) \n",
    "\n",
    "# Realizamos predicciones\n",
    "pred_rf = model_rf.predict(X_test)\n",
    "pred_prob_rf = model_rf.predict_proba(X_test)[:,1]"
   ]
  },
  {
   "cell_type": "code",
   "execution_count": 201,
   "id": "d020e87c",
   "metadata": {},
   "outputs": [
    {
     "name": "stdout",
     "output_type": "stream",
     "text": [
      "Random Forest:\n",
      "Accuracy: 0.9817351598173516\n",
      "Precisión: 0.9828421198284212\n",
      "Recall: 0.9817351598173516\n",
      "F1 Score: 0.9779034733138708\n"
     ]
    }
   ],
   "source": [
    "# Evaluación\n",
    "# Evaluación del modelo\n",
    "print(\"Random Forest:\")\n",
    "print(\"Accuracy:\", accuracy_score(y_test, pred_rf)) # Proporción de predicciones correctas globalmente -> tienen que estar balanceadas las clases\n",
    "print(\"Precisión:\", precision_score(y_test, pred_rf, average='weighted')) # ¿Cuántos de los que predije como clase X realmente eran clase X?\n",
    "print(\"Recall:\", recall_score(y_test, pred_rf, average='weighted')) # ¿Cuántos de los operadores que eran clase X, los identifiqué correctamente?\n",
    "print(\"F1 Score:\", f1_score(y_test, pred_rf, average='weighted')) # Promedio armónico de precisión y recall\n",
    "# print(\"Classification Report:\\n\", classification_report(y_test, pred_rf)) # Resumen de precision, recall, f1 -> Util en clasificación multiclase"
   ]
  },
  {
   "cell_type": "markdown",
   "id": "b324d367",
   "metadata": {},
   "source": [
    "#### **Gráfico de Random Forest**"
   ]
  },
  {
   "cell_type": "code",
   "execution_count": 202,
   "id": "87f0b78c",
   "metadata": {},
   "outputs": [
    {
     "data": {
      "image/png": "[encoded data removed]",
      "text/plain": [
       "<Figure size 800x500 with 2 Axes>"
      ]
     },
     "metadata": {},
     "output_type": "display_data"
    }
   ],
   "source": [
    "# Gráfico de Clasificación para Random Forest\n",
    "class_report_rf = classification_report(y_test, pred_rf, output_dict=True)\n",
    "\n",
    "class_report_rf_df = pd.DataFrame(class_report_rf).transpose()\n",
    "\n",
    "class_report_rf_df = class_report_rf_df.drop(columns=['support']) # Queremos ver solamente las métricas \n",
    "\n",
    "plt.figure(figsize=(8, 5))\n",
    "sns.heatmap(class_report_rf_df, annot=True, fmt=\".2f\", linewidths=1, color='white')\n",
    "plt.title(\"Matriz de Clasificación - Random Forest\")\n",
    "plt.ylabel(\"Clases\")\n",
    "plt.xlabel(\"Métricas\")\n",
    "plt.show()"
   ]
  },
  {
   "cell_type": "markdown",
   "id": "67eaaea8",
   "metadata": {},
   "source": [
    "Significado de métricas:\n",
    "* Precision: De todas las veces que el modelo predijo esta clase, ¿cuántas veces acertó? Es decir, ¿Cuántos verdaderos positivos hubo entre todos los que predijo como positivos?\n",
    "* Recall: De todos los ejemplos reales de esta clase, ¿Cuántos logró encontrar correctamente? Es decir, ¿Qué tan bien identifica a los verdaderos positivos?\n",
    "* F1-score: Promedio armonizado entre precisión y recall. Es útil cuando hay un desequilibrio entre clases.\n",
    "* Support: Cuántas muestras del conjunto de *prueba* pertenecen realmente a esa clase. (es una cantidad)\n",
    "____\n",
    "* Accuracy: Es el porcentaje total de predicciones correctas entre todas las muestras.\n",
    "* Macro avg: Promedio de las métricas entre todas las clases, sin considerar el número de muestras por clase\n",
    "* Weighted avg: Promedio ponderado por el número de muestras de cada clase"
   ]
  },
  {
   "cell_type": "markdown",
   "id": "d8c99df0",
   "metadata": {},
   "source": [
    "### **Comparación de resultados entre Logistic Regression vs Random Forest**"
   ]
  },
  {
   "cell_type": "code",
   "execution_count": 203,
   "id": "fae49965",
   "metadata": {},
   "outputs": [
    {
     "name": "stdout",
     "output_type": "stream",
     "text": [
      "       y_real  y_pred_lr  y_pred_rf\n",
      "33120       1          0          1\n",
      "15563       1          0          1\n",
      "4096        0          0          0\n",
      "33952       0          0          0\n",
      "13273       0          0          0\n",
      "11260       2          1          1\n",
      "7639        0          0          0\n",
      "4314        0          0          0\n",
      "31248       0          0          0\n",
      "25445       1          1          1\n",
      "25939       1          1          1\n",
      "32628       2          1          1\n",
      "12694       0          0          0\n",
      "38414       0          0          0\n",
      "33940       0          0          0\n",
      "8423        0          0          0\n",
      "41052       0          0          0\n",
      "7876        0          0          0\n",
      "39974       0          0          0\n",
      "18636       1          0          1\n"
     ]
    }
   ],
   "source": [
    "# Comparación datos de prueba vs datos predichos\n",
    "predicciones = pd.DataFrame({\n",
    "    'y_real' : y_test.values,\n",
    "    'y_pred_lr' : pred_lr,\n",
    "    'y_pred_rf' : pred_rf\n",
    "}, index = y_test.index)\n",
    "\n",
    "print(predicciones.head(20))"
   ]
  },
  {
   "cell_type": "markdown",
   "id": "b73a99cc",
   "metadata": {},
   "source": [
    "**Conclusión**\n",
    "\n",
    "El modelo de Random Forest funciona mejor para nuestros datos de clasificación, el cual tiene una precisión y exactitud del 98% para predecir la ineficiencia de nuestros operadores en base a los resultados de las métricas."
   ]
  },
  {
   "cell_type": "markdown",
   "id": "c34b33a9",
   "metadata": {},
   "source": [
    "## **Conclusión Final**"
   ]
  },
  {
   "cell_type": "markdown",
   "id": "fcad9e32",
   "metadata": {},
   "source": [
    "Este proyecto tuvo como objetivo principal identificar operadores ineficaces dentro de una compañía de telecomunicaciones, a partir del análisis de datos operativos y la aplicación de técnicas de aprendizaje automático supervisado.\n",
    "\n",
    "En la etapa de Análisis Exploratorio de Datos y Pruebas de Hipótesis, se analizaron métricas como la proporción de llamadas perdidas, el tiempo promedio de espera por llamada y el volumen de llamadas salientes. A través de pruebas de hipótesis, se comprobó que existían diferencias estadísticamente significativas entre los operadores clasificados como ineficientes y aquellos con distitnos niveles de ineficiencia. Esto validó la segmentación inicial y justificó el desarrollo posterior de un modelo predictivo.\n",
    "\n",
    "Se construyó un modelo de clasificación multiclase utilizando como variable objetivo el nivel de ineficiencia con valroes de 0 - 3. se implementaron dos enfoques, en donde los resultados mostraron que el modelo de Random Forest obtuvo mejor desempeño general, destacando en métricas como el f1-score. Sin embargo, se identificaron dificultades en la predicción de clases menos frecuentes (ineficiente alto) lo cual sugiere cierto desbalance de clases."
   ]
  },
  {
   "cell_type": "markdown",
   "id": "7913fa67",
   "metadata": {},
   "source": [
    "Por otro lado, se concluyó que las métricas (por orden de mayor ineficiencia) fueron: El bajo volumen de llamadas hechas por los operadores cuando se espera más proactividad, segundo el tiempo de espera, el cual ciertos operadores tienden a hacer esperar (o los hacen esperar) más tiempo que la mayoría (como lo vimos en los valores atípicos) incrementando la proporción de ineficiencia respecto al total, por último la métrica con menor porcentaje de ineficiencia fue la proporción alta de llamadas entrantes perdidas, el cual quiere decir que la mayoría de los operadores si responden a las llamadas, sin embargo el tiempo de espera es mucho mayor, y el volumen de llamadas salientes menor. \n",
    "\n",
    "A lo que vimos en el análisis, la mediana de proporción de llamadas entrantes perdidas es 0, el cuál indica que al menos el 50% de los datos, los operadores no pierden ninguna llamada; la mediana del tiempo de espera para las llamadas entrantes es de aproximadamente 15 segundos, el cuál relativamente no es mucho pero al menos en el 50% de los datos, los operadores tienen un tiempo de espera menor a 15; y por último, la mediana de llamadas salientes fue de 90, es decir, al menos el 50% de los datos, los operadores realizan 90 llamadas, por lo que un número menor a 90, indicaría ineficiencia (si aplicamos esas reglas)."
   ]
  },
  {
   "cell_type": "markdown",
   "id": "d2c196e6",
   "metadata": {},
   "source": [
    "En el análisis, mostramos una tabla de los operadores más ineficientes ordenados por nivel de eficiencia, sin embargo, estas visualizaciones son mejor mostrarlas en un Dashboard, de forma que sea más interactivo y fácil de leer, aplicando filtros para facilitar su análisis."
   ]
  },
  {
   "cell_type": "code",
   "execution_count": null,
   "id": "6bfded3b",
   "metadata": {},
   "outputs": [],
   "source": [
    "# operator_metrics_clients_merged"
   ]
  },
  {
   "cell_type": "code",
   "execution_count": null,
   "id": "fb5ea73e",
   "metadata": {},
   "outputs": [
    {
     "data": {
      "application/vnd.microsoft.datawrangler.viewer.v0+json": {
       "columns": [
        {
         "name": "index",
         "rawType": "int64",
         "type": "integer"
        },
        {
         "name": "user_id",
         "rawType": "int64",
         "type": "integer"
        },
        {
         "name": "date",
         "rawType": "datetime64[ns, UTC+03:00]",
         "type": "unknown"
        },
        {
         "name": "direction",
         "rawType": "category",
         "type": "unknown"
        },
        {
         "name": "internal",
         "rawType": "int64",
         "type": "integer"
        },
        {
         "name": "operator_id",
         "rawType": "int64",
         "type": "integer"
        },
        {
         "name": "is_missed_call",
         "rawType": "int64",
         "type": "integer"
        },
        {
         "name": "calls_count",
         "rawType": "int64",
         "type": "integer"
        },
        {
         "name": "call_duration",
         "rawType": "int64",
         "type": "integer"
        },
        {
         "name": "total_call_duration",
         "rawType": "int64",
         "type": "integer"
        },
        {
         "name": "wait_time",
         "rawType": "int64",
         "type": "integer"
        },
        {
         "name": "avg_call_duration_per_call",
         "rawType": "float64",
         "type": "float"
        },
        {
         "name": "avg_total_call_duration_per_call",
         "rawType": "float64",
         "type": "float"
        },
        {
         "name": "avg_wait_time_per_call",
         "rawType": "float64",
         "type": "float"
        },
        {
         "name": "year",
         "rawType": "int32",
         "type": "integer"
        },
        {
         "name": "month",
         "rawType": "int32",
         "type": "integer"
        },
        {
         "name": "day",
         "rawType": "int32",
         "type": "integer"
        },
        {
         "name": "day_of_week",
         "rawType": "int32",
         "type": "integer"
        }
       ],
       "conversionMethod": "pd.DataFrame",
       "ref": "ba0a0c6f-2e2b-4bf5-b325-76b1eca885be",
       "rows": [
        [
         "0",
         "166377",
         "2019-08-04 00:00:00+03:00",
         "in",
         "0",
         "0",
         "1",
         "2",
         "0",
         "4",
         "4",
         "0.0",
         "2.0",
         "2.0",
         "2019",
         "8",
         "4",
         "6"
        ],
        [
         "1",
         "166377",
         "2019-08-05 00:00:00+03:00",
         "out",
         "1",
         "880022",
         "1",
         "3",
         "0",
         "5",
         "5",
         "0.0",
         "1.6666666666666667",
         "1.6666666666666667",
         "2019",
         "8",
         "5",
         "0"
        ],
        [
         "2",
         "166377",
         "2019-08-05 00:00:00+03:00",
         "out",
         "1",
         "880020",
         "1",
         "1",
         "0",
         "1",
         "1",
         "0.0",
         "1.0",
         "1.0",
         "2019",
         "8",
         "5",
         "0"
        ],
        [
         "3",
         "166377",
         "2019-08-05 00:00:00+03:00",
         "out",
         "1",
         "880020",
         "0",
         "1",
         "10",
         "18",
         "8",
         "10.0",
         "18.0",
         "8.0",
         "2019",
         "8",
         "5",
         "0"
        ],
        [
         "4",
         "166377",
         "2019-08-05 00:00:00+03:00",
         "out",
         "0",
         "880022",
         "1",
         "3",
         "0",
         "25",
         "25",
         "0.0",
         "8.333333333333334",
         "8.333333333333334",
         "2019",
         "8",
         "5",
         "0"
        ],
        [
         "5",
         "166377",
         "2019-08-05 00:00:00+03:00",
         "out",
         "0",
         "880020",
         "0",
         "2",
         "3",
         "29",
         "26",
         "1.5",
         "14.5",
         "13.0",
         "2019",
         "8",
         "5",
         "0"
        ],
        [
         "6",
         "166377",
         "2019-08-05 00:00:00+03:00",
         "out",
         "0",
         "880020",
         "1",
         "8",
         "0",
         "50",
         "50",
         "0.0",
         "6.25",
         "6.25",
         "2019",
         "8",
         "5",
         "0"
        ],
        [
         "7",
         "166377",
         "2019-08-05 00:00:00+03:00",
         "in",
         "0",
         "0",
         "1",
         "6",
         "0",
         "35",
         "35",
         "0.0",
         "5.833333333333333",
         "5.833333333333333",
         "2019",
         "8",
         "5",
         "0"
        ],
        [
         "9",
         "166377",
         "2019-08-06 00:00:00+03:00",
         "in",
         "0",
         "0",
         "1",
         "4",
         "0",
         "62",
         "62",
         "0.0",
         "15.5",
         "15.5",
         "2019",
         "8",
         "6",
         "1"
        ],
        [
         "10",
         "166377",
         "2019-08-06 00:00:00+03:00",
         "out",
         "0",
         "881278",
         "1",
         "3",
         "0",
         "29",
         "29",
         "0.0",
         "9.666666666666666",
         "9.666666666666666",
         "2019",
         "8",
         "6",
         "1"
        ],
        [
         "11",
         "166377",
         "2019-08-06 00:00:00+03:00",
         "out",
         "0",
         "880020",
         "1",
         "5",
         "0",
         "70",
         "70",
         "0.0",
         "14.0",
         "14.0",
         "2019",
         "8",
         "6",
         "1"
        ],
        [
         "12",
         "166377",
         "2019-08-06 00:00:00+03:00",
         "out",
         "1",
         "881278",
         "1",
         "2",
         "0",
         "5",
         "5",
         "0.0",
         "2.5",
         "2.5",
         "2019",
         "8",
         "6",
         "1"
        ],
        [
         "13",
         "166377",
         "2019-08-06 00:00:00+03:00",
         "out",
         "0",
         "880020",
         "0",
         "5",
         "800",
         "819",
         "19",
         "160.0",
         "163.8",
         "3.8",
         "2019",
         "8",
         "6",
         "1"
        ],
        [
         "14",
         "166377",
         "2019-08-07 00:00:00+03:00",
         "out",
         "0",
         "880028",
         "1",
         "1",
         "0",
         "15",
         "15",
         "0.0",
         "15.0",
         "15.0",
         "2019",
         "8",
         "7",
         "2"
        ],
        [
         "15",
         "166377",
         "2019-08-07 00:00:00+03:00",
         "out",
         "0",
         "880026",
         "0",
         "1",
         "21",
         "28",
         "7",
         "21.0",
         "28.0",
         "7.0",
         "2019",
         "8",
         "7",
         "2"
        ],
        [
         "16",
         "166377",
         "2019-08-07 00:00:00+03:00",
         "out",
         "0",
         "880020",
         "0",
         "2",
         "232",
         "240",
         "8",
         "116.0",
         "120.0",
         "4.0",
         "2019",
         "8",
         "7",
         "2"
        ],
        [
         "17",
         "166377",
         "2019-08-07 00:00:00+03:00",
         "in",
         "0",
         "0",
         "1",
         "2",
         "0",
         "24",
         "24",
         "0.0",
         "12.0",
         "12.0",
         "2019",
         "8",
         "7",
         "2"
        ],
        [
         "18",
         "166377",
         "2019-08-07 00:00:00+03:00",
         "out",
         "0",
         "880026",
         "1",
         "1",
         "0",
         "17",
         "17",
         "0.0",
         "17.0",
         "17.0",
         "2019",
         "8",
         "7",
         "2"
        ],
        [
         "19",
         "166377",
         "2019-08-08 00:00:00+03:00",
         "out",
         "0",
         "880022",
         "0",
         "2",
         "558",
         "568",
         "10",
         "279.0",
         "284.0",
         "5.0",
         "2019",
         "8",
         "8",
         "3"
        ],
        [
         "20",
         "166377",
         "2019-08-08 00:00:00+03:00",
         "out",
         "0",
         "880022",
         "1",
         "4",
         "0",
         "28",
         "28",
         "0.0",
         "7.0",
         "7.0",
         "2019",
         "8",
         "8",
         "3"
        ],
        [
         "21",
         "166377",
         "2019-08-09 00:00:00+03:00",
         "out",
         "0",
         "880028",
         "0",
         "17",
         "1603",
         "1725",
         "122",
         "94.29411764705883",
         "101.47058823529412",
         "7.176470588235294",
         "2019",
         "8",
         "9",
         "4"
        ],
        [
         "22",
         "166377",
         "2019-08-09 00:00:00+03:00",
         "out",
         "0",
         "880028",
         "1",
         "2",
         "0",
         "2",
         "2",
         "0.0",
         "1.0",
         "1.0",
         "2019",
         "8",
         "9",
         "4"
        ],
        [
         "23",
         "166377",
         "2019-08-09 00:00:00+03:00",
         "out",
         "0",
         "880022",
         "1",
         "2",
         "0",
         "10",
         "10",
         "0.0",
         "5.0",
         "5.0",
         "2019",
         "8",
         "9",
         "4"
        ],
        [
         "24",
         "166377",
         "2019-08-12 00:00:00+03:00",
         "out",
         "0",
         "880028",
         "0",
         "20",
         "2074",
         "2191",
         "117",
         "103.7",
         "109.55",
         "5.85",
         "2019",
         "8",
         "12",
         "0"
        ],
        [
         "25",
         "166377",
         "2019-08-12 00:00:00+03:00",
         "out",
         "1",
         "880028",
         "1",
         "1",
         "0",
         "26",
         "26",
         "0.0",
         "26.0",
         "26.0",
         "2019",
         "8",
         "12",
         "0"
        ],
        [
         "26",
         "166377",
         "2019-08-12 00:00:00+03:00",
         "in",
         "0",
         "880028",
         "0",
         "1",
         "407",
         "411",
         "4",
         "407.0",
         "411.0",
         "4.0",
         "2019",
         "8",
         "12",
         "0"
        ],
        [
         "27",
         "166377",
         "2019-08-12 00:00:00+03:00",
         "in",
         "0",
         "0",
         "1",
         "2",
         "0",
         "34",
         "34",
         "0.0",
         "17.0",
         "17.0",
         "2019",
         "8",
         "12",
         "0"
        ],
        [
         "29",
         "166377",
         "2019-08-13 00:00:00+03:00",
         "out",
         "1",
         "880026",
         "1",
         "2",
         "0",
         "23",
         "23",
         "0.0",
         "11.5",
         "11.5",
         "2019",
         "8",
         "13",
         "1"
        ],
        [
         "30",
         "166377",
         "2019-08-13 00:00:00+03:00",
         "in",
         "0",
         "0",
         "1",
         "7",
         "0",
         "128",
         "128",
         "0.0",
         "18.285714285714285",
         "18.285714285714285",
         "2019",
         "8",
         "13",
         "1"
        ],
        [
         "31",
         "166377",
         "2019-08-13 00:00:00+03:00",
         "out",
         "0",
         "880026",
         "0",
         "4",
         "258",
         "287",
         "29",
         "64.5",
         "71.75",
         "7.25",
         "2019",
         "8",
         "13",
         "1"
        ],
        [
         "32",
         "166377",
         "2019-08-13 00:00:00+03:00",
         "out",
         "1",
         "880028",
         "1",
         "1",
         "0",
         "16",
         "16",
         "0.0",
         "16.0",
         "16.0",
         "2019",
         "8",
         "13",
         "1"
        ],
        [
         "33",
         "166377",
         "2019-08-13 00:00:00+03:00",
         "out",
         "0",
         "880028",
         "0",
         "10",
         "647",
         "788",
         "141",
         "64.7",
         "78.8",
         "14.1",
         "2019",
         "8",
         "13",
         "1"
        ],
        [
         "34",
         "166377",
         "2019-08-13 00:00:00+03:00",
         "in",
         "0",
         "880028",
         "0",
         "1",
         "88",
         "102",
         "14",
         "88.0",
         "102.0",
         "14.0",
         "2019",
         "8",
         "13",
         "1"
        ],
        [
         "35",
         "166377",
         "2019-08-13 00:00:00+03:00",
         "out",
         "0",
         "880028",
         "1",
         "1",
         "0",
         "60",
         "60",
         "0.0",
         "60.0",
         "60.0",
         "2019",
         "8",
         "13",
         "1"
        ],
        [
         "36",
         "166377",
         "2019-08-14 00:00:00+03:00",
         "out",
         "0",
         "880028",
         "1",
         "7",
         "0",
         "105",
         "105",
         "0.0",
         "15.0",
         "15.0",
         "2019",
         "8",
         "14",
         "2"
        ],
        [
         "37",
         "166377",
         "2019-08-14 00:00:00+03:00",
         "in",
         "0",
         "880026",
         "0",
         "2",
         "197",
         "218",
         "21",
         "98.5",
         "109.0",
         "10.5",
         "2019",
         "8",
         "14",
         "2"
        ],
        [
         "38",
         "166377",
         "2019-08-14 00:00:00+03:00",
         "in",
         "0",
         "0",
         "1",
         "1",
         "0",
         "3",
         "3",
         "0.0",
         "3.0",
         "3.0",
         "2019",
         "8",
         "14",
         "2"
        ],
        [
         "39",
         "166377",
         "2019-08-14 00:00:00+03:00",
         "in",
         "0",
         "880028",
         "0",
         "1",
         "33",
         "37",
         "4",
         "33.0",
         "37.0",
         "4.0",
         "2019",
         "8",
         "14",
         "2"
        ],
        [
         "40",
         "166377",
         "2019-08-14 00:00:00+03:00",
         "out",
         "1",
         "880026",
         "1",
         "2",
         "0",
         "0",
         "0",
         "0.0",
         "0.0",
         "0.0",
         "2019",
         "8",
         "14",
         "2"
        ],
        [
         "41",
         "166377",
         "2019-08-14 00:00:00+03:00",
         "out",
         "0",
         "880028",
         "0",
         "18",
         "2686",
         "2782",
         "96",
         "149.22222222222223",
         "154.55555555555554",
         "5.333333333333333",
         "2019",
         "8",
         "14",
         "2"
        ],
        [
         "42",
         "166377",
         "2019-08-14 00:00:00+03:00",
         "out",
         "0",
         "880026",
         "1",
         "7",
         "0",
         "38",
         "38",
         "0.0",
         "5.428571428571429",
         "5.428571428571429",
         "2019",
         "8",
         "14",
         "2"
        ],
        [
         "43",
         "166377",
         "2019-08-14 00:00:00+03:00",
         "out",
         "0",
         "880026",
         "0",
         "10",
         "1567",
         "1654",
         "87",
         "156.7",
         "165.4",
         "8.7",
         "2019",
         "8",
         "14",
         "2"
        ],
        [
         "46",
         "166377",
         "2019-08-15 00:00:00+03:00",
         "out",
         "0",
         "880026",
         "0",
         "11",
         "1413",
         "1473",
         "60",
         "128.45454545454547",
         "133.9090909090909",
         "5.454545454545454",
         "2019",
         "8",
         "15",
         "3"
        ],
        [
         "47",
         "166377",
         "2019-08-15 00:00:00+03:00",
         "out",
         "0",
         "880028",
         "1",
         "8",
         "0",
         "458",
         "458",
         "0.0",
         "57.25",
         "57.25",
         "2019",
         "8",
         "15",
         "3"
        ],
        [
         "48",
         "166377",
         "2019-08-15 00:00:00+03:00",
         "out",
         "0",
         "880028",
         "0",
         "19",
         "2653",
         "2779",
         "126",
         "139.6315789473684",
         "146.26315789473685",
         "6.631578947368421",
         "2019",
         "8",
         "15",
         "3"
        ],
        [
         "49",
         "166377",
         "2019-08-15 00:00:00+03:00",
         "in",
         "0",
         "880028",
         "0",
         "1",
         "23",
         "27",
         "4",
         "23.0",
         "27.0",
         "4.0",
         "2019",
         "8",
         "15",
         "3"
        ],
        [
         "50",
         "166377",
         "2019-08-15 00:00:00+03:00",
         "out",
         "0",
         "880026",
         "1",
         "15",
         "0",
         "330",
         "330",
         "0.0",
         "22.0",
         "22.0",
         "2019",
         "8",
         "15",
         "3"
        ],
        [
         "52",
         "166377",
         "2019-08-16 00:00:00+03:00",
         "out",
         "0",
         "880026",
         "1",
         "6",
         "0",
         "249",
         "249",
         "0.0",
         "41.5",
         "41.5",
         "2019",
         "8",
         "16",
         "4"
        ],
        [
         "53",
         "166377",
         "2019-08-16 00:00:00+03:00",
         "out",
         "0",
         "880026",
         "0",
         "15",
         "1658",
         "1714",
         "56",
         "110.53333333333333",
         "114.26666666666667",
         "3.7333333333333334",
         "2019",
         "8",
         "16",
         "4"
        ],
        [
         "54",
         "166377",
         "2019-08-16 00:00:00+03:00",
         "out",
         "0",
         "880028",
         "1",
         "4",
         "0",
         "29",
         "29",
         "0.0",
         "7.25",
         "7.25",
         "2019",
         "8",
         "16",
         "4"
        ]
       ],
       "shape": {
        "columns": 17,
        "rows": 48892
       }
      },
      "text/html": [
       "<div>\n",
       "<style scoped>\n",
       "    .dataframe tbody tr th:only-of-type {\n",
       "        vertical-align: middle;\n",
       "    }\n",
       "\n",
       "    .dataframe tbody tr th {\n",
       "        vertical-align: top;\n",
       "    }\n",
       "\n",
       "    .dataframe thead th {\n",
       "        text-align: right;\n",
       "    }\n",
       "</style>\n",
       "<table border=\"1\" class=\"dataframe\">\n",
       "  <thead>\n",
       "    <tr style=\"text-align: right;\">\n",
       "      <th></th>\n",
       "      <th>user_id</th>\n",
       "      <th>date</th>\n",
       "      <th>direction</th>\n",
       "      <th>internal</th>\n",
       "      <th>operator_id</th>\n",
       "      <th>is_missed_call</th>\n",
       "      <th>calls_count</th>\n",
       "      <th>call_duration</th>\n",
       "      <th>total_call_duration</th>\n",
       "      <th>wait_time</th>\n",
       "      <th>avg_call_duration_per_call</th>\n",
       "      <th>avg_total_call_duration_per_call</th>\n",
       "      <th>avg_wait_time_per_call</th>\n",
       "      <th>year</th>\n",
       "      <th>month</th>\n",
       "      <th>day</th>\n",
       "      <th>day_of_week</th>\n",
       "    </tr>\n",
       "  </thead>\n",
       "  <tbody>\n",
       "    <tr>\n",
       "      <th>0</th>\n",
       "      <td>166377</td>\n",
       "      <td>2019-08-04 00:00:00+03:00</td>\n",
       "      <td>in</td>\n",
       "      <td>0</td>\n",
       "      <td>0</td>\n",
       "      <td>1</td>\n",
       "      <td>2</td>\n",
       "      <td>0</td>\n",
       "      <td>4</td>\n",
       "      <td>4</td>\n",
       "      <td>0.0</td>\n",
       "      <td>2.000000</td>\n",
       "      <td>2.000000</td>\n",
       "      <td>2019</td>\n",
       "      <td>8</td>\n",
       "      <td>4</td>\n",
       "      <td>6</td>\n",
       "    </tr>\n",
       "    <tr>\n",
       "      <th>1</th>\n",
       "      <td>166377</td>\n",
       "      <td>2019-08-05 00:00:00+03:00</td>\n",
       "      <td>out</td>\n",
       "      <td>1</td>\n",
       "      <td>880022</td>\n",
       "      <td>1</td>\n",
       "      <td>3</td>\n",
       "      <td>0</td>\n",
       "      <td>5</td>\n",
       "      <td>5</td>\n",
       "      <td>0.0</td>\n",
       "      <td>1.666667</td>\n",
       "      <td>1.666667</td>\n",
       "      <td>2019</td>\n",
       "      <td>8</td>\n",
       "      <td>5</td>\n",
       "      <td>0</td>\n",
       "    </tr>\n",
       "    <tr>\n",
       "      <th>2</th>\n",
       "      <td>166377</td>\n",
       "      <td>2019-08-05 00:00:00+03:00</td>\n",
       "      <td>out</td>\n",
       "      <td>1</td>\n",
       "      <td>880020</td>\n",
       "      <td>1</td>\n",
       "      <td>1</td>\n",
       "      <td>0</td>\n",
       "      <td>1</td>\n",
       "      <td>1</td>\n",
       "      <td>0.0</td>\n",
       "      <td>1.000000</td>\n",
       "      <td>1.000000</td>\n",
       "      <td>2019</td>\n",
       "      <td>8</td>\n",
       "      <td>5</td>\n",
       "      <td>0</td>\n",
       "    </tr>\n",
       "    <tr>\n",
       "      <th>3</th>\n",
       "      <td>166377</td>\n",
       "      <td>2019-08-05 00:00:00+03:00</td>\n",
       "      <td>out</td>\n",
       "      <td>1</td>\n",
       "      <td>880020</td>\n",
       "      <td>0</td>\n",
       "      <td>1</td>\n",
       "      <td>10</td>\n",
       "      <td>18</td>\n",
       "      <td>8</td>\n",
       "      <td>10.0</td>\n",
       "      <td>18.000000</td>\n",
       "      <td>8.000000</td>\n",
       "      <td>2019</td>\n",
       "      <td>8</td>\n",
       "      <td>5</td>\n",
       "      <td>0</td>\n",
       "    </tr>\n",
       "    <tr>\n",
       "      <th>4</th>\n",
       "      <td>166377</td>\n",
       "      <td>2019-08-05 00:00:00+03:00</td>\n",
       "      <td>out</td>\n",
       "      <td>0</td>\n",
       "      <td>880022</td>\n",
       "      <td>1</td>\n",
       "      <td>3</td>\n",
       "      <td>0</td>\n",
       "      <td>25</td>\n",
       "      <td>25</td>\n",
       "      <td>0.0</td>\n",
       "      <td>8.333333</td>\n",
       "      <td>8.333333</td>\n",
       "      <td>2019</td>\n",
       "      <td>8</td>\n",
       "      <td>5</td>\n",
       "      <td>0</td>\n",
       "    </tr>\n",
       "    <tr>\n",
       "      <th>...</th>\n",
       "      <td>...</td>\n",
       "      <td>...</td>\n",
       "      <td>...</td>\n",
       "      <td>...</td>\n",
       "      <td>...</td>\n",
       "      <td>...</td>\n",
       "      <td>...</td>\n",
       "      <td>...</td>\n",
       "      <td>...</td>\n",
       "      <td>...</td>\n",
       "      <td>...</td>\n",
       "      <td>...</td>\n",
       "      <td>...</td>\n",
       "      <td>...</td>\n",
       "      <td>...</td>\n",
       "      <td>...</td>\n",
       "      <td>...</td>\n",
       "    </tr>\n",
       "    <tr>\n",
       "      <th>53896</th>\n",
       "      <td>168606</td>\n",
       "      <td>2019-11-10 00:00:00+03:00</td>\n",
       "      <td>out</td>\n",
       "      <td>1</td>\n",
       "      <td>957922</td>\n",
       "      <td>0</td>\n",
       "      <td>1</td>\n",
       "      <td>0</td>\n",
       "      <td>25</td>\n",
       "      <td>25</td>\n",
       "      <td>0.0</td>\n",
       "      <td>25.000000</td>\n",
       "      <td>25.000000</td>\n",
       "      <td>2019</td>\n",
       "      <td>11</td>\n",
       "      <td>10</td>\n",
       "      <td>6</td>\n",
       "    </tr>\n",
       "    <tr>\n",
       "      <th>53897</th>\n",
       "      <td>168606</td>\n",
       "      <td>2019-11-10 00:00:00+03:00</td>\n",
       "      <td>out</td>\n",
       "      <td>1</td>\n",
       "      <td>957922</td>\n",
       "      <td>1</td>\n",
       "      <td>1</td>\n",
       "      <td>0</td>\n",
       "      <td>38</td>\n",
       "      <td>38</td>\n",
       "      <td>0.0</td>\n",
       "      <td>38.000000</td>\n",
       "      <td>38.000000</td>\n",
       "      <td>2019</td>\n",
       "      <td>11</td>\n",
       "      <td>10</td>\n",
       "      <td>6</td>\n",
       "    </tr>\n",
       "    <tr>\n",
       "      <th>53898</th>\n",
       "      <td>168606</td>\n",
       "      <td>2019-11-11 00:00:00+03:00</td>\n",
       "      <td>out</td>\n",
       "      <td>1</td>\n",
       "      <td>957922</td>\n",
       "      <td>0</td>\n",
       "      <td>2</td>\n",
       "      <td>479</td>\n",
       "      <td>501</td>\n",
       "      <td>22</td>\n",
       "      <td>239.5</td>\n",
       "      <td>250.500000</td>\n",
       "      <td>11.000000</td>\n",
       "      <td>2019</td>\n",
       "      <td>11</td>\n",
       "      <td>11</td>\n",
       "      <td>0</td>\n",
       "    </tr>\n",
       "    <tr>\n",
       "      <th>53899</th>\n",
       "      <td>168606</td>\n",
       "      <td>2019-11-15 00:00:00+03:00</td>\n",
       "      <td>out</td>\n",
       "      <td>1</td>\n",
       "      <td>957922</td>\n",
       "      <td>0</td>\n",
       "      <td>4</td>\n",
       "      <td>3130</td>\n",
       "      <td>3190</td>\n",
       "      <td>60</td>\n",
       "      <td>782.5</td>\n",
       "      <td>797.500000</td>\n",
       "      <td>15.000000</td>\n",
       "      <td>2019</td>\n",
       "      <td>11</td>\n",
       "      <td>15</td>\n",
       "      <td>4</td>\n",
       "    </tr>\n",
       "    <tr>\n",
       "      <th>53901</th>\n",
       "      <td>168606</td>\n",
       "      <td>2019-11-19 00:00:00+03:00</td>\n",
       "      <td>in</td>\n",
       "      <td>0</td>\n",
       "      <td>0</td>\n",
       "      <td>1</td>\n",
       "      <td>2</td>\n",
       "      <td>0</td>\n",
       "      <td>64</td>\n",
       "      <td>64</td>\n",
       "      <td>0.0</td>\n",
       "      <td>32.000000</td>\n",
       "      <td>32.000000</td>\n",
       "      <td>2019</td>\n",
       "      <td>11</td>\n",
       "      <td>19</td>\n",
       "      <td>1</td>\n",
       "    </tr>\n",
       "  </tbody>\n",
       "</table>\n",
       "<p>48892 rows × 17 columns</p>\n",
       "</div>"
      ],
      "text/plain": [
       "       user_id                      date direction  internal  operator_id  \\\n",
       "0       166377 2019-08-04 00:00:00+03:00        in         0            0   \n",
       "1       166377 2019-08-05 00:00:00+03:00       out         1       880022   \n",
       "2       166377 2019-08-05 00:00:00+03:00       out         1       880020   \n",
       "3       166377 2019-08-05 00:00:00+03:00       out         1       880020   \n",
       "4       166377 2019-08-05 00:00:00+03:00       out         0       880022   \n",
       "...        ...                       ...       ...       ...          ...   \n",
       "53896   168606 2019-11-10 00:00:00+03:00       out         1       957922   \n",
       "53897   168606 2019-11-10 00:00:00+03:00       out         1       957922   \n",
       "53898   168606 2019-11-11 00:00:00+03:00       out         1       957922   \n",
       "53899   168606 2019-11-15 00:00:00+03:00       out         1       957922   \n",
       "53901   168606 2019-11-19 00:00:00+03:00        in         0            0   \n",
       "\n",
       "       is_missed_call  calls_count  call_duration  total_call_duration  \\\n",
       "0                   1            2              0                    4   \n",
       "1                   1            3              0                    5   \n",
       "2                   1            1              0                    1   \n",
       "3                   0            1             10                   18   \n",
       "4                   1            3              0                   25   \n",
       "...               ...          ...            ...                  ...   \n",
       "53896               0            1              0                   25   \n",
       "53897               1            1              0                   38   \n",
       "53898               0            2            479                  501   \n",
       "53899               0            4           3130                 3190   \n",
       "53901               1            2              0                   64   \n",
       "\n",
       "       wait_time  avg_call_duration_per_call  \\\n",
       "0              4                         0.0   \n",
       "1              5                         0.0   \n",
       "2              1                         0.0   \n",
       "3              8                        10.0   \n",
       "4             25                         0.0   \n",
       "...          ...                         ...   \n",
       "53896         25                         0.0   \n",
       "53897         38                         0.0   \n",
       "53898         22                       239.5   \n",
       "53899         60                       782.5   \n",
       "53901         64                         0.0   \n",
       "\n",
       "       avg_total_call_duration_per_call  avg_wait_time_per_call  year  month  \\\n",
       "0                              2.000000                2.000000  2019      8   \n",
       "1                              1.666667                1.666667  2019      8   \n",
       "2                              1.000000                1.000000  2019      8   \n",
       "3                             18.000000                8.000000  2019      8   \n",
       "4                              8.333333                8.333333  2019      8   \n",
       "...                                 ...                     ...   ...    ...   \n",
       "53896                         25.000000               25.000000  2019     11   \n",
       "53897                         38.000000               38.000000  2019     11   \n",
       "53898                        250.500000               11.000000  2019     11   \n",
       "53899                        797.500000               15.000000  2019     11   \n",
       "53901                         32.000000               32.000000  2019     11   \n",
       "\n",
       "       day  day_of_week  \n",
       "0        4            6  \n",
       "1        5            0  \n",
       "2        5            0  \n",
       "3        5            0  \n",
       "4        5            0  \n",
       "...    ...          ...  \n",
       "53896   10            6  \n",
       "53897   10            6  \n",
       "53898   11            0  \n",
       "53899   15            4  \n",
       "53901   19            1  \n",
       "\n",
       "[48892 rows x 17 columns]"
      ]
     },
     "execution_count": 205,
     "metadata": {},
     "output_type": "execute_result"
    }
   ],
   "source": [
    "# telecom_df"
   ]
  },
  {
   "cell_type": "code",
   "execution_count": null,
   "id": "fcc1fca7",
   "metadata": {},
   "outputs": [],
   "source": [
    "# operator_metrics_clients_merged.to_csv('operator_metrics_clients_merged.csv')"
   ]
  },
  {
   "cell_type": "code",
   "execution_count": 207,
   "id": "56a15533",
   "metadata": {},
   "outputs": [],
   "source": [
    "# telecom_df.to_csv('telecom_df_cleaned.csv')"
   ]
  }
 ],
 "metadata": {
  "kernelspec": {
   "display_name": "entorno-virtual",
   "language": "python",
   "name": "python3"
  },
  "language_info": {
   "codemirror_mode": {
    "name": "ipython",
    "version": 3
   },
   "file_extension": ".py",
   "mimetype": "text/x-python",
   "name": "python",
   "nbconvert_exporter": "python",
   "pygments_lexer": "ipython3",
   "version": "3.13.0"
  }
 },
 "nbformat": 4,
 "nbformat_minor": 5
}
